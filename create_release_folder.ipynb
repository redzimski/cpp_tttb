{
 "cells": [
  {
   "cell_type": "markdown",
   "id": "716993a5-29a9-4741-9c0f-9db6fd602ac5",
   "metadata": {},
   "source": [
    "# Script for creating folders that can store Linux, Windows, and Mac TTTB releases\n",
    "\n",
    "By Ken Burchfiel\n",
    "\n",
    "Released under the MIT License\n",
    "\n",
    "This script makes it easier to quickly and accurately copy the files needed for a TTTB release into a folder that can then get zipped and uploaded to itch.io. You can also use it to create executable versions of the tttb.cpp and/or tttb_py_complement.py files; see argument parsing code below for more details.\n",
    "\n",
    "(Note: Before running this code, make sure that the latest copy of your Pyinstaller-based tttb_py_complement executable, along with its '_internal' folder (if applicable), have been moved from build/dist/tttb_py_complement to build/. Disregard this note if you're using this script to build that executable, though, as in that case this step will get taken care of automatically.)\n",
    "\n",
    "Also note that, in order for this script to successfully build the Pyinstaller executable, your base Python environment (and not just the environment from which you're calling this script) *may* need to have relatively recent versions of Numpy, Pandas, and Plotly. "
   ]
  },
  {
   "cell_type": "code",
   "execution_count": 1,
   "id": "820bc0f3-d090-4939-87d5-53d64b7752fb",
   "metadata": {
    "execution": {
     "iopub.execute_input": "2025-08-29T03:55:58.111162Z",
     "iopub.status.busy": "2025-08-29T03:55:58.111006Z",
     "iopub.status.idle": "2025-08-29T03:55:58.306641Z",
     "shell.execute_reply": "2025-08-29T03:55:58.306276Z",
     "shell.execute_reply.started": "2025-08-29T03:55:58.111144Z"
    }
   },
   "outputs": [],
   "source": [
    "import time\n",
    "start_time = time.time()\n",
    "import os\n",
    "import shutil\n",
    "import platform\n",
    "import pandas as pd\n",
    "import subprocess"
   ]
  },
  {
   "cell_type": "code",
   "execution_count": 2,
   "id": "e2cadb49-493e-48e5-af05-a3ffe3e53735",
   "metadata": {
    "execution": {
     "iopub.execute_input": "2025-08-29T03:55:58.307185Z",
     "iopub.status.busy": "2025-08-29T03:55:58.306990Z",
     "iopub.status.idle": "2025-08-29T03:55:58.310546Z",
     "shell.execute_reply": "2025-08-29T03:55:58.310299Z",
     "shell.execute_reply.started": "2025-08-29T03:55:58.307174Z"
    }
   },
   "outputs": [
    {
     "data": {
      "text/plain": [
       "'linux'"
      ]
     },
     "execution_count": 2,
     "metadata": {},
     "output_type": "execute_result"
    }
   ],
   "source": [
    "current_os = platform.system().lower() # Will be used to label certain files\n",
    "# and folders\n",
    "if current_os == 'darwin':\n",
    "    current_os = 'osx' # Will be more intuitive for many users \n",
    "    # than 'darwin'\n",
    "current_os"
   ]
  },
  {
   "cell_type": "code",
   "execution_count": 3,
   "id": "4d0df4b8-5798-42b3-be03-4c0388cc3f38",
   "metadata": {
    "execution": {
     "iopub.execute_input": "2025-08-29T03:55:58.311348Z",
     "iopub.status.busy": "2025-08-29T03:55:58.311173Z",
     "iopub.status.idle": "2025-08-29T03:55:58.317863Z",
     "shell.execute_reply": "2025-08-29T03:55:58.317664Z",
     "shell.execute_reply.started": "2025-08-29T03:55:58.311338Z"
    }
   },
   "outputs": [
    {
     "data": {
      "text/plain": [
       "'../cpp_tttb_linux_release/'"
      ]
     },
     "execution_count": 3,
     "metadata": {},
     "output_type": "execute_result"
    }
   ],
   "source": [
    "release_folder = f'../cpp_tttb_{current_os}_release/' \n",
    "# rf = 'release folder'\n",
    "release_folder"
   ]
  },
  {
   "cell_type": "code",
   "execution_count": 4,
   "id": "51861f10-afe1-4df5-bc43-33e3d10e7575",
   "metadata": {
    "execution": {
     "iopub.execute_input": "2025-08-29T03:55:58.318238Z",
     "iopub.status.busy": "2025-08-29T03:55:58.318136Z",
     "iopub.status.idle": "2025-08-29T03:55:58.321159Z",
     "shell.execute_reply": "2025-08-29T03:55:58.320796Z",
     "shell.execute_reply.started": "2025-08-29T03:55:58.318228Z"
    }
   },
   "outputs": [
    {
     "data": {
      "text/plain": [
       "True"
      ]
     },
     "execution_count": 4,
     "metadata": {},
     "output_type": "execute_result"
    }
   ],
   "source": [
    "# For documentation on the following code,\n",
    "# see build/tttb_py_complement.ipynb.\n",
    "\n",
    "notebook_exec = False\n",
    "try:\n",
    "    get_ipython()\n",
    "    notebook_exec = True # Script is running within a notebook\n",
    "except:\n",
    "    pass\n",
    "\n",
    "notebook_exec\n",
    "    "
   ]
  },
  {
   "cell_type": "code",
   "execution_count": 5,
   "id": "8d1061d6-a549-44bc-be46-eec5b5c856de",
   "metadata": {
    "execution": {
     "iopub.execute_input": "2025-08-29T03:55:58.321539Z",
     "iopub.status.busy": "2025-08-29T03:55:58.321427Z",
     "iopub.status.idle": "2025-08-29T03:55:58.325056Z",
     "shell.execute_reply": "2025-08-29T03:55:58.324779Z",
     "shell.execute_reply.started": "2025-08-29T03:55:58.321529Z"
    }
   },
   "outputs": [
    {
     "data": {
      "text/plain": [
       "('both', True, True)"
      ]
     },
     "execution_count": 5,
     "metadata": {},
     "output_type": "execute_result"
    }
   ],
   "source": [
    "if notebook_exec == False:\n",
    "    import argparse\n",
    "    parser = argparse.ArgumentParser()\n",
    "    # The items_to_compile argument specifies which source code files,\n",
    "    # if any, you wish to compile into binaries. Enter 'both'\n",
    "    # to compile both the tttb.cpp and tttb_py_complement files;\n",
    "    # 'cpp' to compile only the tttb.cpp file; 'py' to compile\n",
    "    # only the tttb_py_complement.py file; and 'neither' to \n",
    "    # skip all compilation processes (which you might want to select\n",
    "    # if you've already compiled the latest versions.)\n",
    "    \n",
    "    parser.add_argument(\"files_to_compile\", default='neither')\n",
    "    args = parser.parse_args()\n",
    "    files_to_compile = args.files_to_compile\n",
    "else:\n",
    "    files_to_compile = 'both' # neither \n",
    "\n",
    "# Determining, based on the argument passed to files_to_compile,\n",
    "# which source code files to compile:\n",
    "compile_cpp = False\n",
    "compile_py = False\n",
    "\n",
    "if files_to_compile in ['both', 'cpp']:\n",
    "    compile_cpp = True\n",
    "if files_to_compile in ['both', 'py']:\n",
    "    compile_py = True\n",
    "\n",
    "files_to_compile, compile_cpp, compile_py"
   ]
  },
  {
   "cell_type": "markdown",
   "id": "7ded7d2e-42ba-456d-a60d-6b530e3a56f5",
   "metadata": {},
   "source": [
    "Specifying the names of the Python and C++ binaries:"
   ]
  },
  {
   "cell_type": "code",
   "execution_count": 6,
   "id": "665c46e5-192c-48f2-b45e-9b3790e76055",
   "metadata": {
    "execution": {
     "iopub.execute_input": "2025-08-29T03:55:58.325449Z",
     "iopub.status.busy": "2025-08-29T03:55:58.325331Z",
     "iopub.status.idle": "2025-08-29T03:55:58.327669Z",
     "shell.execute_reply": "2025-08-29T03:55:58.327396Z",
     "shell.execute_reply.started": "2025-08-29T03:55:58.325438Z"
    }
   },
   "outputs": [],
   "source": [
    "if current_os == 'windows':\n",
    "    python_binary = 'tttb_py_complement.exe'\n",
    "    cpp_binary = 'tttb.exe'\n",
    "else:\n",
    "    python_binary = 'tttb_py_complement'\n",
    "    cpp_binary = 'tttb'"
   ]
  },
  {
   "cell_type": "code",
   "execution_count": 7,
   "id": "4e23078a-46dd-4e6d-bd4a-e5643299a945",
   "metadata": {
    "execution": {
     "iopub.execute_input": "2025-08-29T03:55:58.328190Z",
     "iopub.status.busy": "2025-08-29T03:55:58.328002Z",
     "iopub.status.idle": "2025-08-29T03:55:58.330424Z",
     "shell.execute_reply": "2025-08-29T03:55:58.330193Z",
     "shell.execute_reply.started": "2025-08-29T03:55:58.328181Z"
    }
   },
   "outputs": [
    {
     "data": {
      "text/plain": [
       "('tttb_py_complement', 'tttb')"
      ]
     },
     "execution_count": 7,
     "metadata": {},
     "output_type": "execute_result"
    }
   ],
   "source": [
    "python_binary, cpp_binary"
   ]
  },
  {
   "cell_type": "code",
   "execution_count": 8,
   "id": "683c3dd2-00bc-4ba1-9778-d89dc22664f5",
   "metadata": {
    "execution": {
     "iopub.execute_input": "2025-08-29T03:55:58.330816Z",
     "iopub.status.busy": "2025-08-29T03:55:58.330720Z",
     "iopub.status.idle": "2025-08-29T03:55:58.333111Z",
     "shell.execute_reply": "2025-08-29T03:55:58.332814Z",
     "shell.execute_reply.started": "2025-08-29T03:55:58.330807Z"
    }
   },
   "outputs": [
    {
     "data": {
      "text/plain": [
       "'/home/kjb3/D1V1/Documents/!Dell64docs/Programming/CPP/cpp_tttb'"
      ]
     },
     "execution_count": 8,
     "metadata": {},
     "output_type": "execute_result"
    }
   ],
   "source": [
    "os.getcwd()"
   ]
  },
  {
   "cell_type": "markdown",
   "id": "b98d25b7-a6a6-49bd-8b29-a0b143046d7b",
   "metadata": {},
   "source": [
    "### Building our C++ and Python files (if requested by the caller):"
   ]
  },
  {
   "cell_type": "markdown",
   "id": "987d9647-db13-43be-9449-ad01bb89121e",
   "metadata": {},
   "source": [
    "Moving into the build subfolder (simply because this is where I'm used to excuting the following commands when running them within a terminal or command prompt):"
   ]
  },
  {
   "cell_type": "code",
   "execution_count": 9,
   "id": "db92a8fb-88a9-45e3-9933-cc2b998f7f5b",
   "metadata": {
    "execution": {
     "iopub.execute_input": "2025-08-29T03:55:58.333517Z",
     "iopub.status.busy": "2025-08-29T03:55:58.333409Z",
     "iopub.status.idle": "2025-08-29T03:55:58.335201Z",
     "shell.execute_reply": "2025-08-29T03:55:58.334976Z",
     "shell.execute_reply.started": "2025-08-29T03:55:58.333503Z"
    }
   },
   "outputs": [],
   "source": [
    "os.chdir('build')"
   ]
  },
  {
   "cell_type": "code",
   "execution_count": 10,
   "id": "e5f28a2c-2eb2-49d3-a383-c39d2f716f5d",
   "metadata": {
    "execution": {
     "iopub.execute_input": "2025-08-29T03:55:58.335718Z",
     "iopub.status.busy": "2025-08-29T03:55:58.335511Z",
     "iopub.status.idle": "2025-08-29T03:55:58.337914Z",
     "shell.execute_reply": "2025-08-29T03:55:58.337666Z",
     "shell.execute_reply.started": "2025-08-29T03:55:58.335708Z"
    }
   },
   "outputs": [
    {
     "data": {
      "text/plain": [
       "'/home/kjb3/D1V1/Documents/!Dell64docs/Programming/CPP/cpp_tttb/build'"
      ]
     },
     "execution_count": 10,
     "metadata": {},
     "output_type": "execute_result"
    }
   ],
   "source": [
    "os.getcwd()"
   ]
  },
  {
   "cell_type": "code",
   "execution_count": 11,
   "id": "1820126a-76d0-4aaf-8984-25bcafdb1c62",
   "metadata": {
    "execution": {
     "iopub.execute_input": "2025-08-29T03:55:58.338460Z",
     "iopub.status.busy": "2025-08-29T03:55:58.338224Z",
     "iopub.status.idle": "2025-08-29T03:55:59.347869Z",
     "shell.execute_reply": "2025-08-29T03:55:59.347548Z",
     "shell.execute_reply.started": "2025-08-29T03:55:58.338450Z"
    }
   },
   "outputs": [
    {
     "name": "stdout",
     "output_type": "stream",
     "text": [
      "Now compiling tttb.cpp.\n",
      "CompletedProcess(args='cmake ..', returncode=0, stdout=b'-- Configuring done (0.4s)\\n-- Generating done (0.0s)\\n-- Build files have been written to: /home/kjb3/D1V1/Documents/!Dell64docs/Programming/CPP/cpp_tttb/build\\n', stderr=b'\\x1b[0mBuilding CSV library using C++17\\x1b[0m\\n')\n",
      "CompletedProcess(args='cmake ..', returncode=0, stdout=b'-- Configuring done (0.4s)\\n-- Generating done (0.0s)\\n-- Build files have been written to: /home/kjb3/D1V1/Documents/!Dell64docs/Programming/CPP/cpp_tttb/build\\n', stderr=b'\\x1b[0mBuilding CSV library using C++17\\x1b[0m\\n')\n",
      "CompletedProcess(args='cmake --build .', returncode=0, stdout=b'[ 33%] Built target cpp-terminal\\n[ 42%] Built target csv\\n[ 43%] Built target tttb\\n[ 45%] Built target csv_info\\n[ 47%] Built target csv_stats\\n[ 48%] Built target file.test\\n[ 50%] Built target key.test\\n[ 51%] Built target screen.test\\n[ 53%] Built target events.test\\n[ 55%] Built target exception.test\\n[ 57%] Built target unicode.test\\n[ 60%] Built target options.test\\n[ 62%] Built target version.test\\n[ 63%] Built target Args\\n[ 65%] Built target args\\n[ 67%] Built target cin_cooked\\n[ 69%] Built target cin_raw\\n[ 70%] Built target colors\\n[ 71%] Built target cursor\\n[ 73%] Built target cout\\n[ 74%] Built target events\\n[ 76%] Built target keys\\n[ 77%] Built target kilo\\n[ 80%] Built target menu\\n[ 82%] Built target menu_window\\n[ 83%] Built target minimal\\n[ 85%] Built target prompt_immediate\\n[ 86%] Built target prompt_multiline\\n[ 88%] Built target prompt_not_immediate\\n[ 90%] Built target prompt_simple\\n[ 92%] Built target styles\\n[ 94%] Built target utf8\\n[ 96%] Built target signal\\n[ 98%] Built target attach_console\\n[100%] Built target attach_console_minimal\\n', stderr=b'')\n"
     ]
    }
   ],
   "source": [
    "if compile_cpp == True:\n",
    "    print(\"Now compiling tttb.cpp.\")\n",
    "    # For documentation on subprocess.run() and check_returncode(),\n",
    "    # see: https://docs.python.org/3/library/subprocess.html#subprocess.run \n",
    "    compile_cpp_output_1 = subprocess.run(\"cmake ..\", shell=True, \n",
    "                            capture_output = True)\n",
    "    print(compile_cpp_output_1)\n",
    "    compile_cpp_output_1.check_returncode()\n",
    "    print(compile_cpp_output_1)\n",
    "    compile_cpp_output_2 = subprocess.run(\"cmake --build .\", shell=True,\n",
    "                            capture_output = True)\n",
    "    print(compile_cpp_output_2)\n",
    "    compile_cpp_output_2.check_returncode()\n",
    "    # Linux and Mac place the executable directly within the build folder;\n",
    "    # meanwhile, Windows (at least with the compiler I'm using) places it\n",
    "    # within a 'Debug' subfolder. Therefore, I added in the following\n",
    "    # line to move this file from the 'Debug' folder to the current\n",
    "    # working directory.\n",
    "    if current_os == 'windows':\n",
    "        shutil.copy('Debug/tttb.exe', 'tttb.exe')\n",
    "else:\n",
    "    print(\"Skipping the compilation process for tttb.cpp.\")"
   ]
  },
  {
   "cell_type": "markdown",
   "id": "dba6bc07",
   "metadata": {},
   "source": [
    "Running pyinstaller: \n",
    "\n",
    "NOTE: if you have trouble getting this code to run, make sure that you have pyinstaller added as a library within (1) the Python environment you're using to run this code and/or your base environment.\n",
    "\n",
    "I also found that, at least within Windows, the following code took quite a while to run. I was able to get pyinstaller to build the library within my base environment in around 5-6 minutes, but after 17 minutes, this cell still hadn't finished. Therefore, you might want to take care of the following steps yourself, then select 'cpp' or 'neither' as your argument for this code rather than 'both' or 'py.'\n",
    "\n",
    "(The code took around 40 seconds to execute within Linux, on the other hand.)"
   ]
  },
  {
   "cell_type": "code",
   "execution_count": 12,
   "id": "1dd7b1a7-23bf-4cd2-8d27-20bc0d4b2f28",
   "metadata": {
    "execution": {
     "iopub.execute_input": "2025-08-29T03:55:59.349672Z",
     "iopub.status.busy": "2025-08-29T03:55:59.349478Z",
     "iopub.status.idle": "2025-08-29T03:56:39.118979Z",
     "shell.execute_reply": "2025-08-29T03:56:39.118422Z",
     "shell.execute_reply.started": "2025-08-29T03:55:59.349656Z"
    }
   },
   "outputs": [
    {
     "name": "stdout",
     "output_type": "stream",
     "text": [
      "Now compiling tttb_py_complement.py.\n",
      "CompletedProcess(args='pyinstaller tttb_py_complement.py --noconfirm', returncode=0, stdout=b'', stderr=b'299 INFO: PyInstaller: 6.15.0, contrib hooks: 2025.8\\n300 INFO: Python: 3.12.6 (conda)\\n300 INFO: Platform: Linux-6.8.0-79-generic-x86_64-with-glibc2.39\\n300 INFO: Python environment: /home/kjb3/miniforge3\\n301 INFO: wrote /home/kjb3/D1V1/Documents/!Dell64docs/Programming/CPP/cpp_tttb/build/tttb_py_complement.spec\\n301 INFO: Module search paths (PYTHONPATH):\\n[\\'/home/kjb3/miniforge3/bin\\',\\n \\'/home/kjb3/miniforge3/lib/python312.zip\\',\\n \\'/home/kjb3/miniforge3/lib/python3.12\\',\\n \\'/home/kjb3/miniforge3/lib/python3.12/lib-dynload\\',\\n \\'/home/kjb3/.local/lib/python3.12/site-packages\\',\\n \\'/home/kjb3/miniforge3/lib/python3.12/site-packages\\',\\n \\'/home/kjb3/miniforge3/lib/python3.12/site-packages/setuptools/_vendor\\',\\n \\'/home/kjb3/D1V1/Documents/!Dell64docs/Programming/CPP/cpp_tttb/build\\']\\n737 INFO: checking Analysis\\n773 INFO: Building because hookspath changed\\n773 INFO: Running Analysis Analysis-00.toc\\n773 INFO: Target bytecode optimization level: 0\\n773 INFO: Initializing module dependency graph...\\n774 INFO: Initializing module graph hook caches...\\n778 INFO: Analyzing modules for base_library.zip ...\\n2006 INFO: Processing standard module hook \\'hook-encodings.py\\' from \\'/home/kjb3/miniforge3/lib/python3.12/site-packages/PyInstaller/hooks\\'\\n3184 INFO: Processing standard module hook \\'hook-pickle.py\\' from \\'/home/kjb3/miniforge3/lib/python3.12/site-packages/PyInstaller/hooks\\'\\n3642 INFO: Processing standard module hook \\'hook-heapq.py\\' from \\'/home/kjb3/miniforge3/lib/python3.12/site-packages/PyInstaller/hooks\\'\\n3868 INFO: Caching module dependency graph...\\n3894 INFO: Looking for Python shared library...\\n3899 INFO: Using Python shared library: /home/kjb3/miniforge3/lib/libpython3.12.so.1.0\\n3899 INFO: Analyzing /home/kjb3/D1V1/Documents/!Dell64docs/Programming/CPP/cpp_tttb/build/tttb_py_complement.py\\n3931 INFO: Processing standard module hook \\'hook-platform.py\\' from \\'/home/kjb3/miniforge3/lib/python3.12/site-packages/PyInstaller/hooks\\'\\n3934 INFO: Processing standard module hook \\'hook-pandas.py\\' from \\'/home/kjb3/miniforge3/lib/python3.12/site-packages/PyInstaller/hooks\\'\\n4806 INFO: Processing standard module hook \\'hook-sysconfig.py\\' from \\'/home/kjb3/miniforge3/lib/python3.12/site-packages/PyInstaller/hooks\\'\\n4819 INFO: Processing standard module hook \\'hook-numpy.py\\' from \\'/home/kjb3/miniforge3/lib/python3.12/site-packages/PyInstaller/hooks\\'\\n4842 WARNING: Conda distribution \\'__glibc\\', dependency of \\'numpy\\', was not found. If you installed this distribution with pip then you may ignore this warning.\\n4842 WARNING: Conda distribution \\'__glibc\\', dependency of \\'numpy\\', was not found. If you installed this distribution with pip then you may ignore this warning.\\n4842 WARNING: Conda distribution \\'__glibc\\', dependency of \\'numpy\\', was not found. If you installed this distribution with pip then you may ignore this warning.\\n4842 WARNING: Conda distribution \\'__glibc\\', dependency of \\'numpy\\', was not found. If you installed this distribution with pip then you may ignore this warning.\\n4842 WARNING: Conda distribution \\'__unix\\', dependency of \\'numpy\\', was not found. If you installed this distribution with pip then you may ignore this warning.\\n4842 WARNING: Conda distribution \\'__glibc\\', dependency of \\'numpy\\', was not found. If you installed this distribution with pip then you may ignore this warning.\\n4842 WARNING: Conda distribution \\'__glibc\\', dependency of \\'numpy\\', was not found. If you installed this distribution with pip then you may ignore this warning.\\n4842 WARNING: Conda distribution \\'__glibc\\', dependency of \\'numpy\\', was not found. If you installed this distribution with pip then you may ignore this warning.\\n4842 WARNING: Conda distribution \\'__glibc\\', dependency of \\'numpy\\', was not found. If you installed this distribution with pip then you may ignore this warning.\\n4842 WARNING: Conda distribution \\'__glibc\\', dependency of \\'numpy\\', was not found. If you installed this distribution with pip then you may ignore this warning.\\n4842 WARNING: Conda distribution \\'__glibc\\', dependency of \\'numpy\\', was not found. If you installed this distribution with pip then you may ignore this warning.\\n5146 INFO: Processing standard module hook \\'hook-difflib.py\\' from \\'/home/kjb3/miniforge3/lib/python3.12/site-packages/PyInstaller/hooks\\'\\n5259 INFO: Processing standard module hook \\'hook-multiprocessing.util.py\\' from \\'/home/kjb3/miniforge3/lib/python3.12/site-packages/PyInstaller/hooks\\'\\n5357 INFO: Processing standard module hook \\'hook-xml.py\\' from \\'/home/kjb3/miniforge3/lib/python3.12/site-packages/PyInstaller/hooks\\'\\n5487 INFO: Processing standard module hook \\'hook-_ctypes.py\\' from \\'/home/kjb3/miniforge3/lib/python3.12/site-packages/PyInstaller/hooks\\'\\n6211 INFO: Processing standard module hook \\'hook-psutil.py\\' from \\'/home/kjb3/miniforge3/lib/python3.12/site-packages/_pyinstaller_hooks_contrib/stdhooks\\'\\n6753 INFO: Processing pre-safe-import-module hook \\'hook-typing_extensions.py\\' from \\'/home/kjb3/miniforge3/lib/python3.12/site-packages/PyInstaller/hooks/pre_safe_import_module\\'\\n6753 INFO: SetuptoolsInfo: initializing cached setuptools info...\\n9321 INFO: Processing standard module hook \\'hook-charset_normalizer.py\\' from \\'/home/kjb3/miniforge3/lib/python3.12/site-packages/_pyinstaller_hooks_contrib/stdhooks\\'\\n9556 INFO: Processing standard module hook \\'hook-pytz.py\\' from \\'/home/kjb3/miniforge3/lib/python3.12/site-packages/PyInstaller/hooks\\'\\n10788 INFO: Processing standard module hook \\'hook-pandas.io.formats.style.py\\' from \\'/home/kjb3/miniforge3/lib/python3.12/site-packages/PyInstaller/hooks\\'\\n11394 INFO: Processing standard module hook \\'hook-IPython.py\\' from \\'/home/kjb3/miniforge3/lib/python3.12/site-packages/_pyinstaller_hooks_contrib/stdhooks\\'\\n12091 INFO: Processing pre-find-module-path hook \\'hook-tkinter.py\\' from \\'/home/kjb3/miniforge3/lib/python3.12/site-packages/PyInstaller/hooks/pre_find_module_path\\'\\n12092 INFO: TclTkInfo: initializing cached Tcl/Tk info...\\n12196 INFO: Processing standard module hook \\'hook-_tkinter.py\\' from \\'/home/kjb3/miniforge3/lib/python3.12/site-packages/PyInstaller/hooks\\'\\n12254 INFO: Processing standard module hook \\'hook-xml.dom.domreg.py\\' from \\'/home/kjb3/miniforge3/lib/python3.12/site-packages/PyInstaller/hooks\\'\\n12360 INFO: Processing standard module hook \\'hook-PIL.py\\' from \\'/home/kjb3/miniforge3/lib/python3.12/site-packages/PyInstaller/hooks\\'\\n12415 INFO: Processing standard module hook \\'hook-PIL.Image.py\\' from \\'/home/kjb3/miniforge3/lib/python3.12/site-packages/PyInstaller/hooks\\'\\n12790 INFO: Processing standard module hook \\'hook-xml.etree.cElementTree.py\\' from \\'/home/kjb3/miniforge3/lib/python3.12/site-packages/PyInstaller/hooks\\'\\n13000 INFO: Processing standard module hook \\'hook-PIL.ImageFilter.py\\' from \\'/home/kjb3/miniforge3/lib/python3.12/site-packages/PyInstaller/hooks\\'\\n13231 INFO: Processing standard module hook \\'hook-pygments.py\\' from \\'/home/kjb3/miniforge3/lib/python3.12/site-packages/PyInstaller/hooks\\'\\n14720 INFO: Processing pre-safe-import-module hook \\'hook-six.moves.py\\' from \\'/home/kjb3/miniforge3/lib/python3.12/site-packages/PyInstaller/hooks/pre_safe_import_module\\'\\n15030 INFO: Processing standard module hook \\'hook-wcwidth.py\\' from \\'/home/kjb3/miniforge3/lib/python3.12/site-packages/PyInstaller/hooks\\'\\n15716 INFO: Processing standard module hook \\'hook-jedi.py\\' from \\'/home/kjb3/miniforge3/lib/python3.12/site-packages/_pyinstaller_hooks_contrib/stdhooks\\'\\n15987 INFO: Processing standard module hook \\'hook-parso.py\\' from \\'/home/kjb3/miniforge3/lib/python3.12/site-packages/_pyinstaller_hooks_contrib/stdhooks\\'\\n16715 INFO: Processing standard module hook \\'hook-pkg_resources.py\\' from \\'/home/kjb3/miniforge3/lib/python3.12/site-packages/PyInstaller/hooks\\'\\n17129 INFO: Processing pre-safe-import-module hook \\'hook-packaging.py\\' from \\'/home/kjb3/miniforge3/lib/python3.12/site-packages/PyInstaller/hooks/pre_safe_import_module\\'\\n17180 INFO: Processing pre-safe-import-module hook \\'hook-jaraco.text.py\\' from \\'/home/kjb3/miniforge3/lib/python3.12/site-packages/PyInstaller/hooks/pre_safe_import_module\\'\\n17181 INFO: Setuptools: \\'jaraco.text\\' appears to be a setuptools-vendored copy - creating alias to \\'setuptools._vendor.jaraco.text\\'!\\n17184 INFO: Processing standard module hook \\'hook-setuptools.py\\' from \\'/home/kjb3/miniforge3/lib/python3.12/site-packages/PyInstaller/hooks\\'\\n17192 INFO: Processing pre-safe-import-module hook \\'hook-distutils.py\\' from \\'/home/kjb3/miniforge3/lib/python3.12/site-packages/PyInstaller/hooks/pre_safe_import_module\\'\\n17257 INFO: Processing pre-safe-import-module hook \\'hook-more_itertools.py\\' from \\'/home/kjb3/miniforge3/lib/python3.12/site-packages/PyInstaller/hooks/pre_safe_import_module\\'\\n17257 INFO: Setuptools: \\'more_itertools\\' appears to be a setuptools-vendored copy - creating alias to \\'setuptools._vendor.more_itertools\\'!\\n17341 INFO: Processing pre-safe-import-module hook \\'hook-jaraco.functools.py\\' from \\'/home/kjb3/miniforge3/lib/python3.12/site-packages/PyInstaller/hooks/pre_safe_import_module\\'\\n17341 INFO: Setuptools: \\'jaraco.functools\\' appears to be a setuptools-vendored copy - creating alias to \\'setuptools._vendor.jaraco.functools\\'!\\n17347 INFO: Processing pre-safe-import-module hook \\'hook-importlib_metadata.py\\' from \\'/home/kjb3/miniforge3/lib/python3.12/site-packages/PyInstaller/hooks/pre_safe_import_module\\'\\n17361 INFO: Processing standard module hook \\'hook-importlib_metadata.py\\' from \\'/home/kjb3/miniforge3/lib/python3.12/site-packages/PyInstaller/hooks\\'\\n17373 INFO: Processing pre-safe-import-module hook \\'hook-zipp.py\\' from \\'/home/kjb3/miniforge3/lib/python3.12/site-packages/PyInstaller/hooks/pre_safe_import_module\\'\\n17382 INFO: Processing pre-safe-import-module hook \\'hook-importlib_resources.py\\' from \\'/home/kjb3/miniforge3/lib/python3.12/site-packages/PyInstaller/hooks/pre_safe_import_module\\'\\n17382 INFO: Processing standard module hook \\'hook-importlib_resources.py\\' from \\'/home/kjb3/miniforge3/lib/python3.12/site-packages/PyInstaller/hooks\\'\\n17541 INFO: Processing pre-safe-import-module hook \\'hook-tomli.py\\' from \\'/home/kjb3/miniforge3/lib/python3.12/site-packages/PyInstaller/hooks/pre_safe_import_module\\'\\n17843 INFO: Processing pre-safe-import-module hook \\'hook-wheel.py\\' from \\'/home/kjb3/miniforge3/lib/python3.12/site-packages/PyInstaller/hooks/pre_safe_import_module\\'\\n17944 INFO: Processing standard module hook \\'hook-setuptools._vendor.jaraco.text.py\\' from \\'/home/kjb3/miniforge3/lib/python3.12/site-packages/PyInstaller/hooks\\'\\n17944 INFO: Processing pre-safe-import-module hook \\'hook-jaraco.context.py\\' from \\'/home/kjb3/miniforge3/lib/python3.12/site-packages/PyInstaller/hooks/pre_safe_import_module\\'\\n17945 INFO: Setuptools: \\'jaraco.context\\' appears to be a setuptools-vendored copy - creating alias to \\'setuptools._vendor.jaraco.context\\'!\\n17949 INFO: Processing pre-safe-import-module hook \\'hook-backports.tarfile.py\\' from \\'/home/kjb3/miniforge3/lib/python3.12/site-packages/PyInstaller/hooks/pre_safe_import_module\\'\\n17950 INFO: Setuptools: \\'backports.tarfile\\' appears to be a setuptools-vendored copy - creating alias to \\'setuptools._vendor.backports.tarfile\\'!\\n18000 INFO: Processing standard module hook \\'hook-backports.py\\' from \\'/home/kjb3/miniforge3/lib/python3.12/site-packages/_pyinstaller_hooks_contrib/stdhooks\\'\\n18001 INFO: Processing pre-safe-import-module hook \\'hook-platformdirs.py\\' from \\'/home/kjb3/miniforge3/lib/python3.12/site-packages/PyInstaller/hooks/pre_safe_import_module\\'\\n18006 INFO: Processing standard module hook \\'hook-platformdirs.py\\' from \\'/home/kjb3/miniforge3/lib/python3.12/site-packages/_pyinstaller_hooks_contrib/stdhooks\\'\\n18161 INFO: Processing standard module hook \\'hook-sqlite3.py\\' from \\'/home/kjb3/miniforge3/lib/python3.12/site-packages/PyInstaller/hooks\\'\\n18554 INFO: Processing standard module hook \\'hook-nbformat.py\\' from \\'/home/kjb3/miniforge3/lib/python3.12/site-packages/_pyinstaller_hooks_contrib/stdhooks\\'\\n18656 INFO: Processing standard module hook \\'hook-jsonschema.py\\' from \\'/home/kjb3/miniforge3/lib/python3.12/site-packages/_pyinstaller_hooks_contrib/stdhooks\\'\\n19026 INFO: Processing standard module hook \\'hook-dateutil.py\\' from \\'/home/kjb3/miniforge3/lib/python3.12/site-packages/_pyinstaller_hooks_contrib/stdhooks\\'\\n19282 INFO: Processing standard module hook \\'hook-jsonschema_specifications.py\\' from \\'/home/kjb3/miniforge3/lib/python3.12/site-packages/_pyinstaller_hooks_contrib/stdhooks\\'\\n19444 INFO: Processing standard module hook \\'hook-urllib3.py\\' from \\'/home/kjb3/miniforge3/lib/python3.12/site-packages/_pyinstaller_hooks_contrib/stdhooks\\'\\n19912 INFO: Processing standard module hook \\'hook-certifi.py\\' from \\'/home/kjb3/miniforge3/lib/python3.12/site-packages/_pyinstaller_hooks_contrib/stdhooks\\'\\n20188 INFO: Processing standard module hook \\'hook-zmq.py\\' from \\'/home/kjb3/miniforge3/lib/python3.12/site-packages/_pyinstaller_hooks_contrib/stdhooks\\'\\n20704 INFO: Processing standard module hook \\'hook-pycparser.py\\' from \\'/home/kjb3/miniforge3/lib/python3.12/site-packages/_pyinstaller_hooks_contrib/stdhooks\\'\\n21638 INFO: Processing pre-safe-import-module hook \\'hook-gi.py\\' from \\'/home/kjb3/miniforge3/lib/python3.12/site-packages/PyInstaller/hooks/pre_safe_import_module\\'\\n22127 INFO: Processing standard module hook \\'hook-pandas.plotting.py\\' from \\'/home/kjb3/miniforge3/lib/python3.12/site-packages/PyInstaller/hooks\\'\\n22834 INFO: Processing standard module hook \\'hook-sqlalchemy.py\\' from \\'/home/kjb3/miniforge3/lib/python3.12/site-packages/PyInstaller/hooks\\'\\n25045 INFO: Processing standard module hook \\'hook-pandas.io.clipboard.py\\' from \\'/home/kjb3/miniforge3/lib/python3.12/site-packages/PyInstaller/hooks\\'\\n25269 INFO: Processing standard module hook \\'hook-lxml.py\\' from \\'/home/kjb3/miniforge3/lib/python3.12/site-packages/_pyinstaller_hooks_contrib/stdhooks\\'\\n25669 INFO: Processing standard module hook \\'hook-lxml.etree.py\\' from \\'/home/kjb3/miniforge3/lib/python3.12/site-packages/_pyinstaller_hooks_contrib/stdhooks\\'\\n26062 INFO: Processing standard module hook \\'hook-plotly.py\\' from \\'/home/kjb3/miniforge3/lib/python3.12/site-packages/_pyinstaller_hooks_contrib/stdhooks\\'\\n26807 INFO: Processing standard module hook \\'hook-narwhals.py\\' from \\'/home/kjb3/miniforge3/lib/python3.12/site-packages/_pyinstaller_hooks_contrib/stdhooks\\'\\n31559 INFO: Processing module hooks (post-graph stage)...\\n31634 INFO: Processing standard module hook \\'hook-lxml.isoschematron.py\\' from \\'/home/kjb3/miniforge3/lib/python3.12/site-packages/_pyinstaller_hooks_contrib/stdhooks\\'\\n31642 WARNING: Hidden import \"charset_normalizer.md__mypyc\" not found!\\n31678 INFO: Processing standard module hook \\'hook-_tkinter.py\\' from \\'/home/kjb3/miniforge3/lib/python3.12/site-packages/PyInstaller/hooks\\'\\n31826 INFO: Processing standard module hook \\'hook-PIL.SpiderImagePlugin.py\\' from \\'/home/kjb3/miniforge3/lib/python3.12/site-packages/PyInstaller/hooks\\'\\n31852 INFO: Processing standard module hook \\'hook-sqlalchemy.py\\' from \\'/home/kjb3/miniforge3/lib/python3.12/site-packages/PyInstaller/hooks\\'\\n32025 WARNING: Hidden import \"pysqlite2\" not found!\\n32025 WARNING: Hidden import \"MySQLdb\" not found!\\n32025 WARNING: Hidden import \"psycopg2\" not found!\\n32513 INFO: Processing standard module hook \\'hook-jinja2.py\\' from \\'/home/kjb3/miniforge3/lib/python3.12/site-packages/_pyinstaller_hooks_contrib/stdhooks\\'\\n33977 WARNING: Hidden import \"importlib_resources.trees\" not found!\\n33994 INFO: Processing standard module hook \\'hook-lxml.objectify.py\\' from \\'/home/kjb3/miniforge3/lib/python3.12/site-packages/_pyinstaller_hooks_contrib/stdhooks\\'\\n34031 INFO: Performing binary vs. data reclassification (2927 entries)\\n34474 INFO: Looking for ctypes DLLs\\n34524 WARNING: Library user32 required via ctypes not found\\n34556 WARNING: Library msvcrt required via ctypes not found\\n34580 INFO: Analyzing run-time hooks ...\\n34592 INFO: Including run-time hook \\'pyi_rth_inspect.py\\' from \\'/home/kjb3/miniforge3/lib/python3.12/site-packages/PyInstaller/hooks/rthooks\\'\\n34593 INFO: Including run-time hook \\'pyi_rth_pkgutil.py\\' from \\'/home/kjb3/miniforge3/lib/python3.12/site-packages/PyInstaller/hooks/rthooks\\'\\n34594 INFO: Including run-time hook \\'pyi_rth_multiprocessing.py\\' from \\'/home/kjb3/miniforge3/lib/python3.12/site-packages/PyInstaller/hooks/rthooks\\'\\n34596 INFO: Including run-time hook \\'pyi_rth_traitlets.py\\' from \\'/home/kjb3/miniforge3/lib/python3.12/site-packages/_pyinstaller_hooks_contrib/rthooks\\'\\n34596 INFO: Including run-time hook \\'pyi_rth__tkinter.py\\' from \\'/home/kjb3/miniforge3/lib/python3.12/site-packages/PyInstaller/hooks/rthooks\\'\\n34597 INFO: Including run-time hook \\'pyi_rth_pkgres.py\\' from \\'/home/kjb3/miniforge3/lib/python3.12/site-packages/PyInstaller/hooks/rthooks\\'\\n34600 INFO: Including run-time hook \\'pyi_rth_setuptools.py\\' from \\'/home/kjb3/miniforge3/lib/python3.12/site-packages/PyInstaller/hooks/rthooks\\'\\n34720 INFO: Creating base_library.zip...\\n34744 INFO: Looking for dynamic libraries\\n36115 INFO: Warnings written to /home/kjb3/D1V1/Documents/!Dell64docs/Programming/CPP/cpp_tttb/build/build/tttb_py_complement/warn-tttb_py_complement.txt\\n36224 INFO: Graph cross-reference written to /home/kjb3/D1V1/Documents/!Dell64docs/Programming/CPP/cpp_tttb/build/build/tttb_py_complement/xref-tttb_py_complement.html\\n36302 INFO: checking PYZ\\n36322 INFO: Building because toc changed\\n36322 INFO: Building PYZ (ZlibArchive) /home/kjb3/D1V1/Documents/!Dell64docs/Programming/CPP/cpp_tttb/build/build/tttb_py_complement/PYZ-00.pyz\\n38589 INFO: Building PYZ (ZlibArchive) /home/kjb3/D1V1/Documents/!Dell64docs/Programming/CPP/cpp_tttb/build/build/tttb_py_complement/PYZ-00.pyz completed successfully.\\n38633 INFO: checking PKG\\n38633 INFO: Building because toc changed\\n38633 INFO: Building PKG (CArchive) tttb_py_complement.pkg\\n38659 INFO: Building PKG (CArchive) tttb_py_complement.pkg completed successfully.\\n38660 INFO: Bootloader /home/kjb3/miniforge3/lib/python3.12/site-packages/PyInstaller/bootloader/Linux-64bit-intel/run\\n38660 INFO: checking EXE\\n38661 INFO: Building because toc changed\\n38661 INFO: Building EXE from EXE-00.toc\\n38662 INFO: Copying bootloader EXE to /home/kjb3/D1V1/Documents/!Dell64docs/Programming/CPP/cpp_tttb/build/build/tttb_py_complement/tttb_py_complement\\n38662 INFO: Appending PKG archive to custom ELF section in EXE\\n38695 INFO: Building EXE from EXE-00.toc completed successfully.\\n38711 INFO: checking COLLECT\\n38727 INFO: Removing dir /home/kjb3/D1V1/Documents/!Dell64docs/Programming/CPP/cpp_tttb/build/dist/tttb_py_complement\\n38779 INFO: Building COLLECT COLLECT-00.toc\\n39103 INFO: Building COLLECT COLLECT-00.toc completed successfully.\\n39133 INFO: Build complete! The results are available in: /home/kjb3/D1V1/Documents/!Dell64docs/Programming/CPP/cpp_tttb/build/dist\\n')\n"
     ]
    }
   ],
   "source": [
    "if compile_py == True:\n",
    "    print(\"Now compiling tttb_py_complement.py.\")\n",
    "    # The -y argument in the following call will allow any existing\n",
    "    # material within the output folder to get deleted and replaced.\n",
    "\n",
    "    if current_os == 'osx': # For the OSX release, I'll store the entire\n",
    "        # Pyinstaller package as a single file via the --onefile argument. \n",
    "        # This makes for a slower load time\n",
    "        # than the default method (which creates both a main Python binary\n",
    "        # and an _internal folder for library-related files), but it\n",
    "        # dramatically reduces the amount of programs that the user\n",
    "        # will need to manually authorize.\n",
    "        # See https://pyinstaller.org/en/stable/usage.html for details\n",
    "        # on both the --onefile argument and the --noconfirm argument\n",
    "        # (which eliminates the need to authorize Pyinstaller's\n",
    "        # overwriting dist folder files.)\n",
    "        \n",
    "        pyinstaller_subprocess_command = \"pyinstaller \\\n",
    "tttb_py_complement.py --noconfirm --onefile\"\n",
    "    else:\n",
    "        pyinstaller_subprocess_command = \"pyinstaller \\\n",
    "tttb_py_complement.py --noconfirm\"\n",
    "    compile_py_output = subprocess.run(\n",
    "        pyinstaller_subprocess_command, shell = True, \n",
    "        capture_output = True, check = True)\n",
    "    print(compile_py_output)\n",
    "    # Copying tttb_py_complement binary and its corresponding\n",
    "    # _internal folder into the build folder (where the C++ program expects\n",
    "    # to find it):\n",
    "    if current_os == 'osx':\n",
    "        shutil.copy(\n",
    "            f'dist/{python_binary}', \n",
    "            f'{python_binary}')\n",
    "    else: # No _internal folder will be created for OSX\n",
    "        # releases, and the executable folder path will be different as well.\n",
    "        if '_internal' in os.listdir():\n",
    "            shutil.rmtree('_internal')\n",
    "        # Based on datainsight's StackOverflow\n",
    "            # answer at https://stackoverflow.com/a/70075600/13097194 \n",
    "        shutil.copytree(\n",
    "            'dist/tttb_py_complement/_internal', '_internal')\n",
    "        # Note that shutil.copy() will overwrite the existing copy of the file\n",
    "        # (if any) in the destination folder with the new copy; see\n",
    "        # https://docs.python.org/3/library/shutil.html#shutil.copy\n",
    "        # for details\n",
    "        shutil.copy(\n",
    "            f'dist/tttb_py_complement/{python_binary}', \n",
    "            f'{python_binary}')\n",
    "else:\n",
    "    print(\"Skipping the compilation process for tttb_py_complement.py.\")"
   ]
  },
  {
   "cell_type": "markdown",
   "id": "a1513230-4427-4bd7-965e-cf18321d4495",
   "metadata": {},
   "source": [
    "Moving back into our main folder:"
   ]
  },
  {
   "cell_type": "code",
   "execution_count": 13,
   "id": "9125a828-5c86-40a2-ae07-4ef68e8a2d04",
   "metadata": {
    "execution": {
     "iopub.execute_input": "2025-08-29T03:56:39.119406Z",
     "iopub.status.busy": "2025-08-29T03:56:39.119299Z",
     "iopub.status.idle": "2025-08-29T03:56:39.121714Z",
     "shell.execute_reply": "2025-08-29T03:56:39.121349Z",
     "shell.execute_reply.started": "2025-08-29T03:56:39.119396Z"
    }
   },
   "outputs": [
    {
     "data": {
      "text/plain": [
       "'/home/kjb3/D1V1/Documents/!Dell64docs/Programming/CPP/cpp_tttb'"
      ]
     },
     "execution_count": 13,
     "metadata": {},
     "output_type": "execute_result"
    }
   ],
   "source": [
    "os.chdir('..')\n",
    "os.getcwd()"
   ]
  },
  {
   "cell_type": "code",
   "execution_count": 14,
   "id": "399c8def-cef1-4beb-b49a-a5a6feb6c62d",
   "metadata": {
    "execution": {
     "iopub.execute_input": "2025-08-29T03:56:39.122389Z",
     "iopub.status.busy": "2025-08-29T03:56:39.122206Z",
     "iopub.status.idle": "2025-08-29T03:56:39.216947Z",
     "shell.execute_reply": "2025-08-29T03:56:39.216576Z",
     "shell.execute_reply.started": "2025-08-29T03:56:39.122373Z"
    }
   },
   "outputs": [],
   "source": [
    "if release_folder.replace('../', '').replace('/', '') in os.listdir('../'):\n",
    "    # NOTE: this will remove the existing folder (which will allow us to\n",
    "    # more easily recreate a clean copy).\n",
    "    shutil.rmtree(release_folder)\n",
    "os.mkdir(release_folder)\n",
    "\n",
    "# Creating relevant directories:\n",
    "\n",
    "os.mkdir(release_folder + 'Files/')\n",
    "os.mkdir(release_folder + 'build/')\n",
    "os.mkdir(release_folder + 'Files/Multiplayer/')\n",
    "os.mkdir(release_folder + 'Files/MP_Test_Result_Files_To_Combine/')\n",
    "os.mkdir(release_folder + 'Files/MP_Word_Result_Files_To_Combine/')\n",
    "os.mkdir(release_folder + 'Visualizations/')\n",
    "os.mkdir(release_folder + 'Visualizations/Multiplayer')\n",
    "os.mkdir(release_folder + 'Visualizations/Single_Player')"
   ]
  },
  {
   "cell_type": "markdown",
   "id": "55bbb91c-ab51-4091-b99d-7aae068d0094",
   "metadata": {},
   "source": [
    "Making sure that the headers in our 'headers only' file match the ones I've been using in my own gameplay sessions: (sometimes I only update the latter rather than the former.)"
   ]
  },
  {
   "cell_type": "markdown",
   "id": "fb471417-ee97-4dbd-8cf1-cdfc60d99f8b",
   "metadata": {},
   "source": [
    "Copying new versions of our word result, test result, and Bible files over to the Files folder:"
   ]
  },
  {
   "cell_type": "code",
   "execution_count": 15,
   "id": "580dfea6-98ff-48aa-8cdb-5e60be973b1b",
   "metadata": {
    "execution": {
     "iopub.execute_input": "2025-08-29T03:56:39.217583Z",
     "iopub.status.busy": "2025-08-29T03:56:39.217267Z",
     "iopub.status.idle": "2025-08-29T03:56:39.234865Z",
     "shell.execute_reply": "2025-08-29T03:56:39.234576Z",
     "shell.execute_reply.started": "2025-08-29T03:56:39.217562Z"
    }
   },
   "outputs": [],
   "source": [
    "if list(pd.read_csv(\n",
    "'Files/word_results_headers_only.csv').columns) != list(\n",
    "pd.read_csv('Files/word_results.csv').columns):\n",
    "    raise ValueError (\"Columns don't match!\")"
   ]
  },
  {
   "cell_type": "code",
   "execution_count": 16,
   "id": "e2e59ba5-b188-42c8-84d7-f61495acc042",
   "metadata": {
    "execution": {
     "iopub.execute_input": "2025-08-29T03:56:39.235365Z",
     "iopub.status.busy": "2025-08-29T03:56:39.235234Z",
     "iopub.status.idle": "2025-08-29T03:56:39.243728Z",
     "shell.execute_reply": "2025-08-29T03:56:39.243467Z",
     "shell.execute_reply.started": "2025-08-29T03:56:39.235355Z"
    }
   },
   "outputs": [],
   "source": [
    "if list(pd.read_csv(\n",
    "    'Files/test_results_headers_only.csv').columns) != list(\n",
    "pd.read_csv('Files/test_results.csv').columns):\n",
    "    raise ValueError (\"Columns don't match!\")"
   ]
  },
  {
   "cell_type": "code",
   "execution_count": 17,
   "id": "2b07bef9-4c62-403a-8eea-06a91737d54c",
   "metadata": {
    "execution": {
     "iopub.execute_input": "2025-08-29T03:56:39.244270Z",
     "iopub.status.busy": "2025-08-29T03:56:39.244049Z",
     "iopub.status.idle": "2025-08-29T03:56:39.247193Z",
     "shell.execute_reply": "2025-08-29T03:56:39.246917Z",
     "shell.execute_reply.started": "2025-08-29T03:56:39.244259Z"
    }
   },
   "outputs": [],
   "source": [
    "if list(pd.read_csv(\n",
    "    'Files/game_config_headers_only.csv').columns) != list(\n",
    "pd.read_csv('Files/game_config.csv').columns):\n",
    "    raise ValueError (\"Columns don't match!\")"
   ]
  },
  {
   "cell_type": "code",
   "execution_count": 18,
   "id": "b002e909-367c-4775-bd82-fa0dacb67995",
   "metadata": {
    "execution": {
     "iopub.execute_input": "2025-08-29T03:56:39.247650Z",
     "iopub.status.busy": "2025-08-29T03:56:39.247485Z",
     "iopub.status.idle": "2025-08-29T03:56:39.253194Z",
     "shell.execute_reply": "2025-08-29T03:56:39.252881Z",
     "shell.execute_reply.started": "2025-08-29T03:56:39.247627Z"
    }
   },
   "outputs": [
    {
     "data": {
      "text/plain": [
       "'../cpp_tttb_linux_release/README_download_link.txt'"
      ]
     },
     "execution_count": 18,
     "metadata": {},
     "output_type": "execute_result"
    }
   ],
   "source": [
    "shutil.copy('Files/word_results_headers_only.csv',\n",
    "            release_folder+'Files/word_results.csv')\n",
    "shutil.copy('Files/game_config_headers_only.csv',\n",
    "            release_folder+'Files/game_config.csv')\n",
    "shutil.copy('Files/test_results_headers_only.csv',\n",
    "            release_folder+'Files/test_results.csv')\n",
    "shutil.copy('Catholic_Public_Domain_Bible/CPDB_for_TTTB.csv',\n",
    "            release_folder+'Files/CPDB_for_TTTB.csv')\n",
    "shutil.copy('README_download_link.txt',release_folder + 'README_download_link.txt')"
   ]
  },
  {
   "cell_type": "markdown",
   "id": "29e5b380-388b-46f7-a2f3-9b85ae9a6835",
   "metadata": {},
   "source": [
    "Copying TTTB C++ and Python binaries, along with supporting files for Python binary, to the release folder:"
   ]
  },
  {
   "cell_type": "code",
   "execution_count": 19,
   "id": "762605c2-b463-4ddb-a1f2-aa11ff00f64c",
   "metadata": {
    "execution": {
     "iopub.execute_input": "2025-08-29T03:56:39.253605Z",
     "iopub.status.busy": "2025-08-29T03:56:39.253500Z",
     "iopub.status.idle": "2025-08-29T03:56:39.555524Z",
     "shell.execute_reply": "2025-08-29T03:56:39.555160Z",
     "shell.execute_reply.started": "2025-08-29T03:56:39.253596Z"
    }
   },
   "outputs": [],
   "source": [
    "shutil.copy(f'build/{cpp_binary}',\n",
    "            release_folder+f'build/{cpp_binary}')\n",
    "shutil.copy(f'build/{python_binary}',\n",
    "            release_folder+f'build/{python_binary}')\n",
    "# For details on shutil.copytree, see \n",
    "# https://docs.python.org/3/library/shutil.html\n",
    "if current_os != 'osx':\n",
    "    shutil.copytree('build/_internal', release_folder+'build/_internal')"
   ]
  },
  {
   "cell_type": "markdown",
   "id": "a15ca8bf-d6e6-46ac-b97d-df4c3f1df97a",
   "metadata": {
    "execution": {
     "iopub.execute_input": "2025-08-20T03:18:18.680160Z",
     "iopub.status.busy": "2025-08-20T03:18:18.680044Z",
     "iopub.status.idle": "2025-08-20T03:18:18.682555Z",
     "shell.execute_reply": "2025-08-20T03:18:18.682182Z",
     "shell.execute_reply.started": "2025-08-20T03:18:18.680149Z"
    }
   },
   "source": [
    "Copying Markdown and PDF versions of Readme over to release folder:\n",
    "\n",
    "(I commented out this option because I decided to share the Readme as a separate file instead. That way, I wouldn't have to create new zip files of release folders, each 75+ megabytes in size, for distribution on itch.io just because I updated the game's instructions.)"
   ]
  },
  {
   "cell_type": "code",
   "execution_count": 20,
   "id": "d7f9523a-242b-45a4-8596-5f327a09abc2",
   "metadata": {
    "execution": {
     "iopub.execute_input": "2025-08-29T03:56:39.555974Z",
     "iopub.status.busy": "2025-08-29T03:56:39.555859Z",
     "iopub.status.idle": "2025-08-29T03:56:39.557825Z",
     "shell.execute_reply": "2025-08-29T03:56:39.557546Z",
     "shell.execute_reply.started": "2025-08-29T03:56:39.555964Z"
    }
   },
   "outputs": [],
   "source": [
    "# shutil.copy('README.md',\n",
    "#             release_folder+'README.md')\n",
    "# shutil.copy('README.pdf',\n",
    "#             release_folder+'README.pdf')"
   ]
  },
  {
   "cell_type": "code",
   "execution_count": 21,
   "id": "f91c16b1-8243-4483-91b3-34d33f0648f0",
   "metadata": {
    "execution": {
     "iopub.execute_input": "2025-08-29T03:56:39.558180Z",
     "iopub.status.busy": "2025-08-29T03:56:39.558088Z",
     "iopub.status.idle": "2025-08-29T03:56:39.568474Z",
     "shell.execute_reply": "2025-08-29T03:56:39.568110Z",
     "shell.execute_reply.started": "2025-08-29T03:56:39.558171Z"
    }
   },
   "outputs": [
    {
     "name": "stdout",
     "output_type": "stream",
     "text": [
      "Finished running the create_release_folder script in 41.455 seconds. A clean copy of TTTB can now be found at:\n",
      "../cpp_tttb_linux_release/\n"
     ]
    }
   ],
   "source": [
    "end_time = time.time()\n",
    "print(f\"Finished running the create_release_folder script \\\n",
    "in {round(end_time - start_time, 3)} seconds. A \\\n",
    "clean copy of TTTB can now be found at:\\n{release_folder}\")"
   ]
  }
 ],
 "metadata": {
  "kernelspec": {
   "display_name": "Python 3 (ipykernel)",
   "language": "python",
   "name": "python3"
  },
  "language_info": {
   "codemirror_mode": {
    "name": "ipython",
    "version": 3
   },
   "file_extension": ".py",
   "mimetype": "text/x-python",
   "name": "python",
   "nbconvert_exporter": "python",
   "pygments_lexer": "ipython3",
   "version": "3.13.5"
  }
 },
 "nbformat": 4,
 "nbformat_minor": 5
}
