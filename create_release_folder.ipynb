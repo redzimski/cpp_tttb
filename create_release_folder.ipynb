{
 "cells": [
  {
   "cell_type": "markdown",
   "id": "716993a5-29a9-4741-9c0f-9db6fd602ac5",
   "metadata": {},
   "source": [
    "# Script for creating folders that can store Linux, Windows, and Mac TTTB releases\n",
    "\n",
    "Using this script makes it easier to quickly and accurately copy the files needed for a TTTB release into a folder that can then get zipped and uploaded to itch.io.\n",
    "\n",
    "By Ken Burchfiel\n",
    "\n",
    "Released under the MIT License\n",
    "\n",
    "(Note: Before running this code, make sure that the latest copy of your Pyinstaller-based tttb_py_complement executable, along with its '_internal' folder, have been moved from build/dist/tttb_py_complement to build/. You can automate this process using the code in pyinstaller_commands.txt, but these will need to be updated to match your own computer's directory layout (as will this file)."
   ]
  },
  {
   "cell_type": "code",
   "execution_count": 1,
   "id": "820bc0f3-d090-4939-87d5-53d64b7752fb",
   "metadata": {
    "execution": {
     "iopub.execute_input": "2025-08-06T02:18:18.769567Z",
     "iopub.status.busy": "2025-08-06T02:18:18.769469Z",
     "iopub.status.idle": "2025-08-06T02:18:18.963985Z",
     "shell.execute_reply": "2025-08-06T02:18:18.963615Z",
     "shell.execute_reply.started": "2025-08-06T02:18:18.769556Z"
    }
   },
   "outputs": [],
   "source": [
    "import os\n",
    "import shutil\n",
    "import pandas as pd"
   ]
  },
  {
   "cell_type": "code",
   "execution_count": 2,
   "id": "683c3dd2-00bc-4ba1-9778-d89dc22664f5",
   "metadata": {
    "execution": {
     "iopub.execute_input": "2025-08-06T02:18:18.964461Z",
     "iopub.status.busy": "2025-08-06T02:18:18.964314Z",
     "iopub.status.idle": "2025-08-06T02:18:18.968146Z",
     "shell.execute_reply": "2025-08-06T02:18:18.967808Z",
     "shell.execute_reply.started": "2025-08-06T02:18:18.964449Z"
    }
   },
   "outputs": [
    {
     "data": {
      "text/plain": [
       "'/home/kjb3/D1V1/Documents/!Dell64docs/Programming/CPP/cpp_tttb'"
      ]
     },
     "execution_count": 2,
     "metadata": {},
     "output_type": "execute_result"
    }
   ],
   "source": [
    "os.getcwd()"
   ]
  },
  {
   "cell_type": "code",
   "execution_count": 3,
   "id": "2b5cdfdc-8ef0-44f8-ba02-9c841bfc1964",
   "metadata": {
    "execution": {
     "iopub.execute_input": "2025-08-06T02:18:18.969140Z",
     "iopub.status.busy": "2025-08-06T02:18:18.968944Z",
     "iopub.status.idle": "2025-08-06T02:18:18.970867Z",
     "shell.execute_reply": "2025-08-06T02:18:18.970611Z",
     "shell.execute_reply.started": "2025-08-06T02:18:18.969129Z"
    }
   },
   "outputs": [],
   "source": [
    "linux_rf = '../cpp_tttb_linux_release/' \n",
    "# rf = 'release folder'"
   ]
  },
  {
   "cell_type": "code",
   "execution_count": 4,
   "id": "399c8def-cef1-4beb-b49a-a5a6feb6c62d",
   "metadata": {
    "execution": {
     "iopub.execute_input": "2025-08-06T02:18:18.971262Z",
     "iopub.status.busy": "2025-08-06T02:18:18.971153Z",
     "iopub.status.idle": "2025-08-06T02:18:19.065119Z",
     "shell.execute_reply": "2025-08-06T02:18:19.064697Z",
     "shell.execute_reply.started": "2025-08-06T02:18:18.971252Z"
    }
   },
   "outputs": [],
   "source": [
    "if linux_rf.replace('../', '').replace('/', '') in os.listdir('../'):\n",
    "    # NOTE: this will remove the existing folder (which will allow us to\n",
    "    # more easily recreate a clean copy).\n",
    "    shutil.rmtree(linux_rf) # Based on datainsight's StackOverflow\n",
    "    # answer at https://stackoverflow.com/a/70075600/13097194 \n",
    "os.mkdir(linux_rf)\n",
    "\n",
    "# Creating relevant directories:\n",
    "\n",
    "os.mkdir(linux_rf + 'Files/')\n",
    "os.mkdir(linux_rf + 'build/')\n",
    "os.mkdir(linux_rf + 'Files/Multiplayer/')\n",
    "os.mkdir(linux_rf + 'Files/MP_Test_Result_Files_To_Combine/')\n",
    "os.mkdir(linux_rf + 'Files/MP_Word_Result_Files_To_Combine/')\n",
    "os.mkdir(linux_rf + 'Visualizations/')\n",
    "os.mkdir(linux_rf + 'Visualizations/Multiplayer')\n",
    "os.mkdir(linux_rf + 'Visualizations/Single_Player')"
   ]
  },
  {
   "cell_type": "markdown",
   "id": "55bbb91c-ab51-4091-b99d-7aae068d0094",
   "metadata": {},
   "source": [
    "Making sure that the headers in our 'headers only' file match the ones I've been using in my own gameplay sessions: (sometimes I only update the latter rather than the former.)"
   ]
  },
  {
   "cell_type": "markdown",
   "id": "fb471417-ee97-4dbd-8cf1-cdfc60d99f8b",
   "metadata": {},
   "source": [
    "Copying new versions of our word result, test result, and Bible files over to the Files folder:"
   ]
  },
  {
   "cell_type": "code",
   "execution_count": 5,
   "id": "580dfea6-98ff-48aa-8cdb-5e60be973b1b",
   "metadata": {
    "execution": {
     "iopub.execute_input": "2025-08-06T02:18:19.065666Z",
     "iopub.status.busy": "2025-08-06T02:18:19.065530Z",
     "iopub.status.idle": "2025-08-06T02:18:19.082291Z",
     "shell.execute_reply": "2025-08-06T02:18:19.081980Z",
     "shell.execute_reply.started": "2025-08-06T02:18:19.065655Z"
    }
   },
   "outputs": [],
   "source": [
    "if list(pd.read_csv(\n",
    "'Files/word_results_headers_only.csv').columns) != list(\n",
    "pd.read_csv('Files/word_results.csv').columns):\n",
    "    raise ValueError (\"Columns don't match!\")"
   ]
  },
  {
   "cell_type": "code",
   "execution_count": 6,
   "id": "e2e59ba5-b188-42c8-84d7-f61495acc042",
   "metadata": {
    "execution": {
     "iopub.execute_input": "2025-08-06T02:18:19.082928Z",
     "iopub.status.busy": "2025-08-06T02:18:19.082771Z",
     "iopub.status.idle": "2025-08-06T02:18:19.091725Z",
     "shell.execute_reply": "2025-08-06T02:18:19.091430Z",
     "shell.execute_reply.started": "2025-08-06T02:18:19.082916Z"
    }
   },
   "outputs": [],
   "source": [
    "if list(pd.read_csv(\n",
    "    'Files/test_results_headers_only.csv').columns) != list(\n",
    "pd.read_csv('Files/test_results.csv').columns):\n",
    "    raise ValueError (\"Columns don't match!\")"
   ]
  },
  {
   "cell_type": "code",
   "execution_count": 7,
   "id": "2b07bef9-4c62-403a-8eea-06a91737d54c",
   "metadata": {
    "execution": {
     "iopub.execute_input": "2025-08-06T02:18:19.092375Z",
     "iopub.status.busy": "2025-08-06T02:18:19.092051Z",
     "iopub.status.idle": "2025-08-06T02:18:19.095846Z",
     "shell.execute_reply": "2025-08-06T02:18:19.095577Z",
     "shell.execute_reply.started": "2025-08-06T02:18:19.092359Z"
    }
   },
   "outputs": [],
   "source": [
    "if list(pd.read_csv(\n",
    "    'Files/game_config_headers_only.csv').columns) != list(\n",
    "pd.read_csv('Files/game_config.csv').columns):\n",
    "    raise ValueError (\"Columns don't match!\")"
   ]
  },
  {
   "cell_type": "code",
   "execution_count": 8,
   "id": "b002e909-367c-4775-bd82-fa0dacb67995",
   "metadata": {
    "execution": {
     "iopub.execute_input": "2025-08-06T02:18:19.096268Z",
     "iopub.status.busy": "2025-08-06T02:18:19.096168Z",
     "iopub.status.idle": "2025-08-06T02:18:19.101617Z",
     "shell.execute_reply": "2025-08-06T02:18:19.101352Z",
     "shell.execute_reply.started": "2025-08-06T02:18:19.096259Z"
    }
   },
   "outputs": [
    {
     "data": {
      "text/plain": [
       "'../cpp_tttb_linux_release/Files/CPDB_for_TTTB.csv'"
      ]
     },
     "execution_count": 8,
     "metadata": {},
     "output_type": "execute_result"
    }
   ],
   "source": [
    "shutil.copy('Files/word_results_headers_only.csv',\n",
    "            linux_rf+'Files/word_results.csv')\n",
    "shutil.copy('Files/game_config_headers_only.csv',\n",
    "            linux_rf+'Files/game_config.csv')\n",
    "shutil.copy('Files/test_results_headers_only.csv',\n",
    "            linux_rf+'Files/test_results.csv')\n",
    "shutil.copy('Catholic_Public_Domain_Bible/CPDB_for_TTTB.csv',\n",
    "            linux_rf+'Files/CPDB_for_TTTB.csv')"
   ]
  },
  {
   "cell_type": "markdown",
   "id": "29e5b380-388b-46f7-a2f3-9b85ae9a6835",
   "metadata": {},
   "source": [
    "Copying TTTB C++ and Python binaries, along with supporting files for Python binary, to the release folder:"
   ]
  },
  {
   "cell_type": "code",
   "execution_count": 9,
   "id": "762605c2-b463-4ddb-a1f2-aa11ff00f64c",
   "metadata": {
    "execution": {
     "iopub.execute_input": "2025-08-06T02:18:19.102047Z",
     "iopub.status.busy": "2025-08-06T02:18:19.101941Z",
     "iopub.status.idle": "2025-08-06T02:18:19.423936Z",
     "shell.execute_reply": "2025-08-06T02:18:19.423664Z",
     "shell.execute_reply.started": "2025-08-06T02:18:19.102038Z"
    }
   },
   "outputs": [
    {
     "data": {
      "text/plain": [
       "'../cpp_tttb_linux_release/build/_internal'"
      ]
     },
     "execution_count": 9,
     "metadata": {},
     "output_type": "execute_result"
    }
   ],
   "source": [
    "shutil.copy('build/tttb',\n",
    "            linux_rf+'build/tttb')\n",
    "shutil.copy('build/tttb_py_complement',\n",
    "            linux_rf+'build/tttb_py_complement')\n",
    "# For details on shutil.copytree, see \n",
    "# https://docs.python.org/3/library/shutil.html\n",
    "shutil.copytree('build/_internal', linux_rf+'build/_internal')"
   ]
  },
  {
   "cell_type": "code",
   "execution_count": null,
   "id": "f91c16b1-8243-4483-91b3-34d33f0648f0",
   "metadata": {},
   "outputs": [],
   "source": []
  }
 ],
 "metadata": {
  "kernelspec": {
   "display_name": "Python 3 (ipykernel)",
   "language": "python",
   "name": "python3"
  },
  "language_info": {
   "codemirror_mode": {
    "name": "ipython",
    "version": 3
   },
   "file_extension": ".py",
   "mimetype": "text/x-python",
   "name": "python",
   "nbconvert_exporter": "python",
   "pygments_lexer": "ipython3",
   "version": "3.13.1"
  }
 },
 "nbformat": 4,
 "nbformat_minor": 5
}
