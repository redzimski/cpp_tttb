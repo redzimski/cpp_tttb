{
 "cells": [
  {
   "cell_type": "markdown",
   "id": "716993a5-29a9-4741-9c0f-9db6fd602ac5",
   "metadata": {},
   "source": [
    "# Script for creating folders that can store Linux, Windows, and Mac TTTB releases\n",
    "\n",
    "By Ken Burchfiel\n",
    "\n",
    "Released under the MIT License\n",
    "\n",
    "This script makes it easier to quickly and accurately copy the files needed for a TTTB release into a folder that can then get zipped and uploaded to itch.io. You can also use it to create executable versions of the tttb.cpp and/or tttb_py_complement.py files; see argument parsing code below for more details.\n",
    "\n",
    "(Note: Before running this code, make sure that the latest copy of your Pyinstaller-based tttb_py_complement executable, along with its '_internal' folder (if applicable), have been moved from build/dist/tttb_py_complement to build/. Disregard this note if you're using this script to build that executable, though, as in that case this step will get taken care of automatically.)\n",
    "\n",
    "Also note that, in order for this script to successfully build the Pyinstaller executable, your base Python environment (and not just the environment from which you're calling this script) *may* need to have relatively recent versions of Numpy, Pandas, and Plotly. "
   ]
  },
  {
   "cell_type": "code",
   "execution_count": 1,
   "id": "820bc0f3-d090-4939-87d5-53d64b7752fb",
   "metadata": {
    "execution": {
     "iopub.execute_input": "2025-08-28T04:54:59.897850Z",
     "iopub.status.busy": "2025-08-28T04:54:59.897758Z",
     "iopub.status.idle": "2025-08-28T04:55:00.090968Z",
     "shell.execute_reply": "2025-08-28T04:55:00.090710Z",
     "shell.execute_reply.started": "2025-08-28T04:54:59.897840Z"
    }
   },
   "outputs": [],
   "source": [
    "import time\n",
    "start_time = time.time()\n",
    "import os\n",
    "import shutil\n",
    "import platform\n",
    "import pandas as pd\n",
    "import subprocess"
   ]
  },
  {
   "cell_type": "code",
   "execution_count": 2,
   "id": "e2cadb49-493e-48e5-af05-a3ffe3e53735",
   "metadata": {
    "execution": {
     "iopub.execute_input": "2025-08-28T04:55:00.091525Z",
     "iopub.status.busy": "2025-08-28T04:55:00.091281Z",
     "iopub.status.idle": "2025-08-28T04:55:00.095041Z",
     "shell.execute_reply": "2025-08-28T04:55:00.094798Z",
     "shell.execute_reply.started": "2025-08-28T04:55:00.091514Z"
    }
   },
   "outputs": [
    {
     "data": {
      "text/plain": [
       "'linux'"
      ]
     },
     "execution_count": 2,
     "metadata": {},
     "output_type": "execute_result"
    }
   ],
   "source": [
    "current_os = platform.system().lower() # Will be used to label certain files\n",
    "# and folders\n",
    "if current_os == 'darwin':\n",
    "    current_os = 'osx' # Will be more intuitive for many users \n",
    "    # than 'darwin'\n",
    "current_os"
   ]
  },
  {
   "cell_type": "code",
   "execution_count": 3,
   "id": "4d0df4b8-5798-42b3-be03-4c0388cc3f38",
   "metadata": {
    "execution": {
     "iopub.execute_input": "2025-08-28T04:55:00.095947Z",
     "iopub.status.busy": "2025-08-28T04:55:00.095813Z",
     "iopub.status.idle": "2025-08-28T04:55:00.102017Z",
     "shell.execute_reply": "2025-08-28T04:55:00.101702Z",
     "shell.execute_reply.started": "2025-08-28T04:55:00.095937Z"
    }
   },
   "outputs": [
    {
     "data": {
      "text/plain": [
       "'../cpp_tttb_linux_release/'"
      ]
     },
     "execution_count": 3,
     "metadata": {},
     "output_type": "execute_result"
    }
   ],
   "source": [
    "release_folder = f'../cpp_tttb_{current_os}_release/' \n",
    "# rf = 'release folder'\n",
    "release_folder"
   ]
  },
  {
   "cell_type": "code",
   "execution_count": 4,
   "id": "51861f10-afe1-4df5-bc43-33e3d10e7575",
   "metadata": {
    "execution": {
     "iopub.execute_input": "2025-08-28T04:55:00.102489Z",
     "iopub.status.busy": "2025-08-28T04:55:00.102359Z",
     "iopub.status.idle": "2025-08-28T04:55:00.105841Z",
     "shell.execute_reply": "2025-08-28T04:55:00.105590Z",
     "shell.execute_reply.started": "2025-08-28T04:55:00.102480Z"
    }
   },
   "outputs": [
    {
     "data": {
      "text/plain": [
       "True"
      ]
     },
     "execution_count": 4,
     "metadata": {},
     "output_type": "execute_result"
    }
   ],
   "source": [
    "# For documentation on the following code,\n",
    "# see build/tttb_py_complement.ipynb.\n",
    "\n",
    "notebook_exec = False\n",
    "try:\n",
    "    get_ipython()\n",
    "    notebook_exec = True # Script is running within a notebook\n",
    "except:\n",
    "    pass\n",
    "\n",
    "notebook_exec\n",
    "    "
   ]
  },
  {
   "cell_type": "code",
   "execution_count": 5,
   "id": "8d1061d6-a549-44bc-be46-eec5b5c856de",
   "metadata": {
    "execution": {
     "iopub.execute_input": "2025-08-28T04:55:00.106225Z",
     "iopub.status.busy": "2025-08-28T04:55:00.106126Z",
     "iopub.status.idle": "2025-08-28T04:55:00.111107Z",
     "shell.execute_reply": "2025-08-28T04:55:00.110817Z",
     "shell.execute_reply.started": "2025-08-28T04:55:00.106215Z"
    }
   },
   "outputs": [
    {
     "data": {
      "text/plain": [
       "('neither', False, False)"
      ]
     },
     "execution_count": 5,
     "metadata": {},
     "output_type": "execute_result"
    }
   ],
   "source": [
    "if notebook_exec == False:\n",
    "    import argparse\n",
    "    parser = argparse.ArgumentParser()\n",
    "    # The items_to_compile argument specifies which source code files,\n",
    "    # if any, you wish to compile into binaries. Enter 'both'\n",
    "    # to compile both the tttb.cpp and tttb_py_complement files;\n",
    "    # 'cpp' to compile only the tttb.cpp file; 'py' to compile\n",
    "    # only the tttb_py_complement.py file; and 'neither' to \n",
    "    # skip all compilation processes (which you might want to select\n",
    "    # if you've already compiled the latest versions.)\n",
    "    \n",
    "    parser.add_argument(\"files_to_compile\", default='neither')\n",
    "    args = parser.parse_args()\n",
    "    files_to_compile = args.files_to_compile\n",
    "else:\n",
    "    files_to_compile = 'neither' \n",
    "\n",
    "# Determining, based on the argument passed to files_to_compile,\n",
    "# which source code files to compile:\n",
    "compile_cpp = False\n",
    "compile_py = False\n",
    "\n",
    "if files_to_compile in ['both', 'cpp']:\n",
    "    compile_cpp = True\n",
    "if files_to_compile in ['both', 'py']:\n",
    "    compile_py = True\n",
    "\n",
    "files_to_compile, compile_cpp, compile_py"
   ]
  },
  {
   "cell_type": "markdown",
   "id": "7ded7d2e-42ba-456d-a60d-6b530e3a56f5",
   "metadata": {},
   "source": [
    "Specifying the names of the Python and C++ binaries:"
   ]
  },
  {
   "cell_type": "code",
   "execution_count": 6,
   "id": "665c46e5-192c-48f2-b45e-9b3790e76055",
   "metadata": {
    "execution": {
     "iopub.execute_input": "2025-08-28T04:55:00.111527Z",
     "iopub.status.busy": "2025-08-28T04:55:00.111419Z",
     "iopub.status.idle": "2025-08-28T04:55:00.113520Z",
     "shell.execute_reply": "2025-08-28T04:55:00.113287Z",
     "shell.execute_reply.started": "2025-08-28T04:55:00.111517Z"
    }
   },
   "outputs": [],
   "source": [
    "if current_os == 'windows':\n",
    "    python_binary = 'tttb_py_complement.exe'\n",
    "    cpp_binary = 'tttb.exe'\n",
    "else:\n",
    "    python_binary = 'tttb_py_complement'\n",
    "    cpp_binary = 'tttb'"
   ]
  },
  {
   "cell_type": "code",
   "execution_count": 7,
   "id": "4e23078a-46dd-4e6d-bd4a-e5643299a945",
   "metadata": {
    "execution": {
     "iopub.execute_input": "2025-08-28T04:55:00.113996Z",
     "iopub.status.busy": "2025-08-28T04:55:00.113895Z",
     "iopub.status.idle": "2025-08-28T04:55:00.116180Z",
     "shell.execute_reply": "2025-08-28T04:55:00.115937Z",
     "shell.execute_reply.started": "2025-08-28T04:55:00.113983Z"
    }
   },
   "outputs": [
    {
     "data": {
      "text/plain": [
       "('tttb_py_complement', 'tttb')"
      ]
     },
     "execution_count": 7,
     "metadata": {},
     "output_type": "execute_result"
    }
   ],
   "source": [
    "python_binary, cpp_binary"
   ]
  },
  {
   "cell_type": "code",
   "execution_count": 8,
   "id": "683c3dd2-00bc-4ba1-9778-d89dc22664f5",
   "metadata": {
    "execution": {
     "iopub.execute_input": "2025-08-28T04:55:00.116602Z",
     "iopub.status.busy": "2025-08-28T04:55:00.116445Z",
     "iopub.status.idle": "2025-08-28T04:55:00.118845Z",
     "shell.execute_reply": "2025-08-28T04:55:00.118510Z",
     "shell.execute_reply.started": "2025-08-28T04:55:00.116593Z"
    }
   },
   "outputs": [
    {
     "data": {
      "text/plain": [
       "'/home/kjb3/D1V1/Documents/!Dell64docs/Programming/CPP/cpp_tttb'"
      ]
     },
     "execution_count": 8,
     "metadata": {},
     "output_type": "execute_result"
    }
   ],
   "source": [
    "os.getcwd()"
   ]
  },
  {
   "cell_type": "markdown",
   "id": "b98d25b7-a6a6-49bd-8b29-a0b143046d7b",
   "metadata": {},
   "source": [
    "### Building our C++ and Python files (if requested by the caller):"
   ]
  },
  {
   "cell_type": "markdown",
   "id": "987d9647-db13-43be-9449-ad01bb89121e",
   "metadata": {},
   "source": [
    "Moving into the build subfolder (simply because this is where I'm used to excuting the following commands when running them within a terminal or command prompt):"
   ]
  },
  {
   "cell_type": "code",
   "execution_count": 9,
   "id": "db92a8fb-88a9-45e3-9933-cc2b998f7f5b",
   "metadata": {
    "execution": {
     "iopub.execute_input": "2025-08-28T04:55:00.119411Z",
     "iopub.status.busy": "2025-08-28T04:55:00.119256Z",
     "iopub.status.idle": "2025-08-28T04:55:00.121455Z",
     "shell.execute_reply": "2025-08-28T04:55:00.121152Z",
     "shell.execute_reply.started": "2025-08-28T04:55:00.119394Z"
    }
   },
   "outputs": [],
   "source": [
    "os.chdir('build')"
   ]
  },
  {
   "cell_type": "code",
   "execution_count": 10,
   "id": "e5f28a2c-2eb2-49d3-a383-c39d2f716f5d",
   "metadata": {
    "execution": {
     "iopub.execute_input": "2025-08-28T04:55:00.121924Z",
     "iopub.status.busy": "2025-08-28T04:55:00.121761Z",
     "iopub.status.idle": "2025-08-28T04:55:00.124007Z",
     "shell.execute_reply": "2025-08-28T04:55:00.123778Z",
     "shell.execute_reply.started": "2025-08-28T04:55:00.121915Z"
    }
   },
   "outputs": [
    {
     "data": {
      "text/plain": [
       "'/home/kjb3/D1V1/Documents/!Dell64docs/Programming/CPP/cpp_tttb/build'"
      ]
     },
     "execution_count": 10,
     "metadata": {},
     "output_type": "execute_result"
    }
   ],
   "source": [
    "os.getcwd()"
   ]
  },
  {
   "cell_type": "code",
   "execution_count": 11,
   "id": "1820126a-76d0-4aaf-8984-25bcafdb1c62",
   "metadata": {
    "execution": {
     "iopub.execute_input": "2025-08-28T04:55:00.124615Z",
     "iopub.status.busy": "2025-08-28T04:55:00.124385Z",
     "iopub.status.idle": "2025-08-28T04:55:00.127248Z",
     "shell.execute_reply": "2025-08-28T04:55:00.126930Z",
     "shell.execute_reply.started": "2025-08-28T04:55:00.124600Z"
    }
   },
   "outputs": [
    {
     "name": "stdout",
     "output_type": "stream",
     "text": [
      "Skipping the compilation process for tttb.cpp.\n"
     ]
    }
   ],
   "source": [
    "if compile_cpp == True:\n",
    "    print(\"Now compiling tttb.cpp.\")\n",
    "    # For documentation on subprocess.run() and check_returncode(),\n",
    "    # see: https://docs.python.org/3/library/subprocess.html#subprocess.run \n",
    "    compile_cpp_output_1 = subprocess.run(\"cmake ..\", shell=True, \n",
    "                            capture_output = True)\n",
    "    print(compile_cpp_output_1)\n",
    "    compile_cpp_output_1.check_returncode()\n",
    "    print(compile_cpp_output_1)\n",
    "    compile_cpp_output_2 = subprocess.run(\"cmake --build .\", shell=True,\n",
    "                            capture_output = True)\n",
    "    print(compile_cpp_output_2)\n",
    "    compile_cpp_output_2.check_returncode()\n",
    "    # Linux and Mac place the executable directly within the build folder;\n",
    "    # meanwhile, Windows (at least with the compiler I'm using) places it\n",
    "    # within a 'Debug' subfolder. Therefore, I added in the following\n",
    "    # line to move this file from the 'Debug' folder to the current\n",
    "    # working directory.\n",
    "    if current_os == 'windows':\n",
    "        shutil.copy('Debug/tttb.exe', 'tttb.exe')\n",
    "else:\n",
    "    print(\"Skipping the compilation process for tttb.cpp.\")"
   ]
  },
  {
   "cell_type": "markdown",
   "id": "dba6bc07",
   "metadata": {},
   "source": [
    "Running pyinstaller: \n",
    "\n",
    "NOTE: if you have trouble getting this code to run, make sure that you have pyinstaller added as a library within (1) the Python environment you're using to run this code and/or your base environment.\n",
    "\n",
    "I also found that, at least within Windows, the following code took quite a while to run. I was able to get pyinstaller to build the library within my base environment in around 5-6 minutes, but after 17 minutes, this cell still hadn't finished. Therefore, you might want to take care of the following steps yourself, then select 'cpp' or 'neither' as your argument for this code rather than 'both' or 'py.'\n",
    "\n",
    "(The code didn't take very long at all to execute within Linux, on the other hand.)"
   ]
  },
  {
   "cell_type": "code",
   "execution_count": 12,
   "id": "1dd7b1a7-23bf-4cd2-8d27-20bc0d4b2f28",
   "metadata": {
    "execution": {
     "iopub.execute_input": "2025-08-28T04:55:00.128373Z",
     "iopub.status.busy": "2025-08-28T04:55:00.128264Z",
     "iopub.status.idle": "2025-08-28T04:55:00.131345Z",
     "shell.execute_reply": "2025-08-28T04:55:00.131101Z",
     "shell.execute_reply.started": "2025-08-28T04:55:00.128363Z"
    }
   },
   "outputs": [
    {
     "name": "stdout",
     "output_type": "stream",
     "text": [
      "Skipping the compilation process for tttb_py_complement.py.\n"
     ]
    }
   ],
   "source": [
    "if compile_py == True:\n",
    "    print(\"Now compiling tttb_py_complement.py.\")\n",
    "    # The -y argument in the following call will allow any existing\n",
    "    # material within the output folder to get deleted and replaced.\n",
    "\n",
    "    if current_os == 'osx': # For the OSX release, I'll store the entire\n",
    "        # Pyinstaller package as a single file via the --onefile argument. \n",
    "        # This makes for a slower load time\n",
    "        # than the default method (which creates both a main Python binary\n",
    "        # and an _internal folder for library-related files), but it\n",
    "        # dramatically reduces the amount of programs that the user\n",
    "        # will need to manually authorize.\n",
    "        # See https://pyinstaller.org/en/stable/usage.html for details\n",
    "        # on both the --onefile argument and the --noconfirm argument\n",
    "        # (which eliminates the need to authorize Pyinstaller's\n",
    "        # overwriting dist folder files.)\n",
    "        \n",
    "        pyinstaller_subprocess_command = \"pyinstaller \\\n",
    "tttb_py_complement.py --noconfirm --onefile\"\n",
    "    else:\n",
    "        pyinstaller_subprocess_command = \"pyinstaller \\\n",
    "tttb_py_complement.py --noconfirm\"\n",
    "    compile_py_output = subprocess.run(\n",
    "        pyinstaller_subprocess_command, shell = True, \n",
    "        capture_output = True, check = True)\n",
    "    print(compile_py_output)\n",
    "    # Copying tttb_py_complement binary and its corresponding\n",
    "    # _internal folder into the build folder (where the C++ program expects\n",
    "    # to find it):\n",
    "    if current_os != 'osx': # No _internal folder will be created for OSX\n",
    "        # releases, so we should skip the following steps.\n",
    "        if '_internal' in os.listdir():\n",
    "            shutil.rmtree('_internal')\n",
    "        # Based on datainsight's StackOverflow\n",
    "            # answer at https://stackoverflow.com/a/70075600/13097194 \n",
    "        shutil.copytree(\n",
    "            'dist/tttb_py_complement/_internal', '_internal')\n",
    "    # Note that shutil.copy() will overwrite the existing copy of the file\n",
    "    # (if any) in the destination folder with the new copy; see\n",
    "    # https://docs.python.org/3/library/shutil.html#shutil.copy\n",
    "    # for details\n",
    "    shutil.copy(\n",
    "        f'dist/tttb_py_complement/{python_binary}', \n",
    "        f'{python_binary}')\n",
    "else:\n",
    "    print(\"Skipping the compilation process for tttb_py_complement.py.\")"
   ]
  },
  {
   "cell_type": "markdown",
   "id": "a1513230-4427-4bd7-965e-cf18321d4495",
   "metadata": {},
   "source": [
    "Moving back into our main folder:"
   ]
  },
  {
   "cell_type": "code",
   "execution_count": 13,
   "id": "9125a828-5c86-40a2-ae07-4ef68e8a2d04",
   "metadata": {
    "execution": {
     "iopub.execute_input": "2025-08-28T04:55:00.131730Z",
     "iopub.status.busy": "2025-08-28T04:55:00.131627Z",
     "iopub.status.idle": "2025-08-28T04:55:00.134570Z",
     "shell.execute_reply": "2025-08-28T04:55:00.134327Z",
     "shell.execute_reply.started": "2025-08-28T04:55:00.131721Z"
    }
   },
   "outputs": [
    {
     "data": {
      "text/plain": [
       "'/home/kjb3/D1V1/Documents/!Dell64docs/Programming/CPP/cpp_tttb'"
      ]
     },
     "execution_count": 13,
     "metadata": {},
     "output_type": "execute_result"
    }
   ],
   "source": [
    "os.chdir('..')\n",
    "os.getcwd()"
   ]
  },
  {
   "cell_type": "code",
   "execution_count": 14,
   "id": "399c8def-cef1-4beb-b49a-a5a6feb6c62d",
   "metadata": {
    "execution": {
     "iopub.execute_input": "2025-08-28T04:55:00.135013Z",
     "iopub.status.busy": "2025-08-28T04:55:00.134846Z",
     "iopub.status.idle": "2025-08-28T04:55:00.221038Z",
     "shell.execute_reply": "2025-08-28T04:55:00.220600Z",
     "shell.execute_reply.started": "2025-08-28T04:55:00.135003Z"
    }
   },
   "outputs": [],
   "source": [
    "if release_folder.replace('../', '').replace('/', '') in os.listdir('../'):\n",
    "    # NOTE: this will remove the existing folder (which will allow us to\n",
    "    # more easily recreate a clean copy).\n",
    "    shutil.rmtree(release_folder)\n",
    "os.mkdir(release_folder)\n",
    "\n",
    "# Creating relevant directories:\n",
    "\n",
    "os.mkdir(release_folder + 'Files/')\n",
    "os.mkdir(release_folder + 'build/')\n",
    "os.mkdir(release_folder + 'Files/Multiplayer/')\n",
    "os.mkdir(release_folder + 'Files/MP_Test_Result_Files_To_Combine/')\n",
    "os.mkdir(release_folder + 'Files/MP_Word_Result_Files_To_Combine/')\n",
    "os.mkdir(release_folder + 'Visualizations/')\n",
    "os.mkdir(release_folder + 'Visualizations/Multiplayer')\n",
    "os.mkdir(release_folder + 'Visualizations/Single_Player')"
   ]
  },
  {
   "cell_type": "markdown",
   "id": "55bbb91c-ab51-4091-b99d-7aae068d0094",
   "metadata": {},
   "source": [
    "Making sure that the headers in our 'headers only' file match the ones I've been using in my own gameplay sessions: (sometimes I only update the latter rather than the former.)"
   ]
  },
  {
   "cell_type": "markdown",
   "id": "fb471417-ee97-4dbd-8cf1-cdfc60d99f8b",
   "metadata": {},
   "source": [
    "Copying new versions of our word result, test result, and Bible files over to the Files folder:"
   ]
  },
  {
   "cell_type": "code",
   "execution_count": 15,
   "id": "580dfea6-98ff-48aa-8cdb-5e60be973b1b",
   "metadata": {
    "execution": {
     "iopub.execute_input": "2025-08-28T04:55:00.221550Z",
     "iopub.status.busy": "2025-08-28T04:55:00.221411Z",
     "iopub.status.idle": "2025-08-28T04:55:00.238201Z",
     "shell.execute_reply": "2025-08-28T04:55:00.237900Z",
     "shell.execute_reply.started": "2025-08-28T04:55:00.221540Z"
    }
   },
   "outputs": [],
   "source": [
    "if list(pd.read_csv(\n",
    "'Files/word_results_headers_only.csv').columns) != list(\n",
    "pd.read_csv('Files/word_results.csv').columns):\n",
    "    raise ValueError (\"Columns don't match!\")"
   ]
  },
  {
   "cell_type": "code",
   "execution_count": 16,
   "id": "e2e59ba5-b188-42c8-84d7-f61495acc042",
   "metadata": {
    "execution": {
     "iopub.execute_input": "2025-08-28T04:55:00.238741Z",
     "iopub.status.busy": "2025-08-28T04:55:00.238579Z",
     "iopub.status.idle": "2025-08-28T04:55:00.247683Z",
     "shell.execute_reply": "2025-08-28T04:55:00.247341Z",
     "shell.execute_reply.started": "2025-08-28T04:55:00.238715Z"
    }
   },
   "outputs": [],
   "source": [
    "if list(pd.read_csv(\n",
    "    'Files/test_results_headers_only.csv').columns) != list(\n",
    "pd.read_csv('Files/test_results.csv').columns):\n",
    "    raise ValueError (\"Columns don't match!\")"
   ]
  },
  {
   "cell_type": "code",
   "execution_count": 17,
   "id": "2b07bef9-4c62-403a-8eea-06a91737d54c",
   "metadata": {
    "execution": {
     "iopub.execute_input": "2025-08-28T04:55:00.248155Z",
     "iopub.status.busy": "2025-08-28T04:55:00.248047Z",
     "iopub.status.idle": "2025-08-28T04:55:00.251691Z",
     "shell.execute_reply": "2025-08-28T04:55:00.251440Z",
     "shell.execute_reply.started": "2025-08-28T04:55:00.248144Z"
    }
   },
   "outputs": [],
   "source": [
    "if list(pd.read_csv(\n",
    "    'Files/game_config_headers_only.csv').columns) != list(\n",
    "pd.read_csv('Files/game_config.csv').columns):\n",
    "    raise ValueError (\"Columns don't match!\")"
   ]
  },
  {
   "cell_type": "code",
   "execution_count": 18,
   "id": "b002e909-367c-4775-bd82-fa0dacb67995",
   "metadata": {
    "execution": {
     "iopub.execute_input": "2025-08-28T04:55:00.252124Z",
     "iopub.status.busy": "2025-08-28T04:55:00.252026Z",
     "iopub.status.idle": "2025-08-28T04:55:00.257336Z",
     "shell.execute_reply": "2025-08-28T04:55:00.257082Z",
     "shell.execute_reply.started": "2025-08-28T04:55:00.252114Z"
    }
   },
   "outputs": [
    {
     "data": {
      "text/plain": [
       "'../cpp_tttb_linux_release/README_download_link.txt'"
      ]
     },
     "execution_count": 18,
     "metadata": {},
     "output_type": "execute_result"
    }
   ],
   "source": [
    "shutil.copy('Files/word_results_headers_only.csv',\n",
    "            release_folder+'Files/word_results.csv')\n",
    "shutil.copy('Files/game_config_headers_only.csv',\n",
    "            release_folder+'Files/game_config.csv')\n",
    "shutil.copy('Files/test_results_headers_only.csv',\n",
    "            release_folder+'Files/test_results.csv')\n",
    "shutil.copy('Catholic_Public_Domain_Bible/CPDB_for_TTTB.csv',\n",
    "            release_folder+'Files/CPDB_for_TTTB.csv')\n",
    "shutil.copy('README_download_link.txt',release_folder + 'README_download_link.txt')"
   ]
  },
  {
   "cell_type": "markdown",
   "id": "29e5b380-388b-46f7-a2f3-9b85ae9a6835",
   "metadata": {},
   "source": [
    "Copying TTTB C++ and Python binaries, along with supporting files for Python binary, to the release folder:"
   ]
  },
  {
   "cell_type": "code",
   "execution_count": 19,
   "id": "762605c2-b463-4ddb-a1f2-aa11ff00f64c",
   "metadata": {
    "execution": {
     "iopub.execute_input": "2025-08-28T04:55:00.257731Z",
     "iopub.status.busy": "2025-08-28T04:55:00.257626Z",
     "iopub.status.idle": "2025-08-28T04:55:00.575569Z",
     "shell.execute_reply": "2025-08-28T04:55:00.575237Z",
     "shell.execute_reply.started": "2025-08-28T04:55:00.257722Z"
    }
   },
   "outputs": [],
   "source": [
    "shutil.copy(f'build/{cpp_binary}',\n",
    "            release_folder+f'build/{cpp_binary}')\n",
    "shutil.copy(f'build/{python_binary}',\n",
    "            release_folder+f'build/{python_binary}')\n",
    "# For details on shutil.copytree, see \n",
    "# https://docs.python.org/3/library/shutil.html\n",
    "if current_os != 'osx':\n",
    "    shutil.copytree('build/_internal', release_folder+'build/_internal')"
   ]
  },
  {
   "cell_type": "markdown",
   "id": "a15ca8bf-d6e6-46ac-b97d-df4c3f1df97a",
   "metadata": {
    "execution": {
     "iopub.execute_input": "2025-08-20T03:18:18.680160Z",
     "iopub.status.busy": "2025-08-20T03:18:18.680044Z",
     "iopub.status.idle": "2025-08-20T03:18:18.682555Z",
     "shell.execute_reply": "2025-08-20T03:18:18.682182Z",
     "shell.execute_reply.started": "2025-08-20T03:18:18.680149Z"
    }
   },
   "source": [
    "Copying Markdown and PDF versions of Readme over to release folder:\n",
    "\n",
    "(I commented out this option because I decided to share the Readme as a separate file instead. That way, I wouldn't have to create new zip files of release folders, each 75+ megabytes in size, for distribution on itch.io just because I updated the game's instructions.)"
   ]
  },
  {
   "cell_type": "code",
   "execution_count": 20,
   "id": "d7f9523a-242b-45a4-8596-5f327a09abc2",
   "metadata": {
    "execution": {
     "iopub.execute_input": "2025-08-28T04:55:00.576087Z",
     "iopub.status.busy": "2025-08-28T04:55:00.575938Z",
     "iopub.status.idle": "2025-08-28T04:55:00.577910Z",
     "shell.execute_reply": "2025-08-28T04:55:00.577649Z",
     "shell.execute_reply.started": "2025-08-28T04:55:00.576077Z"
    }
   },
   "outputs": [],
   "source": [
    "# shutil.copy('README.md',\n",
    "#             release_folder+'README.md')\n",
    "# shutil.copy('README.pdf',\n",
    "#             release_folder+'README.pdf')"
   ]
  },
  {
   "cell_type": "code",
   "execution_count": 21,
   "id": "f91c16b1-8243-4483-91b3-34d33f0648f0",
   "metadata": {
    "execution": {
     "iopub.execute_input": "2025-08-28T04:55:00.578274Z",
     "iopub.status.busy": "2025-08-28T04:55:00.578188Z",
     "iopub.status.idle": "2025-08-28T04:55:00.588269Z",
     "shell.execute_reply": "2025-08-28T04:55:00.587955Z",
     "shell.execute_reply.started": "2025-08-28T04:55:00.578265Z"
    }
   },
   "outputs": [
    {
     "name": "stdout",
     "output_type": "stream",
     "text": [
      "Finished running the create_release_folder script in 0.688 seconds. A clean copy of TTTB can now be found at:\n",
      "../cpp_tttb_linux_release/\n"
     ]
    }
   ],
   "source": [
    "end_time = time.time()\n",
    "print(f\"Finished running the create_release_folder script \\\n",
    "in {round(end_time - start_time, 3)} seconds. A \\\n",
    "clean copy of TTTB can now be found at:\\n{release_folder}\")"
   ]
  }
 ],
 "metadata": {
  "kernelspec": {
   "display_name": "Python 3 (ipykernel)",
   "language": "python",
   "name": "python3"
  },
  "language_info": {
   "codemirror_mode": {
    "name": "ipython",
    "version": 3
   },
   "file_extension": ".py",
   "mimetype": "text/x-python",
   "name": "python",
   "nbconvert_exporter": "python",
   "pygments_lexer": "ipython3",
   "version": "3.12.6"
  }
 },
 "nbformat": 4,
 "nbformat_minor": 5
}
