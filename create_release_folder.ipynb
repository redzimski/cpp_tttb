{
 "cells": [
  {
   "cell_type": "markdown",
   "id": "716993a5-29a9-4741-9c0f-9db6fd602ac5",
   "metadata": {},
   "source": [
    "# Script for creating folders that can store Linux, Windows, and Mac TTTB releases\n",
    "\n",
    "Using this script makes it easier to quickly and accurately copy the files needed for a TTTB release into a folder that can then get zipped and uploaded to itch.io.\n",
    "\n",
    "By Ken Burchfiel\n",
    "\n",
    "Released under the MIT License\n",
    "\n",
    "(Note: Before running this code, make sure that the latest copy of your Pyinstaller-based tttb_py_complement executable, along with its '_internal' folder, have been moved from build/dist/tttb_py_complement to build/. You can automate this process using the code in pyinstaller_commands.txt, but these will need to be updated to match your own computer's directory layout (as will this file)."
   ]
  },
  {
   "cell_type": "code",
   "execution_count": 1,
   "id": "820bc0f3-d090-4939-87d5-53d64b7752fb",
   "metadata": {
    "execution": {
     "iopub.execute_input": "2025-08-20T03:18:18.021075Z",
     "iopub.status.busy": "2025-08-20T03:18:18.020974Z",
     "iopub.status.idle": "2025-08-20T03:18:18.218426Z",
     "shell.execute_reply": "2025-08-20T03:18:18.218017Z",
     "shell.execute_reply.started": "2025-08-20T03:18:18.021063Z"
    }
   },
   "outputs": [],
   "source": [
    "import os\n",
    "import shutil\n",
    "import platform\n",
    "import pandas as pd"
   ]
  },
  {
   "cell_type": "code",
   "execution_count": 2,
   "id": "683c3dd2-00bc-4ba1-9778-d89dc22664f5",
   "metadata": {
    "execution": {
     "iopub.execute_input": "2025-08-20T03:18:18.218986Z",
     "iopub.status.busy": "2025-08-20T03:18:18.218818Z",
     "iopub.status.idle": "2025-08-20T03:18:18.222359Z",
     "shell.execute_reply": "2025-08-20T03:18:18.222152Z",
     "shell.execute_reply.started": "2025-08-20T03:18:18.218975Z"
    }
   },
   "outputs": [
    {
     "data": {
      "text/plain": [
       "'/home/kjb3/D1V1/Documents/!Dell64docs/Programming/CPP/cpp_tttb'"
      ]
     },
     "execution_count": 2,
     "metadata": {},
     "output_type": "execute_result"
    }
   ],
   "source": [
    "os.getcwd()"
   ]
  },
  {
   "cell_type": "code",
   "execution_count": 3,
   "id": "e2cadb49-493e-48e5-af05-a3ffe3e53735",
   "metadata": {
    "execution": {
     "iopub.execute_input": "2025-08-20T03:18:18.223276Z",
     "iopub.status.busy": "2025-08-20T03:18:18.223057Z",
     "iopub.status.idle": "2025-08-20T03:18:18.230037Z",
     "shell.execute_reply": "2025-08-20T03:18:18.229784Z",
     "shell.execute_reply.started": "2025-08-20T03:18:18.223267Z"
    }
   },
   "outputs": [
    {
     "data": {
      "text/plain": [
       "'linux'"
      ]
     },
     "execution_count": 3,
     "metadata": {},
     "output_type": "execute_result"
    }
   ],
   "source": [
    "current_os = platform.system().lower() # Will be used to label certain files\n",
    "# and folders\n",
    "if current_os == 'darwin':\n",
    "    current_os = 'osx' # Will be more intuitive for many users \n",
    "    # than 'darwin'\n",
    "current_os"
   ]
  },
  {
   "cell_type": "markdown",
   "id": "ab803fc5-f3ab-4b9d-b218-8bc000eff3d3",
   "metadata": {},
   "source": [
    "Specifying the names of the Python and C++ binaries:"
   ]
  },
  {
   "cell_type": "code",
   "execution_count": 4,
   "id": "665c46e5-192c-48f2-b45e-9b3790e76055",
   "metadata": {
    "execution": {
     "iopub.execute_input": "2025-08-20T03:18:18.230512Z",
     "iopub.status.busy": "2025-08-20T03:18:18.230393Z",
     "iopub.status.idle": "2025-08-20T03:18:18.232466Z",
     "shell.execute_reply": "2025-08-20T03:18:18.232128Z",
     "shell.execute_reply.started": "2025-08-20T03:18:18.230502Z"
    }
   },
   "outputs": [],
   "source": [
    "if current_os == 'windows':\n",
    "    python_binary = 'tttb_py_complement.exe'\n",
    "    cpp_binary = 'tttb.exe'\n",
    "else:\n",
    "    python_binary = 'tttb_py_complement'\n",
    "    cpp_binary = 'tttb'"
   ]
  },
  {
   "cell_type": "code",
   "execution_count": 5,
   "id": "4e23078a-46dd-4e6d-bd4a-e5643299a945",
   "metadata": {
    "execution": {
     "iopub.execute_input": "2025-08-20T03:18:18.233027Z",
     "iopub.status.busy": "2025-08-20T03:18:18.232796Z",
     "iopub.status.idle": "2025-08-20T03:18:18.235161Z",
     "shell.execute_reply": "2025-08-20T03:18:18.234927Z",
     "shell.execute_reply.started": "2025-08-20T03:18:18.233012Z"
    }
   },
   "outputs": [
    {
     "data": {
      "text/plain": [
       "('tttb_py_complement', 'tttb')"
      ]
     },
     "execution_count": 5,
     "metadata": {},
     "output_type": "execute_result"
    }
   ],
   "source": [
    "python_binary, cpp_binary"
   ]
  },
  {
   "cell_type": "code",
   "execution_count": 6,
   "id": "2b5cdfdc-8ef0-44f8-ba02-9c841bfc1964",
   "metadata": {
    "execution": {
     "iopub.execute_input": "2025-08-20T03:18:18.235608Z",
     "iopub.status.busy": "2025-08-20T03:18:18.235430Z",
     "iopub.status.idle": "2025-08-20T03:18:18.237599Z",
     "shell.execute_reply": "2025-08-20T03:18:18.237369Z",
     "shell.execute_reply.started": "2025-08-20T03:18:18.235598Z"
    }
   },
   "outputs": [
    {
     "data": {
      "text/plain": [
       "'../cpp_tttb_linux_release/'"
      ]
     },
     "execution_count": 6,
     "metadata": {},
     "output_type": "execute_result"
    }
   ],
   "source": [
    "release_folder = f'../cpp_tttb_{current_os}_release/' \n",
    "# rf = 'release folder'\n",
    "release_folder"
   ]
  },
  {
   "cell_type": "code",
   "execution_count": 7,
   "id": "399c8def-cef1-4beb-b49a-a5a6feb6c62d",
   "metadata": {
    "execution": {
     "iopub.execute_input": "2025-08-20T03:18:18.237960Z",
     "iopub.status.busy": "2025-08-20T03:18:18.237868Z",
     "iopub.status.idle": "2025-08-20T03:18:18.332083Z",
     "shell.execute_reply": "2025-08-20T03:18:18.331677Z",
     "shell.execute_reply.started": "2025-08-20T03:18:18.237951Z"
    }
   },
   "outputs": [],
   "source": [
    "if release_folder.replace('../', '').replace('/', '') in os.listdir('../'):\n",
    "    # NOTE: this will remove the existing folder (which will allow us to\n",
    "    # more easily recreate a clean copy).\n",
    "    shutil.rmtree(release_folder) # Based on datainsight's StackOverflow\n",
    "    # answer at https://stackoverflow.com/a/70075600/13097194 \n",
    "os.mkdir(release_folder)\n",
    "\n",
    "# Creating relevant directories:\n",
    "\n",
    "os.mkdir(release_folder + 'Files/')\n",
    "os.mkdir(release_folder + 'build/')\n",
    "os.mkdir(release_folder + 'Files/Multiplayer/')\n",
    "os.mkdir(release_folder + 'Files/MP_Test_Result_Files_To_Combine/')\n",
    "os.mkdir(release_folder + 'Files/MP_Word_Result_Files_To_Combine/')\n",
    "os.mkdir(release_folder + 'Visualizations/')\n",
    "os.mkdir(release_folder + 'Visualizations/Multiplayer')\n",
    "os.mkdir(release_folder + 'Visualizations/Single_Player')"
   ]
  },
  {
   "cell_type": "markdown",
   "id": "55bbb91c-ab51-4091-b99d-7aae068d0094",
   "metadata": {},
   "source": [
    "Making sure that the headers in our 'headers only' file match the ones I've been using in my own gameplay sessions: (sometimes I only update the latter rather than the former.)"
   ]
  },
  {
   "cell_type": "markdown",
   "id": "fb471417-ee97-4dbd-8cf1-cdfc60d99f8b",
   "metadata": {},
   "source": [
    "Copying new versions of our word result, test result, and Bible files over to the Files folder:"
   ]
  },
  {
   "cell_type": "code",
   "execution_count": 8,
   "id": "580dfea6-98ff-48aa-8cdb-5e60be973b1b",
   "metadata": {
    "execution": {
     "iopub.execute_input": "2025-08-20T03:18:18.332534Z",
     "iopub.status.busy": "2025-08-20T03:18:18.332428Z",
     "iopub.status.idle": "2025-08-20T03:18:18.349482Z",
     "shell.execute_reply": "2025-08-20T03:18:18.348938Z",
     "shell.execute_reply.started": "2025-08-20T03:18:18.332519Z"
    }
   },
   "outputs": [],
   "source": [
    "if list(pd.read_csv(\n",
    "'Files/word_results_headers_only.csv').columns) != list(\n",
    "pd.read_csv('Files/word_results.csv').columns):\n",
    "    raise ValueError (\"Columns don't match!\")"
   ]
  },
  {
   "cell_type": "code",
   "execution_count": 9,
   "id": "e2e59ba5-b188-42c8-84d7-f61495acc042",
   "metadata": {
    "execution": {
     "iopub.execute_input": "2025-08-20T03:18:18.350259Z",
     "iopub.status.busy": "2025-08-20T03:18:18.350123Z",
     "iopub.status.idle": "2025-08-20T03:18:18.358561Z",
     "shell.execute_reply": "2025-08-20T03:18:18.358284Z",
     "shell.execute_reply.started": "2025-08-20T03:18:18.350229Z"
    }
   },
   "outputs": [],
   "source": [
    "if list(pd.read_csv(\n",
    "    'Files/test_results_headers_only.csv').columns) != list(\n",
    "pd.read_csv('Files/test_results.csv').columns):\n",
    "    raise ValueError (\"Columns don't match!\")"
   ]
  },
  {
   "cell_type": "code",
   "execution_count": 10,
   "id": "2b07bef9-4c62-403a-8eea-06a91737d54c",
   "metadata": {
    "execution": {
     "iopub.execute_input": "2025-08-20T03:18:18.359049Z",
     "iopub.status.busy": "2025-08-20T03:18:18.358904Z",
     "iopub.status.idle": "2025-08-20T03:18:18.362348Z",
     "shell.execute_reply": "2025-08-20T03:18:18.362048Z",
     "shell.execute_reply.started": "2025-08-20T03:18:18.359038Z"
    }
   },
   "outputs": [],
   "source": [
    "if list(pd.read_csv(\n",
    "    'Files/game_config_headers_only.csv').columns) != list(\n",
    "pd.read_csv('Files/game_config.csv').columns):\n",
    "    raise ValueError (\"Columns don't match!\")"
   ]
  },
  {
   "cell_type": "code",
   "execution_count": 11,
   "id": "b002e909-367c-4775-bd82-fa0dacb67995",
   "metadata": {
    "execution": {
     "iopub.execute_input": "2025-08-20T03:18:18.362738Z",
     "iopub.status.busy": "2025-08-20T03:18:18.362629Z",
     "iopub.status.idle": "2025-08-20T03:18:18.367541Z",
     "shell.execute_reply": "2025-08-20T03:18:18.367289Z",
     "shell.execute_reply.started": "2025-08-20T03:18:18.362728Z"
    }
   },
   "outputs": [
    {
     "data": {
      "text/plain": [
       "'../cpp_tttb_linux_release/Files/CPDB_for_TTTB.csv'"
      ]
     },
     "execution_count": 11,
     "metadata": {},
     "output_type": "execute_result"
    }
   ],
   "source": [
    "shutil.copy('Files/word_results_headers_only.csv',\n",
    "            release_folder+'Files/word_results.csv')\n",
    "shutil.copy('Files/game_config_headers_only.csv',\n",
    "            release_folder+'Files/game_config.csv')\n",
    "shutil.copy('Files/test_results_headers_only.csv',\n",
    "            release_folder+'Files/test_results.csv')\n",
    "shutil.copy('Catholic_Public_Domain_Bible/CPDB_for_TTTB.csv',\n",
    "            release_folder+'Files/CPDB_for_TTTB.csv')"
   ]
  },
  {
   "cell_type": "markdown",
   "id": "29e5b380-388b-46f7-a2f3-9b85ae9a6835",
   "metadata": {},
   "source": [
    "Copying TTTB C++ and Python binaries, along with supporting files for Python binary, to the release folder:"
   ]
  },
  {
   "cell_type": "code",
   "execution_count": 12,
   "id": "762605c2-b463-4ddb-a1f2-aa11ff00f64c",
   "metadata": {
    "execution": {
     "iopub.execute_input": "2025-08-20T03:18:18.368563Z",
     "iopub.status.busy": "2025-08-20T03:18:18.368370Z",
     "iopub.status.idle": "2025-08-20T03:18:18.679690Z",
     "shell.execute_reply": "2025-08-20T03:18:18.679411Z",
     "shell.execute_reply.started": "2025-08-20T03:18:18.368552Z"
    }
   },
   "outputs": [
    {
     "data": {
      "text/plain": [
       "'../cpp_tttb_linux_release/build/_internal'"
      ]
     },
     "execution_count": 12,
     "metadata": {},
     "output_type": "execute_result"
    }
   ],
   "source": [
    "shutil.copy(f'build/{cpp_binary}',\n",
    "            release_folder+f'build/{cpp_binary}')\n",
    "shutil.copy(f'build/{python_binary}',\n",
    "            release_folder+f'build/{python_binary}')\n",
    "# For details on shutil.copytree, see \n",
    "# https://docs.python.org/3/library/shutil.html\n",
    "shutil.copytree('build/_internal', release_folder+'build/_internal')"
   ]
  },
  {
   "cell_type": "markdown",
   "id": "a15ca8bf-d6e6-46ac-b97d-df4c3f1df97a",
   "metadata": {
    "execution": {
     "iopub.execute_input": "2025-08-20T03:18:18.680160Z",
     "iopub.status.busy": "2025-08-20T03:18:18.680044Z",
     "iopub.status.idle": "2025-08-20T03:18:18.682555Z",
     "shell.execute_reply": "2025-08-20T03:18:18.682182Z",
     "shell.execute_reply.started": "2025-08-20T03:18:18.680149Z"
    }
   },
   "source": [
    "Copying Markdown and PDF versions of Readme over to release folder:"
   ]
  },
  {
   "cell_type": "code",
   "execution_count": 16,
   "id": "d7f9523a-242b-45a4-8596-5f327a09abc2",
   "metadata": {
    "execution": {
     "iopub.execute_input": "2025-08-20T03:18:33.552655Z",
     "iopub.status.busy": "2025-08-20T03:18:33.552299Z",
     "iopub.status.idle": "2025-08-20T03:18:33.555157Z",
     "shell.execute_reply": "2025-08-20T03:18:33.554873Z",
     "shell.execute_reply.started": "2025-08-20T03:18:33.552638Z"
    }
   },
   "outputs": [
    {
     "data": {
      "text/plain": [
       "'../cpp_tttb_linux_release/README.pdf'"
      ]
     },
     "execution_count": 16,
     "metadata": {},
     "output_type": "execute_result"
    }
   ],
   "source": [
    "shutil.copy('README.md',\n",
    "            release_folder+'README.md')\n",
    "shutil.copy('README.pdf',\n",
    "            release_folder+'README.pdf')"
   ]
  },
  {
   "cell_type": "code",
   "execution_count": null,
   "id": "f91c16b1-8243-4483-91b3-34d33f0648f0",
   "metadata": {
    "execution": {
     "iopub.status.busy": "2025-08-20T03:18:18.683325Z",
     "iopub.status.idle": "2025-08-20T03:18:18.683439Z",
     "shell.execute_reply": "2025-08-20T03:18:18.683387Z",
     "shell.execute_reply.started": "2025-08-20T03:18:18.683382Z"
    }
   },
   "outputs": [],
   "source": [
    "print(f\"Clean copy of TTTB can now be found at:\\n{release_folder}\")"
   ]
  }
 ],
 "metadata": {
  "kernelspec": {
   "display_name": "Python 3 (ipykernel)",
   "language": "python",
   "name": "python3"
  },
  "language_info": {
   "codemirror_mode": {
    "name": "ipython",
    "version": 3
   },
   "file_extension": ".py",
   "mimetype": "text/x-python",
   "name": "python",
   "nbconvert_exporter": "python",
   "pygments_lexer": "ipython3",
   "version": "3.12.6"
  }
 },
 "nbformat": 4,
 "nbformat_minor": 5
}
