{
 "cells": [
  {
   "cell_type": "markdown",
   "id": "716993a5-29a9-4741-9c0f-9db6fd602ac5",
   "metadata": {},
   "source": [
    "# Script for creating folders that can store Linux, Windows, and Mac TTTB releases\n",
    "\n",
    "Using this script makes it easier to quickly and accurately copy the files needed for a TTTB release into a folder that can then get zipped and uploaded to itch.io.\n",
    "\n",
    "By Ken Burchfiel\n",
    "\n",
    "Released under the MIT License\n",
    "\n",
    "(Note: Before running this code, make sure that the latest copy of your Pyinstaller-based tttb_py_complement executable, along with its '_internal' folder, have been moved from build/dist/tttb_py_complement to build/. You can automate this process using the code in pyinstaller_commands.txt, but these will need to be updated to match your own computer's directory layout (as will this file)."
   ]
  },
  {
   "cell_type": "code",
   "execution_count": 1,
   "id": "820bc0f3-d090-4939-87d5-53d64b7752fb",
   "metadata": {
    "execution": {
     "iopub.execute_input": "2025-08-26T02:36:02.572664Z",
     "iopub.status.busy": "2025-08-26T02:36:02.572558Z",
     "iopub.status.idle": "2025-08-26T02:36:02.771548Z",
     "shell.execute_reply": "2025-08-26T02:36:02.771165Z",
     "shell.execute_reply.started": "2025-08-26T02:36:02.572652Z"
    }
   },
   "outputs": [],
   "source": [
    "import os\n",
    "import shutil\n",
    "import platform\n",
    "import pandas as pd\n",
    "import subprocess"
   ]
  },
  {
   "cell_type": "code",
   "execution_count": 2,
   "id": "e2cadb49-493e-48e5-af05-a3ffe3e53735",
   "metadata": {
    "execution": {
     "iopub.execute_input": "2025-08-26T02:36:02.772701Z",
     "iopub.status.busy": "2025-08-26T02:36:02.772259Z",
     "iopub.status.idle": "2025-08-26T02:36:02.776147Z",
     "shell.execute_reply": "2025-08-26T02:36:02.775913Z",
     "shell.execute_reply.started": "2025-08-26T02:36:02.772686Z"
    }
   },
   "outputs": [
    {
     "data": {
      "text/plain": [
       "'linux'"
      ]
     },
     "execution_count": 2,
     "metadata": {},
     "output_type": "execute_result"
    }
   ],
   "source": [
    "current_os = platform.system().lower() # Will be used to label certain files\n",
    "# and folders\n",
    "if current_os == 'darwin':\n",
    "    current_os = 'osx' # Will be more intuitive for many users \n",
    "    # than 'darwin'\n",
    "current_os"
   ]
  },
  {
   "cell_type": "code",
   "execution_count": 3,
   "id": "4d0df4b8-5798-42b3-be03-4c0388cc3f38",
   "metadata": {
    "execution": {
     "iopub.execute_input": "2025-08-26T02:36:02.776613Z",
     "iopub.status.busy": "2025-08-26T02:36:02.776512Z",
     "iopub.status.idle": "2025-08-26T02:36:02.784432Z",
     "shell.execute_reply": "2025-08-26T02:36:02.784157Z",
     "shell.execute_reply.started": "2025-08-26T02:36:02.776604Z"
    }
   },
   "outputs": [
    {
     "data": {
      "text/plain": [
       "'../cpp_tttb_linux_release/'"
      ]
     },
     "execution_count": 3,
     "metadata": {},
     "output_type": "execute_result"
    }
   ],
   "source": [
    "release_folder = f'../cpp_tttb_{current_os}_release/' \n",
    "# rf = 'release folder'\n",
    "release_folder"
   ]
  },
  {
   "cell_type": "code",
   "execution_count": 4,
   "id": "51861f10-afe1-4df5-bc43-33e3d10e7575",
   "metadata": {
    "execution": {
     "iopub.execute_input": "2025-08-26T02:36:02.784858Z",
     "iopub.status.busy": "2025-08-26T02:36:02.784760Z",
     "iopub.status.idle": "2025-08-26T02:36:02.788443Z",
     "shell.execute_reply": "2025-08-26T02:36:02.788181Z",
     "shell.execute_reply.started": "2025-08-26T02:36:02.784849Z"
    }
   },
   "outputs": [
    {
     "data": {
      "text/plain": [
       "True"
      ]
     },
     "execution_count": 4,
     "metadata": {},
     "output_type": "execute_result"
    }
   ],
   "source": [
    "# For documentation on the following code,\n",
    "# see build/tttb_py_complement.ipynb.\n",
    "\n",
    "notebook_exec = False\n",
    "try:\n",
    "    get_ipython()\n",
    "    notebook_exec = True # Script is running within a notebook\n",
    "except:\n",
    "    pass\n",
    "\n",
    "notebook_exec\n",
    "    "
   ]
  },
  {
   "cell_type": "code",
   "execution_count": 5,
   "id": "8d1061d6-a549-44bc-be46-eec5b5c856de",
   "metadata": {
    "execution": {
     "iopub.execute_input": "2025-08-26T02:36:02.788916Z",
     "iopub.status.busy": "2025-08-26T02:36:02.788805Z",
     "iopub.status.idle": "2025-08-26T02:36:02.793342Z",
     "shell.execute_reply": "2025-08-26T02:36:02.793070Z",
     "shell.execute_reply.started": "2025-08-26T02:36:02.788907Z"
    }
   },
   "outputs": [
    {
     "data": {
      "text/plain": [
       "('both', True, True)"
      ]
     },
     "execution_count": 5,
     "metadata": {},
     "output_type": "execute_result"
    }
   ],
   "source": [
    "if notebook_exec == False:\n",
    "    import argparse\n",
    "    parser = argparse.ArgumentParser()\n",
    "    # The items_to_compile argument specifies which source code files,\n",
    "    # if any, you wish to compile into binaries. Enter 'both'\n",
    "    # to compile both the tttb.cpp and tttb_py_complement files;\n",
    "    # 'cpp' to compile only the tttb.cpp file; 'py' to compile\n",
    "    # only the tttb_py_complement.py file; and 'neither' to \n",
    "    # skip all compilation processes (which you might want to select\n",
    "    # if you've already compiled the latest versions.)\n",
    "    \n",
    "    parser.add_argument(\"files_to_compile\", default='neither')\n",
    "    args = parser.parse_args()\n",
    "    files_to_compile = args.files_to_compile\n",
    "else:\n",
    "    files_to_compile = 'both'\n",
    "\n",
    "# Determining, based on the argument passed to files_to_compile,\n",
    "# which source code files to compile:\n",
    "compile_cpp = False\n",
    "compile_py = False\n",
    "\n",
    "if files_to_compile in ['both', 'cpp']:\n",
    "    compile_cpp = True\n",
    "if files_to_compile in ['both', 'py']:\n",
    "    compile_py = True\n",
    "\n",
    "files_to_compile, compile_cpp, compile_py"
   ]
  },
  {
   "cell_type": "markdown",
   "id": "7ded7d2e-42ba-456d-a60d-6b530e3a56f5",
   "metadata": {},
   "source": [
    "Specifying the names of the Python and C++ binaries:"
   ]
  },
  {
   "cell_type": "code",
   "execution_count": 6,
   "id": "665c46e5-192c-48f2-b45e-9b3790e76055",
   "metadata": {
    "execution": {
     "iopub.execute_input": "2025-08-26T02:36:02.793794Z",
     "iopub.status.busy": "2025-08-26T02:36:02.793659Z",
     "iopub.status.idle": "2025-08-26T02:36:02.797145Z",
     "shell.execute_reply": "2025-08-26T02:36:02.796860Z",
     "shell.execute_reply.started": "2025-08-26T02:36:02.793784Z"
    }
   },
   "outputs": [],
   "source": [
    "if current_os == 'windows':\n",
    "    python_binary = 'tttb_py_complement.exe'\n",
    "    cpp_binary = 'tttb.exe'\n",
    "else:\n",
    "    python_binary = 'tttb_py_complement'\n",
    "    cpp_binary = 'tttb'"
   ]
  },
  {
   "cell_type": "code",
   "execution_count": 7,
   "id": "4e23078a-46dd-4e6d-bd4a-e5643299a945",
   "metadata": {
    "execution": {
     "iopub.execute_input": "2025-08-26T02:36:02.797608Z",
     "iopub.status.busy": "2025-08-26T02:36:02.797464Z",
     "iopub.status.idle": "2025-08-26T02:36:02.800564Z",
     "shell.execute_reply": "2025-08-26T02:36:02.800354Z",
     "shell.execute_reply.started": "2025-08-26T02:36:02.797598Z"
    }
   },
   "outputs": [
    {
     "data": {
      "text/plain": [
       "('tttb_py_complement', 'tttb')"
      ]
     },
     "execution_count": 7,
     "metadata": {},
     "output_type": "execute_result"
    }
   ],
   "source": [
    "python_binary, cpp_binary"
   ]
  },
  {
   "cell_type": "code",
   "execution_count": 8,
   "id": "683c3dd2-00bc-4ba1-9778-d89dc22664f5",
   "metadata": {
    "execution": {
     "iopub.execute_input": "2025-08-26T02:36:02.801045Z",
     "iopub.status.busy": "2025-08-26T02:36:02.800841Z",
     "iopub.status.idle": "2025-08-26T02:36:02.803920Z",
     "shell.execute_reply": "2025-08-26T02:36:02.803689Z",
     "shell.execute_reply.started": "2025-08-26T02:36:02.801036Z"
    }
   },
   "outputs": [
    {
     "data": {
      "text/plain": [
       "'/home/kjb3/D1V1/Documents/!Dell64docs/Programming/CPP/cpp_tttb'"
      ]
     },
     "execution_count": 8,
     "metadata": {},
     "output_type": "execute_result"
    }
   ],
   "source": [
    "os.getcwd()"
   ]
  },
  {
   "cell_type": "markdown",
   "id": "b98d25b7-a6a6-49bd-8b29-a0b143046d7b",
   "metadata": {},
   "source": [
    "### Building our C++ and Python files (if requested by the caller):"
   ]
  },
  {
   "cell_type": "markdown",
   "id": "987d9647-db13-43be-9449-ad01bb89121e",
   "metadata": {},
   "source": [
    "Moving into the build subfolder (simply because this is where I'm used to excuting the following commands when running them within a terminal or command prompt):"
   ]
  },
  {
   "cell_type": "code",
   "execution_count": 9,
   "id": "db92a8fb-88a9-45e3-9933-cc2b998f7f5b",
   "metadata": {
    "execution": {
     "iopub.execute_input": "2025-08-26T02:36:02.804367Z",
     "iopub.status.busy": "2025-08-26T02:36:02.804257Z",
     "iopub.status.idle": "2025-08-26T02:36:02.806801Z",
     "shell.execute_reply": "2025-08-26T02:36:02.806538Z",
     "shell.execute_reply.started": "2025-08-26T02:36:02.804358Z"
    }
   },
   "outputs": [],
   "source": [
    "os.chdir('build')"
   ]
  },
  {
   "cell_type": "code",
   "execution_count": 10,
   "id": "e5f28a2c-2eb2-49d3-a383-c39d2f716f5d",
   "metadata": {
    "execution": {
     "iopub.execute_input": "2025-08-26T02:36:02.807186Z",
     "iopub.status.busy": "2025-08-26T02:36:02.807091Z",
     "iopub.status.idle": "2025-08-26T02:36:02.811370Z",
     "shell.execute_reply": "2025-08-26T02:36:02.811090Z",
     "shell.execute_reply.started": "2025-08-26T02:36:02.807177Z"
    }
   },
   "outputs": [
    {
     "data": {
      "text/plain": [
       "'/home/kjb3/D1V1/Documents/!Dell64docs/Programming/CPP/cpp_tttb/build'"
      ]
     },
     "execution_count": 10,
     "metadata": {},
     "output_type": "execute_result"
    }
   ],
   "source": [
    "os.getcwd()"
   ]
  },
  {
   "cell_type": "code",
   "execution_count": 11,
   "id": "1820126a-76d0-4aaf-8984-25bcafdb1c62",
   "metadata": {
    "execution": {
     "iopub.execute_input": "2025-08-26T02:36:02.812586Z",
     "iopub.status.busy": "2025-08-26T02:36:02.812349Z",
     "iopub.status.idle": "2025-08-26T02:36:10.284821Z",
     "shell.execute_reply": "2025-08-26T02:36:10.284525Z",
     "shell.execute_reply.started": "2025-08-26T02:36:02.812575Z"
    }
   },
   "outputs": [
    {
     "name": "stdout",
     "output_type": "stream",
     "text": [
      "Now compiling tttb.cpp.\n",
      "CompletedProcess(args='cmake ..', returncode=0, stdout=b'-- Configuring done (0.4s)\\n-- Generating done (0.0s)\\n-- Build files have been written to: /home/kjb3/D1V1/Documents/!Dell64docs/Programming/CPP/cpp_tttb/build\\n', stderr=b'\\x1b[0mBuilding CSV library using C++17\\x1b[0m\\n')\n",
      "CompletedProcess(args='cmake --build .', returncode=0, stdout=b'[ 33%] Built target cpp-terminal\\n[ 34%] \\x1b[32mBuilding CXX object /home/kjb3/D1V1/Documents/!Dell64docs/Programming/CPP/third_party_libraries/csv-parser_subdiroutput/include/internal/CMakeFiles/csv.dir/basic_csv_parser.cpp.o\\x1b[0m\\n[ 35%] \\x1b[32mBuilding CXX object /home/kjb3/D1V1/Documents/!Dell64docs/Programming/CPP/third_party_libraries/csv-parser_subdiroutput/include/internal/CMakeFiles/csv.dir/col_names.cpp.o\\x1b[0m\\n[ 35%] \\x1b[32mBuilding CXX object /home/kjb3/D1V1/Documents/!Dell64docs/Programming/CPP/third_party_libraries/csv-parser_subdiroutput/include/internal/CMakeFiles/csv.dir/csv_format.cpp.o\\x1b[0m\\n[ 36%] \\x1b[32mBuilding CXX object /home/kjb3/D1V1/Documents/!Dell64docs/Programming/CPP/third_party_libraries/csv-parser_subdiroutput/include/internal/CMakeFiles/csv.dir/csv_reader.cpp.o\\x1b[0m\\n[ 37%] \\x1b[32mBuilding CXX object /home/kjb3/D1V1/Documents/!Dell64docs/Programming/CPP/third_party_libraries/csv-parser_subdiroutput/include/internal/CMakeFiles/csv.dir/csv_reader_iterator.cpp.o\\x1b[0m\\n[ 38%] \\x1b[32mBuilding CXX object /home/kjb3/D1V1/Documents/!Dell64docs/Programming/CPP/third_party_libraries/csv-parser_subdiroutput/include/internal/CMakeFiles/csv.dir/csv_row.cpp.o\\x1b[0m\\n[ 40%] \\x1b[32mBuilding CXX object /home/kjb3/D1V1/Documents/!Dell64docs/Programming/CPP/third_party_libraries/csv-parser_subdiroutput/include/internal/CMakeFiles/csv.dir/csv_row_json.cpp.o\\x1b[0m\\n[ 41%] \\x1b[32mBuilding CXX object /home/kjb3/D1V1/Documents/!Dell64docs/Programming/CPP/third_party_libraries/csv-parser_subdiroutput/include/internal/CMakeFiles/csv.dir/csv_stat.cpp.o\\x1b[0m\\n[ 41%] \\x1b[32mBuilding CXX object /home/kjb3/D1V1/Documents/!Dell64docs/Programming/CPP/third_party_libraries/csv-parser_subdiroutput/include/internal/CMakeFiles/csv.dir/csv_utility.cpp.o\\x1b[0m\\n[ 42%] \\x1b[32m\\x1b[1mLinking CXX static library libcsv.a\\x1b[0m\\n[ 42%] Built target csv\\n[ 42%] \\x1b[32m\\x1b[1mLinking CXX executable tttb\\x1b[0m\\n[ 43%] Built target tttb\\n[ 44%] \\x1b[32mBuilding CXX object /home/kjb3/D1V1/Documents/!Dell64docs/Programming/CPP/third_party_libraries/csv-parser_subdiroutput/programs/CMakeFiles/csv_info.dir/csv_info.cpp.o\\x1b[0m\\n[ 45%] \\x1b[32m\\x1b[1mLinking CXX executable csv_info\\x1b[0m\\n[ 45%] Built target csv_info\\n[ 46%] \\x1b[32mBuilding CXX object /home/kjb3/D1V1/Documents/!Dell64docs/Programming/CPP/third_party_libraries/csv-parser_subdiroutput/programs/CMakeFiles/csv_stats.dir/csv_stats.cpp.o\\x1b[0m\\n[ 47%] \\x1b[32m\\x1b[1mLinking CXX executable csv_stats\\x1b[0m\\n[ 47%] Built target csv_stats\\n[ 48%] Built target file.test\\n[ 50%] Built target key.test\\n[ 51%] Built target screen.test\\n[ 53%] Built target events.test\\n[ 55%] Built target exception.test\\n[ 57%] Built target unicode.test\\n[ 60%] Built target options.test\\n[ 62%] Built target version.test\\n[ 63%] Built target Args\\n[ 65%] Built target args\\n[ 67%] Built target cin_cooked\\n[ 69%] Built target cin_raw\\n[ 70%] Built target colors\\n[ 71%] Built target cursor\\n[ 73%] Built target cout\\n[ 74%] Built target events\\n[ 76%] Built target keys\\n[ 77%] Built target kilo\\n[ 80%] Built target menu\\n[ 82%] Built target menu_window\\n[ 83%] Built target minimal\\n[ 85%] Built target prompt_immediate\\n[ 86%] Built target prompt_multiline\\n[ 88%] Built target prompt_not_immediate\\n[ 90%] Built target prompt_simple\\n[ 92%] Built target styles\\n[ 94%] Built target utf8\\n[ 96%] Built target signal\\n[ 98%] Built target attach_console\\n[100%] Built target attach_console_minimal\\n', stderr=b'')\n"
     ]
    }
   ],
   "source": [
    "if compile_cpp == True:\n",
    "    print(\"Now compiling tttb.cpp.\")\n",
    "    compile_cpp_output_1 = subprocess.run(\"cmake ..\", shell=True, \n",
    "                            capture_output = True, check=True)\n",
    "    print(compile_cpp_output_1)\n",
    "    compile_cpp_output_2 = subprocess.run(\"cmake --build .\", shell=True,\n",
    "                            capture_output = True, check=True)\n",
    "    print(compile_cpp_output_2)\n",
    "else:\n",
    "    print(\"Skipping the compilation process for tttb.cpp.\")"
   ]
  },
  {
   "cell_type": "code",
   "execution_count": 12,
   "id": "1dd7b1a7-23bf-4cd2-8d27-20bc0d4b2f28",
   "metadata": {
    "execution": {
     "iopub.execute_input": "2025-08-26T02:36:10.285272Z",
     "iopub.status.busy": "2025-08-26T02:36:10.285163Z",
     "iopub.status.idle": "2025-08-26T02:36:11.837164Z",
     "shell.execute_reply": "2025-08-26T02:36:11.836751Z",
     "shell.execute_reply.started": "2025-08-26T02:36:10.285262Z"
    }
   },
   "outputs": [
    {
     "name": "stdout",
     "output_type": "stream",
     "text": [
      "Now compiling tttb_py_complement.py.\n",
      "CompletedProcess(args='pyinstaller tttb_py_complement.py -y', returncode=0, stdout=b'', stderr=b\"233 INFO: PyInstaller: 6.14.2, contrib hooks: 2025.8\\n233 INFO: Python: 3.13.5 (conda)\\n234 INFO: Platform: Linux-6.8.0-78-generic-x86_64-with-glibc2.39\\n234 INFO: Python environment: /home/kjb3/miniforge3/envs/tttb_analysis\\n234 INFO: wrote /home/kjb3/D1V1/Documents/!Dell64docs/Programming/CPP/cpp_tttb/build/tttb_py_complement.spec\\n235 INFO: Module search paths (PYTHONPATH):\\n['/home/kjb3/miniforge3/envs/tttb_analysis/bin',\\n '/home/kjb3/miniforge3/envs/tttb_analysis/lib/python313.zip',\\n '/home/kjb3/miniforge3/envs/tttb_analysis/lib/python3.13',\\n '/home/kjb3/miniforge3/envs/tttb_analysis/lib/python3.13/lib-dynload',\\n '/home/kjb3/miniforge3/envs/tttb_analysis/lib/python3.13/site-packages',\\n '/home/kjb3/miniforge3/envs/tttb_analysis/lib/python3.13/site-packages/setuptools/_vendor',\\n '/home/kjb3/D1V1/Documents/!Dell64docs/Programming/CPP/cpp_tttb/build']\\n627 INFO: checking Analysis\\n684 INFO: checking PYZ\\n715 INFO: checking PKG\\n715 INFO: Bootloader /home/kjb3/miniforge3/envs/tttb_analysis/lib/python3.13/site-packages/PyInstaller/bootloader/Linux-64bit-intel/run\\n715 INFO: checking EXE\\n732 INFO: checking COLLECT\\n746 INFO: Removing dir /home/kjb3/D1V1/Documents/!Dell64docs/Programming/CPP/cpp_tttb/build/dist/tttb_py_complement\\n804 INFO: Building COLLECT COLLECT-00.toc\\n1008 INFO: Building COLLECT COLLECT-00.toc completed successfully.\\n1041 INFO: Build complete! The results are available in: /home/kjb3/D1V1/Documents/!Dell64docs/Programming/CPP/cpp_tttb/build/dist\\n\")\n"
     ]
    }
   ],
   "source": [
    "if compile_py == True:\n",
    "    print(\"Now compiling tttb_py_complement.py.\")\n",
    "    # The -y argument in the following call will allow any existing\n",
    "    # material within the output folder to get deleted and replaced.\n",
    "    compile_py_output = subprocess.run(\n",
    "        \"pyinstaller tttb_py_complement.py -y\", shell = True, \n",
    "        capture_output = True)\n",
    "    print(compile_py_output)\n",
    "    # Copying tttb_py_complement binary and its corresponding\n",
    "    # _internal folder into the build folder (where the C++ program expects\n",
    "    # to find it):\n",
    "    shutil.rmtree('_internal')\n",
    "    # Based on datainsight's StackOverflow\n",
    "        # answer at https://stackoverflow.com/a/70075600/13097194 \n",
    "    shutil.copytree(\n",
    "        'dist/tttb_py_complement/_internal', '_internal')\n",
    "    # Note that shutil.copy() will overwrite the existing copy of the file\n",
    "    # (if any) in the destination folder with the new copy; see\n",
    "    # https://docs.python.org/3/library/shutil.html#shutil.copy\n",
    "    # for details\n",
    "    shutil.copy(\n",
    "        f'dist/tttb_py_complement/{python_binary}', \n",
    "        f'{python_binary}')\n",
    "else:\n",
    "    print(\"Skipping the compilation process for tttb_py_complement.py.\")"
   ]
  },
  {
   "cell_type": "markdown",
   "id": "a1513230-4427-4bd7-965e-cf18321d4495",
   "metadata": {},
   "source": [
    "Moving back into our main folder:"
   ]
  },
  {
   "cell_type": "code",
   "execution_count": 13,
   "id": "9125a828-5c86-40a2-ae07-4ef68e8a2d04",
   "metadata": {
    "execution": {
     "iopub.execute_input": "2025-08-26T02:36:11.837728Z",
     "iopub.status.busy": "2025-08-26T02:36:11.837606Z",
     "iopub.status.idle": "2025-08-26T02:36:11.840563Z",
     "shell.execute_reply": "2025-08-26T02:36:11.840229Z",
     "shell.execute_reply.started": "2025-08-26T02:36:11.837719Z"
    }
   },
   "outputs": [
    {
     "data": {
      "text/plain": [
       "'/home/kjb3/D1V1/Documents/!Dell64docs/Programming/CPP/cpp_tttb'"
      ]
     },
     "execution_count": 13,
     "metadata": {},
     "output_type": "execute_result"
    }
   ],
   "source": [
    "os.chdir('..')\n",
    "os.getcwd()"
   ]
  },
  {
   "cell_type": "code",
   "execution_count": 14,
   "id": "399c8def-cef1-4beb-b49a-a5a6feb6c62d",
   "metadata": {
    "execution": {
     "iopub.execute_input": "2025-08-26T02:36:11.841112Z",
     "iopub.status.busy": "2025-08-26T02:36:11.840926Z",
     "iopub.status.idle": "2025-08-26T02:36:11.932612Z",
     "shell.execute_reply": "2025-08-26T02:36:11.932284Z",
     "shell.execute_reply.started": "2025-08-26T02:36:11.841103Z"
    }
   },
   "outputs": [],
   "source": [
    "if release_folder.replace('../', '').replace('/', '') in os.listdir('../'):\n",
    "    # NOTE: this will remove the existing folder (which will allow us to\n",
    "    # more easily recreate a clean copy).\n",
    "    shutil.rmtree(release_folder)\n",
    "os.mkdir(release_folder)\n",
    "\n",
    "# Creating relevant directories:\n",
    "\n",
    "os.mkdir(release_folder + 'Files/')\n",
    "os.mkdir(release_folder + 'build/')\n",
    "os.mkdir(release_folder + 'Files/Multiplayer/')\n",
    "os.mkdir(release_folder + 'Files/MP_Test_Result_Files_To_Combine/')\n",
    "os.mkdir(release_folder + 'Files/MP_Word_Result_Files_To_Combine/')\n",
    "os.mkdir(release_folder + 'Visualizations/')\n",
    "os.mkdir(release_folder + 'Visualizations/Multiplayer')\n",
    "os.mkdir(release_folder + 'Visualizations/Single_Player')"
   ]
  },
  {
   "cell_type": "markdown",
   "id": "55bbb91c-ab51-4091-b99d-7aae068d0094",
   "metadata": {},
   "source": [
    "Making sure that the headers in our 'headers only' file match the ones I've been using in my own gameplay sessions: (sometimes I only update the latter rather than the former.)"
   ]
  },
  {
   "cell_type": "markdown",
   "id": "fb471417-ee97-4dbd-8cf1-cdfc60d99f8b",
   "metadata": {},
   "source": [
    "Copying new versions of our word result, test result, and Bible files over to the Files folder:"
   ]
  },
  {
   "cell_type": "code",
   "execution_count": 15,
   "id": "580dfea6-98ff-48aa-8cdb-5e60be973b1b",
   "metadata": {
    "execution": {
     "iopub.execute_input": "2025-08-26T02:36:11.933151Z",
     "iopub.status.busy": "2025-08-26T02:36:11.932963Z",
     "iopub.status.idle": "2025-08-26T02:36:11.956421Z",
     "shell.execute_reply": "2025-08-26T02:36:11.956114Z",
     "shell.execute_reply.started": "2025-08-26T02:36:11.933141Z"
    }
   },
   "outputs": [],
   "source": [
    "if list(pd.read_csv(\n",
    "'Files/word_results_headers_only.csv').columns) != list(\n",
    "pd.read_csv('Files/word_results.csv').columns):\n",
    "    raise ValueError (\"Columns don't match!\")"
   ]
  },
  {
   "cell_type": "code",
   "execution_count": 16,
   "id": "e2e59ba5-b188-42c8-84d7-f61495acc042",
   "metadata": {
    "execution": {
     "iopub.execute_input": "2025-08-26T02:36:11.956873Z",
     "iopub.status.busy": "2025-08-26T02:36:11.956767Z",
     "iopub.status.idle": "2025-08-26T02:36:11.967654Z",
     "shell.execute_reply": "2025-08-26T02:36:11.967394Z",
     "shell.execute_reply.started": "2025-08-26T02:36:11.956863Z"
    }
   },
   "outputs": [],
   "source": [
    "if list(pd.read_csv(\n",
    "    'Files/test_results_headers_only.csv').columns) != list(\n",
    "pd.read_csv('Files/test_results.csv').columns):\n",
    "    raise ValueError (\"Columns don't match!\")"
   ]
  },
  {
   "cell_type": "code",
   "execution_count": 17,
   "id": "2b07bef9-4c62-403a-8eea-06a91737d54c",
   "metadata": {
    "execution": {
     "iopub.execute_input": "2025-08-26T02:36:11.968129Z",
     "iopub.status.busy": "2025-08-26T02:36:11.967989Z",
     "iopub.status.idle": "2025-08-26T02:36:11.971725Z",
     "shell.execute_reply": "2025-08-26T02:36:11.971448Z",
     "shell.execute_reply.started": "2025-08-26T02:36:11.968118Z"
    }
   },
   "outputs": [],
   "source": [
    "if list(pd.read_csv(\n",
    "    'Files/game_config_headers_only.csv').columns) != list(\n",
    "pd.read_csv('Files/game_config.csv').columns):\n",
    "    raise ValueError (\"Columns don't match!\")"
   ]
  },
  {
   "cell_type": "code",
   "execution_count": 18,
   "id": "b002e909-367c-4775-bd82-fa0dacb67995",
   "metadata": {
    "execution": {
     "iopub.execute_input": "2025-08-26T02:36:11.972237Z",
     "iopub.status.busy": "2025-08-26T02:36:11.972061Z",
     "iopub.status.idle": "2025-08-26T02:36:12.198646Z",
     "shell.execute_reply": "2025-08-26T02:36:12.198360Z",
     "shell.execute_reply.started": "2025-08-26T02:36:11.972226Z"
    }
   },
   "outputs": [
    {
     "data": {
      "text/plain": [
       "'../cpp_tttb_linux_release/README_download_link.txt'"
      ]
     },
     "execution_count": 18,
     "metadata": {},
     "output_type": "execute_result"
    }
   ],
   "source": [
    "shutil.copy('Files/word_results_headers_only.csv',\n",
    "            release_folder+'Files/word_results.csv')\n",
    "shutil.copy('Files/game_config_headers_only.csv',\n",
    "            release_folder+'Files/game_config.csv')\n",
    "shutil.copy('Files/test_results_headers_only.csv',\n",
    "            release_folder+'Files/test_results.csv')\n",
    "shutil.copy('Catholic_Public_Domain_Bible/CPDB_for_TTTB.csv',\n",
    "            release_folder+'Files/CPDB_for_TTTB.csv')\n",
    "shutil.copy('README_download_link.txt',release_folder + 'README_download_link.txt')"
   ]
  },
  {
   "cell_type": "markdown",
   "id": "29e5b380-388b-46f7-a2f3-9b85ae9a6835",
   "metadata": {},
   "source": [
    "Copying TTTB C++ and Python binaries, along with supporting files for Python binary, to the release folder:"
   ]
  },
  {
   "cell_type": "code",
   "execution_count": 19,
   "id": "762605c2-b463-4ddb-a1f2-aa11ff00f64c",
   "metadata": {
    "execution": {
     "iopub.execute_input": "2025-08-26T02:36:12.199116Z",
     "iopub.status.busy": "2025-08-26T02:36:12.199006Z",
     "iopub.status.idle": "2025-08-26T02:36:12.558054Z",
     "shell.execute_reply": "2025-08-26T02:36:12.557771Z",
     "shell.execute_reply.started": "2025-08-26T02:36:12.199105Z"
    }
   },
   "outputs": [
    {
     "data": {
      "text/plain": [
       "'../cpp_tttb_linux_release/build/_internal'"
      ]
     },
     "execution_count": 19,
     "metadata": {},
     "output_type": "execute_result"
    }
   ],
   "source": [
    "shutil.copy(f'build/{cpp_binary}',\n",
    "            release_folder+f'build/{cpp_binary}')\n",
    "shutil.copy(f'build/{python_binary}',\n",
    "            release_folder+f'build/{python_binary}')\n",
    "# For details on shutil.copytree, see \n",
    "# https://docs.python.org/3/library/shutil.html\n",
    "shutil.copytree('build/_internal', release_folder+'build/_internal')"
   ]
  },
  {
   "cell_type": "markdown",
   "id": "a15ca8bf-d6e6-46ac-b97d-df4c3f1df97a",
   "metadata": {
    "execution": {
     "iopub.execute_input": "2025-08-20T03:18:18.680160Z",
     "iopub.status.busy": "2025-08-20T03:18:18.680044Z",
     "iopub.status.idle": "2025-08-20T03:18:18.682555Z",
     "shell.execute_reply": "2025-08-20T03:18:18.682182Z",
     "shell.execute_reply.started": "2025-08-20T03:18:18.680149Z"
    }
   },
   "source": [
    "Copying Markdown and PDF versions of Readme over to release folder:\n",
    "\n",
    "(I commented out this option because I decided to share the Readme as a separate file instead. That way, I wouldn't have to create new zip files of release folders, each hundreds of megabytes in size, for distribution on itch.io just because I updated the game's instructions.)"
   ]
  },
  {
   "cell_type": "code",
   "execution_count": 20,
   "id": "d7f9523a-242b-45a4-8596-5f327a09abc2",
   "metadata": {
    "execution": {
     "iopub.execute_input": "2025-08-26T02:36:12.558577Z",
     "iopub.status.busy": "2025-08-26T02:36:12.558397Z",
     "iopub.status.idle": "2025-08-26T02:36:12.560175Z",
     "shell.execute_reply": "2025-08-26T02:36:12.559898Z",
     "shell.execute_reply.started": "2025-08-26T02:36:12.558567Z"
    }
   },
   "outputs": [],
   "source": [
    "# shutil.copy('README.md',\n",
    "#             release_folder+'README.md')\n",
    "# shutil.copy('README.pdf',\n",
    "#             release_folder+'README.pdf')"
   ]
  },
  {
   "cell_type": "code",
   "execution_count": 22,
   "id": "f91c16b1-8243-4483-91b3-34d33f0648f0",
   "metadata": {
    "execution": {
     "iopub.execute_input": "2025-08-26T02:36:37.726192Z",
     "iopub.status.busy": "2025-08-26T02:36:37.725818Z",
     "iopub.status.idle": "2025-08-26T02:36:37.729848Z",
     "shell.execute_reply": "2025-08-26T02:36:37.729361Z",
     "shell.execute_reply.started": "2025-08-26T02:36:37.726169Z"
    }
   },
   "outputs": [
    {
     "name": "stdout",
     "output_type": "stream",
     "text": [
      "Finished running the create_release_folder script. A Clean copy of TTTB can now be found at:\n",
      "../cpp_tttb_linux_release/\n"
     ]
    }
   ],
   "source": [
    "print(f\"Finished running the create_release_folder script. A \\\n",
    "Clean copy of TTTB can now be found at:\\n{release_folder}\")"
   ]
  }
 ],
 "metadata": {
  "kernelspec": {
   "display_name": "Python 3 (ipykernel)",
   "language": "python",
   "name": "python3"
  },
  "language_info": {
   "codemirror_mode": {
    "name": "ipython",
    "version": 3
   },
   "file_extension": ".py",
   "mimetype": "text/x-python",
   "name": "python",
   "nbconvert_exporter": "python",
   "pygments_lexer": "ipython3",
   "version": "3.12.6"
  }
 },
 "nbformat": 4,
 "nbformat_minor": 5
}
