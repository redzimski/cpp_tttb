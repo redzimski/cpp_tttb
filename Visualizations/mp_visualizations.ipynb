{
 "cells": [
  {
   "cell_type": "markdown",
   "id": "86bc8d52-ce91-4ac7-8af5-e935a3f45339",
   "metadata": {},
   "source": [
    "## Visualization script for multiplayer Type Through the Bible files\n",
    "\n",
    "By Ken Burchfiel\n",
    "\n",
    "Released under the MIT license\n",
    "\n",
    "Note: this script, though developed as a Jupyter Notebook to make development and testing easier, is meant to be called as a Python file within a terminal/command prompt with a multiplayer test results file as its sole argument. This function call may look as follows:\n",
    "\n",
    "`python mp_visualizations.py 20250706T220148_string_test_results.csv`\n",
    "\n",
    "(I plan to update my C++ code to automatically call this script following each multiplayer game, thus eliminating the need to run this step manually.)"
   ]
  },
  {
   "cell_type": "code",
   "execution_count": null,
   "id": "3247f372-c3ee-4db7-b2c8-547120bde13a",
   "metadata": {},
   "outputs": [],
   "source": [
    "import time\n",
    "start_time = time.time()\n",
    "import os\n",
    "import pandas as pd\n",
    "import numpy as np\n",
    "import plotly.express as px\n",
    "mp_results_folder = '../Files/Multiplayer/'\n",
    "# os.listdir(mp_results_folder)"
   ]
  },
  {
   "cell_type": "markdown",
   "id": "2c8d4309-0c97-4920-a0ad-bce172225d46",
   "metadata": {},
   "source": [
    "Adding code that will allow the caller to specify which multiplayer results file to analyze:\n",
    "\n",
    "(This file *must* end with \"test_results.csv\" in order for the code to work correctly.)\n",
    "\n",
    "Note: this cell will *not* work within a Jupyter notebook."
   ]
  },
  {
   "cell_type": "code",
   "execution_count": null,
   "id": "4e5fe657-032d-4439-a0e0-acbe966182f2",
   "metadata": {},
   "outputs": [],
   "source": [
    "# The following code was based on\n",
    "# https://docs.python.org/3/howto/argparse.html#argparse-tutorial\n",
    "# and # https://docs.python.org/3/library/argparse.html .\n",
    "import argparse\n",
    "parser = argparse.ArgumentParser()\n",
    "parser.add_argument(\"filename\")\n",
    "args = parser.parse_args()\n",
    "test_results_file = args.filename"
   ]
  },
  {
   "cell_type": "code",
   "execution_count": null,
   "id": "818f0c1d-0a8f-4ddf-a5c0-917ac2d50750",
   "metadata": {},
   "outputs": [],
   "source": [
    "# If you're running this code within a notebook, skip over the previous\n",
    "# cell and then uncomment and run the following line:\n",
    "# test_results_file = '20250706T220148_string_test_results.csv'\n",
    "test_results_name = test_results_file[0:-17] \n",
    "# Removes the 'test_results.csv' component from the file so that\n",
    "# it can be more easily repurposed for chart filenames\n",
    "test_results_name"
   ]
  },
  {
   "cell_type": "code",
   "execution_count": null,
   "id": "8e636264-b2de-4635-bc8f-0b2207e6754d",
   "metadata": {},
   "outputs": [],
   "source": [
    "df = pd.read_csv(mp_results_folder+test_results_file)\n",
    "# Replacing the tag columns with their actual meanings:\n",
    "df.rename(columns = {'Tag_1':'Round','Tag_2':'Test within round',\n",
    "                     'Tag_3':'Game test number'}, inplace = True)\n",
    "# Making sure that the results are stored in the order that they were\n",
    "# typed:\n",
    "df.sort_values('Game test number', inplace = True)\n",
    "\n",
    "# Adding a column that shows round and test combinations for each race:\n",
    "# (This can be used as an x axis value for our WPM-by-race graph.)\n",
    "df['Round_Test'] = df['Round'].astype('str') + '_' + df[\n",
    "'Test within round'].astype('str')\n",
    "# Adding another column that shows how many tests each player has completed\n",
    "# so far:\n",
    "# (cumcount starts at 0, so we'll need to add 1 to this value for it\n",
    "# to work. Also note that the DataFrame doesn't need to be sorted by \n",
    "# player beforehand in order for this code to work correctly.)\n",
    "df['Player test number'] = df.groupby(\n",
    "    'Player')['WPM'].transform('cumcount') + 1\n",
    "# Calculating cumulative WPM values:\n",
    "df['Cumulative WPM'] = (df.groupby('Player')['WPM'].transform(\n",
    "'cumsum')) / df['Player test number']\n",
    "\n",
    "df['Best Round_Test WPM'] = df.groupby(\n",
    "    'Round_Test')['WPM'].transform('max')\n",
    "df['Player had best WPM for this test'] = np.where(\n",
    "    df['WPM'] == df['Best Round_Test WPM'], 1, 0)\n",
    "\n",
    "df.tail()"
   ]
  },
  {
   "cell_type": "markdown",
   "id": "ee180336-ba5a-4389-84c7-7e7032dbbc7f",
   "metadata": {},
   "source": [
    "Creating a melted verison of this DataFrame that stores both cumulative and test-specific WPM values within the same column:\n",
    "\n",
    "(This will make it easier to produce a graph that uses different line dash types to differentiate between cumulative and test-specific WPM values.)"
   ]
  },
  {
   "cell_type": "code",
   "execution_count": null,
   "id": "9087d7fb-07a1-41fa-b314-62eb83c5dffe",
   "metadata": {},
   "outputs": [],
   "source": [
    "df_wpm_type_melt = df.melt(id_vars = ['Player', 'Round_Test', \n",
    "'Player test number'],\n",
    "value_vars = ['WPM', 'Cumulative WPM'],\n",
    "var_name = 'WPM Type',\n",
    "value_name = 'Words per minute').rename(\n",
    "    columns = {'Words per minute':'WPM'}) # This column couldn't be \n",
    "# initialized as WPM because a column with that name was already present \n",
    "# within df.\n",
    "df_wpm_type_melt['WPM Type'] = df_wpm_type_melt['WPM Type'].replace(\n",
    "{'WPM':'Test WPM'})\n",
    "\n",
    "df_wpm_type_melt"
   ]
  },
  {
   "cell_type": "code",
   "execution_count": null,
   "id": "00adc36d-aeee-4c93-8c5a-97b7ac6bd21d",
   "metadata": {},
   "outputs": [],
   "source": [
    "fig_wpm_by_player = px.line(df_wpm_type_melt, \n",
    "x = 'Player test number', y = 'WPM',\n",
    "        color = 'Player', line_dash = 'WPM Type',\n",
    "       title = 'WPM By Player and Test',\n",
    "        color_discrete_sequence = px.colors.qualitative.Alphabet)\n",
    "fig_wpm_by_player.write_html(\n",
    "    f'Multiplayer/{test_results_name}_Mean_WPM_By_Player_And_Test.html',\n",
    "    include_plotlyjs = 'cdn')\n",
    "# Note: 'Alphabet' is used here so that up to 26 distinct colors can be\n",
    "# shown within the chart (which will prove useful for multiplayer rounds\n",
    "# with larger player counts).\n",
    "# fig_wpm_by_player"
   ]
  },
  {
   "cell_type": "markdown",
   "id": "11500e23-b313-47a3-b540-32ac70f94f45",
   "metadata": {},
   "source": [
    "Calculating mean WPMs by player and round as well as overall WPMs:"
   ]
  },
  {
   "cell_type": "code",
   "execution_count": null,
   "id": "420f9e8a-c4e7-47ae-85ca-97106d16e676",
   "metadata": {},
   "outputs": [],
   "source": [
    "df_mean_wpm_by_player_and_round = df.pivot_table(\n",
    "index = ['Player', 'Round'], values = 'WPM', \n",
    "               aggfunc = 'mean').reset_index()\n",
    "\n",
    "# Adding overall WPMs for each player to the bottom of this DataFrame:\n",
    "\n",
    "df_mean_wpm_by_player = df.pivot_table(\n",
    "index = 'Player', values = 'WPM', \n",
    "               aggfunc = 'mean').reset_index()\n",
    "df_mean_wpm_by_player['Round'] = 'Overall'\n",
    "\n",
    "df_mean_wpm_by_player_and_round = pd.concat([\n",
    "    df_mean_wpm_by_player_and_round, df_mean_wpm_by_player]).reset_index(\n",
    "    drop=True)\n",
    "# Ensuring that all Round values are strings: (I found that, without\n",
    "# this update, the Overall rows would not appear within the figure\n",
    "# that we're about to create.)\n",
    "df_mean_wpm_by_player_and_round['Round'] = (\n",
    "    df_mean_wpm_by_player_and_round['Round'].astype('str'))\n",
    "df_mean_wpm_by_player_and_round"
   ]
  },
  {
   "cell_type": "code",
   "execution_count": null,
   "id": "7ccf8885-63cc-44f3-afb9-4143681fb8db",
   "metadata": {},
   "outputs": [],
   "source": [
    "fig_mean_wpm_by_player_and_round = px.bar(\n",
    "    df_mean_wpm_by_player_and_round, x = 'Round', \n",
    "       y = 'WPM', color = 'Player', barmode = 'group',\n",
    "    color_discrete_sequence = px.colors.qualitative.Alphabet,\n",
    "    title = 'Mean WPM by Player and Round',\n",
    "      text_auto = '.0f')\n",
    "fig_mean_wpm_by_player_and_round.write_html(\n",
    "    f'Multiplayer/{test_results_name}_Mean_WPM_By_Player_And_Round.html',\n",
    "    include_plotlyjs = 'cdn')\n",
    "# fig_mean_wpm_by_player_and_round"
   ]
  },
  {
   "cell_type": "code",
   "execution_count": null,
   "id": "2d38df23-c995-4225-8628-e92b7b16df93",
   "metadata": {},
   "outputs": [],
   "source": [
    "df_wins = df.pivot_table(index = 'Player', values = 'Player had best \\\n",
    "WPM for this test', aggfunc = 'sum').reset_index()\n",
    "df_wins.sort_values('Player had best WPM for this test', ascending = False,\n",
    "                   inplace = True)\n",
    "df_wins"
   ]
  },
  {
   "cell_type": "code",
   "execution_count": null,
   "id": "61f3473a-33de-4e6b-b109-d7a06ce4536a",
   "metadata": {},
   "outputs": [],
   "source": [
    "fig_wins = px.bar(df_wins, x = 'Player', \n",
    "       y = 'Player had best WPM for this test',\n",
    "      title = 'Number of Tests in Which Each Player \\\n",
    "Had the Highest WPM', text_auto = '.0f',\n",
    "                 color = 'Player', \n",
    "                 color_discrete_sequence=px.colors.qualitative.Alphabet).update_layout(\n",
    "yaxis_title = 'Wins')\n",
    "fig_wins.write_html(f'Multiplayer/{test_results_name}_\\\n",
    "wins_by_player.html', include_plotlyjs = 'cdn')\n",
    "# fig_wins"
   ]
  },
  {
   "cell_type": "code",
   "execution_count": null,
   "id": "048dcfbb-007d-4967-80a7-92f838d49c20",
   "metadata": {},
   "outputs": [],
   "source": [
    "df_highest_wpm = df.pivot_table(index = 'Player', values = 'WPM', \n",
    "                                aggfunc = 'max').reset_index()\n",
    "df_highest_wpm.sort_values('WPM', ascending = False, inplace = True)\n",
    "df_highest_wpm"
   ]
  },
  {
   "cell_type": "code",
   "execution_count": null,
   "id": "88fb8363-da15-4be2-a799-38570ee04070",
   "metadata": {},
   "outputs": [],
   "source": [
    "fig_highest_wpm = px.bar(df_highest_wpm, x = 'Player', \n",
    "       y = 'WPM',\n",
    "      title = 'Highest WPM by Player', text_auto = '.3f',\n",
    "                 color = 'Player', \n",
    "                 color_discrete_sequence = \n",
    "px.colors.qualitative.Alphabet)\n",
    "fig_highest_wpm.write_html(\n",
    "    f'Multiplayer/{test_results_name}_\\\n",
    "highest_wpm_by_player.html', include_plotlyjs = 'cdn')\n",
    "# fig_highest_wpm"
   ]
  },
  {
   "cell_type": "code",
   "execution_count": null,
   "id": "5171e062-8163-44f9-a6cf-9f27426e6436",
   "metadata": {},
   "outputs": [],
   "source": [
    "end_time = time.time()\n",
    "run_time = end_time - start_time\n",
    "print(f\"Finished calculating and visualizing multiplayer stats in \\\n",
    "{round(run_time, 3)} seconds.\")"
   ]
  }
 ],
 "metadata": {
  "kernelspec": {
   "display_name": "Python 3 (ipykernel)",
   "language": "python",
   "name": "python3"
  },
  "language_info": {
   "codemirror_mode": {
    "name": "ipython",
    "version": 3
   },
   "file_extension": ".py",
   "mimetype": "text/x-python",
   "name": "python",
   "nbconvert_exporter": "python",
   "pygments_lexer": "ipython3",
   "version": "3.13.5"
  }
 },
 "nbformat": 4,
 "nbformat_minor": 5
}
