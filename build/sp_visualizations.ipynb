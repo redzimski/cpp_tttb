{
 "cells": [
  {
   "cell_type": "markdown",
   "id": "97416c42-63e5-4cc5-b0ce-fe6064a58a2d",
   "metadata": {
    "execution": {
     "iopub.execute_input": "2025-07-16T01:29:37.894752Z",
     "iopub.status.busy": "2025-07-16T01:29:37.894150Z",
     "iopub.status.idle": "2025-07-16T01:29:37.901518Z",
     "shell.execute_reply": "2025-07-16T01:29:37.900838Z",
     "shell.execute_reply.started": "2025-07-16T01:29:37.894713Z"
    }
   },
   "source": [
    "## Visualization scripts for single-player Type Through the Bible files\n",
    "\n",
    "(Still very much a work in progress--many more analyses to come, including word-level ones and accuracy-focused graphs!)\n",
    "\n",
    "By Ken Burchfiel\n",
    "\n",
    "Released under the MIT License"
   ]
  },
  {
   "cell_type": "code",
   "execution_count": 1,
   "id": "8b12fbe6-dc39-49d9-bd46-c8b6d9319c6d",
   "metadata": {
    "execution": {
     "iopub.execute_input": "2025-07-22T05:37:13.529883Z",
     "iopub.status.busy": "2025-07-22T05:37:13.529781Z",
     "iopub.status.idle": "2025-07-22T05:37:13.852702Z",
     "shell.execute_reply": "2025-07-22T05:37:13.852303Z",
     "shell.execute_reply.started": "2025-07-22T05:37:13.529872Z"
    }
   },
   "outputs": [],
   "source": [
    "import time\n",
    "start_time = time.time()\n",
    "import pandas as pd # Polars could also be used in place of Pandas to \n",
    "# speed up some import/analysis processes--but, if there ends up being\n",
    "# a need for faster data transformation code, I would rather do it in \n",
    "# C++ (as a means of building up my practice with that language.)\n",
    "pd.set_option('display.max_columns', 1000)\n",
    "import plotly.express as px\n",
    "import numpy as np\n",
    "sp_visualizations_folder = '../Visualizations/Single_Player/'"
   ]
  },
  {
   "cell_type": "markdown",
   "id": "3c7d5c64-0b30-45d7-b677-9d3a84341172",
   "metadata": {},
   "source": [
    "## Analyzing test result file:"
   ]
  },
  {
   "cell_type": "code",
   "execution_count": 2,
   "id": "a325d0e3-2ccc-4a4e-ac0e-503193609ceb",
   "metadata": {
    "execution": {
     "iopub.execute_input": "2025-07-22T05:37:13.853269Z",
     "iopub.status.busy": "2025-07-22T05:37:13.853113Z",
     "iopub.status.idle": "2025-07-22T05:37:13.879045Z",
     "shell.execute_reply": "2025-07-22T05:37:13.878798Z",
     "shell.execute_reply.started": "2025-07-22T05:37:13.853257Z"
    }
   },
   "outputs": [
    {
     "data": {
      "text/html": [
       "<div>\n",
       "<style scoped>\n",
       "    .dataframe tbody tr th:only-of-type {\n",
       "        vertical-align: middle;\n",
       "    }\n",
       "\n",
       "    .dataframe tbody tr th {\n",
       "        vertical-align: top;\n",
       "    }\n",
       "\n",
       "    .dataframe thead th {\n",
       "        text-align: right;\n",
       "    }\n",
       "</style>\n",
       "<table border=\"1\" class=\"dataframe\">\n",
       "  <thead>\n",
       "    <tr style=\"text-align: right;\">\n",
       "      <th></th>\n",
       "      <th>Test number</th>\n",
       "      <th>Within_Session_Test_Number</th>\n",
       "      <th>Unix_Test_Start_Time</th>\n",
       "      <th>Local_Test_Start_Time</th>\n",
       "      <th>Unix_Test_End_Time</th>\n",
       "      <th>Local_Test_End_Time</th>\n",
       "      <th>Verse_ID</th>\n",
       "      <th>Verse_Code</th>\n",
       "      <th>Verse</th>\n",
       "      <th>Characters</th>\n",
       "      <th>WPM</th>\n",
       "      <th>Test_Seconds</th>\n",
       "      <th>Error_Rate</th>\n",
       "      <th>Error_and_Backspace_Rate</th>\n",
       "      <th>Marathon_Mode</th>\n",
       "      <th>Player</th>\n",
       "      <th>Tag_1</th>\n",
       "      <th>Tag_2</th>\n",
       "      <th>Tag_3</th>\n",
       "      <th>Notes</th>\n",
       "    </tr>\n",
       "  </thead>\n",
       "  <tbody>\n",
       "    <tr>\n",
       "      <th>0</th>\n",
       "      <td>1</td>\n",
       "      <td>NaN</td>\n",
       "      <td>1750909743</td>\n",
       "      <td>2025-06-25 23:49:03-04:00</td>\n",
       "      <td>1750909747</td>\n",
       "      <td>2025-06-25 23:49:07-04:00</td>\n",
       "      <td>1</td>\n",
       "      <td>Genesis_1:1</td>\n",
       "      <td>In the beginning, God created heaven and earth.</td>\n",
       "      <td>47</td>\n",
       "      <td>124.928204</td>\n",
       "      <td>4.514593</td>\n",
       "      <td>0.021277</td>\n",
       "      <td>0.042553</td>\n",
       "      <td>0</td>\n",
       "      <td>KJB3</td>\n",
       "      <td>Cherry_Red</td>\n",
       "      <td>NaN</td>\n",
       "      <td>NaN</td>\n",
       "      <td>NaN</td>\n",
       "    </tr>\n",
       "    <tr>\n",
       "      <th>1</th>\n",
       "      <td>2</td>\n",
       "      <td>NaN</td>\n",
       "      <td>1750910427</td>\n",
       "      <td>2025-06-26 00:00:27-04:00</td>\n",
       "      <td>1750910430</td>\n",
       "      <td>2025-06-26 00:00:30-04:00</td>\n",
       "      <td>1</td>\n",
       "      <td>Genesis_1:1</td>\n",
       "      <td>In the beginning, God created heaven and earth.</td>\n",
       "      <td>47</td>\n",
       "      <td>181.050428</td>\n",
       "      <td>3.115154</td>\n",
       "      <td>0.000000</td>\n",
       "      <td>0.000000</td>\n",
       "      <td>0</td>\n",
       "      <td>KJB3</td>\n",
       "      <td>Cherry_Red</td>\n",
       "      <td>NaN</td>\n",
       "      <td>NaN</td>\n",
       "      <td>NaN</td>\n",
       "    </tr>\n",
       "    <tr>\n",
       "      <th>2</th>\n",
       "      <td>3</td>\n",
       "      <td>NaN</td>\n",
       "      <td>1750910839</td>\n",
       "      <td>2025-06-26 00:07:19-04:00</td>\n",
       "      <td>1750910854</td>\n",
       "      <td>2025-06-26 00:07:34-04:00</td>\n",
       "      <td>2</td>\n",
       "      <td>Genesis_1:2</td>\n",
       "      <td>But the earth was empty and unoccupied, and da...</td>\n",
       "      <td>141</td>\n",
       "      <td>113.465015</td>\n",
       "      <td>14.912085</td>\n",
       "      <td>0.120567</td>\n",
       "      <td>0.205674</td>\n",
       "      <td>1</td>\n",
       "      <td>KJB3</td>\n",
       "      <td>Cherry_Red</td>\n",
       "      <td>NaN</td>\n",
       "      <td>NaN</td>\n",
       "      <td>NaN</td>\n",
       "    </tr>\n",
       "    <tr>\n",
       "      <th>3</th>\n",
       "      <td>4</td>\n",
       "      <td>NaN</td>\n",
       "      <td>1750910854</td>\n",
       "      <td>2025-06-26 00:07:34-04:00</td>\n",
       "      <td>1750910860</td>\n",
       "      <td>2025-06-26 00:07:40-04:00</td>\n",
       "      <td>3</td>\n",
       "      <td>Genesis_1:3</td>\n",
       "      <td>And God said, \"Let there be light.\" And light ...</td>\n",
       "      <td>53</td>\n",
       "      <td>110.773001</td>\n",
       "      <td>5.741471</td>\n",
       "      <td>0.018868</td>\n",
       "      <td>0.037736</td>\n",
       "      <td>1</td>\n",
       "      <td>KJB3</td>\n",
       "      <td>Cherry_Red</td>\n",
       "      <td>NaN</td>\n",
       "      <td>NaN</td>\n",
       "      <td>NaN</td>\n",
       "    </tr>\n",
       "    <tr>\n",
       "      <th>4</th>\n",
       "      <td>5</td>\n",
       "      <td>NaN</td>\n",
       "      <td>1750910860</td>\n",
       "      <td>2025-06-26 00:07:40-04:00</td>\n",
       "      <td>1750910869</td>\n",
       "      <td>2025-06-26 00:07:49-04:00</td>\n",
       "      <td>4</td>\n",
       "      <td>Genesis_1:4</td>\n",
       "      <td>And God saw the light, that it was good; and s...</td>\n",
       "      <td>89</td>\n",
       "      <td>116.464066</td>\n",
       "      <td>9.170210</td>\n",
       "      <td>0.078652</td>\n",
       "      <td>0.157303</td>\n",
       "      <td>1</td>\n",
       "      <td>KJB3</td>\n",
       "      <td>Cherry_Red</td>\n",
       "      <td>NaN</td>\n",
       "      <td>NaN</td>\n",
       "      <td>NaN</td>\n",
       "    </tr>\n",
       "    <tr>\n",
       "      <th>...</th>\n",
       "      <td>...</td>\n",
       "      <td>...</td>\n",
       "      <td>...</td>\n",
       "      <td>...</td>\n",
       "      <td>...</td>\n",
       "      <td>...</td>\n",
       "      <td>...</td>\n",
       "      <td>...</td>\n",
       "      <td>...</td>\n",
       "      <td>...</td>\n",
       "      <td>...</td>\n",
       "      <td>...</td>\n",
       "      <td>...</td>\n",
       "      <td>...</td>\n",
       "      <td>...</td>\n",
       "      <td>...</td>\n",
       "      <td>...</td>\n",
       "      <td>...</td>\n",
       "      <td>...</td>\n",
       "      <td>...</td>\n",
       "    </tr>\n",
       "    <tr>\n",
       "      <th>802</th>\n",
       "      <td>803</td>\n",
       "      <td>2.0</td>\n",
       "      <td>1753159022</td>\n",
       "      <td>2025-07-22 00:37:02-04:00</td>\n",
       "      <td>1753159030</td>\n",
       "      <td>2025-07-22 00:37:10-04:00</td>\n",
       "      <td>789</td>\n",
       "      <td>Genesis_28:16</td>\n",
       "      <td>And when Jacob had awakened from sleep, he sai...</td>\n",
       "      <td>107</td>\n",
       "      <td>148.629494</td>\n",
       "      <td>8.638931</td>\n",
       "      <td>0.000000</td>\n",
       "      <td>0.000000</td>\n",
       "      <td>0</td>\n",
       "      <td>KJB3</td>\n",
       "      <td>Cherry_Red</td>\n",
       "      <td>NaN</td>\n",
       "      <td>NaN</td>\n",
       "      <td>NaN</td>\n",
       "    </tr>\n",
       "    <tr>\n",
       "      <th>803</th>\n",
       "      <td>804</td>\n",
       "      <td>1.0</td>\n",
       "      <td>1753159814</td>\n",
       "      <td>2025-07-22 00:50:14-04:00</td>\n",
       "      <td>1753159826</td>\n",
       "      <td>2025-07-22 00:50:26-04:00</td>\n",
       "      <td>790</td>\n",
       "      <td>Genesis_28:17</td>\n",
       "      <td>And being terrified, he said: \"How terrible th...</td>\n",
       "      <td>130</td>\n",
       "      <td>134.531302</td>\n",
       "      <td>11.595814</td>\n",
       "      <td>0.030769</td>\n",
       "      <td>0.061538</td>\n",
       "      <td>0</td>\n",
       "      <td>KJB3</td>\n",
       "      <td>Cherry_Red</td>\n",
       "      <td>NaN</td>\n",
       "      <td>NaN</td>\n",
       "      <td>Testing_Notes_Function</td>\n",
       "    </tr>\n",
       "    <tr>\n",
       "      <th>804</th>\n",
       "      <td>805</td>\n",
       "      <td>2.0</td>\n",
       "      <td>1753159828</td>\n",
       "      <td>2025-07-22 00:50:28-04:00</td>\n",
       "      <td>1753159842</td>\n",
       "      <td>2025-07-22 00:50:42-04:00</td>\n",
       "      <td>791</td>\n",
       "      <td>Genesis_28:18</td>\n",
       "      <td>Therefore, Jacob, arising in the morning, took...</td>\n",
       "      <td>143</td>\n",
       "      <td>120.519824</td>\n",
       "      <td>14.238321</td>\n",
       "      <td>0.041958</td>\n",
       "      <td>0.083916</td>\n",
       "      <td>0</td>\n",
       "      <td>KJB3</td>\n",
       "      <td>Cherry_Red</td>\n",
       "      <td>NaN</td>\n",
       "      <td>NaN</td>\n",
       "      <td>Testing_Notes_Function</td>\n",
       "    </tr>\n",
       "    <tr>\n",
       "      <th>805</th>\n",
       "      <td>806</td>\n",
       "      <td>3.0</td>\n",
       "      <td>1753159872</td>\n",
       "      <td>2025-07-22 00:51:12-04:00</td>\n",
       "      <td>1753159881</td>\n",
       "      <td>2025-07-22 00:51:21-04:00</td>\n",
       "      <td>792</td>\n",
       "      <td>Genesis_28:19</td>\n",
       "      <td>And he called the name of the city, 'Bethel,' ...</td>\n",
       "      <td>74</td>\n",
       "      <td>107.805041</td>\n",
       "      <td>8.237092</td>\n",
       "      <td>0.067568</td>\n",
       "      <td>0.108108</td>\n",
       "      <td>0</td>\n",
       "      <td>KJB3</td>\n",
       "      <td>Cherry_Red</td>\n",
       "      <td>NaN</td>\n",
       "      <td>NaN</td>\n",
       "      <td>Testing_Notes_Function</td>\n",
       "    </tr>\n",
       "    <tr>\n",
       "      <th>806</th>\n",
       "      <td>807</td>\n",
       "      <td>1.0</td>\n",
       "      <td>1753160243</td>\n",
       "      <td>2025-07-22 00:57:23-04:00</td>\n",
       "      <td>1753160255</td>\n",
       "      <td>2025-07-22 00:57:35-04:00</td>\n",
       "      <td>793</td>\n",
       "      <td>Genesis_28:20</td>\n",
       "      <td>And then he made a vow, saying: \"If God will b...</td>\n",
       "      <td>157</td>\n",
       "      <td>161.714902</td>\n",
       "      <td>11.650132</td>\n",
       "      <td>0.000000</td>\n",
       "      <td>0.000000</td>\n",
       "      <td>0</td>\n",
       "      <td>KJB3</td>\n",
       "      <td>Cherry_Red</td>\n",
       "      <td>Home</td>\n",
       "      <td>NaN</td>\n",
       "      <td>NaN</td>\n",
       "    </tr>\n",
       "  </tbody>\n",
       "</table>\n",
       "<p>807 rows × 20 columns</p>\n",
       "</div>"
      ],
      "text/plain": [
       "     Test number  Within_Session_Test_Number  Unix_Test_Start_Time  \\\n",
       "0              1                         NaN            1750909743   \n",
       "1              2                         NaN            1750910427   \n",
       "2              3                         NaN            1750910839   \n",
       "3              4                         NaN            1750910854   \n",
       "4              5                         NaN            1750910860   \n",
       "..           ...                         ...                   ...   \n",
       "802          803                         2.0            1753159022   \n",
       "803          804                         1.0            1753159814   \n",
       "804          805                         2.0            1753159828   \n",
       "805          806                         3.0            1753159872   \n",
       "806          807                         1.0            1753160243   \n",
       "\n",
       "        Local_Test_Start_Time  Unix_Test_End_Time       Local_Test_End_Time  \\\n",
       "0   2025-06-25 23:49:03-04:00          1750909747 2025-06-25 23:49:07-04:00   \n",
       "1   2025-06-26 00:00:27-04:00          1750910430 2025-06-26 00:00:30-04:00   \n",
       "2   2025-06-26 00:07:19-04:00          1750910854 2025-06-26 00:07:34-04:00   \n",
       "3   2025-06-26 00:07:34-04:00          1750910860 2025-06-26 00:07:40-04:00   \n",
       "4   2025-06-26 00:07:40-04:00          1750910869 2025-06-26 00:07:49-04:00   \n",
       "..                        ...                 ...                       ...   \n",
       "802 2025-07-22 00:37:02-04:00          1753159030 2025-07-22 00:37:10-04:00   \n",
       "803 2025-07-22 00:50:14-04:00          1753159826 2025-07-22 00:50:26-04:00   \n",
       "804 2025-07-22 00:50:28-04:00          1753159842 2025-07-22 00:50:42-04:00   \n",
       "805 2025-07-22 00:51:12-04:00          1753159881 2025-07-22 00:51:21-04:00   \n",
       "806 2025-07-22 00:57:23-04:00          1753160255 2025-07-22 00:57:35-04:00   \n",
       "\n",
       "     Verse_ID     Verse_Code  \\\n",
       "0           1    Genesis_1:1   \n",
       "1           1    Genesis_1:1   \n",
       "2           2    Genesis_1:2   \n",
       "3           3    Genesis_1:3   \n",
       "4           4    Genesis_1:4   \n",
       "..        ...            ...   \n",
       "802       789  Genesis_28:16   \n",
       "803       790  Genesis_28:17   \n",
       "804       791  Genesis_28:18   \n",
       "805       792  Genesis_28:19   \n",
       "806       793  Genesis_28:20   \n",
       "\n",
       "                                                 Verse  Characters  \\\n",
       "0      In the beginning, God created heaven and earth.          47   \n",
       "1      In the beginning, God created heaven and earth.          47   \n",
       "2    But the earth was empty and unoccupied, and da...         141   \n",
       "3    And God said, \"Let there be light.\" And light ...          53   \n",
       "4    And God saw the light, that it was good; and s...          89   \n",
       "..                                                 ...         ...   \n",
       "802  And when Jacob had awakened from sleep, he sai...         107   \n",
       "803  And being terrified, he said: \"How terrible th...         130   \n",
       "804  Therefore, Jacob, arising in the morning, took...         143   \n",
       "805  And he called the name of the city, 'Bethel,' ...          74   \n",
       "806  And then he made a vow, saying: \"If God will b...         157   \n",
       "\n",
       "            WPM  Test_Seconds  Error_Rate  Error_and_Backspace_Rate  \\\n",
       "0    124.928204      4.514593    0.021277                  0.042553   \n",
       "1    181.050428      3.115154    0.000000                  0.000000   \n",
       "2    113.465015     14.912085    0.120567                  0.205674   \n",
       "3    110.773001      5.741471    0.018868                  0.037736   \n",
       "4    116.464066      9.170210    0.078652                  0.157303   \n",
       "..          ...           ...         ...                       ...   \n",
       "802  148.629494      8.638931    0.000000                  0.000000   \n",
       "803  134.531302     11.595814    0.030769                  0.061538   \n",
       "804  120.519824     14.238321    0.041958                  0.083916   \n",
       "805  107.805041      8.237092    0.067568                  0.108108   \n",
       "806  161.714902     11.650132    0.000000                  0.000000   \n",
       "\n",
       "     Marathon_Mode Player       Tag_1 Tag_2  Tag_3                   Notes  \n",
       "0                0   KJB3  Cherry_Red   NaN    NaN                     NaN  \n",
       "1                0   KJB3  Cherry_Red   NaN    NaN                     NaN  \n",
       "2                1   KJB3  Cherry_Red   NaN    NaN                     NaN  \n",
       "3                1   KJB3  Cherry_Red   NaN    NaN                     NaN  \n",
       "4                1   KJB3  Cherry_Red   NaN    NaN                     NaN  \n",
       "..             ...    ...         ...   ...    ...                     ...  \n",
       "802              0   KJB3  Cherry_Red   NaN    NaN                     NaN  \n",
       "803              0   KJB3  Cherry_Red   NaN    NaN  Testing_Notes_Function  \n",
       "804              0   KJB3  Cherry_Red   NaN    NaN  Testing_Notes_Function  \n",
       "805              0   KJB3  Cherry_Red   NaN    NaN  Testing_Notes_Function  \n",
       "806              0   KJB3  Cherry_Red  Home    NaN                     NaN  \n",
       "\n",
       "[807 rows x 20 columns]"
      ]
     },
     "execution_count": 2,
     "metadata": {},
     "output_type": "execute_result"
    }
   ],
   "source": [
    "df_tr = pd.read_csv('../Files/test_results.csv') # tr = 'test results'\n",
    "df_tr.rename(columns = {'Test_Number':'Test number'}, inplace = True)\n",
    "\n",
    "#Converting start/end timestamps to DateTime values:\n",
    "for col in ['Local_Test_Start_Time', 'Local_Test_End_Time']:\n",
    "    df_tr[col] = pd.to_datetime(df_tr[col])\n",
    "# Ensuring the tests are being displayed in chronological order:\n",
    "# (This will help ensure that the 'Test_ID' values that we're about\n",
    "# to create are accurate)\n",
    "df_tr = df_tr.sort_values(\n",
    "    'Local_Test_Start_Time').reset_index(drop=True).copy()\n",
    "\n",
    "df_tr"
   ]
  },
  {
   "cell_type": "markdown",
   "id": "82ff168e-0b71-495f-b265-12b1a2b4d03f",
   "metadata": {},
   "source": [
    "Calculating various timing statistics that will prove useful for endurance-related analyses:"
   ]
  },
  {
   "cell_type": "code",
   "execution_count": 3,
   "id": "b737f45e-3a7a-4c7e-ba8d-500fb92fde0e",
   "metadata": {
    "execution": {
     "iopub.execute_input": "2025-07-22T05:37:13.879922Z",
     "iopub.status.busy": "2025-07-22T05:37:13.879803Z",
     "iopub.status.idle": "2025-07-22T05:37:13.897344Z",
     "shell.execute_reply": "2025-07-22T05:37:13.896984Z",
     "shell.execute_reply.started": "2025-07-22T05:37:13.879911Z"
    }
   },
   "outputs": [
    {
     "data": {
      "text/html": [
       "<div>\n",
       "<style scoped>\n",
       "    .dataframe tbody tr th:only-of-type {\n",
       "        vertical-align: middle;\n",
       "    }\n",
       "\n",
       "    .dataframe tbody tr th {\n",
       "        vertical-align: top;\n",
       "    }\n",
       "\n",
       "    .dataframe thead th {\n",
       "        text-align: right;\n",
       "    }\n",
       "</style>\n",
       "<table border=\"1\" class=\"dataframe\">\n",
       "  <thead>\n",
       "    <tr style=\"text-align: right;\">\n",
       "      <th></th>\n",
       "      <th>Test number</th>\n",
       "      <th>Within_Session_Test_Number</th>\n",
       "      <th>Unix_Test_Start_Time</th>\n",
       "      <th>Local_Test_Start_Time</th>\n",
       "      <th>Unix_Test_End_Time</th>\n",
       "      <th>Local_Test_End_Time</th>\n",
       "      <th>Verse_ID</th>\n",
       "      <th>Verse_Code</th>\n",
       "      <th>Verse</th>\n",
       "      <th>Characters</th>\n",
       "      <th>WPM</th>\n",
       "      <th>Test_Seconds</th>\n",
       "      <th>Error_Rate</th>\n",
       "      <th>Error_and_Backspace_Rate</th>\n",
       "      <th>Marathon_Mode</th>\n",
       "      <th>Player</th>\n",
       "      <th>Tag_1</th>\n",
       "      <th>Tag_2</th>\n",
       "      <th>Tag_3</th>\n",
       "      <th>Notes</th>\n",
       "      <th>Start Date</th>\n",
       "      <th>Start Hour</th>\n",
       "      <th>Start Minute</th>\n",
       "      <th>Start 30-Minute Block</th>\n",
       "      <th>Start 15-Minute Block</th>\n",
       "      <th>Start 10-Minute Block</th>\n",
       "      <th>End Date</th>\n",
       "      <th>End Hour</th>\n",
       "      <th>End Minute</th>\n",
       "      <th>End 30-Minute Block</th>\n",
       "      <th>End 15-Minute Block</th>\n",
       "      <th>End 10-Minute Block</th>\n",
       "      <th>Unique Hour</th>\n",
       "      <th>Unique 30-Minute Block</th>\n",
       "      <th>Unique 15-Minute Block</th>\n",
       "      <th>Unique 10-Minute Block</th>\n",
       "    </tr>\n",
       "  </thead>\n",
       "  <tbody>\n",
       "    <tr>\n",
       "      <th>0</th>\n",
       "      <td>1</td>\n",
       "      <td>NaN</td>\n",
       "      <td>1750909743</td>\n",
       "      <td>2025-06-25 23:49:03-04:00</td>\n",
       "      <td>1750909747</td>\n",
       "      <td>2025-06-25 23:49:07-04:00</td>\n",
       "      <td>1</td>\n",
       "      <td>Genesis_1:1</td>\n",
       "      <td>In the beginning, God created heaven and earth.</td>\n",
       "      <td>47</td>\n",
       "      <td>124.928204</td>\n",
       "      <td>4.514593</td>\n",
       "      <td>0.021277</td>\n",
       "      <td>0.042553</td>\n",
       "      <td>0</td>\n",
       "      <td>KJB3</td>\n",
       "      <td>Cherry_Red</td>\n",
       "      <td>NaN</td>\n",
       "      <td>NaN</td>\n",
       "      <td>NaN</td>\n",
       "      <td>2025-06-25</td>\n",
       "      <td>23</td>\n",
       "      <td>49</td>\n",
       "      <td>2</td>\n",
       "      <td>4</td>\n",
       "      <td>5</td>\n",
       "      <td>2025-06-25</td>\n",
       "      <td>23</td>\n",
       "      <td>49</td>\n",
       "      <td>2</td>\n",
       "      <td>4</td>\n",
       "      <td>5</td>\n",
       "      <td>2025-06-25_23</td>\n",
       "      <td>2025-06-25_23_2</td>\n",
       "      <td>2025-06-25_23_4</td>\n",
       "      <td>2025-06-25_23_5</td>\n",
       "    </tr>\n",
       "    <tr>\n",
       "      <th>1</th>\n",
       "      <td>2</td>\n",
       "      <td>NaN</td>\n",
       "      <td>1750910427</td>\n",
       "      <td>2025-06-26 00:00:27-04:00</td>\n",
       "      <td>1750910430</td>\n",
       "      <td>2025-06-26 00:00:30-04:00</td>\n",
       "      <td>1</td>\n",
       "      <td>Genesis_1:1</td>\n",
       "      <td>In the beginning, God created heaven and earth.</td>\n",
       "      <td>47</td>\n",
       "      <td>181.050428</td>\n",
       "      <td>3.115154</td>\n",
       "      <td>0.000000</td>\n",
       "      <td>0.000000</td>\n",
       "      <td>0</td>\n",
       "      <td>KJB3</td>\n",
       "      <td>Cherry_Red</td>\n",
       "      <td>NaN</td>\n",
       "      <td>NaN</td>\n",
       "      <td>NaN</td>\n",
       "      <td>2025-06-26</td>\n",
       "      <td>0</td>\n",
       "      <td>0</td>\n",
       "      <td>1</td>\n",
       "      <td>1</td>\n",
       "      <td>1</td>\n",
       "      <td>2025-06-26</td>\n",
       "      <td>0</td>\n",
       "      <td>0</td>\n",
       "      <td>1</td>\n",
       "      <td>1</td>\n",
       "      <td>1</td>\n",
       "      <td>2025-06-26_0</td>\n",
       "      <td>2025-06-26_0_1</td>\n",
       "      <td>2025-06-26_0_1</td>\n",
       "      <td>2025-06-26_0_1</td>\n",
       "    </tr>\n",
       "    <tr>\n",
       "      <th>2</th>\n",
       "      <td>3</td>\n",
       "      <td>NaN</td>\n",
       "      <td>1750910839</td>\n",
       "      <td>2025-06-26 00:07:19-04:00</td>\n",
       "      <td>1750910854</td>\n",
       "      <td>2025-06-26 00:07:34-04:00</td>\n",
       "      <td>2</td>\n",
       "      <td>Genesis_1:2</td>\n",
       "      <td>But the earth was empty and unoccupied, and da...</td>\n",
       "      <td>141</td>\n",
       "      <td>113.465015</td>\n",
       "      <td>14.912085</td>\n",
       "      <td>0.120567</td>\n",
       "      <td>0.205674</td>\n",
       "      <td>1</td>\n",
       "      <td>KJB3</td>\n",
       "      <td>Cherry_Red</td>\n",
       "      <td>NaN</td>\n",
       "      <td>NaN</td>\n",
       "      <td>NaN</td>\n",
       "      <td>2025-06-26</td>\n",
       "      <td>0</td>\n",
       "      <td>7</td>\n",
       "      <td>1</td>\n",
       "      <td>1</td>\n",
       "      <td>1</td>\n",
       "      <td>2025-06-26</td>\n",
       "      <td>0</td>\n",
       "      <td>7</td>\n",
       "      <td>1</td>\n",
       "      <td>1</td>\n",
       "      <td>1</td>\n",
       "      <td>2025-06-26_0</td>\n",
       "      <td>2025-06-26_0_1</td>\n",
       "      <td>2025-06-26_0_1</td>\n",
       "      <td>2025-06-26_0_1</td>\n",
       "    </tr>\n",
       "    <tr>\n",
       "      <th>3</th>\n",
       "      <td>4</td>\n",
       "      <td>NaN</td>\n",
       "      <td>1750910854</td>\n",
       "      <td>2025-06-26 00:07:34-04:00</td>\n",
       "      <td>1750910860</td>\n",
       "      <td>2025-06-26 00:07:40-04:00</td>\n",
       "      <td>3</td>\n",
       "      <td>Genesis_1:3</td>\n",
       "      <td>And God said, \"Let there be light.\" And light ...</td>\n",
       "      <td>53</td>\n",
       "      <td>110.773001</td>\n",
       "      <td>5.741471</td>\n",
       "      <td>0.018868</td>\n",
       "      <td>0.037736</td>\n",
       "      <td>1</td>\n",
       "      <td>KJB3</td>\n",
       "      <td>Cherry_Red</td>\n",
       "      <td>NaN</td>\n",
       "      <td>NaN</td>\n",
       "      <td>NaN</td>\n",
       "      <td>2025-06-26</td>\n",
       "      <td>0</td>\n",
       "      <td>7</td>\n",
       "      <td>1</td>\n",
       "      <td>1</td>\n",
       "      <td>1</td>\n",
       "      <td>2025-06-26</td>\n",
       "      <td>0</td>\n",
       "      <td>7</td>\n",
       "      <td>1</td>\n",
       "      <td>1</td>\n",
       "      <td>1</td>\n",
       "      <td>2025-06-26_0</td>\n",
       "      <td>2025-06-26_0_1</td>\n",
       "      <td>2025-06-26_0_1</td>\n",
       "      <td>2025-06-26_0_1</td>\n",
       "    </tr>\n",
       "    <tr>\n",
       "      <th>4</th>\n",
       "      <td>5</td>\n",
       "      <td>NaN</td>\n",
       "      <td>1750910860</td>\n",
       "      <td>2025-06-26 00:07:40-04:00</td>\n",
       "      <td>1750910869</td>\n",
       "      <td>2025-06-26 00:07:49-04:00</td>\n",
       "      <td>4</td>\n",
       "      <td>Genesis_1:4</td>\n",
       "      <td>And God saw the light, that it was good; and s...</td>\n",
       "      <td>89</td>\n",
       "      <td>116.464066</td>\n",
       "      <td>9.170210</td>\n",
       "      <td>0.078652</td>\n",
       "      <td>0.157303</td>\n",
       "      <td>1</td>\n",
       "      <td>KJB3</td>\n",
       "      <td>Cherry_Red</td>\n",
       "      <td>NaN</td>\n",
       "      <td>NaN</td>\n",
       "      <td>NaN</td>\n",
       "      <td>2025-06-26</td>\n",
       "      <td>0</td>\n",
       "      <td>7</td>\n",
       "      <td>1</td>\n",
       "      <td>1</td>\n",
       "      <td>1</td>\n",
       "      <td>2025-06-26</td>\n",
       "      <td>0</td>\n",
       "      <td>7</td>\n",
       "      <td>1</td>\n",
       "      <td>1</td>\n",
       "      <td>1</td>\n",
       "      <td>2025-06-26_0</td>\n",
       "      <td>2025-06-26_0_1</td>\n",
       "      <td>2025-06-26_0_1</td>\n",
       "      <td>2025-06-26_0_1</td>\n",
       "    </tr>\n",
       "  </tbody>\n",
       "</table>\n",
       "</div>"
      ],
      "text/plain": [
       "   Test number  Within_Session_Test_Number  Unix_Test_Start_Time  \\\n",
       "0            1                         NaN            1750909743   \n",
       "1            2                         NaN            1750910427   \n",
       "2            3                         NaN            1750910839   \n",
       "3            4                         NaN            1750910854   \n",
       "4            5                         NaN            1750910860   \n",
       "\n",
       "      Local_Test_Start_Time  Unix_Test_End_Time       Local_Test_End_Time  \\\n",
       "0 2025-06-25 23:49:03-04:00          1750909747 2025-06-25 23:49:07-04:00   \n",
       "1 2025-06-26 00:00:27-04:00          1750910430 2025-06-26 00:00:30-04:00   \n",
       "2 2025-06-26 00:07:19-04:00          1750910854 2025-06-26 00:07:34-04:00   \n",
       "3 2025-06-26 00:07:34-04:00          1750910860 2025-06-26 00:07:40-04:00   \n",
       "4 2025-06-26 00:07:40-04:00          1750910869 2025-06-26 00:07:49-04:00   \n",
       "\n",
       "   Verse_ID   Verse_Code                                              Verse  \\\n",
       "0         1  Genesis_1:1    In the beginning, God created heaven and earth.   \n",
       "1         1  Genesis_1:1    In the beginning, God created heaven and earth.   \n",
       "2         2  Genesis_1:2  But the earth was empty and unoccupied, and da...   \n",
       "3         3  Genesis_1:3  And God said, \"Let there be light.\" And light ...   \n",
       "4         4  Genesis_1:4  And God saw the light, that it was good; and s...   \n",
       "\n",
       "   Characters         WPM  Test_Seconds  Error_Rate  Error_and_Backspace_Rate  \\\n",
       "0          47  124.928204      4.514593    0.021277                  0.042553   \n",
       "1          47  181.050428      3.115154    0.000000                  0.000000   \n",
       "2         141  113.465015     14.912085    0.120567                  0.205674   \n",
       "3          53  110.773001      5.741471    0.018868                  0.037736   \n",
       "4          89  116.464066      9.170210    0.078652                  0.157303   \n",
       "\n",
       "   Marathon_Mode Player       Tag_1 Tag_2  Tag_3 Notes  Start Date  \\\n",
       "0              0   KJB3  Cherry_Red   NaN    NaN   NaN  2025-06-25   \n",
       "1              0   KJB3  Cherry_Red   NaN    NaN   NaN  2025-06-26   \n",
       "2              1   KJB3  Cherry_Red   NaN    NaN   NaN  2025-06-26   \n",
       "3              1   KJB3  Cherry_Red   NaN    NaN   NaN  2025-06-26   \n",
       "4              1   KJB3  Cherry_Red   NaN    NaN   NaN  2025-06-26   \n",
       "\n",
       "   Start Hour  Start Minute  Start 30-Minute Block  Start 15-Minute Block  \\\n",
       "0          23            49                      2                      4   \n",
       "1           0             0                      1                      1   \n",
       "2           0             7                      1                      1   \n",
       "3           0             7                      1                      1   \n",
       "4           0             7                      1                      1   \n",
       "\n",
       "   Start 10-Minute Block    End Date  End Hour  End Minute  \\\n",
       "0                      5  2025-06-25        23          49   \n",
       "1                      1  2025-06-26         0           0   \n",
       "2                      1  2025-06-26         0           7   \n",
       "3                      1  2025-06-26         0           7   \n",
       "4                      1  2025-06-26         0           7   \n",
       "\n",
       "   End 30-Minute Block  End 15-Minute Block  End 10-Minute Block  \\\n",
       "0                    2                    4                    5   \n",
       "1                    1                    1                    1   \n",
       "2                    1                    1                    1   \n",
       "3                    1                    1                    1   \n",
       "4                    1                    1                    1   \n",
       "\n",
       "     Unique Hour Unique 30-Minute Block Unique 15-Minute Block  \\\n",
       "0  2025-06-25_23        2025-06-25_23_2        2025-06-25_23_4   \n",
       "1   2025-06-26_0         2025-06-26_0_1         2025-06-26_0_1   \n",
       "2   2025-06-26_0         2025-06-26_0_1         2025-06-26_0_1   \n",
       "3   2025-06-26_0         2025-06-26_0_1         2025-06-26_0_1   \n",
       "4   2025-06-26_0         2025-06-26_0_1         2025-06-26_0_1   \n",
       "\n",
       "  Unique 10-Minute Block  \n",
       "0        2025-06-25_23_5  \n",
       "1         2025-06-26_0_1  \n",
       "2         2025-06-26_0_1  \n",
       "3         2025-06-26_0_1  \n",
       "4         2025-06-26_0_1  "
      ]
     },
     "execution_count": 3,
     "metadata": {},
     "output_type": "execute_result"
    }
   ],
   "source": [
    "for time_type in ['Start', 'End']:\n",
    "    df_tr[f'{time_type} Date'] = df_tr[\n",
    "        f'Local_Test_{time_type}_Time'].dt.date\n",
    "    df_tr[f'{time_type} Hour'] = df_tr[\n",
    "        f'Local_Test_{time_type}_Time'].dt.hour\n",
    "    df_tr[f'{time_type} Minute'] = df_tr[\n",
    "        f'Local_Test_{time_type}_Time'].dt.minute\n",
    "    df_tr[f'{time_type} 30-Minute Block'] = np.where(\n",
    "        df_tr[f'{time_type} Minute'] >= 30, 2, 1)\n",
    "    # Using floor division to determine the 15- and 10-minute blocks\n",
    "    # into which each test falls:\n",
    "    df_tr[f'{time_type} 15-Minute Block'] = df_tr[\n",
    "        f'{time_type} Minute'] // 15 + 1\n",
    "    df_tr[f'{time_type} 10-Minute Block'] = df_tr[\n",
    "        f'{time_type} Minute'] // 10 + 1\n",
    "\n",
    "# Creating columns that will store unique starting hours and\n",
    "# 30/15/10-minute blocks:\n",
    "df_tr['Unique Hour'] = df_tr['Start Date'].astype(\n",
    "    'str') + '_' + df_tr['Start Hour'].astype('str')\n",
    "for block in ['30', '15', '10']:\n",
    "    df_tr[f'Unique {block}-Minute Block'] = df_tr[\n",
    "        'Unique Hour'] + '_' + df_tr[\n",
    "        f'Start {block}-Minute Block'].astype('str')\n",
    "\n",
    "\n",
    "df_tr.head(5)"
   ]
  },
  {
   "cell_type": "markdown",
   "id": "e76f574f-33ae-4301-86d2-967fccbab6dd",
   "metadata": {},
   "source": [
    "## Determining how many characters the player typed after each *rolling* hour, 30-minute period, 15-minute period, and 10-minute period:\n",
    "\n",
    "(This information will be helpful for calculating endurance-based statistics.)"
   ]
  },
  {
   "cell_type": "code",
   "execution_count": 4,
   "id": "39eb308f-281e-4dce-8f0d-5b4f2264b781",
   "metadata": {
    "execution": {
     "iopub.execute_input": "2025-07-22T05:37:13.897836Z",
     "iopub.status.busy": "2025-07-22T05:37:13.897716Z",
     "iopub.status.idle": "2025-07-22T05:37:13.899628Z",
     "shell.execute_reply": "2025-07-22T05:37:13.899384Z",
     "shell.execute_reply.started": "2025-07-22T05:37:13.897826Z"
    }
   },
   "outputs": [],
   "source": [
    "col_seconds_pair_list = [['Characters Typed in Next Hour', 3600],\n",
    "                         ['Characters Typed in Next 30 Minutes', 1800],\n",
    "                         ['Characters Typed in Next 15 Minutes', 900],\n",
    "                         ['Characters Typed in Next 10 Minutes', 600]]"
   ]
  },
  {
   "cell_type": "markdown",
   "id": "03d0ee50-c5e7-46fc-b3ee-d7cc38192afc",
   "metadata": {},
   "source": [
    "Note: the following code will likely take a considerable amount of time to run once users have completed a significant number of tests (e.g. 1000+). Therefore, it would be ideal to eventually replace it with C++-based code *or* a more sophisticated Python-based approach. (I tried out the 'numba' engine setting within the df.apply() function, but it failed to work correctly.)\n",
    "\n",
    "In the meantime, I've commented out this code so that it won't cause performance issues going forward."
   ]
  },
  {
   "cell_type": "code",
   "execution_count": 5,
   "id": "6c52b345-ef13-4c10-b6e1-66d1f30443f6",
   "metadata": {
    "execution": {
     "iopub.execute_input": "2025-07-22T05:37:13.900022Z",
     "iopub.status.busy": "2025-07-22T05:37:13.899930Z",
     "iopub.status.idle": "2025-07-22T05:37:13.902031Z",
     "shell.execute_reply": "2025-07-22T05:37:13.901801Z",
     "shell.execute_reply.started": "2025-07-22T05:37:13.900012Z"
    }
   },
   "outputs": [],
   "source": [
    "# df_tr_condensed = df_tr[['Unix_Test_Start_Time', \n",
    "# 'Unix_Test_End_Time', 'Characters', 'Test number']].copy()\n",
    "# I thought this DataFrame might be more compatible with certain\n",
    "# alternative engine options, but unfortunately, that wasn't the case."
   ]
  },
  {
   "cell_type": "code",
   "execution_count": 6,
   "id": "2d157d50-4312-4789-bbd2-100f5ddee5f9",
   "metadata": {
    "execution": {
     "iopub.execute_input": "2025-07-22T05:37:13.902380Z",
     "iopub.status.busy": "2025-07-22T05:37:13.902289Z",
     "iopub.status.idle": "2025-07-22T05:37:13.904952Z",
     "shell.execute_reply": "2025-07-22T05:37:13.904711Z",
     "shell.execute_reply.started": "2025-07-22T05:37:13.902371Z"
    }
   },
   "outputs": [],
   "source": [
    "# for col_seconds_pair in col_seconds_pair_list:\n",
    "\n",
    "#     df_tr[col_seconds_pair[0]] = df_tr.apply(\n",
    "#         lambda x: df_tr[(df_tr[\n",
    "#             'Unix_Test_Start_Time'] >= x['Unix_Test_Start_Time']) & (\n",
    "#             df_tr['Unix_Test_End_Time'] \n",
    "#         < (x['Unix_Test_Start_Time'] + col_seconds_pair[1]))][\n",
    "#             'Characters'].sum(), axis = 1)\n",
    "# df_tr"
   ]
  },
  {
   "cell_type": "markdown",
   "id": "112bd856-4ec2-4812-99a4-cc263ad21024",
   "metadata": {},
   "source": [
    "Note: I thought the following approach might actually be faster than the above option, as it only requires a single loop through the whole DataFrame. However, I found it to take a bit longer than the previous method."
   ]
  },
  {
   "cell_type": "code",
   "execution_count": 7,
   "id": "8fc962c7-f697-4057-8dad-efdaacdac074",
   "metadata": {
    "execution": {
     "iopub.execute_input": "2025-07-22T05:37:13.905321Z",
     "iopub.status.busy": "2025-07-22T05:37:13.905230Z",
     "iopub.status.idle": "2025-07-22T05:37:13.907493Z",
     "shell.execute_reply": "2025-07-22T05:37:13.907188Z",
     "shell.execute_reply.started": "2025-07-22T05:37:13.905313Z"
    }
   },
   "outputs": [],
   "source": [
    "# for col in ['characters_typed_in_next_hour',\n",
    "#             'characters_typed_in_next_30_minutes',\n",
    "#             'characters_typed_in_next_15_minutes',\n",
    "#             'characters_typed_in_next_10_minutes']:\n",
    "#     df_tr[col] = 0\n",
    "# for i in range(len(df_tr)):\n",
    "#     start_time = df_tr.iloc[i]['Unix_Test_Start_Time'].astype(\n",
    "#         'int64')\n",
    "    \n",
    "#     df_tr.iloc[i, df_tr.columns.get_loc(\n",
    "#         'characters_typed_in_next_hour')] = df_tr[(\n",
    "#         df_tr[\n",
    "#         'Unix_Test_Start_Time'] >= start_time) & (df_tr[\n",
    "#             'Unix_Test_End_Time'] \n",
    "#         < (start_time + 3600))]['Characters'].sum()\n",
    "    \n",
    "#     df_tr.iloc[i, df_tr.columns.get_loc(\n",
    "#         'characters_typed_in_next_30_minutes')] = df_tr[(\n",
    "#         df_tr[\n",
    "#         'Unix_Test_Start_Time'] >= start_time) & (df_tr[\n",
    "#             'Unix_Test_End_Time'] \n",
    "#         < (start_time + 1800))]['Characters'].sum()\n",
    "\n",
    "#     df_tr.iloc[i, df_tr.columns.get_loc(\n",
    "#             'characters_typed_in_next_15_minutes')] = df_tr[(\n",
    "#             df_tr[\n",
    "#             'Unix_Test_Start_Time'] >= start_time) & (df_tr[\n",
    "#                 'Unix_Test_End_Time'] \n",
    "#             < (start_time + 900))]['Characters'].sum()\n",
    "    \n",
    "#     df_tr.iloc[i, df_tr.columns.get_loc(\n",
    "#             'characters_typed_in_next_10_minutes')] = df_tr[(\n",
    "#             df_tr[\n",
    "#             'Unix_Test_Start_Time'] >= start_time) & (df_tr[\n",
    "#                 'Unix_Test_End_Time'] \n",
    "#             < (start_time + 600))]['Characters'].sum()\n",
    "            "
   ]
  },
  {
   "cell_type": "code",
   "execution_count": 8,
   "id": "e614d035-c6e9-4866-9eeb-365f019fd51e",
   "metadata": {
    "execution": {
     "iopub.execute_input": "2025-07-22T05:37:13.907887Z",
     "iopub.status.busy": "2025-07-22T05:37:13.907790Z",
     "iopub.status.idle": "2025-07-22T05:37:13.910409Z",
     "shell.execute_reply": "2025-07-22T05:37:13.910023Z",
     "shell.execute_reply.started": "2025-07-22T05:37:13.907878Z"
    }
   },
   "outputs": [],
   "source": [
    "# df_tr"
   ]
  },
  {
   "cell_type": "markdown",
   "id": "9b48d776-16e6-4a34-be37-6598477b1ba7",
   "metadata": {},
   "source": [
    "### WPM results by test:"
   ]
  },
  {
   "cell_type": "code",
   "execution_count": 9,
   "id": "f2672791-b29e-4f5f-9865-cb8fc29f66fc",
   "metadata": {
    "execution": {
     "iopub.execute_input": "2025-07-22T05:37:13.911051Z",
     "iopub.status.busy": "2025-07-22T05:37:13.910827Z",
     "iopub.status.idle": "2025-07-22T05:37:14.025493Z",
     "shell.execute_reply": "2025-07-22T05:37:14.025077Z",
     "shell.execute_reply.started": "2025-07-22T05:37:13.911038Z"
    }
   },
   "outputs": [],
   "source": [
    "fig_wpm_by_test = px.line(\n",
    "    df_tr, x = 'Test number', y = 'WPM',\n",
    "title = 'WPM by Test Number',)\n",
    "fig_wpm_by_test.write_html(f'{sp_visualizations_folder}WPM_by_race.html',\n",
    "                           include_plotlyjs = 'cdn')"
   ]
  },
  {
   "cell_type": "markdown",
   "id": "a853801c-51f9-4144-9c91-5f9256a662f4",
   "metadata": {},
   "source": [
    "### Average WPM by Tag 1 values:"
   ]
  },
  {
   "cell_type": "code",
   "execution_count": 10,
   "id": "04f88594-2be9-4f83-a480-770d0e3b2113",
   "metadata": {
    "execution": {
     "iopub.execute_input": "2025-07-22T05:37:14.025995Z",
     "iopub.status.busy": "2025-07-22T05:37:14.025891Z",
     "iopub.status.idle": "2025-07-22T05:37:14.032619Z",
     "shell.execute_reply": "2025-07-22T05:37:14.032339Z",
     "shell.execute_reply.started": "2025-07-22T05:37:14.025985Z"
    }
   },
   "outputs": [
    {
     "data": {
      "text/html": [
       "<div>\n",
       "<style scoped>\n",
       "    .dataframe tbody tr th:only-of-type {\n",
       "        vertical-align: middle;\n",
       "    }\n",
       "\n",
       "    .dataframe tbody tr th {\n",
       "        vertical-align: top;\n",
       "    }\n",
       "\n",
       "    .dataframe thead th {\n",
       "        text-align: right;\n",
       "    }\n",
       "</style>\n",
       "<table border=\"1\" class=\"dataframe\">\n",
       "  <thead>\n",
       "    <tr style=\"text-align: right;\">\n",
       "      <th></th>\n",
       "      <th>Tag_1</th>\n",
       "      <th>WPM</th>\n",
       "    </tr>\n",
       "  </thead>\n",
       "  <tbody>\n",
       "    <tr>\n",
       "      <th>0</th>\n",
       "      <td>Cherry_Black</td>\n",
       "      <td>129.164296</td>\n",
       "    </tr>\n",
       "    <tr>\n",
       "      <th>1</th>\n",
       "      <td>Cherry_Brown</td>\n",
       "      <td>130.184895</td>\n",
       "    </tr>\n",
       "    <tr>\n",
       "      <th>2</th>\n",
       "      <td>Cherry_Red</td>\n",
       "      <td>129.239740</td>\n",
       "    </tr>\n",
       "    <tr>\n",
       "      <th>3</th>\n",
       "      <td>Ga15pyd_Laptop</td>\n",
       "      <td>114.402321</td>\n",
       "    </tr>\n",
       "  </tbody>\n",
       "</table>\n",
       "</div>"
      ],
      "text/plain": [
       "            Tag_1         WPM\n",
       "0    Cherry_Black  129.164296\n",
       "1    Cherry_Brown  130.184895\n",
       "2      Cherry_Red  129.239740\n",
       "3  Ga15pyd_Laptop  114.402321"
      ]
     },
     "execution_count": 10,
     "metadata": {},
     "output_type": "execute_result"
    }
   ],
   "source": [
    "df_wpm_by_tag_1 = df_tr.pivot_table(index = 'Tag_1', values = 'WPM',\n",
    "                                 aggfunc = 'mean').reset_index()\n",
    "df_wpm_by_tag_1"
   ]
  },
  {
   "cell_type": "code",
   "execution_count": 11,
   "id": "5d816088-6545-4953-adba-cd7a45db22c9",
   "metadata": {
    "execution": {
     "iopub.execute_input": "2025-07-22T05:37:14.033143Z",
     "iopub.status.busy": "2025-07-22T05:37:14.032945Z",
     "iopub.status.idle": "2025-07-22T05:37:14.065503Z",
     "shell.execute_reply": "2025-07-22T05:37:14.065109Z",
     "shell.execute_reply.started": "2025-07-22T05:37:14.033132Z"
    }
   },
   "outputs": [],
   "source": [
    "fig_wpm_by_tag_1 = px.bar(df_wpm_by_tag_1, x = 'Tag_1', y = 'WPM',\n",
    "                         title = 'Mean WPM by Tag_1 value')\n",
    "fig_wpm_by_tag_1.write_html(f'{sp_visualizations_folder}/Mean_WPM_\\\n",
    "by_Tag_1.html',\n",
    "                            include_plotlyjs = 'cdn')"
   ]
  },
  {
   "cell_type": "markdown",
   "id": "4ba803e8-306b-4ad9-86d9-cb84915fbac8",
   "metadata": {},
   "source": [
    "## Creating endurance-related charts:"
   ]
  },
  {
   "cell_type": "markdown",
   "id": "568c3604-c85e-4eaa-bd57-294cf5e0147b",
   "metadata": {},
   "source": [
    "## Visualizing *rolling* endurance statistics:\n",
    "\n",
    "(I commented out the following visualization code because it relies on a very inefficient set of code that I have also commented out.)"
   ]
  },
  {
   "cell_type": "code",
   "execution_count": 12,
   "id": "5d912a6b-467d-415f-8eac-4c029275b0da",
   "metadata": {
    "execution": {
     "iopub.execute_input": "2025-07-22T05:37:14.066890Z",
     "iopub.status.busy": "2025-07-22T05:37:14.066677Z",
     "iopub.status.idle": "2025-07-22T05:37:14.068649Z",
     "shell.execute_reply": "2025-07-22T05:37:14.068371Z",
     "shell.execute_reply.started": "2025-07-22T05:37:14.066878Z"
    }
   },
   "outputs": [],
   "source": [
    "# for col in [pair[0] for pair in col_seconds_pair_list]:\n",
    "\n",
    "#     df_endurance = df_tr.sort_values(col, ascending = False).copy(\n",
    "#     ).reset_index(drop=True).head(50)\n",
    "#     df_endurance['Rank'] = (df_endurance.index + 1)\n",
    "\n",
    "#     fig_endurance = px.bar(\n",
    "#     df_endurance, x = 'Rank', \n",
    "#     y = col,\n",
    "#     title = 'Most ' + col,\n",
    "#     hover_data = ['Test number', 'Local_Test_Start_Time'])\n",
    "    \n",
    "#     fig_endurance.write_html('Single_Player/Endurance_Top_50_rolling_'+col.replace(\n",
    "#         ' ', '_')+'.html', \n",
    "#     include_plotlyjs = 'cdn')"
   ]
  },
  {
   "cell_type": "markdown",
   "id": "0415b53d-6feb-4849-946f-d093d27d9ef8",
   "metadata": {},
   "source": [
    "## Visualizing clock-based endurance statistics:"
   ]
  },
  {
   "cell_type": "code",
   "execution_count": 13,
   "id": "9d7f741b-b252-4d81-93e0-933bcf621971",
   "metadata": {
    "execution": {
     "iopub.execute_input": "2025-07-22T05:37:14.069078Z",
     "iopub.status.busy": "2025-07-22T05:37:14.068974Z",
     "iopub.status.idle": "2025-07-22T05:37:14.205735Z",
     "shell.execute_reply": "2025-07-22T05:37:14.205418Z",
     "shell.execute_reply.started": "2025-07-22T05:37:14.069068Z"
    }
   },
   "outputs": [],
   "source": [
    "for time_category in ['Hour', '30-Minute Block', '15-Minute Block',\n",
    "                      '10-Minute Block']:\n",
    "    # The following code helps confirm that the following query() statement\n",
    "    # is correctly filtering out tests whose starting and ending \n",
    "    # time categories don't match.\n",
    "    # print(len(df_tr.query(f\"`Start {time_category}` == `End {time_category}`\")))\n",
    "    df_endurance = df_tr.query(f\"`Start {time_category}` == `End {time_category}`\").pivot_table(\n",
    "        index = f'Unique {time_category}', values = 'Characters', \n",
    "    aggfunc = 'sum').reset_index().sort_values(\n",
    "    'Characters', ascending = False).reset_index(drop=True).head(50)\n",
    "    df_endurance['Rank'] = (df_endurance.index + 1)\n",
    "    \n",
    "    fig_endurance = px.bar(\n",
    "    df_endurance, x = f'Unique {time_category}', \n",
    "    y = 'Characters',\n",
    "    title = 'Most Characters Typed By ' + time_category,\n",
    "    hover_data = 'Rank')\n",
    "    \n",
    "    fig_endurance.write_html(\n",
    "    f'{sp_visualizations_folder}Endurance_Top_50_\\\n",
    "Clock_'+time_category.replace(' ', '_')+'.html', \n",
    "    include_plotlyjs = 'cdn')"
   ]
  },
  {
   "cell_type": "markdown",
   "id": "bec4dfc7-3e1d-419b-9128-d23d12404d77",
   "metadata": {},
   "source": [
    "Graphing keypresses by date (in both chronological and ranked order):"
   ]
  },
  {
   "cell_type": "code",
   "execution_count": 14,
   "id": "b45d2e0f-d4ee-4591-9182-c369ac182633",
   "metadata": {
    "execution": {
     "iopub.execute_input": "2025-07-22T05:37:14.206427Z",
     "iopub.status.busy": "2025-07-22T05:37:14.206135Z",
     "iopub.status.idle": "2025-07-22T05:37:14.241025Z",
     "shell.execute_reply": "2025-07-22T05:37:14.240612Z",
     "shell.execute_reply.started": "2025-07-22T05:37:14.206412Z"
    }
   },
   "outputs": [],
   "source": [
    "df_top_dates_by_keypresses = df_tr.query(\n",
    "    \"`Start Date` == `End Date`\").pivot_table(\n",
    "    index = 'Start Date', values = 'Characters', \n",
    "    aggfunc = 'sum').reset_index().sort_values(\n",
    "    'Characters', ascending = False).reset_index(drop=True)\n",
    "df_top_dates_by_keypresses['Rank'] = df_top_dates_by_keypresses.index + 1\n",
    "# Plotly will automatically arrange these dates in chronological order \n",
    "# despite our having sorted the source DataFrame by characters.\n",
    "fig_keypresses_by_date = px.bar(df_top_dates_by_keypresses,\n",
    "                                     x = 'Start Date', y = 'Characters',\n",
    "                              title = 'Characters typed by date',\n",
    "                               hover_data = ['Rank'])\n",
    "fig_keypresses_by_date.write_html(f'{sp_visualizations_folder}Keypresses\\\n",
    "_Typed_by_Date.html', include_plotlyjs='cdn')"
   ]
  },
  {
   "cell_type": "code",
   "execution_count": 15,
   "id": "cbc2618b-cd97-4fc0-b53b-8be8c2ef9e9e",
   "metadata": {
    "execution": {
     "iopub.execute_input": "2025-07-22T05:37:14.241558Z",
     "iopub.status.busy": "2025-07-22T05:37:14.241439Z",
     "iopub.status.idle": "2025-07-22T05:37:14.270513Z",
     "shell.execute_reply": "2025-07-22T05:37:14.270097Z",
     "shell.execute_reply.started": "2025-07-22T05:37:14.241548Z"
    }
   },
   "outputs": [],
   "source": [
    "fig_top_dates_by_keypresses = px.bar(\n",
    "    df_top_dates_by_keypresses.head(50),\n",
    "       x = 'Start Date', y = 'Characters',\n",
    "       title = 'Dates with the most characters typed', \n",
    "       hover_data = ['Rank']).update_layout(\n",
    "    xaxis_type = 'category')\n",
    "fig_top_dates_by_keypresses.write_html(\n",
    "    f'{sp_visualizations_folder}/Top_Dates_by_Keypresses.html', \n",
    "    include_plotlyjs='cdn')"
   ]
  },
  {
   "cell_type": "code",
   "execution_count": 16,
   "id": "b2037b72-5cb4-4fd3-bff2-efdf32cd85bb",
   "metadata": {
    "execution": {
     "iopub.execute_input": "2025-07-22T05:37:14.271056Z",
     "iopub.status.busy": "2025-07-22T05:37:14.270909Z",
     "iopub.status.idle": "2025-07-22T05:37:14.272632Z",
     "shell.execute_reply": "2025-07-22T05:37:14.272401Z",
     "shell.execute_reply.started": "2025-07-22T05:37:14.271046Z"
    }
   },
   "outputs": [],
   "source": [
    "## Calculating mean WPMs by test number:"
   ]
  },
  {
   "cell_type": "code",
   "execution_count": 17,
   "id": "3970774f-99b0-4371-a206-4d4329dc7860",
   "metadata": {
    "execution": {
     "iopub.execute_input": "2025-07-22T05:37:14.273020Z",
     "iopub.status.busy": "2025-07-22T05:37:14.272909Z",
     "iopub.status.idle": "2025-07-22T05:37:14.283740Z",
     "shell.execute_reply": "2025-07-22T05:37:14.283495Z",
     "shell.execute_reply.started": "2025-07-22T05:37:14.273011Z"
    }
   },
   "outputs": [
    {
     "data": {
      "text/html": [
       "<div>\n",
       "<style scoped>\n",
       "    .dataframe tbody tr th:only-of-type {\n",
       "        vertical-align: middle;\n",
       "    }\n",
       "\n",
       "    .dataframe tbody tr th {\n",
       "        vertical-align: top;\n",
       "    }\n",
       "\n",
       "    .dataframe thead th {\n",
       "        text-align: right;\n",
       "    }\n",
       "</style>\n",
       "<table border=\"1\" class=\"dataframe\">\n",
       "  <thead>\n",
       "    <tr style=\"text-align: right;\">\n",
       "      <th></th>\n",
       "      <th>Test number</th>\n",
       "      <th>Within_Session_Test_Number</th>\n",
       "      <th>Unix_Test_Start_Time</th>\n",
       "      <th>Local_Test_Start_Time</th>\n",
       "      <th>Unix_Test_End_Time</th>\n",
       "      <th>Local_Test_End_Time</th>\n",
       "      <th>Verse_ID</th>\n",
       "      <th>Verse_Code</th>\n",
       "      <th>Verse</th>\n",
       "      <th>Characters</th>\n",
       "      <th>WPM</th>\n",
       "      <th>Test_Seconds</th>\n",
       "      <th>Error_Rate</th>\n",
       "      <th>Error_and_Backspace_Rate</th>\n",
       "      <th>Marathon_Mode</th>\n",
       "      <th>Player</th>\n",
       "      <th>Tag_1</th>\n",
       "      <th>Tag_2</th>\n",
       "      <th>Tag_3</th>\n",
       "      <th>Notes</th>\n",
       "      <th>Start Date</th>\n",
       "      <th>Start Hour</th>\n",
       "      <th>Start Minute</th>\n",
       "      <th>Start 30-Minute Block</th>\n",
       "      <th>Start 15-Minute Block</th>\n",
       "      <th>Start 10-Minute Block</th>\n",
       "      <th>End Date</th>\n",
       "      <th>End Hour</th>\n",
       "      <th>End Minute</th>\n",
       "      <th>End 30-Minute Block</th>\n",
       "      <th>End 15-Minute Block</th>\n",
       "      <th>End 10-Minute Block</th>\n",
       "      <th>Unique Hour</th>\n",
       "      <th>Unique 30-Minute Block</th>\n",
       "      <th>Unique 15-Minute Block</th>\n",
       "      <th>Unique 10-Minute Block</th>\n",
       "    </tr>\n",
       "  </thead>\n",
       "  <tbody>\n",
       "    <tr>\n",
       "      <th>0</th>\n",
       "      <td>1</td>\n",
       "      <td>NaN</td>\n",
       "      <td>1750909743</td>\n",
       "      <td>2025-06-25 23:49:03-04:00</td>\n",
       "      <td>1750909747</td>\n",
       "      <td>2025-06-25 23:49:07-04:00</td>\n",
       "      <td>1</td>\n",
       "      <td>Genesis_1:1</td>\n",
       "      <td>In the beginning, God created heaven and earth.</td>\n",
       "      <td>47</td>\n",
       "      <td>124.928204</td>\n",
       "      <td>4.514593</td>\n",
       "      <td>0.021277</td>\n",
       "      <td>0.042553</td>\n",
       "      <td>0</td>\n",
       "      <td>KJB3</td>\n",
       "      <td>Cherry_Red</td>\n",
       "      <td>NaN</td>\n",
       "      <td>NaN</td>\n",
       "      <td>NaN</td>\n",
       "      <td>2025-06-25</td>\n",
       "      <td>23</td>\n",
       "      <td>49</td>\n",
       "      <td>2</td>\n",
       "      <td>4</td>\n",
       "      <td>5</td>\n",
       "      <td>2025-06-25</td>\n",
       "      <td>23</td>\n",
       "      <td>49</td>\n",
       "      <td>2</td>\n",
       "      <td>4</td>\n",
       "      <td>5</td>\n",
       "      <td>2025-06-25_23</td>\n",
       "      <td>2025-06-25_23_2</td>\n",
       "      <td>2025-06-25_23_4</td>\n",
       "      <td>2025-06-25_23_5</td>\n",
       "    </tr>\n",
       "    <tr>\n",
       "      <th>1</th>\n",
       "      <td>2</td>\n",
       "      <td>NaN</td>\n",
       "      <td>1750910427</td>\n",
       "      <td>2025-06-26 00:00:27-04:00</td>\n",
       "      <td>1750910430</td>\n",
       "      <td>2025-06-26 00:00:30-04:00</td>\n",
       "      <td>1</td>\n",
       "      <td>Genesis_1:1</td>\n",
       "      <td>In the beginning, God created heaven and earth.</td>\n",
       "      <td>47</td>\n",
       "      <td>181.050428</td>\n",
       "      <td>3.115154</td>\n",
       "      <td>0.000000</td>\n",
       "      <td>0.000000</td>\n",
       "      <td>0</td>\n",
       "      <td>KJB3</td>\n",
       "      <td>Cherry_Red</td>\n",
       "      <td>NaN</td>\n",
       "      <td>NaN</td>\n",
       "      <td>NaN</td>\n",
       "      <td>2025-06-26</td>\n",
       "      <td>0</td>\n",
       "      <td>0</td>\n",
       "      <td>1</td>\n",
       "      <td>1</td>\n",
       "      <td>1</td>\n",
       "      <td>2025-06-26</td>\n",
       "      <td>0</td>\n",
       "      <td>0</td>\n",
       "      <td>1</td>\n",
       "      <td>1</td>\n",
       "      <td>1</td>\n",
       "      <td>2025-06-26_0</td>\n",
       "      <td>2025-06-26_0_1</td>\n",
       "      <td>2025-06-26_0_1</td>\n",
       "      <td>2025-06-26_0_1</td>\n",
       "    </tr>\n",
       "    <tr>\n",
       "      <th>2</th>\n",
       "      <td>3</td>\n",
       "      <td>NaN</td>\n",
       "      <td>1750910839</td>\n",
       "      <td>2025-06-26 00:07:19-04:00</td>\n",
       "      <td>1750910854</td>\n",
       "      <td>2025-06-26 00:07:34-04:00</td>\n",
       "      <td>2</td>\n",
       "      <td>Genesis_1:2</td>\n",
       "      <td>But the earth was empty and unoccupied, and da...</td>\n",
       "      <td>141</td>\n",
       "      <td>113.465015</td>\n",
       "      <td>14.912085</td>\n",
       "      <td>0.120567</td>\n",
       "      <td>0.205674</td>\n",
       "      <td>1</td>\n",
       "      <td>KJB3</td>\n",
       "      <td>Cherry_Red</td>\n",
       "      <td>NaN</td>\n",
       "      <td>NaN</td>\n",
       "      <td>NaN</td>\n",
       "      <td>2025-06-26</td>\n",
       "      <td>0</td>\n",
       "      <td>7</td>\n",
       "      <td>1</td>\n",
       "      <td>1</td>\n",
       "      <td>1</td>\n",
       "      <td>2025-06-26</td>\n",
       "      <td>0</td>\n",
       "      <td>7</td>\n",
       "      <td>1</td>\n",
       "      <td>1</td>\n",
       "      <td>1</td>\n",
       "      <td>2025-06-26_0</td>\n",
       "      <td>2025-06-26_0_1</td>\n",
       "      <td>2025-06-26_0_1</td>\n",
       "      <td>2025-06-26_0_1</td>\n",
       "    </tr>\n",
       "    <tr>\n",
       "      <th>3</th>\n",
       "      <td>4</td>\n",
       "      <td>NaN</td>\n",
       "      <td>1750910854</td>\n",
       "      <td>2025-06-26 00:07:34-04:00</td>\n",
       "      <td>1750910860</td>\n",
       "      <td>2025-06-26 00:07:40-04:00</td>\n",
       "      <td>3</td>\n",
       "      <td>Genesis_1:3</td>\n",
       "      <td>And God said, \"Let there be light.\" And light ...</td>\n",
       "      <td>53</td>\n",
       "      <td>110.773001</td>\n",
       "      <td>5.741471</td>\n",
       "      <td>0.018868</td>\n",
       "      <td>0.037736</td>\n",
       "      <td>1</td>\n",
       "      <td>KJB3</td>\n",
       "      <td>Cherry_Red</td>\n",
       "      <td>NaN</td>\n",
       "      <td>NaN</td>\n",
       "      <td>NaN</td>\n",
       "      <td>2025-06-26</td>\n",
       "      <td>0</td>\n",
       "      <td>7</td>\n",
       "      <td>1</td>\n",
       "      <td>1</td>\n",
       "      <td>1</td>\n",
       "      <td>2025-06-26</td>\n",
       "      <td>0</td>\n",
       "      <td>7</td>\n",
       "      <td>1</td>\n",
       "      <td>1</td>\n",
       "      <td>1</td>\n",
       "      <td>2025-06-26_0</td>\n",
       "      <td>2025-06-26_0_1</td>\n",
       "      <td>2025-06-26_0_1</td>\n",
       "      <td>2025-06-26_0_1</td>\n",
       "    </tr>\n",
       "    <tr>\n",
       "      <th>4</th>\n",
       "      <td>5</td>\n",
       "      <td>NaN</td>\n",
       "      <td>1750910860</td>\n",
       "      <td>2025-06-26 00:07:40-04:00</td>\n",
       "      <td>1750910869</td>\n",
       "      <td>2025-06-26 00:07:49-04:00</td>\n",
       "      <td>4</td>\n",
       "      <td>Genesis_1:4</td>\n",
       "      <td>And God saw the light, that it was good; and s...</td>\n",
       "      <td>89</td>\n",
       "      <td>116.464066</td>\n",
       "      <td>9.170210</td>\n",
       "      <td>0.078652</td>\n",
       "      <td>0.157303</td>\n",
       "      <td>1</td>\n",
       "      <td>KJB3</td>\n",
       "      <td>Cherry_Red</td>\n",
       "      <td>NaN</td>\n",
       "      <td>NaN</td>\n",
       "      <td>NaN</td>\n",
       "      <td>2025-06-26</td>\n",
       "      <td>0</td>\n",
       "      <td>7</td>\n",
       "      <td>1</td>\n",
       "      <td>1</td>\n",
       "      <td>1</td>\n",
       "      <td>2025-06-26</td>\n",
       "      <td>0</td>\n",
       "      <td>7</td>\n",
       "      <td>1</td>\n",
       "      <td>1</td>\n",
       "      <td>1</td>\n",
       "      <td>2025-06-26_0</td>\n",
       "      <td>2025-06-26_0_1</td>\n",
       "      <td>2025-06-26_0_1</td>\n",
       "      <td>2025-06-26_0_1</td>\n",
       "    </tr>\n",
       "  </tbody>\n",
       "</table>\n",
       "</div>"
      ],
      "text/plain": [
       "   Test number  Within_Session_Test_Number  Unix_Test_Start_Time  \\\n",
       "0            1                         NaN            1750909743   \n",
       "1            2                         NaN            1750910427   \n",
       "2            3                         NaN            1750910839   \n",
       "3            4                         NaN            1750910854   \n",
       "4            5                         NaN            1750910860   \n",
       "\n",
       "      Local_Test_Start_Time  Unix_Test_End_Time       Local_Test_End_Time  \\\n",
       "0 2025-06-25 23:49:03-04:00          1750909747 2025-06-25 23:49:07-04:00   \n",
       "1 2025-06-26 00:00:27-04:00          1750910430 2025-06-26 00:00:30-04:00   \n",
       "2 2025-06-26 00:07:19-04:00          1750910854 2025-06-26 00:07:34-04:00   \n",
       "3 2025-06-26 00:07:34-04:00          1750910860 2025-06-26 00:07:40-04:00   \n",
       "4 2025-06-26 00:07:40-04:00          1750910869 2025-06-26 00:07:49-04:00   \n",
       "\n",
       "   Verse_ID   Verse_Code                                              Verse  \\\n",
       "0         1  Genesis_1:1    In the beginning, God created heaven and earth.   \n",
       "1         1  Genesis_1:1    In the beginning, God created heaven and earth.   \n",
       "2         2  Genesis_1:2  But the earth was empty and unoccupied, and da...   \n",
       "3         3  Genesis_1:3  And God said, \"Let there be light.\" And light ...   \n",
       "4         4  Genesis_1:4  And God saw the light, that it was good; and s...   \n",
       "\n",
       "   Characters         WPM  Test_Seconds  Error_Rate  Error_and_Backspace_Rate  \\\n",
       "0          47  124.928204      4.514593    0.021277                  0.042553   \n",
       "1          47  181.050428      3.115154    0.000000                  0.000000   \n",
       "2         141  113.465015     14.912085    0.120567                  0.205674   \n",
       "3          53  110.773001      5.741471    0.018868                  0.037736   \n",
       "4          89  116.464066      9.170210    0.078652                  0.157303   \n",
       "\n",
       "   Marathon_Mode Player       Tag_1 Tag_2  Tag_3 Notes  Start Date  \\\n",
       "0              0   KJB3  Cherry_Red   NaN    NaN   NaN  2025-06-25   \n",
       "1              0   KJB3  Cherry_Red   NaN    NaN   NaN  2025-06-26   \n",
       "2              1   KJB3  Cherry_Red   NaN    NaN   NaN  2025-06-26   \n",
       "3              1   KJB3  Cherry_Red   NaN    NaN   NaN  2025-06-26   \n",
       "4              1   KJB3  Cherry_Red   NaN    NaN   NaN  2025-06-26   \n",
       "\n",
       "   Start Hour  Start Minute  Start 30-Minute Block  Start 15-Minute Block  \\\n",
       "0          23            49                      2                      4   \n",
       "1           0             0                      1                      1   \n",
       "2           0             7                      1                      1   \n",
       "3           0             7                      1                      1   \n",
       "4           0             7                      1                      1   \n",
       "\n",
       "   Start 10-Minute Block    End Date  End Hour  End Minute  \\\n",
       "0                      5  2025-06-25        23          49   \n",
       "1                      1  2025-06-26         0           0   \n",
       "2                      1  2025-06-26         0           7   \n",
       "3                      1  2025-06-26         0           7   \n",
       "4                      1  2025-06-26         0           7   \n",
       "\n",
       "   End 30-Minute Block  End 15-Minute Block  End 10-Minute Block  \\\n",
       "0                    2                    4                    5   \n",
       "1                    1                    1                    1   \n",
       "2                    1                    1                    1   \n",
       "3                    1                    1                    1   \n",
       "4                    1                    1                    1   \n",
       "\n",
       "     Unique Hour Unique 30-Minute Block Unique 15-Minute Block  \\\n",
       "0  2025-06-25_23        2025-06-25_23_2        2025-06-25_23_4   \n",
       "1   2025-06-26_0         2025-06-26_0_1         2025-06-26_0_1   \n",
       "2   2025-06-26_0         2025-06-26_0_1         2025-06-26_0_1   \n",
       "3   2025-06-26_0         2025-06-26_0_1         2025-06-26_0_1   \n",
       "4   2025-06-26_0         2025-06-26_0_1         2025-06-26_0_1   \n",
       "\n",
       "  Unique 10-Minute Block  \n",
       "0        2025-06-25_23_5  \n",
       "1         2025-06-26_0_1  \n",
       "2         2025-06-26_0_1  \n",
       "3         2025-06-26_0_1  \n",
       "4         2025-06-26_0_1  "
      ]
     },
     "execution_count": 17,
     "metadata": {},
     "output_type": "execute_result"
    }
   ],
   "source": [
    "df_tr.head()"
   ]
  },
  {
   "cell_type": "code",
   "execution_count": 18,
   "id": "5a261abd-5183-4643-ad4f-907b36f76cff",
   "metadata": {
    "execution": {
     "iopub.execute_input": "2025-07-22T05:37:14.284176Z",
     "iopub.status.busy": "2025-07-22T05:37:14.284063Z",
     "iopub.status.idle": "2025-07-22T05:37:14.290375Z",
     "shell.execute_reply": "2025-07-22T05:37:14.290145Z",
     "shell.execute_reply.started": "2025-07-22T05:37:14.284162Z"
    }
   },
   "outputs": [
    {
     "data": {
      "text/html": [
       "<div>\n",
       "<style scoped>\n",
       "    .dataframe tbody tr th:only-of-type {\n",
       "        vertical-align: middle;\n",
       "    }\n",
       "\n",
       "    .dataframe tbody tr th {\n",
       "        vertical-align: top;\n",
       "    }\n",
       "\n",
       "    .dataframe thead th {\n",
       "        text-align: right;\n",
       "    }\n",
       "</style>\n",
       "<table border=\"1\" class=\"dataframe\">\n",
       "  <thead>\n",
       "    <tr style=\"text-align: right;\">\n",
       "      <th></th>\n",
       "      <th>Within_Session_Test_Number</th>\n",
       "      <th>Number of tests</th>\n",
       "      <th>WPM</th>\n",
       "    </tr>\n",
       "  </thead>\n",
       "  <tbody>\n",
       "    <tr>\n",
       "      <th>0</th>\n",
       "      <td>1.0</td>\n",
       "      <td>6</td>\n",
       "      <td>148.983217</td>\n",
       "    </tr>\n",
       "    <tr>\n",
       "      <th>1</th>\n",
       "      <td>2.0</td>\n",
       "      <td>5</td>\n",
       "      <td>143.837681</td>\n",
       "    </tr>\n",
       "    <tr>\n",
       "      <th>2</th>\n",
       "      <td>3.0</td>\n",
       "      <td>2</td>\n",
       "      <td>116.153269</td>\n",
       "    </tr>\n",
       "  </tbody>\n",
       "</table>\n",
       "</div>"
      ],
      "text/plain": [
       "   Within_Session_Test_Number  Number of tests         WPM\n",
       "0                         1.0                6  148.983217\n",
       "1                         2.0                5  143.837681\n",
       "2                         3.0                2  116.153269"
      ]
     },
     "execution_count": 18,
     "metadata": {},
     "output_type": "execute_result"
    }
   ],
   "source": [
    "df_mean_wpm_by_within_session_test_number = df_tr.pivot_table(\n",
    "    index = 'Within_Session_Test_Number',\n",
    "                  values = ['WPM', 'Test number'], \n",
    "                  aggfunc = {'WPM':'mean', \n",
    "                             'Test number':'count'}).reset_index().rename(\n",
    "    columns = {'Test number':'Number of tests'})\n",
    "df_mean_wpm_by_within_session_test_number"
   ]
  },
  {
   "cell_type": "code",
   "execution_count": 19,
   "id": "610dcc3e-fba7-4d1e-a557-11ca6e57b10a",
   "metadata": {
    "execution": {
     "iopub.execute_input": "2025-07-22T05:37:14.290781Z",
     "iopub.status.busy": "2025-07-22T05:37:14.290681Z",
     "iopub.status.idle": "2025-07-22T05:37:14.413628Z",
     "shell.execute_reply": "2025-07-22T05:37:14.413358Z",
     "shell.execute_reply.started": "2025-07-22T05:37:14.290772Z"
    }
   },
   "outputs": [
    {
     "data": {
      "application/vnd.plotly.v1+json": {
       "config": {
        "plotlyServerURL": "https://plot.ly"
       },
       "data": [
        {
         "customdata": {
          "_inputArray": [
           {
            "0": 6
           },
           {
            "0": 5
           },
           {
            "0": 2
           }
          ],
          "bdata": "BgUC",
          "dtype": "i1",
          "shape": "3, 1"
         },
         "hovertemplate": "Within_Session_Test_Number=%{x}<br>WPM=%{y}<br>Number of tests=%{customdata[0]}<extra></extra>",
         "legendgroup": "",
         "line": {
          "color": "#636efa",
          "dash": "solid"
         },
         "marker": {
          "symbol": "circle"
         },
         "mode": "lines",
         "name": "",
         "orientation": "v",
         "showlegend": false,
         "type": "scatter",
         "x": {
          "_inputArray": {
           "0": 1,
           "1": 2,
           "2": 3,
           "bdata": "AAAAAAAA8D8AAAAAAAAAQAAAAAAAAAhA",
           "dtype": "f8",
           "shape": "3"
          },
          "bdata": "AAAAAAAA8D8AAAAAAAAAQAAAAAAAAAhA",
          "dtype": "f8"
         },
         "xaxis": "x",
         "y": {
          "_inputArray": {
           "0": 148.98321716666666,
           "1": 143.8376808,
           "2": 116.1532695,
           "bdata": "X/bYg3afYkCWD/dHzvphQFp+4CrPCV1A",
           "dtype": "f8",
           "shape": "3"
          },
          "bdata": "X/bYg3afYkCWD/dHzvphQFp+4CrPCV1A",
          "dtype": "f8"
         },
         "yaxis": "y"
        }
       ],
       "layout": {
        "autosize": true,
        "legend": {
         "tracegroupgap": 0
        },
        "template": {
         "data": {
          "bar": [
           {
            "error_x": {
             "color": "#2a3f5f"
            },
            "error_y": {
             "color": "#2a3f5f"
            },
            "marker": {
             "line": {
              "color": "#E5ECF6",
              "width": 0.5
             },
             "pattern": {
              "fillmode": "overlay",
              "size": 10,
              "solidity": 0.2
             }
            },
            "type": "bar"
           }
          ],
          "barpolar": [
           {
            "marker": {
             "line": {
              "color": "#E5ECF6",
              "width": 0.5
             },
             "pattern": {
              "fillmode": "overlay",
              "size": 10,
              "solidity": 0.2
             }
            },
            "type": "barpolar"
           }
          ],
          "carpet": [
           {
            "aaxis": {
             "endlinecolor": "#2a3f5f",
             "gridcolor": "white",
             "linecolor": "white",
             "minorgridcolor": "white",
             "startlinecolor": "#2a3f5f"
            },
            "baxis": {
             "endlinecolor": "#2a3f5f",
             "gridcolor": "white",
             "linecolor": "white",
             "minorgridcolor": "white",
             "startlinecolor": "#2a3f5f"
            },
            "type": "carpet"
           }
          ],
          "choropleth": [
           {
            "colorbar": {
             "outlinewidth": 0,
             "ticks": ""
            },
            "type": "choropleth"
           }
          ],
          "contour": [
           {
            "colorbar": {
             "outlinewidth": 0,
             "ticks": ""
            },
            "colorscale": [
             [
              0,
              "#0d0887"
             ],
             [
              0.1111111111111111,
              "#46039f"
             ],
             [
              0.2222222222222222,
              "#7201a8"
             ],
             [
              0.3333333333333333,
              "#9c179e"
             ],
             [
              0.4444444444444444,
              "#bd3786"
             ],
             [
              0.5555555555555556,
              "#d8576b"
             ],
             [
              0.6666666666666666,
              "#ed7953"
             ],
             [
              0.7777777777777778,
              "#fb9f3a"
             ],
             [
              0.8888888888888888,
              "#fdca26"
             ],
             [
              1,
              "#f0f921"
             ]
            ],
            "type": "contour"
           }
          ],
          "contourcarpet": [
           {
            "colorbar": {
             "outlinewidth": 0,
             "ticks": ""
            },
            "type": "contourcarpet"
           }
          ],
          "heatmap": [
           {
            "colorbar": {
             "outlinewidth": 0,
             "ticks": ""
            },
            "colorscale": [
             [
              0,
              "#0d0887"
             ],
             [
              0.1111111111111111,
              "#46039f"
             ],
             [
              0.2222222222222222,
              "#7201a8"
             ],
             [
              0.3333333333333333,
              "#9c179e"
             ],
             [
              0.4444444444444444,
              "#bd3786"
             ],
             [
              0.5555555555555556,
              "#d8576b"
             ],
             [
              0.6666666666666666,
              "#ed7953"
             ],
             [
              0.7777777777777778,
              "#fb9f3a"
             ],
             [
              0.8888888888888888,
              "#fdca26"
             ],
             [
              1,
              "#f0f921"
             ]
            ],
            "type": "heatmap"
           }
          ],
          "histogram": [
           {
            "marker": {
             "pattern": {
              "fillmode": "overlay",
              "size": 10,
              "solidity": 0.2
             }
            },
            "type": "histogram"
           }
          ],
          "histogram2d": [
           {
            "colorbar": {
             "outlinewidth": 0,
             "ticks": ""
            },
            "colorscale": [
             [
              0,
              "#0d0887"
             ],
             [
              0.1111111111111111,
              "#46039f"
             ],
             [
              0.2222222222222222,
              "#7201a8"
             ],
             [
              0.3333333333333333,
              "#9c179e"
             ],
             [
              0.4444444444444444,
              "#bd3786"
             ],
             [
              0.5555555555555556,
              "#d8576b"
             ],
             [
              0.6666666666666666,
              "#ed7953"
             ],
             [
              0.7777777777777778,
              "#fb9f3a"
             ],
             [
              0.8888888888888888,
              "#fdca26"
             ],
             [
              1,
              "#f0f921"
             ]
            ],
            "type": "histogram2d"
           }
          ],
          "histogram2dcontour": [
           {
            "colorbar": {
             "outlinewidth": 0,
             "ticks": ""
            },
            "colorscale": [
             [
              0,
              "#0d0887"
             ],
             [
              0.1111111111111111,
              "#46039f"
             ],
             [
              0.2222222222222222,
              "#7201a8"
             ],
             [
              0.3333333333333333,
              "#9c179e"
             ],
             [
              0.4444444444444444,
              "#bd3786"
             ],
             [
              0.5555555555555556,
              "#d8576b"
             ],
             [
              0.6666666666666666,
              "#ed7953"
             ],
             [
              0.7777777777777778,
              "#fb9f3a"
             ],
             [
              0.8888888888888888,
              "#fdca26"
             ],
             [
              1,
              "#f0f921"
             ]
            ],
            "type": "histogram2dcontour"
           }
          ],
          "mesh3d": [
           {
            "colorbar": {
             "outlinewidth": 0,
             "ticks": ""
            },
            "type": "mesh3d"
           }
          ],
          "parcoords": [
           {
            "line": {
             "colorbar": {
              "outlinewidth": 0,
              "ticks": ""
             }
            },
            "type": "parcoords"
           }
          ],
          "pie": [
           {
            "automargin": true,
            "type": "pie"
           }
          ],
          "scatter": [
           {
            "fillpattern": {
             "fillmode": "overlay",
             "size": 10,
             "solidity": 0.2
            },
            "type": "scatter"
           }
          ],
          "scatter3d": [
           {
            "line": {
             "colorbar": {
              "outlinewidth": 0,
              "ticks": ""
             }
            },
            "marker": {
             "colorbar": {
              "outlinewidth": 0,
              "ticks": ""
             }
            },
            "type": "scatter3d"
           }
          ],
          "scattercarpet": [
           {
            "marker": {
             "colorbar": {
              "outlinewidth": 0,
              "ticks": ""
             }
            },
            "type": "scattercarpet"
           }
          ],
          "scattergeo": [
           {
            "marker": {
             "colorbar": {
              "outlinewidth": 0,
              "ticks": ""
             }
            },
            "type": "scattergeo"
           }
          ],
          "scattergl": [
           {
            "marker": {
             "colorbar": {
              "outlinewidth": 0,
              "ticks": ""
             }
            },
            "type": "scattergl"
           }
          ],
          "scattermap": [
           {
            "marker": {
             "colorbar": {
              "outlinewidth": 0,
              "ticks": ""
             }
            },
            "type": "scattermap"
           }
          ],
          "scattermapbox": [
           {
            "marker": {
             "colorbar": {
              "outlinewidth": 0,
              "ticks": ""
             }
            },
            "type": "scattermapbox"
           }
          ],
          "scatterpolar": [
           {
            "marker": {
             "colorbar": {
              "outlinewidth": 0,
              "ticks": ""
             }
            },
            "type": "scatterpolar"
           }
          ],
          "scatterpolargl": [
           {
            "marker": {
             "colorbar": {
              "outlinewidth": 0,
              "ticks": ""
             }
            },
            "type": "scatterpolargl"
           }
          ],
          "scatterternary": [
           {
            "marker": {
             "colorbar": {
              "outlinewidth": 0,
              "ticks": ""
             }
            },
            "type": "scatterternary"
           }
          ],
          "surface": [
           {
            "colorbar": {
             "outlinewidth": 0,
             "ticks": ""
            },
            "colorscale": [
             [
              0,
              "#0d0887"
             ],
             [
              0.1111111111111111,
              "#46039f"
             ],
             [
              0.2222222222222222,
              "#7201a8"
             ],
             [
              0.3333333333333333,
              "#9c179e"
             ],
             [
              0.4444444444444444,
              "#bd3786"
             ],
             [
              0.5555555555555556,
              "#d8576b"
             ],
             [
              0.6666666666666666,
              "#ed7953"
             ],
             [
              0.7777777777777778,
              "#fb9f3a"
             ],
             [
              0.8888888888888888,
              "#fdca26"
             ],
             [
              1,
              "#f0f921"
             ]
            ],
            "type": "surface"
           }
          ],
          "table": [
           {
            "cells": {
             "fill": {
              "color": "#EBF0F8"
             },
             "line": {
              "color": "white"
             }
            },
            "header": {
             "fill": {
              "color": "#C8D4E3"
             },
             "line": {
              "color": "white"
             }
            },
            "type": "table"
           }
          ]
         },
         "layout": {
          "annotationdefaults": {
           "arrowcolor": "#2a3f5f",
           "arrowhead": 0,
           "arrowwidth": 1
          },
          "autotypenumbers": "strict",
          "coloraxis": {
           "colorbar": {
            "outlinewidth": 0,
            "ticks": ""
           }
          },
          "colorscale": {
           "diverging": [
            [
             0,
             "#8e0152"
            ],
            [
             0.1,
             "#c51b7d"
            ],
            [
             0.2,
             "#de77ae"
            ],
            [
             0.3,
             "#f1b6da"
            ],
            [
             0.4,
             "#fde0ef"
            ],
            [
             0.5,
             "#f7f7f7"
            ],
            [
             0.6,
             "#e6f5d0"
            ],
            [
             0.7,
             "#b8e186"
            ],
            [
             0.8,
             "#7fbc41"
            ],
            [
             0.9,
             "#4d9221"
            ],
            [
             1,
             "#276419"
            ]
           ],
           "sequential": [
            [
             0,
             "#0d0887"
            ],
            [
             0.1111111111111111,
             "#46039f"
            ],
            [
             0.2222222222222222,
             "#7201a8"
            ],
            [
             0.3333333333333333,
             "#9c179e"
            ],
            [
             0.4444444444444444,
             "#bd3786"
            ],
            [
             0.5555555555555556,
             "#d8576b"
            ],
            [
             0.6666666666666666,
             "#ed7953"
            ],
            [
             0.7777777777777778,
             "#fb9f3a"
            ],
            [
             0.8888888888888888,
             "#fdca26"
            ],
            [
             1,
             "#f0f921"
            ]
           ],
           "sequentialminus": [
            [
             0,
             "#0d0887"
            ],
            [
             0.1111111111111111,
             "#46039f"
            ],
            [
             0.2222222222222222,
             "#7201a8"
            ],
            [
             0.3333333333333333,
             "#9c179e"
            ],
            [
             0.4444444444444444,
             "#bd3786"
            ],
            [
             0.5555555555555556,
             "#d8576b"
            ],
            [
             0.6666666666666666,
             "#ed7953"
            ],
            [
             0.7777777777777778,
             "#fb9f3a"
            ],
            [
             0.8888888888888888,
             "#fdca26"
            ],
            [
             1,
             "#f0f921"
            ]
           ]
          },
          "colorway": [
           "#636efa",
           "#EF553B",
           "#00cc96",
           "#ab63fa",
           "#FFA15A",
           "#19d3f3",
           "#FF6692",
           "#B6E880",
           "#FF97FF",
           "#FECB52"
          ],
          "font": {
           "color": "#2a3f5f"
          },
          "geo": {
           "bgcolor": "white",
           "lakecolor": "white",
           "landcolor": "#E5ECF6",
           "showlakes": true,
           "showland": true,
           "subunitcolor": "white"
          },
          "hoverlabel": {
           "align": "left"
          },
          "hovermode": "closest",
          "mapbox": {
           "style": "light"
          },
          "paper_bgcolor": "white",
          "plot_bgcolor": "#E5ECF6",
          "polar": {
           "angularaxis": {
            "gridcolor": "white",
            "linecolor": "white",
            "ticks": ""
           },
           "bgcolor": "#E5ECF6",
           "radialaxis": {
            "gridcolor": "white",
            "linecolor": "white",
            "ticks": ""
           }
          },
          "scene": {
           "xaxis": {
            "backgroundcolor": "#E5ECF6",
            "gridcolor": "white",
            "gridwidth": 2,
            "linecolor": "white",
            "showbackground": true,
            "ticks": "",
            "zerolinecolor": "white"
           },
           "yaxis": {
            "backgroundcolor": "#E5ECF6",
            "gridcolor": "white",
            "gridwidth": 2,
            "linecolor": "white",
            "showbackground": true,
            "ticks": "",
            "zerolinecolor": "white"
           },
           "zaxis": {
            "backgroundcolor": "#E5ECF6",
            "gridcolor": "white",
            "gridwidth": 2,
            "linecolor": "white",
            "showbackground": true,
            "ticks": "",
            "zerolinecolor": "white"
           }
          },
          "shapedefaults": {
           "line": {
            "color": "#2a3f5f"
           }
          },
          "ternary": {
           "aaxis": {
            "gridcolor": "white",
            "linecolor": "white",
            "ticks": ""
           },
           "baxis": {
            "gridcolor": "white",
            "linecolor": "white",
            "ticks": ""
           },
           "bgcolor": "#E5ECF6",
           "caxis": {
            "gridcolor": "white",
            "linecolor": "white",
            "ticks": ""
           }
          },
          "title": {
           "x": 0.05
          },
          "xaxis": {
           "automargin": true,
           "gridcolor": "white",
           "linecolor": "white",
           "ticks": "",
           "title": {
            "standoff": 15
           },
           "zerolinecolor": "white",
           "zerolinewidth": 2
          },
          "yaxis": {
           "automargin": true,
           "gridcolor": "white",
           "linecolor": "white",
           "ticks": "",
           "title": {
            "standoff": 15
           },
           "zerolinecolor": "white",
           "zerolinewidth": 2
          }
         }
        },
        "title": {
         "text": "Mean WPM by Within-Session Test Number"
        },
        "xaxis": {
         "anchor": "y",
         "autorange": true,
         "domain": [
          0,
          1
         ],
         "range": [
          1,
          3
         ],
         "title": {
          "text": "Within-session test number"
         },
         "type": "linear"
        },
        "yaxis": {
         "anchor": "x",
         "autorange": true,
         "domain": [
          0,
          1
         ],
         "range": [
          114.32938351851851,
          150.80710314814814
         ],
         "title": {
          "text": "WPM"
         },
         "type": "linear"
        }
       }
      },
      "image/png": "[encoded data removed]"
     },
     "metadata": {},
     "output_type": "display_data"
    }
   ],
   "source": [
    "fig_mean_wpm_by_within_session_test_number = px.line(\n",
    "    df_mean_wpm_by_within_session_test_number,\n",
    "    x = 'Within_Session_Test_Number', y = 'WPM',\n",
    "    title = 'Mean WPM by Within-Session Test Number',\n",
    "    hover_data = 'Number of tests').update_layout(\n",
    "    xaxis_title = 'Within-session test number')\n",
    "fig_mean_wpm_by_within_session_test_number.write_html(\n",
    "    f'{sp_visualizations_folder}/Mean_WPM_by_Within_Session_Test_Number.html', \n",
    "    include_plotlyjs='cdn')\n",
    "fig_mean_wpm_by_within_session_test_number"
   ]
  },
  {
   "cell_type": "code",
   "execution_count": 20,
   "id": "ab1f181a-d1db-4066-9161-308d677cd419",
   "metadata": {
    "execution": {
     "iopub.execute_input": "2025-07-22T05:37:14.414134Z",
     "iopub.status.busy": "2025-07-22T05:37:14.413979Z",
     "iopub.status.idle": "2025-07-22T05:37:14.416339Z",
     "shell.execute_reply": "2025-07-22T05:37:14.416096Z",
     "shell.execute_reply.started": "2025-07-22T05:37:14.414123Z"
    }
   },
   "outputs": [],
   "source": [
    "# Creating a string version of the test number field that will allow it\n",
    "# to get used as a color value for the following chart:\n",
    "# (I found that, when this value was passed as an integer, no lines\n",
    "# appeared within the chart.)\n",
    "df_tr['Test number as string'] = df_tr['Test number'].astype('str')"
   ]
  },
  {
   "cell_type": "code",
   "execution_count": 21,
   "id": "dcd678a1-d582-48cb-8eaf-02db40bcfc77",
   "metadata": {
    "execution": {
     "iopub.execute_input": "2025-07-22T05:37:14.416868Z",
     "iopub.status.busy": "2025-07-22T05:37:14.416644Z",
     "iopub.status.idle": "2025-07-22T05:37:14.433079Z",
     "shell.execute_reply": "2025-07-22T05:37:14.432816Z",
     "shell.execute_reply.started": "2025-07-22T05:37:14.416854Z"
    }
   },
   "outputs": [
    {
     "data": {
      "text/html": [
       "<div>\n",
       "<style scoped>\n",
       "    .dataframe tbody tr th:only-of-type {\n",
       "        vertical-align: middle;\n",
       "    }\n",
       "\n",
       "    .dataframe tbody tr th {\n",
       "        vertical-align: top;\n",
       "    }\n",
       "\n",
       "    .dataframe thead th {\n",
       "        text-align: right;\n",
       "    }\n",
       "</style>\n",
       "<table border=\"1\" class=\"dataframe\">\n",
       "  <thead>\n",
       "    <tr style=\"text-align: right;\">\n",
       "      <th></th>\n",
       "      <th>Test number</th>\n",
       "      <th>Within_Session_Test_Number</th>\n",
       "      <th>Unix_Test_Start_Time</th>\n",
       "      <th>Local_Test_Start_Time</th>\n",
       "      <th>Unix_Test_End_Time</th>\n",
       "      <th>Local_Test_End_Time</th>\n",
       "      <th>Verse_ID</th>\n",
       "      <th>Verse_Code</th>\n",
       "      <th>Verse</th>\n",
       "      <th>Characters</th>\n",
       "      <th>WPM</th>\n",
       "      <th>Test_Seconds</th>\n",
       "      <th>Error_Rate</th>\n",
       "      <th>Error_and_Backspace_Rate</th>\n",
       "      <th>Marathon_Mode</th>\n",
       "      <th>Player</th>\n",
       "      <th>Tag_1</th>\n",
       "      <th>Tag_2</th>\n",
       "      <th>Tag_3</th>\n",
       "      <th>Notes</th>\n",
       "      <th>Start Date</th>\n",
       "      <th>Start Hour</th>\n",
       "      <th>Start Minute</th>\n",
       "      <th>Start 30-Minute Block</th>\n",
       "      <th>Start 15-Minute Block</th>\n",
       "      <th>Start 10-Minute Block</th>\n",
       "      <th>End Date</th>\n",
       "      <th>End Hour</th>\n",
       "      <th>End Minute</th>\n",
       "      <th>End 30-Minute Block</th>\n",
       "      <th>End 15-Minute Block</th>\n",
       "      <th>End 10-Minute Block</th>\n",
       "      <th>Unique Hour</th>\n",
       "      <th>Unique 30-Minute Block</th>\n",
       "      <th>Unique 15-Minute Block</th>\n",
       "      <th>Unique 10-Minute Block</th>\n",
       "      <th>Test number as string</th>\n",
       "    </tr>\n",
       "  </thead>\n",
       "  <tbody>\n",
       "    <tr>\n",
       "      <th>794</th>\n",
       "      <td>795</td>\n",
       "      <td>1.0</td>\n",
       "      <td>1753156345</td>\n",
       "      <td>2025-07-21 23:52:25-04:00</td>\n",
       "      <td>1753156352</td>\n",
       "      <td>2025-07-21 23:52:32-04:00</td>\n",
       "      <td>781</td>\n",
       "      <td>Genesis_28:8</td>\n",
       "      <td>having evidence also that his father did not l...</td>\n",
       "      <td>90</td>\n",
       "      <td>168.992686</td>\n",
       "      <td>6.390809</td>\n",
       "      <td>0.000000</td>\n",
       "      <td>0.000000</td>\n",
       "      <td>0</td>\n",
       "      <td>KJB3</td>\n",
       "      <td>Cherry_Red</td>\n",
       "      <td>NaN</td>\n",
       "      <td>NaN</td>\n",
       "      <td>NaN</td>\n",
       "      <td>2025-07-21</td>\n",
       "      <td>23</td>\n",
       "      <td>52</td>\n",
       "      <td>2</td>\n",
       "      <td>4</td>\n",
       "      <td>6</td>\n",
       "      <td>2025-07-21</td>\n",
       "      <td>23</td>\n",
       "      <td>52</td>\n",
       "      <td>2</td>\n",
       "      <td>4</td>\n",
       "      <td>6</td>\n",
       "      <td>2025-07-21_23</td>\n",
       "      <td>2025-07-21_23_2</td>\n",
       "      <td>2025-07-21_23_4</td>\n",
       "      <td>2025-07-21_23_6</td>\n",
       "      <td>795</td>\n",
       "    </tr>\n",
       "    <tr>\n",
       "      <th>795</th>\n",
       "      <td>796</td>\n",
       "      <td>2.0</td>\n",
       "      <td>1753156360</td>\n",
       "      <td>2025-07-21 23:52:40-04:00</td>\n",
       "      <td>1753156373</td>\n",
       "      <td>2025-07-21 23:52:53-04:00</td>\n",
       "      <td>782</td>\n",
       "      <td>Genesis_28:9</td>\n",
       "      <td>he went to Ishmael, and he took as a wife, bes...</td>\n",
       "      <td>144</td>\n",
       "      <td>132.035605</td>\n",
       "      <td>13.087379</td>\n",
       "      <td>0.027778</td>\n",
       "      <td>0.055556</td>\n",
       "      <td>0</td>\n",
       "      <td>KJB3</td>\n",
       "      <td>Cherry_Red</td>\n",
       "      <td>NaN</td>\n",
       "      <td>NaN</td>\n",
       "      <td>NaN</td>\n",
       "      <td>2025-07-21</td>\n",
       "      <td>23</td>\n",
       "      <td>52</td>\n",
       "      <td>2</td>\n",
       "      <td>4</td>\n",
       "      <td>6</td>\n",
       "      <td>2025-07-21</td>\n",
       "      <td>23</td>\n",
       "      <td>52</td>\n",
       "      <td>2</td>\n",
       "      <td>4</td>\n",
       "      <td>6</td>\n",
       "      <td>2025-07-21_23</td>\n",
       "      <td>2025-07-21_23_2</td>\n",
       "      <td>2025-07-21_23_4</td>\n",
       "      <td>2025-07-21_23_6</td>\n",
       "      <td>796</td>\n",
       "    </tr>\n",
       "    <tr>\n",
       "      <th>796</th>\n",
       "      <td>797</td>\n",
       "      <td>1.0</td>\n",
       "      <td>1753157077</td>\n",
       "      <td>2025-07-22 00:04:37-04:00</td>\n",
       "      <td>1753157083</td>\n",
       "      <td>2025-07-22 00:04:43-04:00</td>\n",
       "      <td>783</td>\n",
       "      <td>Genesis_28:10</td>\n",
       "      <td>Meanwhile Jacob, having departed from Beersheb...</td>\n",
       "      <td>71</td>\n",
       "      <td>158.429362</td>\n",
       "      <td>5.377791</td>\n",
       "      <td>0.000000</td>\n",
       "      <td>0.000000</td>\n",
       "      <td>0</td>\n",
       "      <td>KJB3</td>\n",
       "      <td>Cherry_Red</td>\n",
       "      <td>NaN</td>\n",
       "      <td>NaN</td>\n",
       "      <td>NaN</td>\n",
       "      <td>2025-07-22</td>\n",
       "      <td>0</td>\n",
       "      <td>4</td>\n",
       "      <td>1</td>\n",
       "      <td>1</td>\n",
       "      <td>1</td>\n",
       "      <td>2025-07-22</td>\n",
       "      <td>0</td>\n",
       "      <td>4</td>\n",
       "      <td>1</td>\n",
       "      <td>1</td>\n",
       "      <td>1</td>\n",
       "      <td>2025-07-22_0</td>\n",
       "      <td>2025-07-22_0_1</td>\n",
       "      <td>2025-07-22_0_1</td>\n",
       "      <td>2025-07-22_0_1</td>\n",
       "      <td>797</td>\n",
       "    </tr>\n",
       "    <tr>\n",
       "      <th>797</th>\n",
       "      <td>798</td>\n",
       "      <td>2.0</td>\n",
       "      <td>1753157084</td>\n",
       "      <td>2025-07-22 00:04:44-04:00</td>\n",
       "      <td>1753157097</td>\n",
       "      <td>2025-07-22 00:04:57-04:00</td>\n",
       "      <td>784</td>\n",
       "      <td>Genesis_28:11</td>\n",
       "      <td>And when he had arrived at a certain place, wh...</td>\n",
       "      <td>197</td>\n",
       "      <td>172.344262</td>\n",
       "      <td>13.716732</td>\n",
       "      <td>0.000000</td>\n",
       "      <td>0.000000</td>\n",
       "      <td>0</td>\n",
       "      <td>KJB3</td>\n",
       "      <td>Cherry_Red</td>\n",
       "      <td>NaN</td>\n",
       "      <td>NaN</td>\n",
       "      <td>NaN</td>\n",
       "      <td>2025-07-22</td>\n",
       "      <td>0</td>\n",
       "      <td>4</td>\n",
       "      <td>1</td>\n",
       "      <td>1</td>\n",
       "      <td>1</td>\n",
       "      <td>2025-07-22</td>\n",
       "      <td>0</td>\n",
       "      <td>4</td>\n",
       "      <td>1</td>\n",
       "      <td>1</td>\n",
       "      <td>1</td>\n",
       "      <td>2025-07-22_0</td>\n",
       "      <td>2025-07-22_0_1</td>\n",
       "      <td>2025-07-22_0_1</td>\n",
       "      <td>2025-07-22_0_1</td>\n",
       "      <td>798</td>\n",
       "    </tr>\n",
       "    <tr>\n",
       "      <th>798</th>\n",
       "      <td>799</td>\n",
       "      <td>1.0</td>\n",
       "      <td>1753157504</td>\n",
       "      <td>2025-07-22 00:11:44-04:00</td>\n",
       "      <td>1753157519</td>\n",
       "      <td>2025-07-22 00:11:59-04:00</td>\n",
       "      <td>785</td>\n",
       "      <td>Genesis_28:12</td>\n",
       "      <td>And he saw in his sleep: a ladder standing upo...</td>\n",
       "      <td>144</td>\n",
       "      <td>121.825972</td>\n",
       "      <td>14.184168</td>\n",
       "      <td>0.055556</td>\n",
       "      <td>0.069444</td>\n",
       "      <td>0</td>\n",
       "      <td>KJB3</td>\n",
       "      <td>Cherry_Red</td>\n",
       "      <td>NaN</td>\n",
       "      <td>NaN</td>\n",
       "      <td>NaN</td>\n",
       "      <td>2025-07-22</td>\n",
       "      <td>0</td>\n",
       "      <td>11</td>\n",
       "      <td>1</td>\n",
       "      <td>1</td>\n",
       "      <td>2</td>\n",
       "      <td>2025-07-22</td>\n",
       "      <td>0</td>\n",
       "      <td>11</td>\n",
       "      <td>1</td>\n",
       "      <td>1</td>\n",
       "      <td>2</td>\n",
       "      <td>2025-07-22_0</td>\n",
       "      <td>2025-07-22_0_1</td>\n",
       "      <td>2025-07-22_0_1</td>\n",
       "      <td>2025-07-22_0_2</td>\n",
       "      <td>799</td>\n",
       "    </tr>\n",
       "    <tr>\n",
       "      <th>799</th>\n",
       "      <td>800</td>\n",
       "      <td>2.0</td>\n",
       "      <td>1753157521</td>\n",
       "      <td>2025-07-22 00:12:01-04:00</td>\n",
       "      <td>1753157537</td>\n",
       "      <td>2025-07-22 00:12:17-04:00</td>\n",
       "      <td>786</td>\n",
       "      <td>Genesis_28:13</td>\n",
       "      <td>and the Lord, leaning upon the ladder, saying ...</td>\n",
       "      <td>195</td>\n",
       "      <td>145.659219</td>\n",
       "      <td>16.064895</td>\n",
       "      <td>0.015385</td>\n",
       "      <td>0.030769</td>\n",
       "      <td>0</td>\n",
       "      <td>KJB3</td>\n",
       "      <td>Cherry_Red</td>\n",
       "      <td>NaN</td>\n",
       "      <td>NaN</td>\n",
       "      <td>NaN</td>\n",
       "      <td>2025-07-22</td>\n",
       "      <td>0</td>\n",
       "      <td>12</td>\n",
       "      <td>1</td>\n",
       "      <td>1</td>\n",
       "      <td>2</td>\n",
       "      <td>2025-07-22</td>\n",
       "      <td>0</td>\n",
       "      <td>12</td>\n",
       "      <td>1</td>\n",
       "      <td>1</td>\n",
       "      <td>2</td>\n",
       "      <td>2025-07-22_0</td>\n",
       "      <td>2025-07-22_0_1</td>\n",
       "      <td>2025-07-22_0_1</td>\n",
       "      <td>2025-07-22_0_2</td>\n",
       "      <td>800</td>\n",
       "    </tr>\n",
       "    <tr>\n",
       "      <th>800</th>\n",
       "      <td>801</td>\n",
       "      <td>3.0</td>\n",
       "      <td>1753157540</td>\n",
       "      <td>2025-07-22 00:12:20-04:00</td>\n",
       "      <td>1753157561</td>\n",
       "      <td>2025-07-22 00:12:41-04:00</td>\n",
       "      <td>787</td>\n",
       "      <td>Genesis_28:14</td>\n",
       "      <td>And your offspring will be like the dust of th...</td>\n",
       "      <td>226</td>\n",
       "      <td>124.501498</td>\n",
       "      <td>21.782870</td>\n",
       "      <td>0.079646</td>\n",
       "      <td>0.132743</td>\n",
       "      <td>0</td>\n",
       "      <td>KJB3</td>\n",
       "      <td>Cherry_Red</td>\n",
       "      <td>NaN</td>\n",
       "      <td>NaN</td>\n",
       "      <td>NaN</td>\n",
       "      <td>2025-07-22</td>\n",
       "      <td>0</td>\n",
       "      <td>12</td>\n",
       "      <td>1</td>\n",
       "      <td>1</td>\n",
       "      <td>2</td>\n",
       "      <td>2025-07-22</td>\n",
       "      <td>0</td>\n",
       "      <td>12</td>\n",
       "      <td>1</td>\n",
       "      <td>1</td>\n",
       "      <td>2</td>\n",
       "      <td>2025-07-22_0</td>\n",
       "      <td>2025-07-22_0_1</td>\n",
       "      <td>2025-07-22_0_1</td>\n",
       "      <td>2025-07-22_0_2</td>\n",
       "      <td>801</td>\n",
       "    </tr>\n",
       "    <tr>\n",
       "      <th>801</th>\n",
       "      <td>802</td>\n",
       "      <td>1.0</td>\n",
       "      <td>1753159004</td>\n",
       "      <td>2025-07-22 00:36:44-04:00</td>\n",
       "      <td>1753159018</td>\n",
       "      <td>2025-07-22 00:36:58-04:00</td>\n",
       "      <td>788</td>\n",
       "      <td>Genesis_28:15</td>\n",
       "      <td>And I will be your guardian wherever you will ...</td>\n",
       "      <td>173</td>\n",
       "      <td>148.405079</td>\n",
       "      <td>13.988740</td>\n",
       "      <td>0.005780</td>\n",
       "      <td>0.011561</td>\n",
       "      <td>0</td>\n",
       "      <td>KJB3</td>\n",
       "      <td>Cherry_Red</td>\n",
       "      <td>NaN</td>\n",
       "      <td>NaN</td>\n",
       "      <td>NaN</td>\n",
       "      <td>2025-07-22</td>\n",
       "      <td>0</td>\n",
       "      <td>36</td>\n",
       "      <td>2</td>\n",
       "      <td>3</td>\n",
       "      <td>4</td>\n",
       "      <td>2025-07-22</td>\n",
       "      <td>0</td>\n",
       "      <td>36</td>\n",
       "      <td>2</td>\n",
       "      <td>3</td>\n",
       "      <td>4</td>\n",
       "      <td>2025-07-22_0</td>\n",
       "      <td>2025-07-22_0_2</td>\n",
       "      <td>2025-07-22_0_3</td>\n",
       "      <td>2025-07-22_0_4</td>\n",
       "      <td>802</td>\n",
       "    </tr>\n",
       "    <tr>\n",
       "      <th>802</th>\n",
       "      <td>803</td>\n",
       "      <td>2.0</td>\n",
       "      <td>1753159022</td>\n",
       "      <td>2025-07-22 00:37:02-04:00</td>\n",
       "      <td>1753159030</td>\n",
       "      <td>2025-07-22 00:37:10-04:00</td>\n",
       "      <td>789</td>\n",
       "      <td>Genesis_28:16</td>\n",
       "      <td>And when Jacob had awakened from sleep, he sai...</td>\n",
       "      <td>107</td>\n",
       "      <td>148.629494</td>\n",
       "      <td>8.638931</td>\n",
       "      <td>0.000000</td>\n",
       "      <td>0.000000</td>\n",
       "      <td>0</td>\n",
       "      <td>KJB3</td>\n",
       "      <td>Cherry_Red</td>\n",
       "      <td>NaN</td>\n",
       "      <td>NaN</td>\n",
       "      <td>NaN</td>\n",
       "      <td>2025-07-22</td>\n",
       "      <td>0</td>\n",
       "      <td>37</td>\n",
       "      <td>2</td>\n",
       "      <td>3</td>\n",
       "      <td>4</td>\n",
       "      <td>2025-07-22</td>\n",
       "      <td>0</td>\n",
       "      <td>37</td>\n",
       "      <td>2</td>\n",
       "      <td>3</td>\n",
       "      <td>4</td>\n",
       "      <td>2025-07-22_0</td>\n",
       "      <td>2025-07-22_0_2</td>\n",
       "      <td>2025-07-22_0_3</td>\n",
       "      <td>2025-07-22_0_4</td>\n",
       "      <td>803</td>\n",
       "    </tr>\n",
       "    <tr>\n",
       "      <th>803</th>\n",
       "      <td>804</td>\n",
       "      <td>1.0</td>\n",
       "      <td>1753159814</td>\n",
       "      <td>2025-07-22 00:50:14-04:00</td>\n",
       "      <td>1753159826</td>\n",
       "      <td>2025-07-22 00:50:26-04:00</td>\n",
       "      <td>790</td>\n",
       "      <td>Genesis_28:17</td>\n",
       "      <td>And being terrified, he said: \"How terrible th...</td>\n",
       "      <td>130</td>\n",
       "      <td>134.531302</td>\n",
       "      <td>11.595814</td>\n",
       "      <td>0.030769</td>\n",
       "      <td>0.061538</td>\n",
       "      <td>0</td>\n",
       "      <td>KJB3</td>\n",
       "      <td>Cherry_Red</td>\n",
       "      <td>NaN</td>\n",
       "      <td>NaN</td>\n",
       "      <td>Testing_Notes_Function</td>\n",
       "      <td>2025-07-22</td>\n",
       "      <td>0</td>\n",
       "      <td>50</td>\n",
       "      <td>2</td>\n",
       "      <td>4</td>\n",
       "      <td>6</td>\n",
       "      <td>2025-07-22</td>\n",
       "      <td>0</td>\n",
       "      <td>50</td>\n",
       "      <td>2</td>\n",
       "      <td>4</td>\n",
       "      <td>6</td>\n",
       "      <td>2025-07-22_0</td>\n",
       "      <td>2025-07-22_0_2</td>\n",
       "      <td>2025-07-22_0_4</td>\n",
       "      <td>2025-07-22_0_6</td>\n",
       "      <td>804</td>\n",
       "    </tr>\n",
       "    <tr>\n",
       "      <th>804</th>\n",
       "      <td>805</td>\n",
       "      <td>2.0</td>\n",
       "      <td>1753159828</td>\n",
       "      <td>2025-07-22 00:50:28-04:00</td>\n",
       "      <td>1753159842</td>\n",
       "      <td>2025-07-22 00:50:42-04:00</td>\n",
       "      <td>791</td>\n",
       "      <td>Genesis_28:18</td>\n",
       "      <td>Therefore, Jacob, arising in the morning, took...</td>\n",
       "      <td>143</td>\n",
       "      <td>120.519824</td>\n",
       "      <td>14.238321</td>\n",
       "      <td>0.041958</td>\n",
       "      <td>0.083916</td>\n",
       "      <td>0</td>\n",
       "      <td>KJB3</td>\n",
       "      <td>Cherry_Red</td>\n",
       "      <td>NaN</td>\n",
       "      <td>NaN</td>\n",
       "      <td>Testing_Notes_Function</td>\n",
       "      <td>2025-07-22</td>\n",
       "      <td>0</td>\n",
       "      <td>50</td>\n",
       "      <td>2</td>\n",
       "      <td>4</td>\n",
       "      <td>6</td>\n",
       "      <td>2025-07-22</td>\n",
       "      <td>0</td>\n",
       "      <td>50</td>\n",
       "      <td>2</td>\n",
       "      <td>4</td>\n",
       "      <td>6</td>\n",
       "      <td>2025-07-22_0</td>\n",
       "      <td>2025-07-22_0_2</td>\n",
       "      <td>2025-07-22_0_4</td>\n",
       "      <td>2025-07-22_0_6</td>\n",
       "      <td>805</td>\n",
       "    </tr>\n",
       "    <tr>\n",
       "      <th>805</th>\n",
       "      <td>806</td>\n",
       "      <td>3.0</td>\n",
       "      <td>1753159872</td>\n",
       "      <td>2025-07-22 00:51:12-04:00</td>\n",
       "      <td>1753159881</td>\n",
       "      <td>2025-07-22 00:51:21-04:00</td>\n",
       "      <td>792</td>\n",
       "      <td>Genesis_28:19</td>\n",
       "      <td>And he called the name of the city, 'Bethel,' ...</td>\n",
       "      <td>74</td>\n",
       "      <td>107.805041</td>\n",
       "      <td>8.237092</td>\n",
       "      <td>0.067568</td>\n",
       "      <td>0.108108</td>\n",
       "      <td>0</td>\n",
       "      <td>KJB3</td>\n",
       "      <td>Cherry_Red</td>\n",
       "      <td>NaN</td>\n",
       "      <td>NaN</td>\n",
       "      <td>Testing_Notes_Function</td>\n",
       "      <td>2025-07-22</td>\n",
       "      <td>0</td>\n",
       "      <td>51</td>\n",
       "      <td>2</td>\n",
       "      <td>4</td>\n",
       "      <td>6</td>\n",
       "      <td>2025-07-22</td>\n",
       "      <td>0</td>\n",
       "      <td>51</td>\n",
       "      <td>2</td>\n",
       "      <td>4</td>\n",
       "      <td>6</td>\n",
       "      <td>2025-07-22_0</td>\n",
       "      <td>2025-07-22_0_2</td>\n",
       "      <td>2025-07-22_0_4</td>\n",
       "      <td>2025-07-22_0_6</td>\n",
       "      <td>806</td>\n",
       "    </tr>\n",
       "    <tr>\n",
       "      <th>806</th>\n",
       "      <td>807</td>\n",
       "      <td>1.0</td>\n",
       "      <td>1753160243</td>\n",
       "      <td>2025-07-22 00:57:23-04:00</td>\n",
       "      <td>1753160255</td>\n",
       "      <td>2025-07-22 00:57:35-04:00</td>\n",
       "      <td>793</td>\n",
       "      <td>Genesis_28:20</td>\n",
       "      <td>And then he made a vow, saying: \"If God will b...</td>\n",
       "      <td>157</td>\n",
       "      <td>161.714902</td>\n",
       "      <td>11.650132</td>\n",
       "      <td>0.000000</td>\n",
       "      <td>0.000000</td>\n",
       "      <td>0</td>\n",
       "      <td>KJB3</td>\n",
       "      <td>Cherry_Red</td>\n",
       "      <td>Home</td>\n",
       "      <td>NaN</td>\n",
       "      <td>NaN</td>\n",
       "      <td>2025-07-22</td>\n",
       "      <td>0</td>\n",
       "      <td>57</td>\n",
       "      <td>2</td>\n",
       "      <td>4</td>\n",
       "      <td>6</td>\n",
       "      <td>2025-07-22</td>\n",
       "      <td>0</td>\n",
       "      <td>57</td>\n",
       "      <td>2</td>\n",
       "      <td>4</td>\n",
       "      <td>6</td>\n",
       "      <td>2025-07-22_0</td>\n",
       "      <td>2025-07-22_0_2</td>\n",
       "      <td>2025-07-22_0_4</td>\n",
       "      <td>2025-07-22_0_6</td>\n",
       "      <td>807</td>\n",
       "    </tr>\n",
       "  </tbody>\n",
       "</table>\n",
       "</div>"
      ],
      "text/plain": [
       "     Test number  Within_Session_Test_Number  Unix_Test_Start_Time  \\\n",
       "794          795                         1.0            1753156345   \n",
       "795          796                         2.0            1753156360   \n",
       "796          797                         1.0            1753157077   \n",
       "797          798                         2.0            1753157084   \n",
       "798          799                         1.0            1753157504   \n",
       "799          800                         2.0            1753157521   \n",
       "800          801                         3.0            1753157540   \n",
       "801          802                         1.0            1753159004   \n",
       "802          803                         2.0            1753159022   \n",
       "803          804                         1.0            1753159814   \n",
       "804          805                         2.0            1753159828   \n",
       "805          806                         3.0            1753159872   \n",
       "806          807                         1.0            1753160243   \n",
       "\n",
       "        Local_Test_Start_Time  Unix_Test_End_Time       Local_Test_End_Time  \\\n",
       "794 2025-07-21 23:52:25-04:00          1753156352 2025-07-21 23:52:32-04:00   \n",
       "795 2025-07-21 23:52:40-04:00          1753156373 2025-07-21 23:52:53-04:00   \n",
       "796 2025-07-22 00:04:37-04:00          1753157083 2025-07-22 00:04:43-04:00   \n",
       "797 2025-07-22 00:04:44-04:00          1753157097 2025-07-22 00:04:57-04:00   \n",
       "798 2025-07-22 00:11:44-04:00          1753157519 2025-07-22 00:11:59-04:00   \n",
       "799 2025-07-22 00:12:01-04:00          1753157537 2025-07-22 00:12:17-04:00   \n",
       "800 2025-07-22 00:12:20-04:00          1753157561 2025-07-22 00:12:41-04:00   \n",
       "801 2025-07-22 00:36:44-04:00          1753159018 2025-07-22 00:36:58-04:00   \n",
       "802 2025-07-22 00:37:02-04:00          1753159030 2025-07-22 00:37:10-04:00   \n",
       "803 2025-07-22 00:50:14-04:00          1753159826 2025-07-22 00:50:26-04:00   \n",
       "804 2025-07-22 00:50:28-04:00          1753159842 2025-07-22 00:50:42-04:00   \n",
       "805 2025-07-22 00:51:12-04:00          1753159881 2025-07-22 00:51:21-04:00   \n",
       "806 2025-07-22 00:57:23-04:00          1753160255 2025-07-22 00:57:35-04:00   \n",
       "\n",
       "     Verse_ID     Verse_Code  \\\n",
       "794       781   Genesis_28:8   \n",
       "795       782   Genesis_28:9   \n",
       "796       783  Genesis_28:10   \n",
       "797       784  Genesis_28:11   \n",
       "798       785  Genesis_28:12   \n",
       "799       786  Genesis_28:13   \n",
       "800       787  Genesis_28:14   \n",
       "801       788  Genesis_28:15   \n",
       "802       789  Genesis_28:16   \n",
       "803       790  Genesis_28:17   \n",
       "804       791  Genesis_28:18   \n",
       "805       792  Genesis_28:19   \n",
       "806       793  Genesis_28:20   \n",
       "\n",
       "                                                 Verse  Characters  \\\n",
       "794  having evidence also that his father did not l...          90   \n",
       "795  he went to Ishmael, and he took as a wife, bes...         144   \n",
       "796  Meanwhile Jacob, having departed from Beersheb...          71   \n",
       "797  And when he had arrived at a certain place, wh...         197   \n",
       "798  And he saw in his sleep: a ladder standing upo...         144   \n",
       "799  and the Lord, leaning upon the ladder, saying ...         195   \n",
       "800  And your offspring will be like the dust of th...         226   \n",
       "801  And I will be your guardian wherever you will ...         173   \n",
       "802  And when Jacob had awakened from sleep, he sai...         107   \n",
       "803  And being terrified, he said: \"How terrible th...         130   \n",
       "804  Therefore, Jacob, arising in the morning, took...         143   \n",
       "805  And he called the name of the city, 'Bethel,' ...          74   \n",
       "806  And then he made a vow, saying: \"If God will b...         157   \n",
       "\n",
       "            WPM  Test_Seconds  Error_Rate  Error_and_Backspace_Rate  \\\n",
       "794  168.992686      6.390809    0.000000                  0.000000   \n",
       "795  132.035605     13.087379    0.027778                  0.055556   \n",
       "796  158.429362      5.377791    0.000000                  0.000000   \n",
       "797  172.344262     13.716732    0.000000                  0.000000   \n",
       "798  121.825972     14.184168    0.055556                  0.069444   \n",
       "799  145.659219     16.064895    0.015385                  0.030769   \n",
       "800  124.501498     21.782870    0.079646                  0.132743   \n",
       "801  148.405079     13.988740    0.005780                  0.011561   \n",
       "802  148.629494      8.638931    0.000000                  0.000000   \n",
       "803  134.531302     11.595814    0.030769                  0.061538   \n",
       "804  120.519824     14.238321    0.041958                  0.083916   \n",
       "805  107.805041      8.237092    0.067568                  0.108108   \n",
       "806  161.714902     11.650132    0.000000                  0.000000   \n",
       "\n",
       "     Marathon_Mode Player       Tag_1 Tag_2  Tag_3                   Notes  \\\n",
       "794              0   KJB3  Cherry_Red   NaN    NaN                     NaN   \n",
       "795              0   KJB3  Cherry_Red   NaN    NaN                     NaN   \n",
       "796              0   KJB3  Cherry_Red   NaN    NaN                     NaN   \n",
       "797              0   KJB3  Cherry_Red   NaN    NaN                     NaN   \n",
       "798              0   KJB3  Cherry_Red   NaN    NaN                     NaN   \n",
       "799              0   KJB3  Cherry_Red   NaN    NaN                     NaN   \n",
       "800              0   KJB3  Cherry_Red   NaN    NaN                     NaN   \n",
       "801              0   KJB3  Cherry_Red   NaN    NaN                     NaN   \n",
       "802              0   KJB3  Cherry_Red   NaN    NaN                     NaN   \n",
       "803              0   KJB3  Cherry_Red   NaN    NaN  Testing_Notes_Function   \n",
       "804              0   KJB3  Cherry_Red   NaN    NaN  Testing_Notes_Function   \n",
       "805              0   KJB3  Cherry_Red   NaN    NaN  Testing_Notes_Function   \n",
       "806              0   KJB3  Cherry_Red  Home    NaN                     NaN   \n",
       "\n",
       "     Start Date  Start Hour  Start Minute  Start 30-Minute Block  \\\n",
       "794  2025-07-21          23            52                      2   \n",
       "795  2025-07-21          23            52                      2   \n",
       "796  2025-07-22           0             4                      1   \n",
       "797  2025-07-22           0             4                      1   \n",
       "798  2025-07-22           0            11                      1   \n",
       "799  2025-07-22           0            12                      1   \n",
       "800  2025-07-22           0            12                      1   \n",
       "801  2025-07-22           0            36                      2   \n",
       "802  2025-07-22           0            37                      2   \n",
       "803  2025-07-22           0            50                      2   \n",
       "804  2025-07-22           0            50                      2   \n",
       "805  2025-07-22           0            51                      2   \n",
       "806  2025-07-22           0            57                      2   \n",
       "\n",
       "     Start 15-Minute Block  Start 10-Minute Block    End Date  End Hour  \\\n",
       "794                      4                      6  2025-07-21        23   \n",
       "795                      4                      6  2025-07-21        23   \n",
       "796                      1                      1  2025-07-22         0   \n",
       "797                      1                      1  2025-07-22         0   \n",
       "798                      1                      2  2025-07-22         0   \n",
       "799                      1                      2  2025-07-22         0   \n",
       "800                      1                      2  2025-07-22         0   \n",
       "801                      3                      4  2025-07-22         0   \n",
       "802                      3                      4  2025-07-22         0   \n",
       "803                      4                      6  2025-07-22         0   \n",
       "804                      4                      6  2025-07-22         0   \n",
       "805                      4                      6  2025-07-22         0   \n",
       "806                      4                      6  2025-07-22         0   \n",
       "\n",
       "     End Minute  End 30-Minute Block  End 15-Minute Block  \\\n",
       "794          52                    2                    4   \n",
       "795          52                    2                    4   \n",
       "796           4                    1                    1   \n",
       "797           4                    1                    1   \n",
       "798          11                    1                    1   \n",
       "799          12                    1                    1   \n",
       "800          12                    1                    1   \n",
       "801          36                    2                    3   \n",
       "802          37                    2                    3   \n",
       "803          50                    2                    4   \n",
       "804          50                    2                    4   \n",
       "805          51                    2                    4   \n",
       "806          57                    2                    4   \n",
       "\n",
       "     End 10-Minute Block    Unique Hour Unique 30-Minute Block  \\\n",
       "794                    6  2025-07-21_23        2025-07-21_23_2   \n",
       "795                    6  2025-07-21_23        2025-07-21_23_2   \n",
       "796                    1   2025-07-22_0         2025-07-22_0_1   \n",
       "797                    1   2025-07-22_0         2025-07-22_0_1   \n",
       "798                    2   2025-07-22_0         2025-07-22_0_1   \n",
       "799                    2   2025-07-22_0         2025-07-22_0_1   \n",
       "800                    2   2025-07-22_0         2025-07-22_0_1   \n",
       "801                    4   2025-07-22_0         2025-07-22_0_2   \n",
       "802                    4   2025-07-22_0         2025-07-22_0_2   \n",
       "803                    6   2025-07-22_0         2025-07-22_0_2   \n",
       "804                    6   2025-07-22_0         2025-07-22_0_2   \n",
       "805                    6   2025-07-22_0         2025-07-22_0_2   \n",
       "806                    6   2025-07-22_0         2025-07-22_0_2   \n",
       "\n",
       "    Unique 15-Minute Block Unique 10-Minute Block Test number as string  \n",
       "794        2025-07-21_23_4        2025-07-21_23_6                   795  \n",
       "795        2025-07-21_23_4        2025-07-21_23_6                   796  \n",
       "796         2025-07-22_0_1         2025-07-22_0_1                   797  \n",
       "797         2025-07-22_0_1         2025-07-22_0_1                   798  \n",
       "798         2025-07-22_0_1         2025-07-22_0_2                   799  \n",
       "799         2025-07-22_0_1         2025-07-22_0_2                   800  \n",
       "800         2025-07-22_0_1         2025-07-22_0_2                   801  \n",
       "801         2025-07-22_0_3         2025-07-22_0_4                   802  \n",
       "802         2025-07-22_0_3         2025-07-22_0_4                   803  \n",
       "803         2025-07-22_0_4         2025-07-22_0_6                   804  \n",
       "804         2025-07-22_0_4         2025-07-22_0_6                   805  \n",
       "805         2025-07-22_0_4         2025-07-22_0_6                   806  \n",
       "806         2025-07-22_0_4         2025-07-22_0_6                   807  "
      ]
     },
     "execution_count": 21,
     "metadata": {},
     "output_type": "execute_result"
    }
   ],
   "source": [
    "df_tr.query(\n",
    "    \"Within_Session_Test_Number.notna()\").sort_values('Test number').copy()"
   ]
  },
  {
   "cell_type": "code",
   "execution_count": 22,
   "id": "316d9e8f-322f-4ed9-a2e5-70ee66dbc796",
   "metadata": {
    "execution": {
     "iopub.execute_input": "2025-07-22T05:37:14.433520Z",
     "iopub.status.busy": "2025-07-22T05:37:14.433412Z",
     "iopub.status.idle": "2025-07-22T05:37:14.449864Z",
     "shell.execute_reply": "2025-07-22T05:37:14.449572Z",
     "shell.execute_reply.started": "2025-07-22T05:37:14.433511Z"
    }
   },
   "outputs": [
    {
     "data": {
      "text/html": [
       "<div>\n",
       "<style scoped>\n",
       "    .dataframe tbody tr th:only-of-type {\n",
       "        vertical-align: middle;\n",
       "    }\n",
       "\n",
       "    .dataframe tbody tr th {\n",
       "        vertical-align: top;\n",
       "    }\n",
       "\n",
       "    .dataframe thead th {\n",
       "        text-align: right;\n",
       "    }\n",
       "</style>\n",
       "<table border=\"1\" class=\"dataframe\">\n",
       "  <thead>\n",
       "    <tr style=\"text-align: right;\">\n",
       "      <th></th>\n",
       "      <th>Test number</th>\n",
       "      <th>Within_Session_Test_Number</th>\n",
       "      <th>Unix_Test_Start_Time</th>\n",
       "      <th>Local_Test_Start_Time</th>\n",
       "      <th>Unix_Test_End_Time</th>\n",
       "      <th>Local_Test_End_Time</th>\n",
       "      <th>Verse_ID</th>\n",
       "      <th>Verse_Code</th>\n",
       "      <th>Verse</th>\n",
       "      <th>Characters</th>\n",
       "      <th>WPM</th>\n",
       "      <th>Test_Seconds</th>\n",
       "      <th>Error_Rate</th>\n",
       "      <th>Error_and_Backspace_Rate</th>\n",
       "      <th>Marathon_Mode</th>\n",
       "      <th>Player</th>\n",
       "      <th>Tag_1</th>\n",
       "      <th>Tag_2</th>\n",
       "      <th>Tag_3</th>\n",
       "      <th>Notes</th>\n",
       "      <th>Start Date</th>\n",
       "      <th>Start Hour</th>\n",
       "      <th>Start Minute</th>\n",
       "      <th>Start 30-Minute Block</th>\n",
       "      <th>Start 15-Minute Block</th>\n",
       "      <th>Start 10-Minute Block</th>\n",
       "      <th>End Date</th>\n",
       "      <th>End Hour</th>\n",
       "      <th>End Minute</th>\n",
       "      <th>End 30-Minute Block</th>\n",
       "      <th>End 15-Minute Block</th>\n",
       "      <th>End 10-Minute Block</th>\n",
       "      <th>Unique Hour</th>\n",
       "      <th>Unique 30-Minute Block</th>\n",
       "      <th>Unique 15-Minute Block</th>\n",
       "      <th>Unique 10-Minute Block</th>\n",
       "      <th>Test number as string</th>\n",
       "    </tr>\n",
       "  </thead>\n",
       "  <tbody>\n",
       "    <tr>\n",
       "      <th>794</th>\n",
       "      <td>795</td>\n",
       "      <td>1</td>\n",
       "      <td>1753156345</td>\n",
       "      <td>2025-07-21 23:52:25-04:00</td>\n",
       "      <td>1753156352</td>\n",
       "      <td>2025-07-21 23:52:32-04:00</td>\n",
       "      <td>781</td>\n",
       "      <td>Genesis_28:8</td>\n",
       "      <td>having evidence also that his father did not l...</td>\n",
       "      <td>90</td>\n",
       "      <td>168.992686</td>\n",
       "      <td>6.390809</td>\n",
       "      <td>0.000000</td>\n",
       "      <td>0.000000</td>\n",
       "      <td>0</td>\n",
       "      <td>KJB3</td>\n",
       "      <td>Cherry_Red</td>\n",
       "      <td>NaN</td>\n",
       "      <td>NaN</td>\n",
       "      <td>NaN</td>\n",
       "      <td>2025-07-21</td>\n",
       "      <td>23</td>\n",
       "      <td>52</td>\n",
       "      <td>2</td>\n",
       "      <td>4</td>\n",
       "      <td>6</td>\n",
       "      <td>2025-07-21</td>\n",
       "      <td>23</td>\n",
       "      <td>52</td>\n",
       "      <td>2</td>\n",
       "      <td>4</td>\n",
       "      <td>6</td>\n",
       "      <td>2025-07-21_23</td>\n",
       "      <td>2025-07-21_23_2</td>\n",
       "      <td>2025-07-21_23_4</td>\n",
       "      <td>2025-07-21_23_6</td>\n",
       "      <td>795</td>\n",
       "    </tr>\n",
       "    <tr>\n",
       "      <th>795</th>\n",
       "      <td>796</td>\n",
       "      <td>2</td>\n",
       "      <td>1753156360</td>\n",
       "      <td>2025-07-21 23:52:40-04:00</td>\n",
       "      <td>1753156373</td>\n",
       "      <td>2025-07-21 23:52:53-04:00</td>\n",
       "      <td>782</td>\n",
       "      <td>Genesis_28:9</td>\n",
       "      <td>he went to Ishmael, and he took as a wife, bes...</td>\n",
       "      <td>144</td>\n",
       "      <td>132.035605</td>\n",
       "      <td>13.087379</td>\n",
       "      <td>0.027778</td>\n",
       "      <td>0.055556</td>\n",
       "      <td>0</td>\n",
       "      <td>KJB3</td>\n",
       "      <td>Cherry_Red</td>\n",
       "      <td>NaN</td>\n",
       "      <td>NaN</td>\n",
       "      <td>NaN</td>\n",
       "      <td>2025-07-21</td>\n",
       "      <td>23</td>\n",
       "      <td>52</td>\n",
       "      <td>2</td>\n",
       "      <td>4</td>\n",
       "      <td>6</td>\n",
       "      <td>2025-07-21</td>\n",
       "      <td>23</td>\n",
       "      <td>52</td>\n",
       "      <td>2</td>\n",
       "      <td>4</td>\n",
       "      <td>6</td>\n",
       "      <td>2025-07-21_23</td>\n",
       "      <td>2025-07-21_23_2</td>\n",
       "      <td>2025-07-21_23_4</td>\n",
       "      <td>2025-07-21_23_6</td>\n",
       "      <td>796</td>\n",
       "    </tr>\n",
       "    <tr>\n",
       "      <th>796</th>\n",
       "      <td>797</td>\n",
       "      <td>1</td>\n",
       "      <td>1753157077</td>\n",
       "      <td>2025-07-22 00:04:37-04:00</td>\n",
       "      <td>1753157083</td>\n",
       "      <td>2025-07-22 00:04:43-04:00</td>\n",
       "      <td>783</td>\n",
       "      <td>Genesis_28:10</td>\n",
       "      <td>Meanwhile Jacob, having departed from Beersheb...</td>\n",
       "      <td>71</td>\n",
       "      <td>158.429362</td>\n",
       "      <td>5.377791</td>\n",
       "      <td>0.000000</td>\n",
       "      <td>0.000000</td>\n",
       "      <td>0</td>\n",
       "      <td>KJB3</td>\n",
       "      <td>Cherry_Red</td>\n",
       "      <td>NaN</td>\n",
       "      <td>NaN</td>\n",
       "      <td>NaN</td>\n",
       "      <td>2025-07-22</td>\n",
       "      <td>0</td>\n",
       "      <td>4</td>\n",
       "      <td>1</td>\n",
       "      <td>1</td>\n",
       "      <td>1</td>\n",
       "      <td>2025-07-22</td>\n",
       "      <td>0</td>\n",
       "      <td>4</td>\n",
       "      <td>1</td>\n",
       "      <td>1</td>\n",
       "      <td>1</td>\n",
       "      <td>2025-07-22_0</td>\n",
       "      <td>2025-07-22_0_1</td>\n",
       "      <td>2025-07-22_0_1</td>\n",
       "      <td>2025-07-22_0_1</td>\n",
       "      <td>797</td>\n",
       "    </tr>\n",
       "    <tr>\n",
       "      <th>797</th>\n",
       "      <td>798</td>\n",
       "      <td>2</td>\n",
       "      <td>1753157084</td>\n",
       "      <td>2025-07-22 00:04:44-04:00</td>\n",
       "      <td>1753157097</td>\n",
       "      <td>2025-07-22 00:04:57-04:00</td>\n",
       "      <td>784</td>\n",
       "      <td>Genesis_28:11</td>\n",
       "      <td>And when he had arrived at a certain place, wh...</td>\n",
       "      <td>197</td>\n",
       "      <td>172.344262</td>\n",
       "      <td>13.716732</td>\n",
       "      <td>0.000000</td>\n",
       "      <td>0.000000</td>\n",
       "      <td>0</td>\n",
       "      <td>KJB3</td>\n",
       "      <td>Cherry_Red</td>\n",
       "      <td>NaN</td>\n",
       "      <td>NaN</td>\n",
       "      <td>NaN</td>\n",
       "      <td>2025-07-22</td>\n",
       "      <td>0</td>\n",
       "      <td>4</td>\n",
       "      <td>1</td>\n",
       "      <td>1</td>\n",
       "      <td>1</td>\n",
       "      <td>2025-07-22</td>\n",
       "      <td>0</td>\n",
       "      <td>4</td>\n",
       "      <td>1</td>\n",
       "      <td>1</td>\n",
       "      <td>1</td>\n",
       "      <td>2025-07-22_0</td>\n",
       "      <td>2025-07-22_0_1</td>\n",
       "      <td>2025-07-22_0_1</td>\n",
       "      <td>2025-07-22_0_1</td>\n",
       "      <td>798</td>\n",
       "    </tr>\n",
       "    <tr>\n",
       "      <th>798</th>\n",
       "      <td>799</td>\n",
       "      <td>1</td>\n",
       "      <td>1753157504</td>\n",
       "      <td>2025-07-22 00:11:44-04:00</td>\n",
       "      <td>1753157519</td>\n",
       "      <td>2025-07-22 00:11:59-04:00</td>\n",
       "      <td>785</td>\n",
       "      <td>Genesis_28:12</td>\n",
       "      <td>And he saw in his sleep: a ladder standing upo...</td>\n",
       "      <td>144</td>\n",
       "      <td>121.825972</td>\n",
       "      <td>14.184168</td>\n",
       "      <td>0.055556</td>\n",
       "      <td>0.069444</td>\n",
       "      <td>0</td>\n",
       "      <td>KJB3</td>\n",
       "      <td>Cherry_Red</td>\n",
       "      <td>NaN</td>\n",
       "      <td>NaN</td>\n",
       "      <td>NaN</td>\n",
       "      <td>2025-07-22</td>\n",
       "      <td>0</td>\n",
       "      <td>11</td>\n",
       "      <td>1</td>\n",
       "      <td>1</td>\n",
       "      <td>2</td>\n",
       "      <td>2025-07-22</td>\n",
       "      <td>0</td>\n",
       "      <td>11</td>\n",
       "      <td>1</td>\n",
       "      <td>1</td>\n",
       "      <td>2</td>\n",
       "      <td>2025-07-22_0</td>\n",
       "      <td>2025-07-22_0_1</td>\n",
       "      <td>2025-07-22_0_1</td>\n",
       "      <td>2025-07-22_0_2</td>\n",
       "      <td>799</td>\n",
       "    </tr>\n",
       "    <tr>\n",
       "      <th>799</th>\n",
       "      <td>800</td>\n",
       "      <td>2</td>\n",
       "      <td>1753157521</td>\n",
       "      <td>2025-07-22 00:12:01-04:00</td>\n",
       "      <td>1753157537</td>\n",
       "      <td>2025-07-22 00:12:17-04:00</td>\n",
       "      <td>786</td>\n",
       "      <td>Genesis_28:13</td>\n",
       "      <td>and the Lord, leaning upon the ladder, saying ...</td>\n",
       "      <td>195</td>\n",
       "      <td>145.659219</td>\n",
       "      <td>16.064895</td>\n",
       "      <td>0.015385</td>\n",
       "      <td>0.030769</td>\n",
       "      <td>0</td>\n",
       "      <td>KJB3</td>\n",
       "      <td>Cherry_Red</td>\n",
       "      <td>NaN</td>\n",
       "      <td>NaN</td>\n",
       "      <td>NaN</td>\n",
       "      <td>2025-07-22</td>\n",
       "      <td>0</td>\n",
       "      <td>12</td>\n",
       "      <td>1</td>\n",
       "      <td>1</td>\n",
       "      <td>2</td>\n",
       "      <td>2025-07-22</td>\n",
       "      <td>0</td>\n",
       "      <td>12</td>\n",
       "      <td>1</td>\n",
       "      <td>1</td>\n",
       "      <td>2</td>\n",
       "      <td>2025-07-22_0</td>\n",
       "      <td>2025-07-22_0_1</td>\n",
       "      <td>2025-07-22_0_1</td>\n",
       "      <td>2025-07-22_0_2</td>\n",
       "      <td>800</td>\n",
       "    </tr>\n",
       "    <tr>\n",
       "      <th>800</th>\n",
       "      <td>801</td>\n",
       "      <td>3</td>\n",
       "      <td>1753157540</td>\n",
       "      <td>2025-07-22 00:12:20-04:00</td>\n",
       "      <td>1753157561</td>\n",
       "      <td>2025-07-22 00:12:41-04:00</td>\n",
       "      <td>787</td>\n",
       "      <td>Genesis_28:14</td>\n",
       "      <td>And your offspring will be like the dust of th...</td>\n",
       "      <td>226</td>\n",
       "      <td>124.501498</td>\n",
       "      <td>21.782870</td>\n",
       "      <td>0.079646</td>\n",
       "      <td>0.132743</td>\n",
       "      <td>0</td>\n",
       "      <td>KJB3</td>\n",
       "      <td>Cherry_Red</td>\n",
       "      <td>NaN</td>\n",
       "      <td>NaN</td>\n",
       "      <td>NaN</td>\n",
       "      <td>2025-07-22</td>\n",
       "      <td>0</td>\n",
       "      <td>12</td>\n",
       "      <td>1</td>\n",
       "      <td>1</td>\n",
       "      <td>2</td>\n",
       "      <td>2025-07-22</td>\n",
       "      <td>0</td>\n",
       "      <td>12</td>\n",
       "      <td>1</td>\n",
       "      <td>1</td>\n",
       "      <td>2</td>\n",
       "      <td>2025-07-22_0</td>\n",
       "      <td>2025-07-22_0_1</td>\n",
       "      <td>2025-07-22_0_1</td>\n",
       "      <td>2025-07-22_0_2</td>\n",
       "      <td>801</td>\n",
       "    </tr>\n",
       "    <tr>\n",
       "      <th>801</th>\n",
       "      <td>802</td>\n",
       "      <td>1</td>\n",
       "      <td>1753159004</td>\n",
       "      <td>2025-07-22 00:36:44-04:00</td>\n",
       "      <td>1753159018</td>\n",
       "      <td>2025-07-22 00:36:58-04:00</td>\n",
       "      <td>788</td>\n",
       "      <td>Genesis_28:15</td>\n",
       "      <td>And I will be your guardian wherever you will ...</td>\n",
       "      <td>173</td>\n",
       "      <td>148.405079</td>\n",
       "      <td>13.988740</td>\n",
       "      <td>0.005780</td>\n",
       "      <td>0.011561</td>\n",
       "      <td>0</td>\n",
       "      <td>KJB3</td>\n",
       "      <td>Cherry_Red</td>\n",
       "      <td>NaN</td>\n",
       "      <td>NaN</td>\n",
       "      <td>NaN</td>\n",
       "      <td>2025-07-22</td>\n",
       "      <td>0</td>\n",
       "      <td>36</td>\n",
       "      <td>2</td>\n",
       "      <td>3</td>\n",
       "      <td>4</td>\n",
       "      <td>2025-07-22</td>\n",
       "      <td>0</td>\n",
       "      <td>36</td>\n",
       "      <td>2</td>\n",
       "      <td>3</td>\n",
       "      <td>4</td>\n",
       "      <td>2025-07-22_0</td>\n",
       "      <td>2025-07-22_0_2</td>\n",
       "      <td>2025-07-22_0_3</td>\n",
       "      <td>2025-07-22_0_4</td>\n",
       "      <td>802</td>\n",
       "    </tr>\n",
       "    <tr>\n",
       "      <th>802</th>\n",
       "      <td>803</td>\n",
       "      <td>2</td>\n",
       "      <td>1753159022</td>\n",
       "      <td>2025-07-22 00:37:02-04:00</td>\n",
       "      <td>1753159030</td>\n",
       "      <td>2025-07-22 00:37:10-04:00</td>\n",
       "      <td>789</td>\n",
       "      <td>Genesis_28:16</td>\n",
       "      <td>And when Jacob had awakened from sleep, he sai...</td>\n",
       "      <td>107</td>\n",
       "      <td>148.629494</td>\n",
       "      <td>8.638931</td>\n",
       "      <td>0.000000</td>\n",
       "      <td>0.000000</td>\n",
       "      <td>0</td>\n",
       "      <td>KJB3</td>\n",
       "      <td>Cherry_Red</td>\n",
       "      <td>NaN</td>\n",
       "      <td>NaN</td>\n",
       "      <td>NaN</td>\n",
       "      <td>2025-07-22</td>\n",
       "      <td>0</td>\n",
       "      <td>37</td>\n",
       "      <td>2</td>\n",
       "      <td>3</td>\n",
       "      <td>4</td>\n",
       "      <td>2025-07-22</td>\n",
       "      <td>0</td>\n",
       "      <td>37</td>\n",
       "      <td>2</td>\n",
       "      <td>3</td>\n",
       "      <td>4</td>\n",
       "      <td>2025-07-22_0</td>\n",
       "      <td>2025-07-22_0_2</td>\n",
       "      <td>2025-07-22_0_3</td>\n",
       "      <td>2025-07-22_0_4</td>\n",
       "      <td>803</td>\n",
       "    </tr>\n",
       "    <tr>\n",
       "      <th>803</th>\n",
       "      <td>804</td>\n",
       "      <td>1</td>\n",
       "      <td>1753159814</td>\n",
       "      <td>2025-07-22 00:50:14-04:00</td>\n",
       "      <td>1753159826</td>\n",
       "      <td>2025-07-22 00:50:26-04:00</td>\n",
       "      <td>790</td>\n",
       "      <td>Genesis_28:17</td>\n",
       "      <td>And being terrified, he said: \"How terrible th...</td>\n",
       "      <td>130</td>\n",
       "      <td>134.531302</td>\n",
       "      <td>11.595814</td>\n",
       "      <td>0.030769</td>\n",
       "      <td>0.061538</td>\n",
       "      <td>0</td>\n",
       "      <td>KJB3</td>\n",
       "      <td>Cherry_Red</td>\n",
       "      <td>NaN</td>\n",
       "      <td>NaN</td>\n",
       "      <td>Testing_Notes_Function</td>\n",
       "      <td>2025-07-22</td>\n",
       "      <td>0</td>\n",
       "      <td>50</td>\n",
       "      <td>2</td>\n",
       "      <td>4</td>\n",
       "      <td>6</td>\n",
       "      <td>2025-07-22</td>\n",
       "      <td>0</td>\n",
       "      <td>50</td>\n",
       "      <td>2</td>\n",
       "      <td>4</td>\n",
       "      <td>6</td>\n",
       "      <td>2025-07-22_0</td>\n",
       "      <td>2025-07-22_0_2</td>\n",
       "      <td>2025-07-22_0_4</td>\n",
       "      <td>2025-07-22_0_6</td>\n",
       "      <td>804</td>\n",
       "    </tr>\n",
       "    <tr>\n",
       "      <th>804</th>\n",
       "      <td>805</td>\n",
       "      <td>2</td>\n",
       "      <td>1753159828</td>\n",
       "      <td>2025-07-22 00:50:28-04:00</td>\n",
       "      <td>1753159842</td>\n",
       "      <td>2025-07-22 00:50:42-04:00</td>\n",
       "      <td>791</td>\n",
       "      <td>Genesis_28:18</td>\n",
       "      <td>Therefore, Jacob, arising in the morning, took...</td>\n",
       "      <td>143</td>\n",
       "      <td>120.519824</td>\n",
       "      <td>14.238321</td>\n",
       "      <td>0.041958</td>\n",
       "      <td>0.083916</td>\n",
       "      <td>0</td>\n",
       "      <td>KJB3</td>\n",
       "      <td>Cherry_Red</td>\n",
       "      <td>NaN</td>\n",
       "      <td>NaN</td>\n",
       "      <td>Testing_Notes_Function</td>\n",
       "      <td>2025-07-22</td>\n",
       "      <td>0</td>\n",
       "      <td>50</td>\n",
       "      <td>2</td>\n",
       "      <td>4</td>\n",
       "      <td>6</td>\n",
       "      <td>2025-07-22</td>\n",
       "      <td>0</td>\n",
       "      <td>50</td>\n",
       "      <td>2</td>\n",
       "      <td>4</td>\n",
       "      <td>6</td>\n",
       "      <td>2025-07-22_0</td>\n",
       "      <td>2025-07-22_0_2</td>\n",
       "      <td>2025-07-22_0_4</td>\n",
       "      <td>2025-07-22_0_6</td>\n",
       "      <td>805</td>\n",
       "    </tr>\n",
       "    <tr>\n",
       "      <th>805</th>\n",
       "      <td>806</td>\n",
       "      <td>3</td>\n",
       "      <td>1753159872</td>\n",
       "      <td>2025-07-22 00:51:12-04:00</td>\n",
       "      <td>1753159881</td>\n",
       "      <td>2025-07-22 00:51:21-04:00</td>\n",
       "      <td>792</td>\n",
       "      <td>Genesis_28:19</td>\n",
       "      <td>And he called the name of the city, 'Bethel,' ...</td>\n",
       "      <td>74</td>\n",
       "      <td>107.805041</td>\n",
       "      <td>8.237092</td>\n",
       "      <td>0.067568</td>\n",
       "      <td>0.108108</td>\n",
       "      <td>0</td>\n",
       "      <td>KJB3</td>\n",
       "      <td>Cherry_Red</td>\n",
       "      <td>NaN</td>\n",
       "      <td>NaN</td>\n",
       "      <td>Testing_Notes_Function</td>\n",
       "      <td>2025-07-22</td>\n",
       "      <td>0</td>\n",
       "      <td>51</td>\n",
       "      <td>2</td>\n",
       "      <td>4</td>\n",
       "      <td>6</td>\n",
       "      <td>2025-07-22</td>\n",
       "      <td>0</td>\n",
       "      <td>51</td>\n",
       "      <td>2</td>\n",
       "      <td>4</td>\n",
       "      <td>6</td>\n",
       "      <td>2025-07-22_0</td>\n",
       "      <td>2025-07-22_0_2</td>\n",
       "      <td>2025-07-22_0_4</td>\n",
       "      <td>2025-07-22_0_6</td>\n",
       "      <td>806</td>\n",
       "    </tr>\n",
       "    <tr>\n",
       "      <th>806</th>\n",
       "      <td>807</td>\n",
       "      <td>1</td>\n",
       "      <td>1753160243</td>\n",
       "      <td>2025-07-22 00:57:23-04:00</td>\n",
       "      <td>1753160255</td>\n",
       "      <td>2025-07-22 00:57:35-04:00</td>\n",
       "      <td>793</td>\n",
       "      <td>Genesis_28:20</td>\n",
       "      <td>And then he made a vow, saying: \"If God will b...</td>\n",
       "      <td>157</td>\n",
       "      <td>161.714902</td>\n",
       "      <td>11.650132</td>\n",
       "      <td>0.000000</td>\n",
       "      <td>0.000000</td>\n",
       "      <td>0</td>\n",
       "      <td>KJB3</td>\n",
       "      <td>Cherry_Red</td>\n",
       "      <td>Home</td>\n",
       "      <td>NaN</td>\n",
       "      <td>NaN</td>\n",
       "      <td>2025-07-22</td>\n",
       "      <td>0</td>\n",
       "      <td>57</td>\n",
       "      <td>2</td>\n",
       "      <td>4</td>\n",
       "      <td>6</td>\n",
       "      <td>2025-07-22</td>\n",
       "      <td>0</td>\n",
       "      <td>57</td>\n",
       "      <td>2</td>\n",
       "      <td>4</td>\n",
       "      <td>6</td>\n",
       "      <td>2025-07-22_0</td>\n",
       "      <td>2025-07-22_0_2</td>\n",
       "      <td>2025-07-22_0_4</td>\n",
       "      <td>2025-07-22_0_6</td>\n",
       "      <td>807</td>\n",
       "    </tr>\n",
       "  </tbody>\n",
       "</table>\n",
       "</div>"
      ],
      "text/plain": [
       "     Test number  Within_Session_Test_Number  Unix_Test_Start_Time  \\\n",
       "794          795                           1            1753156345   \n",
       "795          796                           2            1753156360   \n",
       "796          797                           1            1753157077   \n",
       "797          798                           2            1753157084   \n",
       "798          799                           1            1753157504   \n",
       "799          800                           2            1753157521   \n",
       "800          801                           3            1753157540   \n",
       "801          802                           1            1753159004   \n",
       "802          803                           2            1753159022   \n",
       "803          804                           1            1753159814   \n",
       "804          805                           2            1753159828   \n",
       "805          806                           3            1753159872   \n",
       "806          807                           1            1753160243   \n",
       "\n",
       "        Local_Test_Start_Time  Unix_Test_End_Time       Local_Test_End_Time  \\\n",
       "794 2025-07-21 23:52:25-04:00          1753156352 2025-07-21 23:52:32-04:00   \n",
       "795 2025-07-21 23:52:40-04:00          1753156373 2025-07-21 23:52:53-04:00   \n",
       "796 2025-07-22 00:04:37-04:00          1753157083 2025-07-22 00:04:43-04:00   \n",
       "797 2025-07-22 00:04:44-04:00          1753157097 2025-07-22 00:04:57-04:00   \n",
       "798 2025-07-22 00:11:44-04:00          1753157519 2025-07-22 00:11:59-04:00   \n",
       "799 2025-07-22 00:12:01-04:00          1753157537 2025-07-22 00:12:17-04:00   \n",
       "800 2025-07-22 00:12:20-04:00          1753157561 2025-07-22 00:12:41-04:00   \n",
       "801 2025-07-22 00:36:44-04:00          1753159018 2025-07-22 00:36:58-04:00   \n",
       "802 2025-07-22 00:37:02-04:00          1753159030 2025-07-22 00:37:10-04:00   \n",
       "803 2025-07-22 00:50:14-04:00          1753159826 2025-07-22 00:50:26-04:00   \n",
       "804 2025-07-22 00:50:28-04:00          1753159842 2025-07-22 00:50:42-04:00   \n",
       "805 2025-07-22 00:51:12-04:00          1753159881 2025-07-22 00:51:21-04:00   \n",
       "806 2025-07-22 00:57:23-04:00          1753160255 2025-07-22 00:57:35-04:00   \n",
       "\n",
       "     Verse_ID     Verse_Code  \\\n",
       "794       781   Genesis_28:8   \n",
       "795       782   Genesis_28:9   \n",
       "796       783  Genesis_28:10   \n",
       "797       784  Genesis_28:11   \n",
       "798       785  Genesis_28:12   \n",
       "799       786  Genesis_28:13   \n",
       "800       787  Genesis_28:14   \n",
       "801       788  Genesis_28:15   \n",
       "802       789  Genesis_28:16   \n",
       "803       790  Genesis_28:17   \n",
       "804       791  Genesis_28:18   \n",
       "805       792  Genesis_28:19   \n",
       "806       793  Genesis_28:20   \n",
       "\n",
       "                                                 Verse  Characters  \\\n",
       "794  having evidence also that his father did not l...          90   \n",
       "795  he went to Ishmael, and he took as a wife, bes...         144   \n",
       "796  Meanwhile Jacob, having departed from Beersheb...          71   \n",
       "797  And when he had arrived at a certain place, wh...         197   \n",
       "798  And he saw in his sleep: a ladder standing upo...         144   \n",
       "799  and the Lord, leaning upon the ladder, saying ...         195   \n",
       "800  And your offspring will be like the dust of th...         226   \n",
       "801  And I will be your guardian wherever you will ...         173   \n",
       "802  And when Jacob had awakened from sleep, he sai...         107   \n",
       "803  And being terrified, he said: \"How terrible th...         130   \n",
       "804  Therefore, Jacob, arising in the morning, took...         143   \n",
       "805  And he called the name of the city, 'Bethel,' ...          74   \n",
       "806  And then he made a vow, saying: \"If God will b...         157   \n",
       "\n",
       "            WPM  Test_Seconds  Error_Rate  Error_and_Backspace_Rate  \\\n",
       "794  168.992686      6.390809    0.000000                  0.000000   \n",
       "795  132.035605     13.087379    0.027778                  0.055556   \n",
       "796  158.429362      5.377791    0.000000                  0.000000   \n",
       "797  172.344262     13.716732    0.000000                  0.000000   \n",
       "798  121.825972     14.184168    0.055556                  0.069444   \n",
       "799  145.659219     16.064895    0.015385                  0.030769   \n",
       "800  124.501498     21.782870    0.079646                  0.132743   \n",
       "801  148.405079     13.988740    0.005780                  0.011561   \n",
       "802  148.629494      8.638931    0.000000                  0.000000   \n",
       "803  134.531302     11.595814    0.030769                  0.061538   \n",
       "804  120.519824     14.238321    0.041958                  0.083916   \n",
       "805  107.805041      8.237092    0.067568                  0.108108   \n",
       "806  161.714902     11.650132    0.000000                  0.000000   \n",
       "\n",
       "     Marathon_Mode Player       Tag_1 Tag_2  Tag_3                   Notes  \\\n",
       "794              0   KJB3  Cherry_Red   NaN    NaN                     NaN   \n",
       "795              0   KJB3  Cherry_Red   NaN    NaN                     NaN   \n",
       "796              0   KJB3  Cherry_Red   NaN    NaN                     NaN   \n",
       "797              0   KJB3  Cherry_Red   NaN    NaN                     NaN   \n",
       "798              0   KJB3  Cherry_Red   NaN    NaN                     NaN   \n",
       "799              0   KJB3  Cherry_Red   NaN    NaN                     NaN   \n",
       "800              0   KJB3  Cherry_Red   NaN    NaN                     NaN   \n",
       "801              0   KJB3  Cherry_Red   NaN    NaN                     NaN   \n",
       "802              0   KJB3  Cherry_Red   NaN    NaN                     NaN   \n",
       "803              0   KJB3  Cherry_Red   NaN    NaN  Testing_Notes_Function   \n",
       "804              0   KJB3  Cherry_Red   NaN    NaN  Testing_Notes_Function   \n",
       "805              0   KJB3  Cherry_Red   NaN    NaN  Testing_Notes_Function   \n",
       "806              0   KJB3  Cherry_Red  Home    NaN                     NaN   \n",
       "\n",
       "     Start Date  Start Hour  Start Minute  Start 30-Minute Block  \\\n",
       "794  2025-07-21          23            52                      2   \n",
       "795  2025-07-21          23            52                      2   \n",
       "796  2025-07-22           0             4                      1   \n",
       "797  2025-07-22           0             4                      1   \n",
       "798  2025-07-22           0            11                      1   \n",
       "799  2025-07-22           0            12                      1   \n",
       "800  2025-07-22           0            12                      1   \n",
       "801  2025-07-22           0            36                      2   \n",
       "802  2025-07-22           0            37                      2   \n",
       "803  2025-07-22           0            50                      2   \n",
       "804  2025-07-22           0            50                      2   \n",
       "805  2025-07-22           0            51                      2   \n",
       "806  2025-07-22           0            57                      2   \n",
       "\n",
       "     Start 15-Minute Block  Start 10-Minute Block    End Date  End Hour  \\\n",
       "794                      4                      6  2025-07-21        23   \n",
       "795                      4                      6  2025-07-21        23   \n",
       "796                      1                      1  2025-07-22         0   \n",
       "797                      1                      1  2025-07-22         0   \n",
       "798                      1                      2  2025-07-22         0   \n",
       "799                      1                      2  2025-07-22         0   \n",
       "800                      1                      2  2025-07-22         0   \n",
       "801                      3                      4  2025-07-22         0   \n",
       "802                      3                      4  2025-07-22         0   \n",
       "803                      4                      6  2025-07-22         0   \n",
       "804                      4                      6  2025-07-22         0   \n",
       "805                      4                      6  2025-07-22         0   \n",
       "806                      4                      6  2025-07-22         0   \n",
       "\n",
       "     End Minute  End 30-Minute Block  End 15-Minute Block  \\\n",
       "794          52                    2                    4   \n",
       "795          52                    2                    4   \n",
       "796           4                    1                    1   \n",
       "797           4                    1                    1   \n",
       "798          11                    1                    1   \n",
       "799          12                    1                    1   \n",
       "800          12                    1                    1   \n",
       "801          36                    2                    3   \n",
       "802          37                    2                    3   \n",
       "803          50                    2                    4   \n",
       "804          50                    2                    4   \n",
       "805          51                    2                    4   \n",
       "806          57                    2                    4   \n",
       "\n",
       "     End 10-Minute Block    Unique Hour Unique 30-Minute Block  \\\n",
       "794                    6  2025-07-21_23        2025-07-21_23_2   \n",
       "795                    6  2025-07-21_23        2025-07-21_23_2   \n",
       "796                    1   2025-07-22_0         2025-07-22_0_1   \n",
       "797                    1   2025-07-22_0         2025-07-22_0_1   \n",
       "798                    2   2025-07-22_0         2025-07-22_0_1   \n",
       "799                    2   2025-07-22_0         2025-07-22_0_1   \n",
       "800                    2   2025-07-22_0         2025-07-22_0_1   \n",
       "801                    4   2025-07-22_0         2025-07-22_0_2   \n",
       "802                    4   2025-07-22_0         2025-07-22_0_2   \n",
       "803                    6   2025-07-22_0         2025-07-22_0_2   \n",
       "804                    6   2025-07-22_0         2025-07-22_0_2   \n",
       "805                    6   2025-07-22_0         2025-07-22_0_2   \n",
       "806                    6   2025-07-22_0         2025-07-22_0_2   \n",
       "\n",
       "    Unique 15-Minute Block Unique 10-Minute Block Test number as string  \n",
       "794        2025-07-21_23_4        2025-07-21_23_6                   795  \n",
       "795        2025-07-21_23_4        2025-07-21_23_6                   796  \n",
       "796         2025-07-22_0_1         2025-07-22_0_1                   797  \n",
       "797         2025-07-22_0_1         2025-07-22_0_1                   798  \n",
       "798         2025-07-22_0_1         2025-07-22_0_2                   799  \n",
       "799         2025-07-22_0_1         2025-07-22_0_2                   800  \n",
       "800         2025-07-22_0_1         2025-07-22_0_2                   801  \n",
       "801         2025-07-22_0_3         2025-07-22_0_4                   802  \n",
       "802         2025-07-22_0_3         2025-07-22_0_4                   803  \n",
       "803         2025-07-22_0_4         2025-07-22_0_6                   804  \n",
       "804         2025-07-22_0_4         2025-07-22_0_6                   805  \n",
       "805         2025-07-22_0_4         2025-07-22_0_6                   806  \n",
       "806         2025-07-22_0_4         2025-07-22_0_6                   807  "
      ]
     },
     "execution_count": 22,
     "metadata": {},
     "output_type": "execute_result"
    }
   ],
   "source": [
    "df_tr_for_wpm_by_session = df_tr.query(\"Within_Session_Test_Number.notna()\").copy()\n",
    "df_tr_for_wpm_by_session['Within_Session_Test_Number'] = df_tr_for_wpm_by_session[\n",
    "'Within_Session_Test_Number'].astype('int')\n",
    "df_tr_for_wpm_by_session"
   ]
  },
  {
   "cell_type": "markdown",
   "id": "91049321-3c5f-4702-89c2-be431f91e7ef",
   "metadata": {},
   "source": [
    "Not sure why lines aren't appearing within the following chart; I'll need to debug this further."
   ]
  },
  {
   "cell_type": "code",
   "execution_count": 23,
   "id": "c9368af5-906e-464e-b7bb-60a8020df95e",
   "metadata": {
    "execution": {
     "iopub.execute_input": "2025-07-22T05:37:14.450327Z",
     "iopub.status.busy": "2025-07-22T05:37:14.450213Z",
     "iopub.status.idle": "2025-07-22T05:37:14.499825Z",
     "shell.execute_reply": "2025-07-22T05:37:14.499506Z",
     "shell.execute_reply.started": "2025-07-22T05:37:14.450317Z"
    }
   },
   "outputs": [
    {
     "data": {
      "application/vnd.plotly.v1+json": {
       "config": {
        "plotlyServerURL": "https://plot.ly"
       },
       "data": [
        {
         "hovertemplate": "Test number as string=795<br>Within_Session_Test_Number=%{x}<br>WPM=%{y}<extra></extra>",
         "legendgroup": "795",
         "line": {
          "color": "#636efa",
          "dash": "solid"
         },
         "marker": {
          "symbol": "circle"
         },
         "mode": "markers+lines",
         "name": "795",
         "orientation": "v",
         "showlegend": true,
         "type": "scatter",
         "x": {
          "_inputArray": {
           "0": 1,
           "bdata": "AQ==",
           "dtype": "i1",
           "shape": "1"
          },
          "bdata": "AQ==",
          "dtype": "i1"
         },
         "xaxis": "x",
         "y": {
          "_inputArray": {
           "0": 168.992686,
           "bdata": "TiZuFcQfZUA=",
           "dtype": "f8",
           "shape": "1"
          },
          "bdata": "TiZuFcQfZUA=",
          "dtype": "f8"
         },
         "yaxis": "y"
        },
        {
         "hovertemplate": "Test number as string=796<br>Within_Session_Test_Number=%{x}<br>WPM=%{y}<extra></extra>",
         "legendgroup": "796",
         "line": {
          "color": "#EF553B",
          "dash": "solid"
         },
         "marker": {
          "symbol": "circle"
         },
         "mode": "markers+lines",
         "name": "796",
         "orientation": "v",
         "showlegend": true,
         "type": "scatter",
         "x": {
          "_inputArray": {
           "0": 2,
           "bdata": "Ag==",
           "dtype": "i1",
           "shape": "1"
          },
          "bdata": "Ag==",
          "dtype": "i1"
         },
         "xaxis": "x",
         "y": {
          "_inputArray": {
           "0": 132.035605,
           "bdata": "X9IYrSOBYEA=",
           "dtype": "f8",
           "shape": "1"
          },
          "bdata": "X9IYrSOBYEA=",
          "dtype": "f8"
         },
         "yaxis": "y"
        },
        {
         "hovertemplate": "Test number as string=797<br>Within_Session_Test_Number=%{x}<br>WPM=%{y}<extra></extra>",
         "legendgroup": "797",
         "line": {
          "color": "#00cc96",
          "dash": "solid"
         },
         "marker": {
          "symbol": "circle"
         },
         "mode": "markers+lines",
         "name": "797",
         "orientation": "v",
         "showlegend": true,
         "type": "scatter",
         "x": {
          "_inputArray": {
           "0": 1,
           "bdata": "AQ==",
           "dtype": "i1",
           "shape": "1"
          },
          "bdata": "AQ==",
          "dtype": "i1"
         },
         "xaxis": "x",
         "y": {
          "_inputArray": {
           "0": 158.429362,
           "bdata": "pYRgVb3NY0A=",
           "dtype": "f8",
           "shape": "1"
          },
          "bdata": "pYRgVb3NY0A=",
          "dtype": "f8"
         },
         "yaxis": "y"
        },
        {
         "hovertemplate": "Test number as string=798<br>Within_Session_Test_Number=%{x}<br>WPM=%{y}<extra></extra>",
         "legendgroup": "798",
         "line": {
          "color": "#ab63fa",
          "dash": "solid"
         },
         "marker": {
          "symbol": "circle"
         },
         "mode": "markers+lines",
         "name": "798",
         "orientation": "v",
         "showlegend": true,
         "type": "scatter",
         "x": {
          "_inputArray": {
           "0": 2,
           "bdata": "Ag==",
           "dtype": "i1",
           "shape": "1"
          },
          "bdata": "Ag==",
          "dtype": "i1"
         },
         "xaxis": "x",
         "y": {
          "_inputArray": {
           "0": 172.344262,
           "bdata": "Lei9MQSLZUA=",
           "dtype": "f8",
           "shape": "1"
          },
          "bdata": "Lei9MQSLZUA=",
          "dtype": "f8"
         },
         "yaxis": "y"
        },
        {
         "hovertemplate": "Test number as string=799<br>Within_Session_Test_Number=%{x}<br>WPM=%{y}<extra></extra>",
         "legendgroup": "799",
         "line": {
          "color": "#FFA15A",
          "dash": "solid"
         },
         "marker": {
          "symbol": "circle"
         },
         "mode": "markers+lines",
         "name": "799",
         "orientation": "v",
         "showlegend": true,
         "type": "scatter",
         "x": {
          "_inputArray": {
           "0": 1,
           "bdata": "AQ==",
           "dtype": "i1",
           "shape": "1"
          },
          "bdata": "AQ==",
          "dtype": "i1"
         },
         "xaxis": "x",
         "y": {
          "_inputArray": {
           "0": 121.825972,
           "bdata": "Wdqpudx0XkA=",
           "dtype": "f8",
           "shape": "1"
          },
          "bdata": "Wdqpudx0XkA=",
          "dtype": "f8"
         },
         "yaxis": "y"
        },
        {
         "hovertemplate": "Test number as string=800<br>Within_Session_Test_Number=%{x}<br>WPM=%{y}<extra></extra>",
         "legendgroup": "800",
         "line": {
          "color": "#19d3f3",
          "dash": "solid"
         },
         "marker": {
          "symbol": "circle"
         },
         "mode": "markers+lines",
         "name": "800",
         "orientation": "v",
         "showlegend": true,
         "type": "scatter",
         "x": {
          "_inputArray": {
           "0": 2,
           "bdata": "Ag==",
           "dtype": "i1",
           "shape": "1"
          },
          "bdata": "Ag==",
          "dtype": "i1"
         },
         "xaxis": "x",
         "y": {
          "_inputArray": {
           "0": 145.659219,
           "bdata": "3LxxUhg1YkA=",
           "dtype": "f8",
           "shape": "1"
          },
          "bdata": "3LxxUhg1YkA=",
          "dtype": "f8"
         },
         "yaxis": "y"
        },
        {
         "hovertemplate": "Test number as string=801<br>Within_Session_Test_Number=%{x}<br>WPM=%{y}<extra></extra>",
         "legendgroup": "801",
         "line": {
          "color": "#FF6692",
          "dash": "solid"
         },
         "marker": {
          "symbol": "circle"
         },
         "mode": "markers+lines",
         "name": "801",
         "orientation": "v",
         "showlegend": true,
         "type": "scatter",
         "x": {
          "_inputArray": {
           "0": 3,
           "bdata": "Aw==",
           "dtype": "i1",
           "shape": "1"
          },
          "bdata": "Aw==",
          "dtype": "i1"
         },
         "xaxis": "x",
         "y": {
          "_inputArray": {
           "0": 124.501498,
           "bdata": "mkARixggX0A=",
           "dtype": "f8",
           "shape": "1"
          },
          "bdata": "mkARixggX0A=",
          "dtype": "f8"
         },
         "yaxis": "y"
        },
        {
         "hovertemplate": "Test number as string=802<br>Within_Session_Test_Number=%{x}<br>WPM=%{y}<extra></extra>",
         "legendgroup": "802",
         "line": {
          "color": "#B6E880",
          "dash": "solid"
         },
         "marker": {
          "symbol": "circle"
         },
         "mode": "markers+lines",
         "name": "802",
         "orientation": "v",
         "showlegend": true,
         "type": "scatter",
         "x": {
          "_inputArray": {
           "0": 1,
           "bdata": "AQ==",
           "dtype": "i1",
           "shape": "1"
          },
          "bdata": "AQ==",
          "dtype": "i1"
         },
         "xaxis": "x",
         "y": {
          "_inputArray": {
           "0": 148.405079,
           "bdata": "fCk8aPaMYkA=",
           "dtype": "f8",
           "shape": "1"
          },
          "bdata": "fCk8aPaMYkA=",
          "dtype": "f8"
         },
         "yaxis": "y"
        },
        {
         "hovertemplate": "Test number as string=803<br>Within_Session_Test_Number=%{x}<br>WPM=%{y}<extra></extra>",
         "legendgroup": "803",
         "line": {
          "color": "#FF97FF",
          "dash": "solid"
         },
         "marker": {
          "symbol": "circle"
         },
         "mode": "markers+lines",
         "name": "803",
         "orientation": "v",
         "showlegend": true,
         "type": "scatter",
         "x": {
          "_inputArray": {
           "0": 2,
           "bdata": "Ag==",
           "dtype": "i1",
           "shape": "1"
          },
          "bdata": "Ag==",
          "dtype": "i1"
         },
         "xaxis": "x",
         "y": {
          "_inputArray": {
           "0": 148.629494,
           "bdata": "5+CZ0CSUYkA=",
           "dtype": "f8",
           "shape": "1"
          },
          "bdata": "5+CZ0CSUYkA=",
          "dtype": "f8"
         },
         "yaxis": "y"
        },
        {
         "hovertemplate": "Test number as string=804<br>Within_Session_Test_Number=%{x}<br>WPM=%{y}<extra></extra>",
         "legendgroup": "804",
         "line": {
          "color": "#FECB52",
          "dash": "solid"
         },
         "marker": {
          "symbol": "circle"
         },
         "mode": "markers+lines",
         "name": "804",
         "orientation": "v",
         "showlegend": true,
         "type": "scatter",
         "x": {
          "_inputArray": {
           "0": 1,
           "bdata": "AQ==",
           "dtype": "i1",
           "shape": "1"
          },
          "bdata": "AQ==",
          "dtype": "i1"
         },
         "xaxis": "x",
         "y": {
          "_inputArray": {
           "0": 134.531302,
           "bdata": "lUkNbQDRYEA=",
           "dtype": "f8",
           "shape": "1"
          },
          "bdata": "lUkNbQDRYEA=",
          "dtype": "f8"
         },
         "yaxis": "y"
        },
        {
         "hovertemplate": "Test number as string=805<br>Within_Session_Test_Number=%{x}<br>WPM=%{y}<extra></extra>",
         "legendgroup": "805",
         "line": {
          "color": "#636efa",
          "dash": "solid"
         },
         "marker": {
          "symbol": "circle"
         },
         "mode": "markers+lines",
         "name": "805",
         "orientation": "v",
         "showlegend": true,
         "type": "scatter",
         "x": {
          "_inputArray": {
           "0": 2,
           "bdata": "Ag==",
           "dtype": "i1",
           "shape": "1"
          },
          "bdata": "Ag==",
          "dtype": "i1"
         },
         "xaxis": "x",
         "y": {
          "_inputArray": {
           "0": 120.519824,
           "bdata": "Quvhy0QhXkA=",
           "dtype": "f8",
           "shape": "1"
          },
          "bdata": "Quvhy0QhXkA=",
          "dtype": "f8"
         },
         "yaxis": "y"
        },
        {
         "hovertemplate": "Test number as string=806<br>Within_Session_Test_Number=%{x}<br>WPM=%{y}<extra></extra>",
         "legendgroup": "806",
         "line": {
          "color": "#EF553B",
          "dash": "solid"
         },
         "marker": {
          "symbol": "circle"
         },
         "mode": "markers+lines",
         "name": "806",
         "orientation": "v",
         "showlegend": true,
         "type": "scatter",
         "x": {
          "_inputArray": {
           "0": 3,
           "bdata": "Aw==",
           "dtype": "i1",
           "shape": "1"
          },
          "bdata": "Aw==",
          "dtype": "i1"
         },
         "xaxis": "x",
         "y": {
          "_inputArray": {
           "0": 107.805041,
           "bdata": "G7yvyoXzWkA=",
           "dtype": "f8",
           "shape": "1"
          },
          "bdata": "G7yvyoXzWkA=",
          "dtype": "f8"
         },
         "yaxis": "y"
        },
        {
         "hovertemplate": "Test number as string=807<br>Within_Session_Test_Number=%{x}<br>WPM=%{y}<extra></extra>",
         "legendgroup": "807",
         "line": {
          "color": "#00cc96",
          "dash": "solid"
         },
         "marker": {
          "symbol": "circle"
         },
         "mode": "markers+lines",
         "name": "807",
         "orientation": "v",
         "showlegend": true,
         "type": "scatter",
         "x": {
          "_inputArray": {
           "0": 1,
           "bdata": "AQ==",
           "dtype": "i1",
           "shape": "1"
          },
          "bdata": "AQ==",
          "dtype": "i1"
         },
         "xaxis": "x",
         "y": {
          "_inputArray": {
           "0": 161.714902,
           "bdata": "CrsoeuA2ZEA=",
           "dtype": "f8",
           "shape": "1"
          },
          "bdata": "CrsoeuA2ZEA=",
          "dtype": "f8"
         },
         "yaxis": "y"
        }
       ],
       "layout": {
        "autosize": true,
        "legend": {
         "title": {
          "text": "Test number as string"
         },
         "tracegroupgap": 0
        },
        "margin": {
         "t": 60
        },
        "showlegend": false,
        "template": {
         "data": {
          "bar": [
           {
            "error_x": {
             "color": "#2a3f5f"
            },
            "error_y": {
             "color": "#2a3f5f"
            },
            "marker": {
             "line": {
              "color": "#E5ECF6",
              "width": 0.5
             },
             "pattern": {
              "fillmode": "overlay",
              "size": 10,
              "solidity": 0.2
             }
            },
            "type": "bar"
           }
          ],
          "barpolar": [
           {
            "marker": {
             "line": {
              "color": "#E5ECF6",
              "width": 0.5
             },
             "pattern": {
              "fillmode": "overlay",
              "size": 10,
              "solidity": 0.2
             }
            },
            "type": "barpolar"
           }
          ],
          "carpet": [
           {
            "aaxis": {
             "endlinecolor": "#2a3f5f",
             "gridcolor": "white",
             "linecolor": "white",
             "minorgridcolor": "white",
             "startlinecolor": "#2a3f5f"
            },
            "baxis": {
             "endlinecolor": "#2a3f5f",
             "gridcolor": "white",
             "linecolor": "white",
             "minorgridcolor": "white",
             "startlinecolor": "#2a3f5f"
            },
            "type": "carpet"
           }
          ],
          "choropleth": [
           {
            "colorbar": {
             "outlinewidth": 0,
             "ticks": ""
            },
            "type": "choropleth"
           }
          ],
          "contour": [
           {
            "colorbar": {
             "outlinewidth": 0,
             "ticks": ""
            },
            "colorscale": [
             [
              0,
              "#0d0887"
             ],
             [
              0.1111111111111111,
              "#46039f"
             ],
             [
              0.2222222222222222,
              "#7201a8"
             ],
             [
              0.3333333333333333,
              "#9c179e"
             ],
             [
              0.4444444444444444,
              "#bd3786"
             ],
             [
              0.5555555555555556,
              "#d8576b"
             ],
             [
              0.6666666666666666,
              "#ed7953"
             ],
             [
              0.7777777777777778,
              "#fb9f3a"
             ],
             [
              0.8888888888888888,
              "#fdca26"
             ],
             [
              1,
              "#f0f921"
             ]
            ],
            "type": "contour"
           }
          ],
          "contourcarpet": [
           {
            "colorbar": {
             "outlinewidth": 0,
             "ticks": ""
            },
            "type": "contourcarpet"
           }
          ],
          "heatmap": [
           {
            "colorbar": {
             "outlinewidth": 0,
             "ticks": ""
            },
            "colorscale": [
             [
              0,
              "#0d0887"
             ],
             [
              0.1111111111111111,
              "#46039f"
             ],
             [
              0.2222222222222222,
              "#7201a8"
             ],
             [
              0.3333333333333333,
              "#9c179e"
             ],
             [
              0.4444444444444444,
              "#bd3786"
             ],
             [
              0.5555555555555556,
              "#d8576b"
             ],
             [
              0.6666666666666666,
              "#ed7953"
             ],
             [
              0.7777777777777778,
              "#fb9f3a"
             ],
             [
              0.8888888888888888,
              "#fdca26"
             ],
             [
              1,
              "#f0f921"
             ]
            ],
            "type": "heatmap"
           }
          ],
          "histogram": [
           {
            "marker": {
             "pattern": {
              "fillmode": "overlay",
              "size": 10,
              "solidity": 0.2
             }
            },
            "type": "histogram"
           }
          ],
          "histogram2d": [
           {
            "colorbar": {
             "outlinewidth": 0,
             "ticks": ""
            },
            "colorscale": [
             [
              0,
              "#0d0887"
             ],
             [
              0.1111111111111111,
              "#46039f"
             ],
             [
              0.2222222222222222,
              "#7201a8"
             ],
             [
              0.3333333333333333,
              "#9c179e"
             ],
             [
              0.4444444444444444,
              "#bd3786"
             ],
             [
              0.5555555555555556,
              "#d8576b"
             ],
             [
              0.6666666666666666,
              "#ed7953"
             ],
             [
              0.7777777777777778,
              "#fb9f3a"
             ],
             [
              0.8888888888888888,
              "#fdca26"
             ],
             [
              1,
              "#f0f921"
             ]
            ],
            "type": "histogram2d"
           }
          ],
          "histogram2dcontour": [
           {
            "colorbar": {
             "outlinewidth": 0,
             "ticks": ""
            },
            "colorscale": [
             [
              0,
              "#0d0887"
             ],
             [
              0.1111111111111111,
              "#46039f"
             ],
             [
              0.2222222222222222,
              "#7201a8"
             ],
             [
              0.3333333333333333,
              "#9c179e"
             ],
             [
              0.4444444444444444,
              "#bd3786"
             ],
             [
              0.5555555555555556,
              "#d8576b"
             ],
             [
              0.6666666666666666,
              "#ed7953"
             ],
             [
              0.7777777777777778,
              "#fb9f3a"
             ],
             [
              0.8888888888888888,
              "#fdca26"
             ],
             [
              1,
              "#f0f921"
             ]
            ],
            "type": "histogram2dcontour"
           }
          ],
          "mesh3d": [
           {
            "colorbar": {
             "outlinewidth": 0,
             "ticks": ""
            },
            "type": "mesh3d"
           }
          ],
          "parcoords": [
           {
            "line": {
             "colorbar": {
              "outlinewidth": 0,
              "ticks": ""
             }
            },
            "type": "parcoords"
           }
          ],
          "pie": [
           {
            "automargin": true,
            "type": "pie"
           }
          ],
          "scatter": [
           {
            "fillpattern": {
             "fillmode": "overlay",
             "size": 10,
             "solidity": 0.2
            },
            "type": "scatter"
           }
          ],
          "scatter3d": [
           {
            "line": {
             "colorbar": {
              "outlinewidth": 0,
              "ticks": ""
             }
            },
            "marker": {
             "colorbar": {
              "outlinewidth": 0,
              "ticks": ""
             }
            },
            "type": "scatter3d"
           }
          ],
          "scattercarpet": [
           {
            "marker": {
             "colorbar": {
              "outlinewidth": 0,
              "ticks": ""
             }
            },
            "type": "scattercarpet"
           }
          ],
          "scattergeo": [
           {
            "marker": {
             "colorbar": {
              "outlinewidth": 0,
              "ticks": ""
             }
            },
            "type": "scattergeo"
           }
          ],
          "scattergl": [
           {
            "marker": {
             "colorbar": {
              "outlinewidth": 0,
              "ticks": ""
             }
            },
            "type": "scattergl"
           }
          ],
          "scattermap": [
           {
            "marker": {
             "colorbar": {
              "outlinewidth": 0,
              "ticks": ""
             }
            },
            "type": "scattermap"
           }
          ],
          "scattermapbox": [
           {
            "marker": {
             "colorbar": {
              "outlinewidth": 0,
              "ticks": ""
             }
            },
            "type": "scattermapbox"
           }
          ],
          "scatterpolar": [
           {
            "marker": {
             "colorbar": {
              "outlinewidth": 0,
              "ticks": ""
             }
            },
            "type": "scatterpolar"
           }
          ],
          "scatterpolargl": [
           {
            "marker": {
             "colorbar": {
              "outlinewidth": 0,
              "ticks": ""
             }
            },
            "type": "scatterpolargl"
           }
          ],
          "scatterternary": [
           {
            "marker": {
             "colorbar": {
              "outlinewidth": 0,
              "ticks": ""
             }
            },
            "type": "scatterternary"
           }
          ],
          "surface": [
           {
            "colorbar": {
             "outlinewidth": 0,
             "ticks": ""
            },
            "colorscale": [
             [
              0,
              "#0d0887"
             ],
             [
              0.1111111111111111,
              "#46039f"
             ],
             [
              0.2222222222222222,
              "#7201a8"
             ],
             [
              0.3333333333333333,
              "#9c179e"
             ],
             [
              0.4444444444444444,
              "#bd3786"
             ],
             [
              0.5555555555555556,
              "#d8576b"
             ],
             [
              0.6666666666666666,
              "#ed7953"
             ],
             [
              0.7777777777777778,
              "#fb9f3a"
             ],
             [
              0.8888888888888888,
              "#fdca26"
             ],
             [
              1,
              "#f0f921"
             ]
            ],
            "type": "surface"
           }
          ],
          "table": [
           {
            "cells": {
             "fill": {
              "color": "#EBF0F8"
             },
             "line": {
              "color": "white"
             }
            },
            "header": {
             "fill": {
              "color": "#C8D4E3"
             },
             "line": {
              "color": "white"
             }
            },
            "type": "table"
           }
          ]
         },
         "layout": {
          "annotationdefaults": {
           "arrowcolor": "#2a3f5f",
           "arrowhead": 0,
           "arrowwidth": 1
          },
          "autotypenumbers": "strict",
          "coloraxis": {
           "colorbar": {
            "outlinewidth": 0,
            "ticks": ""
           }
          },
          "colorscale": {
           "diverging": [
            [
             0,
             "#8e0152"
            ],
            [
             0.1,
             "#c51b7d"
            ],
            [
             0.2,
             "#de77ae"
            ],
            [
             0.3,
             "#f1b6da"
            ],
            [
             0.4,
             "#fde0ef"
            ],
            [
             0.5,
             "#f7f7f7"
            ],
            [
             0.6,
             "#e6f5d0"
            ],
            [
             0.7,
             "#b8e186"
            ],
            [
             0.8,
             "#7fbc41"
            ],
            [
             0.9,
             "#4d9221"
            ],
            [
             1,
             "#276419"
            ]
           ],
           "sequential": [
            [
             0,
             "#0d0887"
            ],
            [
             0.1111111111111111,
             "#46039f"
            ],
            [
             0.2222222222222222,
             "#7201a8"
            ],
            [
             0.3333333333333333,
             "#9c179e"
            ],
            [
             0.4444444444444444,
             "#bd3786"
            ],
            [
             0.5555555555555556,
             "#d8576b"
            ],
            [
             0.6666666666666666,
             "#ed7953"
            ],
            [
             0.7777777777777778,
             "#fb9f3a"
            ],
            [
             0.8888888888888888,
             "#fdca26"
            ],
            [
             1,
             "#f0f921"
            ]
           ],
           "sequentialminus": [
            [
             0,
             "#0d0887"
            ],
            [
             0.1111111111111111,
             "#46039f"
            ],
            [
             0.2222222222222222,
             "#7201a8"
            ],
            [
             0.3333333333333333,
             "#9c179e"
            ],
            [
             0.4444444444444444,
             "#bd3786"
            ],
            [
             0.5555555555555556,
             "#d8576b"
            ],
            [
             0.6666666666666666,
             "#ed7953"
            ],
            [
             0.7777777777777778,
             "#fb9f3a"
            ],
            [
             0.8888888888888888,
             "#fdca26"
            ],
            [
             1,
             "#f0f921"
            ]
           ]
          },
          "colorway": [
           "#636efa",
           "#EF553B",
           "#00cc96",
           "#ab63fa",
           "#FFA15A",
           "#19d3f3",
           "#FF6692",
           "#B6E880",
           "#FF97FF",
           "#FECB52"
          ],
          "font": {
           "color": "#2a3f5f"
          },
          "geo": {
           "bgcolor": "white",
           "lakecolor": "white",
           "landcolor": "#E5ECF6",
           "showlakes": true,
           "showland": true,
           "subunitcolor": "white"
          },
          "hoverlabel": {
           "align": "left"
          },
          "hovermode": "closest",
          "mapbox": {
           "style": "light"
          },
          "paper_bgcolor": "white",
          "plot_bgcolor": "#E5ECF6",
          "polar": {
           "angularaxis": {
            "gridcolor": "white",
            "linecolor": "white",
            "ticks": ""
           },
           "bgcolor": "#E5ECF6",
           "radialaxis": {
            "gridcolor": "white",
            "linecolor": "white",
            "ticks": ""
           }
          },
          "scene": {
           "xaxis": {
            "backgroundcolor": "#E5ECF6",
            "gridcolor": "white",
            "gridwidth": 2,
            "linecolor": "white",
            "showbackground": true,
            "ticks": "",
            "zerolinecolor": "white"
           },
           "yaxis": {
            "backgroundcolor": "#E5ECF6",
            "gridcolor": "white",
            "gridwidth": 2,
            "linecolor": "white",
            "showbackground": true,
            "ticks": "",
            "zerolinecolor": "white"
           },
           "zaxis": {
            "backgroundcolor": "#E5ECF6",
            "gridcolor": "white",
            "gridwidth": 2,
            "linecolor": "white",
            "showbackground": true,
            "ticks": "",
            "zerolinecolor": "white"
           }
          },
          "shapedefaults": {
           "line": {
            "color": "#2a3f5f"
           }
          },
          "ternary": {
           "aaxis": {
            "gridcolor": "white",
            "linecolor": "white",
            "ticks": ""
           },
           "baxis": {
            "gridcolor": "white",
            "linecolor": "white",
            "ticks": ""
           },
           "bgcolor": "#E5ECF6",
           "caxis": {
            "gridcolor": "white",
            "linecolor": "white",
            "ticks": ""
           }
          },
          "title": {
           "x": 0.05
          },
          "xaxis": {
           "automargin": true,
           "gridcolor": "white",
           "linecolor": "white",
           "ticks": "",
           "title": {
            "standoff": 15
           },
           "zerolinecolor": "white",
           "zerolinewidth": 2
          },
          "yaxis": {
           "automargin": true,
           "gridcolor": "white",
           "linecolor": "white",
           "ticks": "",
           "title": {
            "standoff": 15
           },
           "zerolinecolor": "white",
           "zerolinewidth": 2
          }
         }
        },
        "xaxis": {
         "anchor": "y",
         "autorange": true,
         "domain": [
          0,
          1
         ],
         "range": [
          0.882660687593423,
          3.117339312406577
         ],
         "title": {
          "text": "Within_Session_Test_Number"
         },
         "type": "linear"
        },
        "yaxis": {
         "anchor": "x",
         "autorange": true,
         "domain": [
          0,
          1
         ],
         "range": [
          102.8079097152231,
          177.3413932847769
         ],
         "title": {
          "text": "WPM"
         },
         "type": "linear"
        }
       }
      },
      "image/png": "[encoded data removed]"
     },
     "metadata": {},
     "output_type": "display_data"
    }
   ],
   "source": [
    "fig_wpm_by_session_num_comparison = px.line(df_tr_for_wpm_by_session,\n",
    "        x = 'Within_Session_Test_Number', y = 'WPM',\n",
    "       color = 'Test number as string').update_traces(\n",
    "    mode = 'markers+lines').update_layout(showlegend = False)\n",
    "fig_wpm_by_session_num_comparison.write_html(\n",
    "    f'{sp_visualizations_folder}/WPM_by_Within_Session_Test_Number.html', \n",
    "    include_plotlyjs='cdn')\n",
    "fig_wpm_by_session_num_comparison"
   ]
  },
  {
   "cell_type": "code",
   "execution_count": 24,
   "id": "824ef8bd-e2e8-49c5-88cf-f53d034d2291",
   "metadata": {
    "execution": {
     "iopub.execute_input": "2025-07-22T05:37:14.500383Z",
     "iopub.status.busy": "2025-07-22T05:37:14.500225Z",
     "iopub.status.idle": "2025-07-22T05:37:14.502661Z",
     "shell.execute_reply": "2025-07-22T05:37:14.502346Z",
     "shell.execute_reply.started": "2025-07-22T05:37:14.500372Z"
    }
   },
   "outputs": [
    {
     "name": "stdout",
     "output_type": "stream",
     "text": [
      "Finished calculating and visualizing single-player stats in 0.97 seconds.\n"
     ]
    }
   ],
   "source": [
    "end_time = time.time()\n",
    "run_time = end_time - start_time\n",
    "print(f\"Finished calculating and visualizing single-player stats in \\\n",
    "{round(run_time, 3)} seconds.\")"
   ]
  },
  {
   "cell_type": "code",
   "execution_count": null,
   "id": "d3769307-e520-4b95-aa44-413f9ff29812",
   "metadata": {},
   "outputs": [],
   "source": []
  }
 ],
 "metadata": {
  "kernelspec": {
   "display_name": "Python 3 (ipykernel)",
   "language": "python",
   "name": "python3"
  },
  "language_info": {
   "codemirror_mode": {
    "name": "ipython",
    "version": 3
   },
   "file_extension": ".py",
   "mimetype": "text/x-python",
   "name": "python",
   "nbconvert_exporter": "python",
   "pygments_lexer": "ipython3",
   "version": "3.12.6"
  }
 },
 "nbformat": 4,
 "nbformat_minor": 5
}
