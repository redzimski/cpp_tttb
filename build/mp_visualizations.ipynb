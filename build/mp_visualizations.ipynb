{
 "cells": [
  {
   "cell_type": "markdown",
   "id": "86bc8d52-ce91-4ac7-8af5-e935a3f45339",
   "metadata": {},
   "source": [
    "## Visualization script for multiplayer Type Through the Bible files\n",
    "\n",
    "By Ken Burchfiel\n",
    "\n",
    "Released under the MIT license\n",
    "\n",
    "Note: this script, though developed as a Jupyter Notebook to make development and testing easier, is meant to be called as a Python file within a terminal/command prompt with a multiplayer test results file as its sole argument. Here's an example of what this function call may look like on Linux when the current directory is TTTB's build/ folder:\n",
    "\n",
    "    python mp_visualizations.py 20250706T220148\n",
    "\n",
    "Note that only the timestamp component of the multiplayer file(s) is passed to the argument; the function will take care of the rest. (This helps prevent user-submitted strings from getting passed to a system() call, which could potentially cause security issues.\n",
    "\n",
    "When players complete multiplayer games within Type Through The Bible, this script will then get called via a system() call. However, it can also be run as a standalone file if needed."
   ]
  },
  {
   "cell_type": "code",
   "execution_count": 1,
   "id": "3247f372-c3ee-4db7-b2c8-547120bde13a",
   "metadata": {
    "execution": {
     "iopub.execute_input": "2025-07-19T02:44:27.029763Z",
     "iopub.status.busy": "2025-07-19T02:44:27.029651Z",
     "iopub.status.idle": "2025-07-19T02:44:27.302213Z",
     "shell.execute_reply": "2025-07-19T02:44:27.301679Z",
     "shell.execute_reply.started": "2025-07-19T02:44:27.029745Z"
    }
   },
   "outputs": [],
   "source": [
    "import time\n",
    "start_time = time.time()\n",
    "import os\n",
    "import pandas as pd\n",
    "import numpy as np\n",
    "import plotly.express as px\n",
    "\n",
    "# The following file paths are relative to the build folder.\n",
    "mp_results_folder = '../Files/Multiplayer/'\n",
    "mp_visualizations_folder = '../Visualizations/Multiplayer/'"
   ]
  },
  {
   "cell_type": "markdown",
   "id": "1ab5d792-4b56-4378-94fb-44f84de163a6",
   "metadata": {},
   "source": [
    "Checking whether this script is running within a Jupyter notebook: \n",
    "\n",
    "(This will allow us to determine whether to specify our multiplayer filename via argparse (which will only work when the .py version of the file is being rurn) or via a notebook-specific argument."
   ]
  },
  {
   "cell_type": "code",
   "execution_count": 2,
   "id": "a3c53694-0135-41b7-b04b-ca08c87b4f35",
   "metadata": {
    "execution": {
     "iopub.execute_input": "2025-07-19T02:44:27.303160Z",
     "iopub.status.busy": "2025-07-19T02:44:27.302996Z",
     "iopub.status.idle": "2025-07-19T02:44:27.305233Z",
     "shell.execute_reply": "2025-07-19T02:44:27.304965Z",
     "shell.execute_reply.started": "2025-07-19T02:44:27.303150Z"
    }
   },
   "outputs": [],
   "source": [
    "notebook_exec = False\n",
    "try:\n",
    "    get_ipython()\n",
    "    notebook_exec = True # Script is running within a notebook\n",
    "except:\n",
    "#     print(\"get_ipython() failed, so we'll assume that we're running \\\n",
    "# this script within a .py file.\")\n",
    "    pass\n",
    "\n",
    "# notebook_exec\n",
    "    "
   ]
  },
  {
   "cell_type": "markdown",
   "id": "2c8d4309-0c97-4920-a0ad-bce172225d46",
   "metadata": {},
   "source": [
    "Adding code that will allow the caller to specify which multiplayer results file to analyze:\n",
    "\n",
    "(Note that only the timestamp component of this file should be passed to the argument.)\n",
    "\n",
    "If you're running this code within a notebook, update the test_results_timestamp value as needed."
   ]
  },
  {
   "cell_type": "code",
   "execution_count": 3,
   "id": "4e5fe657-032d-4439-a0e0-acbe966182f2",
   "metadata": {
    "execution": {
     "iopub.execute_input": "2025-07-19T02:44:27.305889Z",
     "iopub.status.busy": "2025-07-19T02:44:27.305577Z",
     "iopub.status.idle": "2025-07-19T02:44:27.317311Z",
     "shell.execute_reply": "2025-07-19T02:44:27.316764Z",
     "shell.execute_reply.started": "2025-07-19T02:44:27.305877Z"
    }
   },
   "outputs": [
    {
     "data": {
      "text/plain": [
       "'20250706T220148'"
      ]
     },
     "execution_count": 3,
     "metadata": {},
     "output_type": "execute_result"
    }
   ],
   "source": [
    "if notebook_exec == False:\n",
    "    # The following code was based on\n",
    "    # https://docs.python.org/3/howto/argparse.html#argparse-tutorial\n",
    "    # and # https://docs.python.org/3/library/argparse.html .\n",
    "    import argparse\n",
    "    parser = argparse.ArgumentParser()\n",
    "    parser.add_argument(\"results_timestamp\")\n",
    "    args = parser.parse_args()\n",
    "    test_results_timestamp = args.results_timestamp\n",
    "else:\n",
    "    test_results_timestamp = '20250706T220148'\n",
    "\n",
    "test_results_timestamp"
   ]
  },
  {
   "cell_type": "markdown",
   "id": "4fe56fac-ea19-43ce-90fb-84eece2f23fa",
   "metadata": {},
   "source": [
    "Determining the multiplayer test_results.csv file whose timestamp matches our test_results_timestamp string:\n",
    "\n",
    "(There *should* only be one such timestamp, but just in case two or more share this timestamp--which is extremely improbable--only one will be retained.)"
   ]
  },
  {
   "cell_type": "code",
   "execution_count": 4,
   "id": "1be2ef56-5690-4863-a626-d8cb2b84e60e",
   "metadata": {
    "execution": {
     "iopub.execute_input": "2025-07-19T02:44:27.318170Z",
     "iopub.status.busy": "2025-07-19T02:44:27.318001Z",
     "iopub.status.idle": "2025-07-19T02:44:27.321765Z",
     "shell.execute_reply": "2025-07-19T02:44:27.321458Z",
     "shell.execute_reply.started": "2025-07-19T02:44:27.318145Z"
    }
   },
   "outputs": [
    {
     "data": {
      "text/plain": [
       "('20250706T220148_string_test_results.csv', '20250706T220148_string')"
      ]
     },
     "execution_count": 4,
     "metadata": {},
     "output_type": "execute_result"
    }
   ],
   "source": [
    "test_results_file = [file for file in os.listdir(mp_results_folder) if \n",
    " (test_results_timestamp in file) & ('test_results' in file)][0]\n",
    "# Creating a shortened version of this string that doesn't have\n",
    "# the 'test_results.csv' component at the end: \n",
    "# (This shortened version will serve as the initial component\n",
    "# of our visualization filenames.)\n",
    "test_results_name = test_results_file[:-17]\n",
    "test_results_file, test_results_name"
   ]
  },
  {
   "cell_type": "code",
   "execution_count": 5,
   "id": "8e636264-b2de-4635-bc8f-0b2207e6754d",
   "metadata": {
    "execution": {
     "iopub.execute_input": "2025-07-19T02:44:27.322288Z",
     "iopub.status.busy": "2025-07-19T02:44:27.322166Z",
     "iopub.status.idle": "2025-07-19T02:44:27.341975Z",
     "shell.execute_reply": "2025-07-19T02:44:27.341670Z",
     "shell.execute_reply.started": "2025-07-19T02:44:27.322277Z"
    }
   },
   "outputs": [
    {
     "data": {
      "text/html": [
       "<div>\n",
       "<style scoped>\n",
       "    .dataframe tbody tr th:only-of-type {\n",
       "        vertical-align: middle;\n",
       "    }\n",
       "\n",
       "    .dataframe tbody tr th {\n",
       "        vertical-align: top;\n",
       "    }\n",
       "\n",
       "    .dataframe thead th {\n",
       "        text-align: right;\n",
       "    }\n",
       "</style>\n",
       "<table border=\"1\" class=\"dataframe\">\n",
       "  <thead>\n",
       "    <tr style=\"text-align: right;\">\n",
       "      <th></th>\n",
       "      <th>Unix_Test_Start_Time</th>\n",
       "      <th>Local_Test_Start_Time</th>\n",
       "      <th>Unix_Test_End_Time</th>\n",
       "      <th>Local_Test_End_Time</th>\n",
       "      <th>Verse_ID</th>\n",
       "      <th>Verse_Code</th>\n",
       "      <th>Verse</th>\n",
       "      <th>Characters</th>\n",
       "      <th>WPM</th>\n",
       "      <th>Test_Seconds</th>\n",
       "      <th>...</th>\n",
       "      <th>Marathon_Mode</th>\n",
       "      <th>Player</th>\n",
       "      <th>Round</th>\n",
       "      <th>Test within round</th>\n",
       "      <th>Game test number</th>\n",
       "      <th>Round_Test</th>\n",
       "      <th>Player test number</th>\n",
       "      <th>Cumulative WPM</th>\n",
       "      <th>Best Round_Test WPM</th>\n",
       "      <th>Player had best WPM for this test</th>\n",
       "    </tr>\n",
       "  </thead>\n",
       "  <tbody>\n",
       "    <tr>\n",
       "      <th>35</th>\n",
       "      <td>1751855137</td>\n",
       "      <td>2025-07-06T22:25:37-0400</td>\n",
       "      <td>1751855152</td>\n",
       "      <td>2025-07-06T22:25:52-0400</td>\n",
       "      <td>35015</td>\n",
       "      <td>James_1:12</td>\n",
       "      <td>Blessed is the man who suffers temptation. For...</td>\n",
       "      <td>152</td>\n",
       "      <td>125.030289</td>\n",
       "      <td>14.588465</td>\n",
       "      <td>...</td>\n",
       "      <td>0</td>\n",
       "      <td>Kendog</td>\n",
       "      <td>4</td>\n",
       "      <td>1</td>\n",
       "      <td>36</td>\n",
       "      <td>4_1</td>\n",
       "      <td>16</td>\n",
       "      <td>118.917722</td>\n",
       "      <td>125.030289</td>\n",
       "      <td>1</td>\n",
       "    </tr>\n",
       "    <tr>\n",
       "      <th>36</th>\n",
       "      <td>1751855154</td>\n",
       "      <td>2025-07-06T22:25:54-0400</td>\n",
       "      <td>1751855166</td>\n",
       "      <td>2025-07-06T22:26:06-0400</td>\n",
       "      <td>35016</td>\n",
       "      <td>James_1:13</td>\n",
       "      <td>No one should say, when he is tempted, that he...</td>\n",
       "      <td>134</td>\n",
       "      <td>136.752611</td>\n",
       "      <td>11.758459</td>\n",
       "      <td>...</td>\n",
       "      <td>0</td>\n",
       "      <td>Kendog</td>\n",
       "      <td>4</td>\n",
       "      <td>2</td>\n",
       "      <td>37</td>\n",
       "      <td>4_2</td>\n",
       "      <td>17</td>\n",
       "      <td>119.966833</td>\n",
       "      <td>136.752611</td>\n",
       "      <td>1</td>\n",
       "    </tr>\n",
       "    <tr>\n",
       "      <th>37</th>\n",
       "      <td>1751855166</td>\n",
       "      <td>2025-07-06T22:26:06-0400</td>\n",
       "      <td>1751855175</td>\n",
       "      <td>2025-07-06T22:26:15-0400</td>\n",
       "      <td>35017</td>\n",
       "      <td>James_1:14</td>\n",
       "      <td>Yet truly, each one is tempted by his own desi...</td>\n",
       "      <td>86</td>\n",
       "      <td>128.508275</td>\n",
       "      <td>8.030611</td>\n",
       "      <td>...</td>\n",
       "      <td>0</td>\n",
       "      <td>Kendog</td>\n",
       "      <td>4</td>\n",
       "      <td>3</td>\n",
       "      <td>38</td>\n",
       "      <td>4_3</td>\n",
       "      <td>18</td>\n",
       "      <td>120.441358</td>\n",
       "      <td>128.508275</td>\n",
       "      <td>1</td>\n",
       "    </tr>\n",
       "    <tr>\n",
       "      <th>38</th>\n",
       "      <td>1751855177</td>\n",
       "      <td>2025-07-06T22:26:17-0400</td>\n",
       "      <td>1751855188</td>\n",
       "      <td>2025-07-06T22:26:28-0400</td>\n",
       "      <td>35018</td>\n",
       "      <td>James_1:15</td>\n",
       "      <td>Thereafter, when desire has conceived, it give...</td>\n",
       "      <td>122</td>\n",
       "      <td>129.246581</td>\n",
       "      <td>11.327185</td>\n",
       "      <td>...</td>\n",
       "      <td>0</td>\n",
       "      <td>Kendog</td>\n",
       "      <td>4</td>\n",
       "      <td>4</td>\n",
       "      <td>39</td>\n",
       "      <td>4_4</td>\n",
       "      <td>19</td>\n",
       "      <td>120.904790</td>\n",
       "      <td>129.246581</td>\n",
       "      <td>1</td>\n",
       "    </tr>\n",
       "    <tr>\n",
       "      <th>39</th>\n",
       "      <td>1751855189</td>\n",
       "      <td>2025-07-06T22:26:29-0400</td>\n",
       "      <td>1751855195</td>\n",
       "      <td>2025-07-06T22:26:35-0400</td>\n",
       "      <td>35019</td>\n",
       "      <td>James_1:16</td>\n",
       "      <td>And so, do not choose to go astray, my most be...</td>\n",
       "      <td>61</td>\n",
       "      <td>124.189468</td>\n",
       "      <td>5.894220</td>\n",
       "      <td>...</td>\n",
       "      <td>0</td>\n",
       "      <td>Kendog</td>\n",
       "      <td>4</td>\n",
       "      <td>5</td>\n",
       "      <td>40</td>\n",
       "      <td>4_5</td>\n",
       "      <td>20</td>\n",
       "      <td>121.069024</td>\n",
       "      <td>124.189468</td>\n",
       "      <td>1</td>\n",
       "    </tr>\n",
       "  </tbody>\n",
       "</table>\n",
       "<p>5 rows × 22 columns</p>\n",
       "</div>"
      ],
      "text/plain": [
       "    Unix_Test_Start_Time     Local_Test_Start_Time  Unix_Test_End_Time  \\\n",
       "35            1751855137  2025-07-06T22:25:37-0400          1751855152   \n",
       "36            1751855154  2025-07-06T22:25:54-0400          1751855166   \n",
       "37            1751855166  2025-07-06T22:26:06-0400          1751855175   \n",
       "38            1751855177  2025-07-06T22:26:17-0400          1751855188   \n",
       "39            1751855189  2025-07-06T22:26:29-0400          1751855195   \n",
       "\n",
       "         Local_Test_End_Time  Verse_ID  Verse_Code  \\\n",
       "35  2025-07-06T22:25:52-0400     35015  James_1:12   \n",
       "36  2025-07-06T22:26:06-0400     35016  James_1:13   \n",
       "37  2025-07-06T22:26:15-0400     35017  James_1:14   \n",
       "38  2025-07-06T22:26:28-0400     35018  James_1:15   \n",
       "39  2025-07-06T22:26:35-0400     35019  James_1:16   \n",
       "\n",
       "                                                Verse  Characters         WPM  \\\n",
       "35  Blessed is the man who suffers temptation. For...         152  125.030289   \n",
       "36  No one should say, when he is tempted, that he...         134  136.752611   \n",
       "37  Yet truly, each one is tempted by his own desi...          86  128.508275   \n",
       "38  Thereafter, when desire has conceived, it give...         122  129.246581   \n",
       "39  And so, do not choose to go astray, my most be...          61  124.189468   \n",
       "\n",
       "    Test_Seconds  ...  Marathon_Mode  Player  Round Test within round  \\\n",
       "35     14.588465  ...              0  Kendog      4                 1   \n",
       "36     11.758459  ...              0  Kendog      4                 2   \n",
       "37      8.030611  ...              0  Kendog      4                 3   \n",
       "38     11.327185  ...              0  Kendog      4                 4   \n",
       "39      5.894220  ...              0  Kendog      4                 5   \n",
       "\n",
       "    Game test number  Round_Test  Player test number Cumulative WPM  \\\n",
       "35                36         4_1                  16     118.917722   \n",
       "36                37         4_2                  17     119.966833   \n",
       "37                38         4_3                  18     120.441358   \n",
       "38                39         4_4                  19     120.904790   \n",
       "39                40         4_5                  20     121.069024   \n",
       "\n",
       "    Best Round_Test WPM  Player had best WPM for this test  \n",
       "35           125.030289                                  1  \n",
       "36           136.752611                                  1  \n",
       "37           128.508275                                  1  \n",
       "38           129.246581                                  1  \n",
       "39           124.189468                                  1  \n",
       "\n",
       "[5 rows x 22 columns]"
      ]
     },
     "execution_count": 5,
     "metadata": {},
     "output_type": "execute_result"
    }
   ],
   "source": [
    "df = pd.read_csv(mp_results_folder+test_results_file) \n",
    "# Replacing the tag columns with their actual meanings:\n",
    "df.rename(columns = {'Tag_1':'Round','Tag_2':'Test within round',\n",
    "                     'Tag_3':'Game test number'}, inplace = True)\n",
    "# Making sure that the results are stored in the order that they were\n",
    "# typed:\n",
    "df.sort_values('Game test number', inplace = True)\n",
    "\n",
    "# Adding a column that shows round and test combinations for each race:\n",
    "# (This can be used as an x axis value for our WPM-by-race graph.)\n",
    "df['Round_Test'] = df['Round'].astype('str') + '_' + df[\n",
    "'Test within round'].astype('str')\n",
    "# Adding another column that shows how many tests each player has completed\n",
    "# so far:\n",
    "# (cumcount starts at 0, so we'll need to add 1 to this value for it\n",
    "# to work. Also note that the DataFrame doesn't need to be sorted by \n",
    "# player beforehand in order for this code to work correctly.)\n",
    "df['Player test number'] = df.groupby(\n",
    "    'Player')['WPM'].transform('cumcount') + 1\n",
    "# Calculating cumulative WPM values:\n",
    "df['Cumulative WPM'] = (df.groupby('Player')['WPM'].transform(\n",
    "'cumsum')) / df['Player test number']\n",
    "\n",
    "df['Best Round_Test WPM'] = df.groupby(\n",
    "    'Round_Test')['WPM'].transform('max')\n",
    "df['Player had best WPM for this test'] = np.where(\n",
    "    df['WPM'] == df['Best Round_Test WPM'], 1, 0)\n",
    "\n",
    "df.tail()"
   ]
  },
  {
   "cell_type": "markdown",
   "id": "ee180336-ba5a-4389-84c7-7e7032dbbc7f",
   "metadata": {},
   "source": [
    "Creating a melted verison of this DataFrame that stores both cumulative and test-specific WPM values within the same column:\n",
    "\n",
    "(This will make it easier to produce a graph that uses different line dash types to differentiate between cumulative and test-specific WPM values.)"
   ]
  },
  {
   "cell_type": "code",
   "execution_count": 6,
   "id": "9087d7fb-07a1-41fa-b314-62eb83c5dffe",
   "metadata": {
    "execution": {
     "iopub.execute_input": "2025-07-19T02:44:27.342506Z",
     "iopub.status.busy": "2025-07-19T02:44:27.342383Z",
     "iopub.status.idle": "2025-07-19T02:44:27.352411Z",
     "shell.execute_reply": "2025-07-19T02:44:27.351829Z",
     "shell.execute_reply.started": "2025-07-19T02:44:27.342494Z"
    }
   },
   "outputs": [
    {
     "data": {
      "text/html": [
       "<div>\n",
       "<style scoped>\n",
       "    .dataframe tbody tr th:only-of-type {\n",
       "        vertical-align: middle;\n",
       "    }\n",
       "\n",
       "    .dataframe tbody tr th {\n",
       "        vertical-align: top;\n",
       "    }\n",
       "\n",
       "    .dataframe thead th {\n",
       "        text-align: right;\n",
       "    }\n",
       "</style>\n",
       "<table border=\"1\" class=\"dataframe\">\n",
       "  <thead>\n",
       "    <tr style=\"text-align: right;\">\n",
       "      <th></th>\n",
       "      <th>Player</th>\n",
       "      <th>Round_Test</th>\n",
       "      <th>Player test number</th>\n",
       "      <th>WPM Type</th>\n",
       "      <th>WPM</th>\n",
       "    </tr>\n",
       "  </thead>\n",
       "  <tbody>\n",
       "    <tr>\n",
       "      <th>0</th>\n",
       "      <td>Alliecat</td>\n",
       "      <td>1_1</td>\n",
       "      <td>1</td>\n",
       "      <td>Test WPM</td>\n",
       "      <td>83.005288</td>\n",
       "    </tr>\n",
       "    <tr>\n",
       "      <th>1</th>\n",
       "      <td>Alliecat</td>\n",
       "      <td>1_2</td>\n",
       "      <td>2</td>\n",
       "      <td>Test WPM</td>\n",
       "      <td>32.975491</td>\n",
       "    </tr>\n",
       "    <tr>\n",
       "      <th>2</th>\n",
       "      <td>Alliecat</td>\n",
       "      <td>1_3</td>\n",
       "      <td>3</td>\n",
       "      <td>Test WPM</td>\n",
       "      <td>63.254496</td>\n",
       "    </tr>\n",
       "    <tr>\n",
       "      <th>3</th>\n",
       "      <td>Alliecat</td>\n",
       "      <td>1_4</td>\n",
       "      <td>4</td>\n",
       "      <td>Test WPM</td>\n",
       "      <td>61.654022</td>\n",
       "    </tr>\n",
       "    <tr>\n",
       "      <th>4</th>\n",
       "      <td>Alliecat</td>\n",
       "      <td>1_5</td>\n",
       "      <td>5</td>\n",
       "      <td>Test WPM</td>\n",
       "      <td>72.645656</td>\n",
       "    </tr>\n",
       "    <tr>\n",
       "      <th>...</th>\n",
       "      <td>...</td>\n",
       "      <td>...</td>\n",
       "      <td>...</td>\n",
       "      <td>...</td>\n",
       "      <td>...</td>\n",
       "    </tr>\n",
       "    <tr>\n",
       "      <th>75</th>\n",
       "      <td>Kendog</td>\n",
       "      <td>4_1</td>\n",
       "      <td>16</td>\n",
       "      <td>Cumulative WPM</td>\n",
       "      <td>118.917722</td>\n",
       "    </tr>\n",
       "    <tr>\n",
       "      <th>76</th>\n",
       "      <td>Kendog</td>\n",
       "      <td>4_2</td>\n",
       "      <td>17</td>\n",
       "      <td>Cumulative WPM</td>\n",
       "      <td>119.966833</td>\n",
       "    </tr>\n",
       "    <tr>\n",
       "      <th>77</th>\n",
       "      <td>Kendog</td>\n",
       "      <td>4_3</td>\n",
       "      <td>18</td>\n",
       "      <td>Cumulative WPM</td>\n",
       "      <td>120.441358</td>\n",
       "    </tr>\n",
       "    <tr>\n",
       "      <th>78</th>\n",
       "      <td>Kendog</td>\n",
       "      <td>4_4</td>\n",
       "      <td>19</td>\n",
       "      <td>Cumulative WPM</td>\n",
       "      <td>120.904790</td>\n",
       "    </tr>\n",
       "    <tr>\n",
       "      <th>79</th>\n",
       "      <td>Kendog</td>\n",
       "      <td>4_5</td>\n",
       "      <td>20</td>\n",
       "      <td>Cumulative WPM</td>\n",
       "      <td>121.069024</td>\n",
       "    </tr>\n",
       "  </tbody>\n",
       "</table>\n",
       "<p>80 rows × 5 columns</p>\n",
       "</div>"
      ],
      "text/plain": [
       "      Player Round_Test  Player test number        WPM Type         WPM\n",
       "0   Alliecat        1_1                   1        Test WPM   83.005288\n",
       "1   Alliecat        1_2                   2        Test WPM   32.975491\n",
       "2   Alliecat        1_3                   3        Test WPM   63.254496\n",
       "3   Alliecat        1_4                   4        Test WPM   61.654022\n",
       "4   Alliecat        1_5                   5        Test WPM   72.645656\n",
       "..       ...        ...                 ...             ...         ...\n",
       "75    Kendog        4_1                  16  Cumulative WPM  118.917722\n",
       "76    Kendog        4_2                  17  Cumulative WPM  119.966833\n",
       "77    Kendog        4_3                  18  Cumulative WPM  120.441358\n",
       "78    Kendog        4_4                  19  Cumulative WPM  120.904790\n",
       "79    Kendog        4_5                  20  Cumulative WPM  121.069024\n",
       "\n",
       "[80 rows x 5 columns]"
      ]
     },
     "execution_count": 6,
     "metadata": {},
     "output_type": "execute_result"
    }
   ],
   "source": [
    "df_wpm_type_melt = df.melt(id_vars = ['Player', 'Round_Test', \n",
    "'Player test number'],\n",
    "value_vars = ['WPM', 'Cumulative WPM'],\n",
    "var_name = 'WPM Type',\n",
    "value_name = 'Words per minute').rename(\n",
    "    columns = {'Words per minute':'WPM'}) # This column couldn't be \n",
    "# initialized as WPM because a column with that name was already present \n",
    "# within df.\n",
    "df_wpm_type_melt['WPM Type'] = df_wpm_type_melt['WPM Type'].replace(\n",
    "{'WPM':'Test WPM'})\n",
    "\n",
    "df_wpm_type_melt"
   ]
  },
  {
   "cell_type": "code",
   "execution_count": 7,
   "id": "00adc36d-aeee-4c93-8c5a-97b7ac6bd21d",
   "metadata": {
    "execution": {
     "iopub.execute_input": "2025-07-19T02:44:27.352887Z",
     "iopub.status.busy": "2025-07-19T02:44:27.352771Z",
     "iopub.status.idle": "2025-07-19T02:44:27.501745Z",
     "shell.execute_reply": "2025-07-19T02:44:27.500896Z",
     "shell.execute_reply.started": "2025-07-19T02:44:27.352877Z"
    }
   },
   "outputs": [],
   "source": [
    "fig_wpm_by_player = px.line(df_wpm_type_melt, \n",
    "x = 'Player test number', y = 'WPM',\n",
    "        color = 'Player', line_dash = 'WPM Type',\n",
    "       title = 'WPM By Player and Test',\n",
    "        color_discrete_sequence = px.colors.qualitative.Alphabet)\n",
    "fig_wpm_by_player.write_html(\n",
    "    f'{mp_visualizations_folder}{test_results_name}_Mean_WPM_By_\\\n",
    "Player_And_Test.html',\n",
    "    include_plotlyjs = 'cdn')\n",
    "# Note: 'Alphabet' is used here so that up to 26 distinct colors can be\n",
    "# shown within the chart (which will prove useful for multiplayer rounds\n",
    "# with larger player counts).\n",
    "# fig_wpm_by_player"
   ]
  },
  {
   "cell_type": "markdown",
   "id": "11500e23-b313-47a3-b540-32ac70f94f45",
   "metadata": {},
   "source": [
    "Calculating mean WPMs by player and round as well as overall WPMs:"
   ]
  },
  {
   "cell_type": "code",
   "execution_count": 8,
   "id": "420f9e8a-c4e7-47ae-85ca-97106d16e676",
   "metadata": {
    "execution": {
     "iopub.execute_input": "2025-07-19T02:44:27.502330Z",
     "iopub.status.busy": "2025-07-19T02:44:27.502198Z",
     "iopub.status.idle": "2025-07-19T02:44:27.520130Z",
     "shell.execute_reply": "2025-07-19T02:44:27.519839Z",
     "shell.execute_reply.started": "2025-07-19T02:44:27.502319Z"
    }
   },
   "outputs": [
    {
     "data": {
      "text/html": [
       "<div>\n",
       "<style scoped>\n",
       "    .dataframe tbody tr th:only-of-type {\n",
       "        vertical-align: middle;\n",
       "    }\n",
       "\n",
       "    .dataframe tbody tr th {\n",
       "        vertical-align: top;\n",
       "    }\n",
       "\n",
       "    .dataframe thead th {\n",
       "        text-align: right;\n",
       "    }\n",
       "</style>\n",
       "<table border=\"1\" class=\"dataframe\">\n",
       "  <thead>\n",
       "    <tr style=\"text-align: right;\">\n",
       "      <th></th>\n",
       "      <th>Player</th>\n",
       "      <th>Round</th>\n",
       "      <th>WPM</th>\n",
       "    </tr>\n",
       "  </thead>\n",
       "  <tbody>\n",
       "    <tr>\n",
       "      <th>0</th>\n",
       "      <td>Alliecat</td>\n",
       "      <td>1</td>\n",
       "      <td>62.706991</td>\n",
       "    </tr>\n",
       "    <tr>\n",
       "      <th>1</th>\n",
       "      <td>Alliecat</td>\n",
       "      <td>2</td>\n",
       "      <td>93.708716</td>\n",
       "    </tr>\n",
       "    <tr>\n",
       "      <th>2</th>\n",
       "      <td>Alliecat</td>\n",
       "      <td>3</td>\n",
       "      <td>96.977565</td>\n",
       "    </tr>\n",
       "    <tr>\n",
       "      <th>3</th>\n",
       "      <td>Alliecat</td>\n",
       "      <td>4</td>\n",
       "      <td>91.524123</td>\n",
       "    </tr>\n",
       "    <tr>\n",
       "      <th>4</th>\n",
       "      <td>Kendog</td>\n",
       "      <td>1</td>\n",
       "      <td>113.541991</td>\n",
       "    </tr>\n",
       "    <tr>\n",
       "      <th>5</th>\n",
       "      <td>Kendog</td>\n",
       "      <td>2</td>\n",
       "      <td>122.283725</td>\n",
       "    </tr>\n",
       "    <tr>\n",
       "      <th>6</th>\n",
       "      <td>Kendog</td>\n",
       "      <td>3</td>\n",
       "      <td>119.704936</td>\n",
       "    </tr>\n",
       "    <tr>\n",
       "      <th>7</th>\n",
       "      <td>Kendog</td>\n",
       "      <td>4</td>\n",
       "      <td>128.745445</td>\n",
       "    </tr>\n",
       "    <tr>\n",
       "      <th>8</th>\n",
       "      <td>Alliecat</td>\n",
       "      <td>Overall</td>\n",
       "      <td>86.229349</td>\n",
       "    </tr>\n",
       "    <tr>\n",
       "      <th>9</th>\n",
       "      <td>Kendog</td>\n",
       "      <td>Overall</td>\n",
       "      <td>121.069024</td>\n",
       "    </tr>\n",
       "  </tbody>\n",
       "</table>\n",
       "</div>"
      ],
      "text/plain": [
       "     Player    Round         WPM\n",
       "0  Alliecat        1   62.706991\n",
       "1  Alliecat        2   93.708716\n",
       "2  Alliecat        3   96.977565\n",
       "3  Alliecat        4   91.524123\n",
       "4    Kendog        1  113.541991\n",
       "5    Kendog        2  122.283725\n",
       "6    Kendog        3  119.704936\n",
       "7    Kendog        4  128.745445\n",
       "8  Alliecat  Overall   86.229349\n",
       "9    Kendog  Overall  121.069024"
      ]
     },
     "execution_count": 8,
     "metadata": {},
     "output_type": "execute_result"
    }
   ],
   "source": [
    "df_mean_wpm_by_player_and_round = df.pivot_table(\n",
    "index = ['Player', 'Round'], values = 'WPM', \n",
    "               aggfunc = 'mean').reset_index()\n",
    "\n",
    "# Adding overall WPMs for each player to the bottom of this DataFrame:\n",
    "\n",
    "df_mean_wpm_by_player = df.pivot_table(\n",
    "index = 'Player', values = 'WPM', \n",
    "               aggfunc = 'mean').reset_index()\n",
    "df_mean_wpm_by_player['Round'] = 'Overall'\n",
    "\n",
    "df_mean_wpm_by_player_and_round = pd.concat([\n",
    "    df_mean_wpm_by_player_and_round, df_mean_wpm_by_player]).reset_index(\n",
    "    drop=True)\n",
    "# Ensuring that all Round values are strings: (I found that, without\n",
    "# this update, the Overall rows would not appear within the figure\n",
    "# that we're about to create.)\n",
    "df_mean_wpm_by_player_and_round['Round'] = (\n",
    "    df_mean_wpm_by_player_and_round['Round'].astype('str'))\n",
    "df_mean_wpm_by_player_and_round"
   ]
  },
  {
   "cell_type": "code",
   "execution_count": 9,
   "id": "7ccf8885-63cc-44f3-afb9-4143681fb8db",
   "metadata": {
    "execution": {
     "iopub.execute_input": "2025-07-19T02:44:27.520675Z",
     "iopub.status.busy": "2025-07-19T02:44:27.520551Z",
     "iopub.status.idle": "2025-07-19T02:44:27.611003Z",
     "shell.execute_reply": "2025-07-19T02:44:27.610310Z",
     "shell.execute_reply.started": "2025-07-19T02:44:27.520664Z"
    }
   },
   "outputs": [],
   "source": [
    "fig_mean_wpm_by_player_and_round = px.bar(\n",
    "    df_mean_wpm_by_player_and_round, x = 'Round', \n",
    "       y = 'WPM', color = 'Player', barmode = 'group',\n",
    "    color_discrete_sequence = px.colors.qualitative.Alphabet,\n",
    "    title = 'Mean WPM by Player and Round',\n",
    "      text_auto = '.0f')\n",
    "fig_mean_wpm_by_player_and_round.write_html(\n",
    "    f'{mp_visualizations_folder}{test_results_name}_Mean_WPM_\\\n",
    "By_Player_And_Round.html',\n",
    "    include_plotlyjs = 'cdn')\n",
    "# fig_mean_wpm_by_player_and_round"
   ]
  },
  {
   "cell_type": "code",
   "execution_count": 10,
   "id": "2d38df23-c995-4225-8628-e92b7b16df93",
   "metadata": {
    "execution": {
     "iopub.execute_input": "2025-07-19T02:44:27.611593Z",
     "iopub.status.busy": "2025-07-19T02:44:27.611468Z",
     "iopub.status.idle": "2025-07-19T02:44:27.621149Z",
     "shell.execute_reply": "2025-07-19T02:44:27.620811Z",
     "shell.execute_reply.started": "2025-07-19T02:44:27.611582Z"
    }
   },
   "outputs": [
    {
     "data": {
      "text/html": [
       "<div>\n",
       "<style scoped>\n",
       "    .dataframe tbody tr th:only-of-type {\n",
       "        vertical-align: middle;\n",
       "    }\n",
       "\n",
       "    .dataframe tbody tr th {\n",
       "        vertical-align: top;\n",
       "    }\n",
       "\n",
       "    .dataframe thead th {\n",
       "        text-align: right;\n",
       "    }\n",
       "</style>\n",
       "<table border=\"1\" class=\"dataframe\">\n",
       "  <thead>\n",
       "    <tr style=\"text-align: right;\">\n",
       "      <th></th>\n",
       "      <th>Player</th>\n",
       "      <th>Player had best WPM for this test</th>\n",
       "    </tr>\n",
       "  </thead>\n",
       "  <tbody>\n",
       "    <tr>\n",
       "      <th>1</th>\n",
       "      <td>Kendog</td>\n",
       "      <td>18</td>\n",
       "    </tr>\n",
       "    <tr>\n",
       "      <th>0</th>\n",
       "      <td>Alliecat</td>\n",
       "      <td>2</td>\n",
       "    </tr>\n",
       "  </tbody>\n",
       "</table>\n",
       "</div>"
      ],
      "text/plain": [
       "     Player  Player had best WPM for this test\n",
       "1    Kendog                                 18\n",
       "0  Alliecat                                  2"
      ]
     },
     "execution_count": 10,
     "metadata": {},
     "output_type": "execute_result"
    }
   ],
   "source": [
    "df_wins = df.pivot_table(index = 'Player', values = 'Player had best \\\n",
    "WPM for this test', aggfunc = 'sum').reset_index()\n",
    "df_wins.sort_values('Player had best WPM for this test', ascending = False,\n",
    "                   inplace = True)\n",
    "df_wins"
   ]
  },
  {
   "cell_type": "code",
   "execution_count": 11,
   "id": "61f3473a-33de-4e6b-b109-d7a06ce4536a",
   "metadata": {
    "execution": {
     "iopub.execute_input": "2025-07-19T02:44:27.622352Z",
     "iopub.status.busy": "2025-07-19T02:44:27.622168Z",
     "iopub.status.idle": "2025-07-19T02:44:27.665308Z",
     "shell.execute_reply": "2025-07-19T02:44:27.664655Z",
     "shell.execute_reply.started": "2025-07-19T02:44:27.622335Z"
    }
   },
   "outputs": [],
   "source": [
    "fig_wins = px.bar(df_wins, x = 'Player', \n",
    "       y = 'Player had best WPM for this test',\n",
    "      title = 'Number of Tests in Which Each Player \\\n",
    "Had the Highest WPM', text_auto = '.0f',\n",
    "                 color = 'Player', \n",
    "color_discrete_sequence=px.colors.qualitative.Alphabet).update_layout(\n",
    "yaxis_title = 'Wins')\n",
    "fig_wins.write_html(f'{mp_visualizations_folder}{test_results_name}_\\\n",
    "wins_by_player.html', include_plotlyjs = 'cdn')\n",
    "# fig_wins"
   ]
  },
  {
   "cell_type": "code",
   "execution_count": 12,
   "id": "048dcfbb-007d-4967-80a7-92f838d49c20",
   "metadata": {
    "execution": {
     "iopub.execute_input": "2025-07-19T02:44:27.666274Z",
     "iopub.status.busy": "2025-07-19T02:44:27.666058Z",
     "iopub.status.idle": "2025-07-19T02:44:27.675179Z",
     "shell.execute_reply": "2025-07-19T02:44:27.674577Z",
     "shell.execute_reply.started": "2025-07-19T02:44:27.666259Z"
    }
   },
   "outputs": [
    {
     "data": {
      "text/html": [
       "<div>\n",
       "<style scoped>\n",
       "    .dataframe tbody tr th:only-of-type {\n",
       "        vertical-align: middle;\n",
       "    }\n",
       "\n",
       "    .dataframe tbody tr th {\n",
       "        vertical-align: top;\n",
       "    }\n",
       "\n",
       "    .dataframe thead th {\n",
       "        text-align: right;\n",
       "    }\n",
       "</style>\n",
       "<table border=\"1\" class=\"dataframe\">\n",
       "  <thead>\n",
       "    <tr style=\"text-align: right;\">\n",
       "      <th></th>\n",
       "      <th>Player</th>\n",
       "      <th>WPM</th>\n",
       "    </tr>\n",
       "  </thead>\n",
       "  <tbody>\n",
       "    <tr>\n",
       "      <th>1</th>\n",
       "      <td>Kendog</td>\n",
       "      <td>174.177995</td>\n",
       "    </tr>\n",
       "    <tr>\n",
       "      <th>0</th>\n",
       "      <td>Alliecat</td>\n",
       "      <td>108.959206</td>\n",
       "    </tr>\n",
       "  </tbody>\n",
       "</table>\n",
       "</div>"
      ],
      "text/plain": [
       "     Player         WPM\n",
       "1    Kendog  174.177995\n",
       "0  Alliecat  108.959206"
      ]
     },
     "execution_count": 12,
     "metadata": {},
     "output_type": "execute_result"
    }
   ],
   "source": [
    "df_highest_wpm = df.pivot_table(index = 'Player', values = 'WPM', \n",
    "                                aggfunc = 'max').reset_index()\n",
    "df_highest_wpm.sort_values('WPM', ascending = False, inplace = True)\n",
    "df_highest_wpm"
   ]
  },
  {
   "cell_type": "code",
   "execution_count": 13,
   "id": "88fb8363-da15-4be2-a799-38570ee04070",
   "metadata": {
    "execution": {
     "iopub.execute_input": "2025-07-19T02:44:27.675700Z",
     "iopub.status.busy": "2025-07-19T02:44:27.675577Z",
     "iopub.status.idle": "2025-07-19T02:44:27.716569Z",
     "shell.execute_reply": "2025-07-19T02:44:27.716221Z",
     "shell.execute_reply.started": "2025-07-19T02:44:27.675688Z"
    }
   },
   "outputs": [],
   "source": [
    "fig_highest_wpm = px.bar(df_highest_wpm, x = 'Player', \n",
    "       y = 'WPM',\n",
    "      title = 'Highest WPM by Player', text_auto = '.3f',\n",
    "                 color = 'Player', \n",
    "                 color_discrete_sequence = \n",
    "px.colors.qualitative.Alphabet)\n",
    "fig_highest_wpm.write_html(\n",
    "    f'{mp_visualizations_folder}{test_results_name}_\\\n",
    "highest_wpm_by_player.html', include_plotlyjs = 'cdn')\n",
    "# fig_highest_wpm"
   ]
  },
  {
   "cell_type": "code",
   "execution_count": 14,
   "id": "5171e062-8163-44f9-a6cf-9f27426e6436",
   "metadata": {
    "execution": {
     "iopub.execute_input": "2025-07-19T02:44:27.717580Z",
     "iopub.status.busy": "2025-07-19T02:44:27.717035Z",
     "iopub.status.idle": "2025-07-19T02:44:27.720361Z",
     "shell.execute_reply": "2025-07-19T02:44:27.720032Z",
     "shell.execute_reply.started": "2025-07-19T02:44:27.717565Z"
    }
   },
   "outputs": [
    {
     "name": "stdout",
     "output_type": "stream",
     "text": [
      "Finished calculating and visualizing multiplayer stats in 0.688 seconds.\n"
     ]
    }
   ],
   "source": [
    "end_time = time.time()\n",
    "run_time = end_time - start_time\n",
    "print(f\"Finished calculating and visualizing multiplayer stats in \\\n",
    "{round(run_time, 3)} seconds.\")"
   ]
  }
 ],
 "metadata": {
  "kernelspec": {
   "display_name": "Python 3 (ipykernel)",
   "language": "python",
   "name": "python3"
  },
  "language_info": {
   "codemirror_mode": {
    "name": "ipython",
    "version": 3
   },
   "file_extension": ".py",
   "mimetype": "text/x-python",
   "name": "python",
   "nbconvert_exporter": "python",
   "pygments_lexer": "ipython3",
   "version": "3.13.5"
  }
 },
 "nbformat": 4,
 "nbformat_minor": 5
}
