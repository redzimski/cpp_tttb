{
 "cells": [
  {
   "cell_type": "markdown",
   "id": "86bc8d52-ce91-4ac7-8af5-e935a3f45339",
   "metadata": {},
   "source": [
    "## Visualization script for multiplayer Type Through the Bible files\n",
    "\n",
    "By Ken Burchfiel\n",
    "\n",
    "Released under the MIT license\n",
    "\n",
    "Note: this script, though developed as a Jupyter Notebook to make development and testing easier, is meant to be called as a Python file within a terminal/command prompt with a multiplayer test results file as its sole argument. Here's an example of what this function call may look like on Linux when the current directory is TTTB's build/ folder:\n",
    "\n",
    "    python mp_visualizations.py 20250706T220148\n",
    "\n",
    "Note that only the timestamp component of the multiplayer file(s) is passed to the argument; the function will take care of the rest. (This helps prevent user-submitted strings from getting passed to a system() call, which could potentially cause security issues.\n",
    "\n",
    "When players complete multiplayer games within Type Through The Bible, this script will then get called via a system() call. However, it can also be run as a standalone file if needed."
   ]
  },
  {
   "cell_type": "code",
   "execution_count": 1,
   "id": "3247f372-c3ee-4db7-b2c8-547120bde13a",
   "metadata": {
    "execution": {
     "iopub.execute_input": "2025-07-29T02:50:25.931436Z",
     "iopub.status.busy": "2025-07-29T02:50:25.931306Z",
     "iopub.status.idle": "2025-07-29T02:50:26.162620Z",
     "shell.execute_reply": "2025-07-29T02:50:26.162273Z",
     "shell.execute_reply.started": "2025-07-29T02:50:25.931424Z"
    }
   },
   "outputs": [],
   "source": [
    "import time\n",
    "start_time = time.time()\n",
    "import os\n",
    "import pandas as pd\n",
    "import numpy as np\n",
    "import plotly.express as px\n",
    "pd.set_option('display.max_columns', 1000)\n",
    "\n",
    "# The following file paths are relative to the build folder.\n",
    "mp_results_folder = '../Files/Multiplayer/'\n",
    "mp_visualizations_folder = '../Visualizations/Multiplayer/'"
   ]
  },
  {
   "cell_type": "markdown",
   "id": "1ab5d792-4b56-4378-94fb-44f84de163a6",
   "metadata": {},
   "source": [
    "Checking whether this script is running within a Jupyter notebook: \n",
    "\n",
    "(This will allow us to determine whether to specify our multiplayer filename via argparse (which will only work when the .py version of the file is being rurn) or via a notebook-specific argument).)\n",
    "\n",
    "This code is based on Gustavo Bezerra's answer at https://stackoverflow.com/a/39662359/13097194 ."
   ]
  },
  {
   "cell_type": "code",
   "execution_count": 2,
   "id": "a3c53694-0135-41b7-b04b-ca08c87b4f35",
   "metadata": {
    "execution": {
     "iopub.execute_input": "2025-07-29T02:50:26.163079Z",
     "iopub.status.busy": "2025-07-29T02:50:26.162903Z",
     "iopub.status.idle": "2025-07-29T02:50:26.165234Z",
     "shell.execute_reply": "2025-07-29T02:50:26.164915Z",
     "shell.execute_reply.started": "2025-07-29T02:50:26.163068Z"
    }
   },
   "outputs": [],
   "source": [
    "notebook_exec = False\n",
    "try:\n",
    "    get_ipython()\n",
    "    notebook_exec = True # Script is running within a notebook\n",
    "except:\n",
    "#     print(\"get_ipython() failed, so we'll assume that we're running \\\n",
    "# this script within a .py file.\")\n",
    "    pass\n",
    "\n",
    "# notebook_exec\n",
    "    "
   ]
  },
  {
   "cell_type": "markdown",
   "id": "2c8d4309-0c97-4920-a0ad-bce172225d46",
   "metadata": {},
   "source": [
    "Adding code that will allow the caller to specify which multiplayer results file to analyze:\n",
    "\n",
    "(Note that only the timestamp component of this file should be passed to the argument.)\n",
    "\n",
    "If you're running this code within a notebook, update the test_results_timestamp value as needed."
   ]
  },
  {
   "cell_type": "code",
   "execution_count": 3,
   "id": "4e5fe657-032d-4439-a0e0-acbe966182f2",
   "metadata": {
    "execution": {
     "iopub.execute_input": "2025-07-29T02:50:26.166191Z",
     "iopub.status.busy": "2025-07-29T02:50:26.166026Z",
     "iopub.status.idle": "2025-07-29T02:50:26.174922Z",
     "shell.execute_reply": "2025-07-29T02:50:26.174530Z",
     "shell.execute_reply.started": "2025-07-29T02:50:26.166182Z"
    }
   },
   "outputs": [
    {
     "data": {
      "text/plain": [
       "'20250725T130325'"
      ]
     },
     "execution_count": 3,
     "metadata": {},
     "output_type": "execute_result"
    }
   ],
   "source": [
    "if notebook_exec == False:\n",
    "    # The following code was based on\n",
    "    # https://docs.python.org/3/howto/argparse.html#argparse-tutorial\n",
    "    # and # https://docs.python.org/3/library/argparse.html .\n",
    "    import argparse\n",
    "    parser = argparse.ArgumentParser()\n",
    "    parser.add_argument(\"results_timestamp\")\n",
    "    args = parser.parse_args()\n",
    "    test_results_timestamp = args.results_timestamp\n",
    "else:\n",
    "    test_results_timestamp = '20250725T130325'\n",
    "\n",
    "test_results_timestamp"
   ]
  },
  {
   "cell_type": "markdown",
   "id": "4fe56fac-ea19-43ce-90fb-84eece2f23fa",
   "metadata": {},
   "source": [
    "Determining the multiplayer test_results.csv file whose timestamp matches our test_results_timestamp string:\n",
    "\n",
    "(There *should* only be one such timestamp, but just in case two or more share this timestamp--which is extremely improbable--only one will be retained.)"
   ]
  },
  {
   "cell_type": "code",
   "execution_count": 4,
   "id": "1be2ef56-5690-4863-a626-d8cb2b84e60e",
   "metadata": {
    "execution": {
     "iopub.execute_input": "2025-07-29T02:50:26.175397Z",
     "iopub.status.busy": "2025-07-29T02:50:26.175260Z",
     "iopub.status.idle": "2025-07-29T02:50:26.178938Z",
     "shell.execute_reply": "2025-07-29T02:50:26.178703Z",
     "shell.execute_reply.started": "2025-07-29T02:50:26.175388Z"
    }
   },
   "outputs": [
    {
     "data": {
      "text/plain": [
       "('20250725T130325_CMR_test_results.csv', '20250725T130325_CMR')"
      ]
     },
     "execution_count": 4,
     "metadata": {},
     "output_type": "execute_result"
    }
   ],
   "source": [
    "test_results_file = [file for file in os.listdir(mp_results_folder) if \n",
    " (test_results_timestamp in file) & ('test_results' in file)][0]\n",
    "# Creating a shortened version of this string that doesn't have\n",
    "# the 'test_results.csv' component at the end: \n",
    "# (This shortened version will serve as the initial component\n",
    "# of our visualization filenames.)\n",
    "test_results_name = test_results_file[:-17]\n",
    "test_results_file, test_results_name"
   ]
  },
  {
   "cell_type": "code",
   "execution_count": 5,
   "id": "8e636264-b2de-4635-bc8f-0b2207e6754d",
   "metadata": {
    "execution": {
     "iopub.execute_input": "2025-07-29T02:50:26.179372Z",
     "iopub.status.busy": "2025-07-29T02:50:26.179265Z",
     "iopub.status.idle": "2025-07-29T02:50:26.194107Z",
     "shell.execute_reply": "2025-07-29T02:50:26.193737Z",
     "shell.execute_reply.started": "2025-07-29T02:50:26.179363Z"
    }
   },
   "outputs": [
    {
     "data": {
      "text/html": [
       "<div>\n",
       "<style scoped>\n",
       "    .dataframe tbody tr th:only-of-type {\n",
       "        vertical-align: middle;\n",
       "    }\n",
       "\n",
       "    .dataframe tbody tr th {\n",
       "        vertical-align: top;\n",
       "    }\n",
       "\n",
       "    .dataframe thead th {\n",
       "        text-align: right;\n",
       "    }\n",
       "</style>\n",
       "<table border=\"1\" class=\"dataframe\">\n",
       "  <thead>\n",
       "    <tr style=\"text-align: right;\">\n",
       "      <th></th>\n",
       "      <th>Test_Number</th>\n",
       "      <th>Game test number</th>\n",
       "      <th>Unix_Test_Start_Time</th>\n",
       "      <th>Local_Test_Start_Time</th>\n",
       "      <th>Unix_Test_End_Time</th>\n",
       "      <th>Local_Test_End_Time</th>\n",
       "      <th>Verse_ID</th>\n",
       "      <th>Verse_Code</th>\n",
       "      <th>Verse</th>\n",
       "      <th>Characters</th>\n",
       "      <th>WPM</th>\n",
       "      <th>Test_Seconds</th>\n",
       "      <th>Error_Rate</th>\n",
       "      <th>Error_and_Backspace_Rate</th>\n",
       "      <th>Marathon_Mode</th>\n",
       "      <th>Player</th>\n",
       "      <th>Mode</th>\n",
       "      <th>Round</th>\n",
       "      <th>Test within round</th>\n",
       "      <th>Player test number</th>\n",
       "      <th>Notes</th>\n",
       "      <th>Cumulative WPM</th>\n",
       "      <th>Best_WPM_for_Test</th>\n",
       "      <th>Player had best WPM for this test</th>\n",
       "    </tr>\n",
       "  </thead>\n",
       "  <tbody>\n",
       "    <tr>\n",
       "      <th>45</th>\n",
       "      <td>46</td>\n",
       "      <td>46</td>\n",
       "      <td>1753463851</td>\n",
       "      <td>2025-07-25T13:17:31-0400</td>\n",
       "      <td>1753463855</td>\n",
       "      <td>2025-07-25T13:17:35-0400</td>\n",
       "      <td>30791</td>\n",
       "      <td>John_1:6</td>\n",
       "      <td>There was a man sent by God, whose name was John.</td>\n",
       "      <td>49</td>\n",
       "      <td>143.042732</td>\n",
       "      <td>4.110660</td>\n",
       "      <td>0.000000</td>\n",
       "      <td>0.000000</td>\n",
       "      <td>0</td>\n",
       "      <td>2_Ken4</td>\n",
       "      <td>MP</td>\n",
       "      <td>1</td>\n",
       "      <td>6</td>\n",
       "      <td>6</td>\n",
       "      <td>20250725T131157_mp2playertest_test_results.csv</td>\n",
       "      <td>154.649894</td>\n",
       "      <td>157.343933</td>\n",
       "      <td>0</td>\n",
       "    </tr>\n",
       "    <tr>\n",
       "      <th>46</th>\n",
       "      <td>47</td>\n",
       "      <td>47</td>\n",
       "      <td>1753463856</td>\n",
       "      <td>2025-07-25T13:17:36-0400</td>\n",
       "      <td>1753463864</td>\n",
       "      <td>2025-07-25T13:17:44-0400</td>\n",
       "      <td>30792</td>\n",
       "      <td>John_1:7</td>\n",
       "      <td>He arrived as a witness to offer testimony abo...</td>\n",
       "      <td>98</td>\n",
       "      <td>154.444346</td>\n",
       "      <td>7.614393</td>\n",
       "      <td>0.000000</td>\n",
       "      <td>0.000000</td>\n",
       "      <td>0</td>\n",
       "      <td>2_Ken4</td>\n",
       "      <td>MP</td>\n",
       "      <td>1</td>\n",
       "      <td>7</td>\n",
       "      <td>7</td>\n",
       "      <td>20250725T131157_mp2playertest_test_results.csv</td>\n",
       "      <td>154.620530</td>\n",
       "      <td>155.501843</td>\n",
       "      <td>0</td>\n",
       "    </tr>\n",
       "    <tr>\n",
       "      <th>47</th>\n",
       "      <td>48</td>\n",
       "      <td>48</td>\n",
       "      <td>1753463892</td>\n",
       "      <td>2025-07-25T13:18:12-0400</td>\n",
       "      <td>1753463899</td>\n",
       "      <td>2025-07-25T13:18:19-0400</td>\n",
       "      <td>30793</td>\n",
       "      <td>John_1:8</td>\n",
       "      <td>He was not the Light, but he was to offer test...</td>\n",
       "      <td>68</td>\n",
       "      <td>119.277133</td>\n",
       "      <td>6.841211</td>\n",
       "      <td>0.073529</td>\n",
       "      <td>0.147059</td>\n",
       "      <td>0</td>\n",
       "      <td>2_Ken4</td>\n",
       "      <td>MP</td>\n",
       "      <td>1</td>\n",
       "      <td>8</td>\n",
       "      <td>8</td>\n",
       "      <td>20250725T131157_mp2playertest_test_results.csv</td>\n",
       "      <td>150.202605</td>\n",
       "      <td>160.121786</td>\n",
       "      <td>0</td>\n",
       "    </tr>\n",
       "    <tr>\n",
       "      <th>48</th>\n",
       "      <td>49</td>\n",
       "      <td>49</td>\n",
       "      <td>1753463900</td>\n",
       "      <td>2025-07-25T13:18:20-0400</td>\n",
       "      <td>1753463906</td>\n",
       "      <td>2025-07-25T13:18:26-0400</td>\n",
       "      <td>30794</td>\n",
       "      <td>John_1:9</td>\n",
       "      <td>The true Light, which illuminates every man, w...</td>\n",
       "      <td>72</td>\n",
       "      <td>156.458508</td>\n",
       "      <td>5.522231</td>\n",
       "      <td>0.000000</td>\n",
       "      <td>0.000000</td>\n",
       "      <td>0</td>\n",
       "      <td>2_Ken4</td>\n",
       "      <td>MP</td>\n",
       "      <td>1</td>\n",
       "      <td>9</td>\n",
       "      <td>9</td>\n",
       "      <td>20250725T131157_mp2playertest_test_results.csv</td>\n",
       "      <td>150.897706</td>\n",
       "      <td>156.458508</td>\n",
       "      <td>1</td>\n",
       "    </tr>\n",
       "    <tr>\n",
       "      <th>49</th>\n",
       "      <td>50</td>\n",
       "      <td>50</td>\n",
       "      <td>1753463907</td>\n",
       "      <td>2025-07-25T13:18:27-0400</td>\n",
       "      <td>1753463918</td>\n",
       "      <td>2025-07-25T13:18:38-0400</td>\n",
       "      <td>30795</td>\n",
       "      <td>John_1:10</td>\n",
       "      <td>He was in the world, and the world was made th...</td>\n",
       "      <td>93</td>\n",
       "      <td>100.564664</td>\n",
       "      <td>11.097337</td>\n",
       "      <td>0.193548</td>\n",
       "      <td>0.311828</td>\n",
       "      <td>0</td>\n",
       "      <td>2_Ken4</td>\n",
       "      <td>MP</td>\n",
       "      <td>1</td>\n",
       "      <td>10</td>\n",
       "      <td>10</td>\n",
       "      <td>20250725T131157_mp2playertest_test_results.csv</td>\n",
       "      <td>145.864401</td>\n",
       "      <td>157.508131</td>\n",
       "      <td>0</td>\n",
       "    </tr>\n",
       "  </tbody>\n",
       "</table>\n",
       "</div>"
      ],
      "text/plain": [
       "    Test_Number  Game test number  Unix_Test_Start_Time  \\\n",
       "45           46                46            1753463851   \n",
       "46           47                47            1753463856   \n",
       "47           48                48            1753463892   \n",
       "48           49                49            1753463900   \n",
       "49           50                50            1753463907   \n",
       "\n",
       "       Local_Test_Start_Time  Unix_Test_End_Time       Local_Test_End_Time  \\\n",
       "45  2025-07-25T13:17:31-0400          1753463855  2025-07-25T13:17:35-0400   \n",
       "46  2025-07-25T13:17:36-0400          1753463864  2025-07-25T13:17:44-0400   \n",
       "47  2025-07-25T13:18:12-0400          1753463899  2025-07-25T13:18:19-0400   \n",
       "48  2025-07-25T13:18:20-0400          1753463906  2025-07-25T13:18:26-0400   \n",
       "49  2025-07-25T13:18:27-0400          1753463918  2025-07-25T13:18:38-0400   \n",
       "\n",
       "    Verse_ID Verse_Code                                              Verse  \\\n",
       "45     30791   John_1:6  There was a man sent by God, whose name was John.   \n",
       "46     30792   John_1:7  He arrived as a witness to offer testimony abo...   \n",
       "47     30793   John_1:8  He was not the Light, but he was to offer test...   \n",
       "48     30794   John_1:9  The true Light, which illuminates every man, w...   \n",
       "49     30795  John_1:10  He was in the world, and the world was made th...   \n",
       "\n",
       "    Characters         WPM  Test_Seconds  Error_Rate  \\\n",
       "45          49  143.042732      4.110660    0.000000   \n",
       "46          98  154.444346      7.614393    0.000000   \n",
       "47          68  119.277133      6.841211    0.073529   \n",
       "48          72  156.458508      5.522231    0.000000   \n",
       "49          93  100.564664     11.097337    0.193548   \n",
       "\n",
       "    Error_and_Backspace_Rate  Marathon_Mode  Player Mode  Round  \\\n",
       "45                  0.000000              0  2_Ken4   MP      1   \n",
       "46                  0.000000              0  2_Ken4   MP      1   \n",
       "47                  0.147059              0  2_Ken4   MP      1   \n",
       "48                  0.000000              0  2_Ken4   MP      1   \n",
       "49                  0.311828              0  2_Ken4   MP      1   \n",
       "\n",
       "    Test within round  Player test number  \\\n",
       "45                  6                   6   \n",
       "46                  7                   7   \n",
       "47                  8                   8   \n",
       "48                  9                   9   \n",
       "49                 10                  10   \n",
       "\n",
       "                                             Notes  Cumulative WPM  \\\n",
       "45  20250725T131157_mp2playertest_test_results.csv      154.649894   \n",
       "46  20250725T131157_mp2playertest_test_results.csv      154.620530   \n",
       "47  20250725T131157_mp2playertest_test_results.csv      150.202605   \n",
       "48  20250725T131157_mp2playertest_test_results.csv      150.897706   \n",
       "49  20250725T131157_mp2playertest_test_results.csv      145.864401   \n",
       "\n",
       "    Best_WPM_for_Test  Player had best WPM for this test  \n",
       "45         157.343933                                  0  \n",
       "46         155.501843                                  0  \n",
       "47         160.121786                                  0  \n",
       "48         156.458508                                  1  \n",
       "49         157.508131                                  0  "
      ]
     },
     "execution_count": 5,
     "metadata": {},
     "output_type": "execute_result"
    }
   ],
   "source": [
    "df = pd.read_csv(mp_results_folder+test_results_file) \n",
    "# Replacing the tag columns with their actual meanings:\n",
    "df.rename(columns = {'Tag_1':'Round','Tag_2':'Test within round',\n",
    "                    'Tag_3':'Player test number',\n",
    "                    'Within_Session_Test_Number':\n",
    "                    'Game test number'}, inplace = True)\n",
    "# Making sure that the results are stored in the order that they were\n",
    "# typed:\n",
    "df.sort_values('Game test number', inplace = True)\n",
    "\n",
    "# Calculating cumulative WPM values:\n",
    "df['Cumulative WPM'] = (df.groupby('Player')['WPM'].transform(\n",
    "'cumsum')) / df['Player test number']\n",
    "\n",
    "df['Best_WPM_for_Test'] = df.groupby(\n",
    "    'Player test number')['WPM'].transform('max')\n",
    "df['Player had best WPM for this test'] = np.where(\n",
    "    df['WPM'] == df['Best_WPM_for_Test'], 1, 0)\n",
    "\n",
    "df.tail()"
   ]
  },
  {
   "cell_type": "markdown",
   "id": "ee180336-ba5a-4389-84c7-7e7032dbbc7f",
   "metadata": {},
   "source": [
    "Creating a melted verison of this DataFrame that stores both cumulative and test-specific WPM values within the same column:\n",
    "\n",
    "(This will make it easier to produce a graph that uses different line dash types to differentiate between cumulative and test-specific WPM values.)"
   ]
  },
  {
   "cell_type": "code",
   "execution_count": 6,
   "id": "9087d7fb-07a1-41fa-b314-62eb83c5dffe",
   "metadata": {
    "execution": {
     "iopub.execute_input": "2025-07-29T02:50:26.194556Z",
     "iopub.status.busy": "2025-07-29T02:50:26.194452Z",
     "iopub.status.idle": "2025-07-29T02:50:26.201896Z",
     "shell.execute_reply": "2025-07-29T02:50:26.201553Z",
     "shell.execute_reply.started": "2025-07-29T02:50:26.194547Z"
    }
   },
   "outputs": [
    {
     "data": {
      "text/html": [
       "<div>\n",
       "<style scoped>\n",
       "    .dataframe tbody tr th:only-of-type {\n",
       "        vertical-align: middle;\n",
       "    }\n",
       "\n",
       "    .dataframe tbody tr th {\n",
       "        vertical-align: top;\n",
       "    }\n",
       "\n",
       "    .dataframe thead th {\n",
       "        text-align: right;\n",
       "    }\n",
       "</style>\n",
       "<table border=\"1\" class=\"dataframe\">\n",
       "  <thead>\n",
       "    <tr style=\"text-align: right;\">\n",
       "      <th></th>\n",
       "      <th>Player</th>\n",
       "      <th>Player test number</th>\n",
       "      <th>WPM Type</th>\n",
       "      <th>WPM</th>\n",
       "    </tr>\n",
       "  </thead>\n",
       "  <tbody>\n",
       "    <tr>\n",
       "      <th>0</th>\n",
       "      <td>4_KJB3</td>\n",
       "      <td>1</td>\n",
       "      <td>Test WPM</td>\n",
       "      <td>147.108798</td>\n",
       "    </tr>\n",
       "    <tr>\n",
       "      <th>1</th>\n",
       "      <td>4_KJB3</td>\n",
       "      <td>2</td>\n",
       "      <td>Test WPM</td>\n",
       "      <td>107.419623</td>\n",
       "    </tr>\n",
       "    <tr>\n",
       "      <th>2</th>\n",
       "      <td>4_KJB3</td>\n",
       "      <td>3</td>\n",
       "      <td>Test WPM</td>\n",
       "      <td>119.750078</td>\n",
       "    </tr>\n",
       "    <tr>\n",
       "      <th>3</th>\n",
       "      <td>4_KJB3</td>\n",
       "      <td>4</td>\n",
       "      <td>Test WPM</td>\n",
       "      <td>131.118032</td>\n",
       "    </tr>\n",
       "    <tr>\n",
       "      <th>4</th>\n",
       "      <td>4_KJB3</td>\n",
       "      <td>5</td>\n",
       "      <td>Test WPM</td>\n",
       "      <td>166.496865</td>\n",
       "    </tr>\n",
       "    <tr>\n",
       "      <th>...</th>\n",
       "      <td>...</td>\n",
       "      <td>...</td>\n",
       "      <td>...</td>\n",
       "      <td>...</td>\n",
       "    </tr>\n",
       "    <tr>\n",
       "      <th>95</th>\n",
       "      <td>2_Ken4</td>\n",
       "      <td>6</td>\n",
       "      <td>Cumulative WPM</td>\n",
       "      <td>154.649894</td>\n",
       "    </tr>\n",
       "    <tr>\n",
       "      <th>96</th>\n",
       "      <td>2_Ken4</td>\n",
       "      <td>7</td>\n",
       "      <td>Cumulative WPM</td>\n",
       "      <td>154.620530</td>\n",
       "    </tr>\n",
       "    <tr>\n",
       "      <th>97</th>\n",
       "      <td>2_Ken4</td>\n",
       "      <td>8</td>\n",
       "      <td>Cumulative WPM</td>\n",
       "      <td>150.202605</td>\n",
       "    </tr>\n",
       "    <tr>\n",
       "      <th>98</th>\n",
       "      <td>2_Ken4</td>\n",
       "      <td>9</td>\n",
       "      <td>Cumulative WPM</td>\n",
       "      <td>150.897706</td>\n",
       "    </tr>\n",
       "    <tr>\n",
       "      <th>99</th>\n",
       "      <td>2_Ken4</td>\n",
       "      <td>10</td>\n",
       "      <td>Cumulative WPM</td>\n",
       "      <td>145.864401</td>\n",
       "    </tr>\n",
       "  </tbody>\n",
       "</table>\n",
       "<p>100 rows × 4 columns</p>\n",
       "</div>"
      ],
      "text/plain": [
       "    Player  Player test number        WPM Type         WPM\n",
       "0   4_KJB3                   1        Test WPM  147.108798\n",
       "1   4_KJB3                   2        Test WPM  107.419623\n",
       "2   4_KJB3                   3        Test WPM  119.750078\n",
       "3   4_KJB3                   4        Test WPM  131.118032\n",
       "4   4_KJB3                   5        Test WPM  166.496865\n",
       "..     ...                 ...             ...         ...\n",
       "95  2_Ken4                   6  Cumulative WPM  154.649894\n",
       "96  2_Ken4                   7  Cumulative WPM  154.620530\n",
       "97  2_Ken4                   8  Cumulative WPM  150.202605\n",
       "98  2_Ken4                   9  Cumulative WPM  150.897706\n",
       "99  2_Ken4                  10  Cumulative WPM  145.864401\n",
       "\n",
       "[100 rows x 4 columns]"
      ]
     },
     "execution_count": 6,
     "metadata": {},
     "output_type": "execute_result"
    }
   ],
   "source": [
    "df_wpm_type_melt = df.melt(id_vars = ['Player', 'Player test number'],\n",
    "value_vars = ['WPM', 'Cumulative WPM'],\n",
    "var_name = 'WPM Type',\n",
    "value_name = 'Words per minute').rename(\n",
    "    columns = {'Words per minute':'WPM'}) # This column couldn't be \n",
    "# initialized as WPM because a column with that name was already present \n",
    "# within df.\n",
    "df_wpm_type_melt['WPM Type'] = df_wpm_type_melt['WPM Type'].replace(\n",
    "{'WPM':'Test WPM'})\n",
    "\n",
    "df_wpm_type_melt"
   ]
  },
  {
   "cell_type": "code",
   "execution_count": 7,
   "id": "00adc36d-aeee-4c93-8c5a-97b7ac6bd21d",
   "metadata": {
    "execution": {
     "iopub.execute_input": "2025-07-29T02:50:26.202325Z",
     "iopub.status.busy": "2025-07-29T02:50:26.202203Z",
     "iopub.status.idle": "2025-07-29T02:50:26.320570Z",
     "shell.execute_reply": "2025-07-29T02:50:26.320214Z",
     "shell.execute_reply.started": "2025-07-29T02:50:26.202315Z"
    }
   },
   "outputs": [],
   "source": [
    "fig_wpm_by_player = px.line(df_wpm_type_melt, \n",
    "x = 'Player test number', y = 'WPM',\n",
    "        color = 'Player', line_dash = 'WPM Type',\n",
    "       title = 'WPM By Player and Test',\n",
    "        color_discrete_sequence = px.colors.qualitative.Alphabet)\n",
    "fig_wpm_by_player.write_html(\n",
    "    f'{mp_visualizations_folder}{test_results_name}_Mean_WPM_By_\\\n",
    "Player_And_Test.html',\n",
    "    include_plotlyjs = 'cdn')\n",
    "# Note: 'Alphabet' is used here so that up to 26 distinct colors can be\n",
    "# shown within the chart (which will prove useful for multiplayer rounds\n",
    "# with larger player counts).\n",
    "# fig_wpm_by_player"
   ]
  },
  {
   "cell_type": "markdown",
   "id": "11500e23-b313-47a3-b540-32ac70f94f45",
   "metadata": {},
   "source": [
    "Calculating mean WPMs by player and round as well as overall WPMs:"
   ]
  },
  {
   "cell_type": "code",
   "execution_count": 8,
   "id": "420f9e8a-c4e7-47ae-85ca-97106d16e676",
   "metadata": {
    "execution": {
     "iopub.execute_input": "2025-07-29T02:50:26.321081Z",
     "iopub.status.busy": "2025-07-29T02:50:26.320944Z",
     "iopub.status.idle": "2025-07-29T02:50:26.331570Z",
     "shell.execute_reply": "2025-07-29T02:50:26.331303Z",
     "shell.execute_reply.started": "2025-07-29T02:50:26.321071Z"
    }
   },
   "outputs": [
    {
     "data": {
      "text/html": [
       "<div>\n",
       "<style scoped>\n",
       "    .dataframe tbody tr th:only-of-type {\n",
       "        vertical-align: middle;\n",
       "    }\n",
       "\n",
       "    .dataframe tbody tr th {\n",
       "        vertical-align: top;\n",
       "    }\n",
       "\n",
       "    .dataframe thead th {\n",
       "        text-align: right;\n",
       "    }\n",
       "</style>\n",
       "<table border=\"1\" class=\"dataframe\">\n",
       "  <thead>\n",
       "    <tr style=\"text-align: right;\">\n",
       "      <th></th>\n",
       "      <th>Player</th>\n",
       "      <th>Round</th>\n",
       "      <th>WPM</th>\n",
       "    </tr>\n",
       "  </thead>\n",
       "  <tbody>\n",
       "    <tr>\n",
       "      <th>0</th>\n",
       "      <td>1_KJB3</td>\n",
       "      <td>1</td>\n",
       "      <td>146.000546</td>\n",
       "    </tr>\n",
       "    <tr>\n",
       "      <th>1</th>\n",
       "      <td>2_Ken4</td>\n",
       "      <td>1</td>\n",
       "      <td>145.864401</td>\n",
       "    </tr>\n",
       "    <tr>\n",
       "      <th>2</th>\n",
       "      <td>3_Ken3</td>\n",
       "      <td>1</td>\n",
       "      <td>151.083275</td>\n",
       "    </tr>\n",
       "    <tr>\n",
       "      <th>3</th>\n",
       "      <td>4_KJB3</td>\n",
       "      <td>1</td>\n",
       "      <td>143.015530</td>\n",
       "    </tr>\n",
       "    <tr>\n",
       "      <th>4</th>\n",
       "      <td>5_KJB3</td>\n",
       "      <td>1</td>\n",
       "      <td>144.867053</td>\n",
       "    </tr>\n",
       "    <tr>\n",
       "      <th>5</th>\n",
       "      <td>1_KJB3</td>\n",
       "      <td>Overall</td>\n",
       "      <td>146.000546</td>\n",
       "    </tr>\n",
       "    <tr>\n",
       "      <th>6</th>\n",
       "      <td>2_Ken4</td>\n",
       "      <td>Overall</td>\n",
       "      <td>145.864401</td>\n",
       "    </tr>\n",
       "    <tr>\n",
       "      <th>7</th>\n",
       "      <td>3_Ken3</td>\n",
       "      <td>Overall</td>\n",
       "      <td>151.083275</td>\n",
       "    </tr>\n",
       "    <tr>\n",
       "      <th>8</th>\n",
       "      <td>4_KJB3</td>\n",
       "      <td>Overall</td>\n",
       "      <td>143.015530</td>\n",
       "    </tr>\n",
       "    <tr>\n",
       "      <th>9</th>\n",
       "      <td>5_KJB3</td>\n",
       "      <td>Overall</td>\n",
       "      <td>144.867053</td>\n",
       "    </tr>\n",
       "  </tbody>\n",
       "</table>\n",
       "</div>"
      ],
      "text/plain": [
       "   Player    Round         WPM\n",
       "0  1_KJB3        1  146.000546\n",
       "1  2_Ken4        1  145.864401\n",
       "2  3_Ken3        1  151.083275\n",
       "3  4_KJB3        1  143.015530\n",
       "4  5_KJB3        1  144.867053\n",
       "5  1_KJB3  Overall  146.000546\n",
       "6  2_Ken4  Overall  145.864401\n",
       "7  3_Ken3  Overall  151.083275\n",
       "8  4_KJB3  Overall  143.015530\n",
       "9  5_KJB3  Overall  144.867053"
      ]
     },
     "execution_count": 8,
     "metadata": {},
     "output_type": "execute_result"
    }
   ],
   "source": [
    "df_mean_wpm_by_player_and_round = df.pivot_table(\n",
    "index = ['Player', 'Round'], values = 'WPM', \n",
    "               aggfunc = 'mean').reset_index()\n",
    "\n",
    "# Adding overall WPMs for each player to the bottom of this DataFrame:\n",
    "\n",
    "df_mean_wpm_by_player = df.pivot_table(\n",
    "index = 'Player', values = 'WPM', \n",
    "               aggfunc = 'mean').reset_index()\n",
    "df_mean_wpm_by_player['Round'] = 'Overall'\n",
    "\n",
    "df_mean_wpm_by_player_and_round = pd.concat([\n",
    "    df_mean_wpm_by_player_and_round, df_mean_wpm_by_player]).reset_index(\n",
    "    drop=True)\n",
    "# Ensuring that all Round values are strings: (I found that, without\n",
    "# this update, the Overall rows would not appear within the figure\n",
    "# that we're about to create.)\n",
    "df_mean_wpm_by_player_and_round['Round'] = (\n",
    "    df_mean_wpm_by_player_and_round['Round'].astype('str'))\n",
    "df_mean_wpm_by_player_and_round\n",
    "\n"
   ]
  },
  {
   "cell_type": "code",
   "execution_count": 9,
   "id": "0dde8c81-ca4b-42cd-914d-4c9e48fd3264",
   "metadata": {
    "execution": {
     "iopub.execute_input": "2025-07-29T02:50:26.332023Z",
     "iopub.status.busy": "2025-07-29T02:50:26.331917Z",
     "iopub.status.idle": "2025-07-29T02:50:26.337583Z",
     "shell.execute_reply": "2025-07-29T02:50:26.337336Z",
     "shell.execute_reply.started": "2025-07-29T02:50:26.332013Z"
    }
   },
   "outputs": [
    {
     "data": {
      "text/html": [
       "<div>\n",
       "<style scoped>\n",
       "    .dataframe tbody tr th:only-of-type {\n",
       "        vertical-align: middle;\n",
       "    }\n",
       "\n",
       "    .dataframe tbody tr th {\n",
       "        vertical-align: top;\n",
       "    }\n",
       "\n",
       "    .dataframe thead th {\n",
       "        text-align: right;\n",
       "    }\n",
       "</style>\n",
       "<table border=\"1\" class=\"dataframe\">\n",
       "  <thead>\n",
       "    <tr style=\"text-align: right;\">\n",
       "      <th></th>\n",
       "      <th>Player</th>\n",
       "      <th>Round</th>\n",
       "      <th>WPM</th>\n",
       "      <th>Overall rank</th>\n",
       "    </tr>\n",
       "  </thead>\n",
       "  <tbody>\n",
       "    <tr>\n",
       "      <th>0</th>\n",
       "      <td>3_Ken3</td>\n",
       "      <td>Overall</td>\n",
       "      <td>151.083275</td>\n",
       "      <td>1</td>\n",
       "    </tr>\n",
       "    <tr>\n",
       "      <th>1</th>\n",
       "      <td>1_KJB3</td>\n",
       "      <td>Overall</td>\n",
       "      <td>146.000546</td>\n",
       "      <td>2</td>\n",
       "    </tr>\n",
       "    <tr>\n",
       "      <th>2</th>\n",
       "      <td>2_Ken4</td>\n",
       "      <td>Overall</td>\n",
       "      <td>145.864401</td>\n",
       "      <td>3</td>\n",
       "    </tr>\n",
       "    <tr>\n",
       "      <th>3</th>\n",
       "      <td>5_KJB3</td>\n",
       "      <td>Overall</td>\n",
       "      <td>144.867053</td>\n",
       "      <td>4</td>\n",
       "    </tr>\n",
       "    <tr>\n",
       "      <th>4</th>\n",
       "      <td>4_KJB3</td>\n",
       "      <td>Overall</td>\n",
       "      <td>143.015530</td>\n",
       "      <td>5</td>\n",
       "    </tr>\n",
       "  </tbody>\n",
       "</table>\n",
       "</div>"
      ],
      "text/plain": [
       "   Player    Round         WPM  Overall rank\n",
       "0  3_Ken3  Overall  151.083275             1\n",
       "1  1_KJB3  Overall  146.000546             2\n",
       "2  2_Ken4  Overall  145.864401             3\n",
       "3  5_KJB3  Overall  144.867053             4\n",
       "4  4_KJB3  Overall  143.015530             5"
      ]
     },
     "execution_count": 9,
     "metadata": {},
     "output_type": "execute_result"
    }
   ],
   "source": [
    "# Calculating players' overall ranks:\n",
    "df_overall_ranks = df_mean_wpm_by_player_and_round.query(\n",
    "\"Round == 'Overall'\").copy().sort_values(\n",
    "'WPM', ascending = False).reset_index(drop=True)\n",
    "df_overall_ranks['Overall rank'] = df_overall_ranks.index + 1\n",
    "df_overall_ranks"
   ]
  },
  {
   "cell_type": "code",
   "execution_count": 10,
   "id": "80ff0aad-0477-4a14-a213-fed37f887ef6",
   "metadata": {
    "execution": {
     "iopub.execute_input": "2025-07-29T02:50:26.338171Z",
     "iopub.status.busy": "2025-07-29T02:50:26.337901Z",
     "iopub.status.idle": "2025-07-29T02:50:26.344268Z",
     "shell.execute_reply": "2025-07-29T02:50:26.343976Z",
     "shell.execute_reply.started": "2025-07-29T02:50:26.338160Z"
    }
   },
   "outputs": [
    {
     "data": {
      "text/html": [
       "<div>\n",
       "<style scoped>\n",
       "    .dataframe tbody tr th:only-of-type {\n",
       "        vertical-align: middle;\n",
       "    }\n",
       "\n",
       "    .dataframe tbody tr th {\n",
       "        vertical-align: top;\n",
       "    }\n",
       "\n",
       "    .dataframe thead th {\n",
       "        text-align: right;\n",
       "    }\n",
       "</style>\n",
       "<table border=\"1\" class=\"dataframe\">\n",
       "  <thead>\n",
       "    <tr style=\"text-align: right;\">\n",
       "      <th></th>\n",
       "      <th>Player</th>\n",
       "      <th>Round</th>\n",
       "      <th>WPM</th>\n",
       "      <th>Overall rank</th>\n",
       "    </tr>\n",
       "  </thead>\n",
       "  <tbody>\n",
       "    <tr>\n",
       "      <th>0</th>\n",
       "      <td>1_KJB3</td>\n",
       "      <td>1</td>\n",
       "      <td>146.000546</td>\n",
       "      <td>2</td>\n",
       "    </tr>\n",
       "    <tr>\n",
       "      <th>1</th>\n",
       "      <td>2_Ken4</td>\n",
       "      <td>1</td>\n",
       "      <td>145.864401</td>\n",
       "      <td>3</td>\n",
       "    </tr>\n",
       "    <tr>\n",
       "      <th>2</th>\n",
       "      <td>3_Ken3</td>\n",
       "      <td>1</td>\n",
       "      <td>151.083275</td>\n",
       "      <td>1</td>\n",
       "    </tr>\n",
       "    <tr>\n",
       "      <th>3</th>\n",
       "      <td>4_KJB3</td>\n",
       "      <td>1</td>\n",
       "      <td>143.015530</td>\n",
       "      <td>5</td>\n",
       "    </tr>\n",
       "    <tr>\n",
       "      <th>4</th>\n",
       "      <td>5_KJB3</td>\n",
       "      <td>1</td>\n",
       "      <td>144.867053</td>\n",
       "      <td>4</td>\n",
       "    </tr>\n",
       "    <tr>\n",
       "      <th>5</th>\n",
       "      <td>1_KJB3</td>\n",
       "      <td>Overall</td>\n",
       "      <td>146.000546</td>\n",
       "      <td>2</td>\n",
       "    </tr>\n",
       "    <tr>\n",
       "      <th>6</th>\n",
       "      <td>2_Ken4</td>\n",
       "      <td>Overall</td>\n",
       "      <td>145.864401</td>\n",
       "      <td>3</td>\n",
       "    </tr>\n",
       "    <tr>\n",
       "      <th>7</th>\n",
       "      <td>3_Ken3</td>\n",
       "      <td>Overall</td>\n",
       "      <td>151.083275</td>\n",
       "      <td>1</td>\n",
       "    </tr>\n",
       "    <tr>\n",
       "      <th>8</th>\n",
       "      <td>4_KJB3</td>\n",
       "      <td>Overall</td>\n",
       "      <td>143.015530</td>\n",
       "      <td>5</td>\n",
       "    </tr>\n",
       "    <tr>\n",
       "      <th>9</th>\n",
       "      <td>5_KJB3</td>\n",
       "      <td>Overall</td>\n",
       "      <td>144.867053</td>\n",
       "      <td>4</td>\n",
       "    </tr>\n",
       "  </tbody>\n",
       "</table>\n",
       "</div>"
      ],
      "text/plain": [
       "   Player    Round         WPM  Overall rank\n",
       "0  1_KJB3        1  146.000546             2\n",
       "1  2_Ken4        1  145.864401             3\n",
       "2  3_Ken3        1  151.083275             1\n",
       "3  4_KJB3        1  143.015530             5\n",
       "4  5_KJB3        1  144.867053             4\n",
       "5  1_KJB3  Overall  146.000546             2\n",
       "6  2_Ken4  Overall  145.864401             3\n",
       "7  3_Ken3  Overall  151.083275             1\n",
       "8  4_KJB3  Overall  143.015530             5\n",
       "9  5_KJB3  Overall  144.867053             4"
      ]
     },
     "execution_count": 10,
     "metadata": {},
     "output_type": "execute_result"
    }
   ],
   "source": [
    "df_mean_wpm_by_player_and_round = df_mean_wpm_by_player_and_round.merge(\n",
    "df_overall_ranks[['Player', 'Overall rank']], \n",
    "on = 'Player', how = 'left')\n",
    "df_mean_wpm_by_player_and_round"
   ]
  },
  {
   "cell_type": "code",
   "execution_count": 11,
   "id": "7ccf8885-63cc-44f3-afb9-4143681fb8db",
   "metadata": {
    "execution": {
     "iopub.execute_input": "2025-07-29T02:50:26.344853Z",
     "iopub.status.busy": "2025-07-29T02:50:26.344664Z",
     "iopub.status.idle": "2025-07-29T02:50:26.484713Z",
     "shell.execute_reply": "2025-07-29T02:50:26.484328Z",
     "shell.execute_reply.started": "2025-07-29T02:50:26.344842Z"
    }
   },
   "outputs": [
    {
     "data": {
      "application/vnd.plotly.v1+json": {
       "config": {
        "plotlyServerURL": "https://plot.ly"
       },
       "data": [
        {
         "alignmentgroup": "True",
         "customdata": {
          "bdata": "AQE=",
          "dtype": "i1",
          "shape": "2, 1"
         },
         "hovertemplate": "Player=3_Ken3<br>Round=%{x}<br>WPM=%{y}<br>Overall rank=%{customdata[0]}<extra></extra>",
         "legendgroup": "3_Ken3",
         "marker": {
          "color": "#AA0DFE",
          "pattern": {
           "shape": ""
          }
         },
         "name": "3_Ken3",
         "offsetgroup": "3_Ken3",
         "orientation": "v",
         "showlegend": true,
         "textposition": "auto",
         "texttemplate": "%{y:.0f}",
         "type": "bar",
         "x": [
          "1",
          "Overall"
         ],
         "xaxis": "x",
         "y": {
          "bdata": "LJLAMKriYkAsksAwquJiQA==",
          "dtype": "f8"
         },
         "yaxis": "y"
        },
        {
         "alignmentgroup": "True",
         "customdata": {
          "bdata": "AgI=",
          "dtype": "i1",
          "shape": "2, 1"
         },
         "hovertemplate": "Player=1_KJB3<br>Round=%{x}<br>WPM=%{y}<br>Overall rank=%{customdata[0]}<extra></extra>",
         "legendgroup": "1_KJB3",
         "marker": {
          "color": "#3283FE",
          "pattern": {
           "shape": ""
          }
         },
         "name": "1_KJB3",
         "offsetgroup": "1_KJB3",
         "orientation": "v",
         "showlegend": true,
         "textposition": "auto",
         "texttemplate": "%{y:.0f}",
         "type": "bar",
         "x": [
          "Overall",
          "1"
         ],
         "xaxis": "x",
         "y": {
          "bdata": "s9TVeARAYkCz1NV4BEBiQA==",
          "dtype": "f8"
         },
         "yaxis": "y"
        },
        {
         "alignmentgroup": "True",
         "customdata": {
          "bdata": "AwM=",
          "dtype": "i1",
          "shape": "2, 1"
         },
         "hovertemplate": "Player=2_Ken4<br>Round=%{x}<br>WPM=%{y}<br>Overall rank=%{customdata[0]}<extra></extra>",
         "legendgroup": "2_Ken4",
         "marker": {
          "color": "#85660D",
          "pattern": {
           "shape": ""
          }
         },
         "name": "2_Ken4",
         "offsetgroup": "2_Ken4",
         "orientation": "v",
         "showlegend": true,
         "textposition": "auto",
         "texttemplate": "%{y:.0f}",
         "type": "bar",
         "x": [
          "Overall",
          "1"
         ],
         "xaxis": "x",
         "y": {
          "bdata": "u/MfLak7YkC78x8tqTtiQA==",
          "dtype": "f8"
         },
         "yaxis": "y"
        },
        {
         "alignmentgroup": "True",
         "customdata": {
          "bdata": "BAQ=",
          "dtype": "i1",
          "shape": "2, 1"
         },
         "hovertemplate": "Player=5_KJB3<br>Round=%{x}<br>WPM=%{y}<br>Overall rank=%{customdata[0]}<extra></extra>",
         "legendgroup": "5_KJB3",
         "marker": {
          "color": "#782AB6",
          "pattern": {
           "shape": ""
          }
         },
         "name": "5_KJB3",
         "offsetgroup": "5_KJB3",
         "orientation": "v",
         "showlegend": true,
         "textposition": "auto",
         "texttemplate": "%{y:.0f}",
         "type": "bar",
         "x": [
          "1",
          "Overall"
         ],
         "xaxis": "x",
         "y": {
          "bdata": "3Sy55b4bYkDdLLnlvhtiQA==",
          "dtype": "f8"
         },
         "yaxis": "y"
        },
        {
         "alignmentgroup": "True",
         "customdata": {
          "bdata": "BQU=",
          "dtype": "i1",
          "shape": "2, 1"
         },
         "hovertemplate": "Player=4_KJB3<br>Round=%{x}<br>WPM=%{y}<br>Overall rank=%{customdata[0]}<extra></extra>",
         "legendgroup": "4_KJB3",
         "marker": {
          "color": "#565656",
          "pattern": {
           "shape": ""
          }
         },
         "name": "4_KJB3",
         "offsetgroup": "4_KJB3",
         "orientation": "v",
         "showlegend": true,
         "textposition": "auto",
         "texttemplate": "%{y:.0f}",
         "type": "bar",
         "x": [
          "1",
          "Overall"
         ],
         "xaxis": "x",
         "y": {
          "bdata": "vDMkOH/gYUC8MyQ4f+BhQA==",
          "dtype": "f8"
         },
         "yaxis": "y"
        }
       ],
       "layout": {
        "barmode": "group",
        "legend": {
         "title": {
          "text": "Player"
         },
         "tracegroupgap": 0
        },
        "template": {
         "data": {
          "bar": [
           {
            "error_x": {
             "color": "#2a3f5f"
            },
            "error_y": {
             "color": "#2a3f5f"
            },
            "marker": {
             "line": {
              "color": "#E5ECF6",
              "width": 0.5
             },
             "pattern": {
              "fillmode": "overlay",
              "size": 10,
              "solidity": 0.2
             }
            },
            "type": "bar"
           }
          ],
          "barpolar": [
           {
            "marker": {
             "line": {
              "color": "#E5ECF6",
              "width": 0.5
             },
             "pattern": {
              "fillmode": "overlay",
              "size": 10,
              "solidity": 0.2
             }
            },
            "type": "barpolar"
           }
          ],
          "carpet": [
           {
            "aaxis": {
             "endlinecolor": "#2a3f5f",
             "gridcolor": "white",
             "linecolor": "white",
             "minorgridcolor": "white",
             "startlinecolor": "#2a3f5f"
            },
            "baxis": {
             "endlinecolor": "#2a3f5f",
             "gridcolor": "white",
             "linecolor": "white",
             "minorgridcolor": "white",
             "startlinecolor": "#2a3f5f"
            },
            "type": "carpet"
           }
          ],
          "choropleth": [
           {
            "colorbar": {
             "outlinewidth": 0,
             "ticks": ""
            },
            "type": "choropleth"
           }
          ],
          "contour": [
           {
            "colorbar": {
             "outlinewidth": 0,
             "ticks": ""
            },
            "colorscale": [
             [
              0,
              "#0d0887"
             ],
             [
              0.1111111111111111,
              "#46039f"
             ],
             [
              0.2222222222222222,
              "#7201a8"
             ],
             [
              0.3333333333333333,
              "#9c179e"
             ],
             [
              0.4444444444444444,
              "#bd3786"
             ],
             [
              0.5555555555555556,
              "#d8576b"
             ],
             [
              0.6666666666666666,
              "#ed7953"
             ],
             [
              0.7777777777777778,
              "#fb9f3a"
             ],
             [
              0.8888888888888888,
              "#fdca26"
             ],
             [
              1,
              "#f0f921"
             ]
            ],
            "type": "contour"
           }
          ],
          "contourcarpet": [
           {
            "colorbar": {
             "outlinewidth": 0,
             "ticks": ""
            },
            "type": "contourcarpet"
           }
          ],
          "heatmap": [
           {
            "colorbar": {
             "outlinewidth": 0,
             "ticks": ""
            },
            "colorscale": [
             [
              0,
              "#0d0887"
             ],
             [
              0.1111111111111111,
              "#46039f"
             ],
             [
              0.2222222222222222,
              "#7201a8"
             ],
             [
              0.3333333333333333,
              "#9c179e"
             ],
             [
              0.4444444444444444,
              "#bd3786"
             ],
             [
              0.5555555555555556,
              "#d8576b"
             ],
             [
              0.6666666666666666,
              "#ed7953"
             ],
             [
              0.7777777777777778,
              "#fb9f3a"
             ],
             [
              0.8888888888888888,
              "#fdca26"
             ],
             [
              1,
              "#f0f921"
             ]
            ],
            "type": "heatmap"
           }
          ],
          "histogram": [
           {
            "marker": {
             "pattern": {
              "fillmode": "overlay",
              "size": 10,
              "solidity": 0.2
             }
            },
            "type": "histogram"
           }
          ],
          "histogram2d": [
           {
            "colorbar": {
             "outlinewidth": 0,
             "ticks": ""
            },
            "colorscale": [
             [
              0,
              "#0d0887"
             ],
             [
              0.1111111111111111,
              "#46039f"
             ],
             [
              0.2222222222222222,
              "#7201a8"
             ],
             [
              0.3333333333333333,
              "#9c179e"
             ],
             [
              0.4444444444444444,
              "#bd3786"
             ],
             [
              0.5555555555555556,
              "#d8576b"
             ],
             [
              0.6666666666666666,
              "#ed7953"
             ],
             [
              0.7777777777777778,
              "#fb9f3a"
             ],
             [
              0.8888888888888888,
              "#fdca26"
             ],
             [
              1,
              "#f0f921"
             ]
            ],
            "type": "histogram2d"
           }
          ],
          "histogram2dcontour": [
           {
            "colorbar": {
             "outlinewidth": 0,
             "ticks": ""
            },
            "colorscale": [
             [
              0,
              "#0d0887"
             ],
             [
              0.1111111111111111,
              "#46039f"
             ],
             [
              0.2222222222222222,
              "#7201a8"
             ],
             [
              0.3333333333333333,
              "#9c179e"
             ],
             [
              0.4444444444444444,
              "#bd3786"
             ],
             [
              0.5555555555555556,
              "#d8576b"
             ],
             [
              0.6666666666666666,
              "#ed7953"
             ],
             [
              0.7777777777777778,
              "#fb9f3a"
             ],
             [
              0.8888888888888888,
              "#fdca26"
             ],
             [
              1,
              "#f0f921"
             ]
            ],
            "type": "histogram2dcontour"
           }
          ],
          "mesh3d": [
           {
            "colorbar": {
             "outlinewidth": 0,
             "ticks": ""
            },
            "type": "mesh3d"
           }
          ],
          "parcoords": [
           {
            "line": {
             "colorbar": {
              "outlinewidth": 0,
              "ticks": ""
             }
            },
            "type": "parcoords"
           }
          ],
          "pie": [
           {
            "automargin": true,
            "type": "pie"
           }
          ],
          "scatter": [
           {
            "fillpattern": {
             "fillmode": "overlay",
             "size": 10,
             "solidity": 0.2
            },
            "type": "scatter"
           }
          ],
          "scatter3d": [
           {
            "line": {
             "colorbar": {
              "outlinewidth": 0,
              "ticks": ""
             }
            },
            "marker": {
             "colorbar": {
              "outlinewidth": 0,
              "ticks": ""
             }
            },
            "type": "scatter3d"
           }
          ],
          "scattercarpet": [
           {
            "marker": {
             "colorbar": {
              "outlinewidth": 0,
              "ticks": ""
             }
            },
            "type": "scattercarpet"
           }
          ],
          "scattergeo": [
           {
            "marker": {
             "colorbar": {
              "outlinewidth": 0,
              "ticks": ""
             }
            },
            "type": "scattergeo"
           }
          ],
          "scattergl": [
           {
            "marker": {
             "colorbar": {
              "outlinewidth": 0,
              "ticks": ""
             }
            },
            "type": "scattergl"
           }
          ],
          "scattermap": [
           {
            "marker": {
             "colorbar": {
              "outlinewidth": 0,
              "ticks": ""
             }
            },
            "type": "scattermap"
           }
          ],
          "scattermapbox": [
           {
            "marker": {
             "colorbar": {
              "outlinewidth": 0,
              "ticks": ""
             }
            },
            "type": "scattermapbox"
           }
          ],
          "scatterpolar": [
           {
            "marker": {
             "colorbar": {
              "outlinewidth": 0,
              "ticks": ""
             }
            },
            "type": "scatterpolar"
           }
          ],
          "scatterpolargl": [
           {
            "marker": {
             "colorbar": {
              "outlinewidth": 0,
              "ticks": ""
             }
            },
            "type": "scatterpolargl"
           }
          ],
          "scatterternary": [
           {
            "marker": {
             "colorbar": {
              "outlinewidth": 0,
              "ticks": ""
             }
            },
            "type": "scatterternary"
           }
          ],
          "surface": [
           {
            "colorbar": {
             "outlinewidth": 0,
             "ticks": ""
            },
            "colorscale": [
             [
              0,
              "#0d0887"
             ],
             [
              0.1111111111111111,
              "#46039f"
             ],
             [
              0.2222222222222222,
              "#7201a8"
             ],
             [
              0.3333333333333333,
              "#9c179e"
             ],
             [
              0.4444444444444444,
              "#bd3786"
             ],
             [
              0.5555555555555556,
              "#d8576b"
             ],
             [
              0.6666666666666666,
              "#ed7953"
             ],
             [
              0.7777777777777778,
              "#fb9f3a"
             ],
             [
              0.8888888888888888,
              "#fdca26"
             ],
             [
              1,
              "#f0f921"
             ]
            ],
            "type": "surface"
           }
          ],
          "table": [
           {
            "cells": {
             "fill": {
              "color": "#EBF0F8"
             },
             "line": {
              "color": "white"
             }
            },
            "header": {
             "fill": {
              "color": "#C8D4E3"
             },
             "line": {
              "color": "white"
             }
            },
            "type": "table"
           }
          ]
         },
         "layout": {
          "annotationdefaults": {
           "arrowcolor": "#2a3f5f",
           "arrowhead": 0,
           "arrowwidth": 1
          },
          "autotypenumbers": "strict",
          "coloraxis": {
           "colorbar": {
            "outlinewidth": 0,
            "ticks": ""
           }
          },
          "colorscale": {
           "diverging": [
            [
             0,
             "#8e0152"
            ],
            [
             0.1,
             "#c51b7d"
            ],
            [
             0.2,
             "#de77ae"
            ],
            [
             0.3,
             "#f1b6da"
            ],
            [
             0.4,
             "#fde0ef"
            ],
            [
             0.5,
             "#f7f7f7"
            ],
            [
             0.6,
             "#e6f5d0"
            ],
            [
             0.7,
             "#b8e186"
            ],
            [
             0.8,
             "#7fbc41"
            ],
            [
             0.9,
             "#4d9221"
            ],
            [
             1,
             "#276419"
            ]
           ],
           "sequential": [
            [
             0,
             "#0d0887"
            ],
            [
             0.1111111111111111,
             "#46039f"
            ],
            [
             0.2222222222222222,
             "#7201a8"
            ],
            [
             0.3333333333333333,
             "#9c179e"
            ],
            [
             0.4444444444444444,
             "#bd3786"
            ],
            [
             0.5555555555555556,
             "#d8576b"
            ],
            [
             0.6666666666666666,
             "#ed7953"
            ],
            [
             0.7777777777777778,
             "#fb9f3a"
            ],
            [
             0.8888888888888888,
             "#fdca26"
            ],
            [
             1,
             "#f0f921"
            ]
           ],
           "sequentialminus": [
            [
             0,
             "#0d0887"
            ],
            [
             0.1111111111111111,
             "#46039f"
            ],
            [
             0.2222222222222222,
             "#7201a8"
            ],
            [
             0.3333333333333333,
             "#9c179e"
            ],
            [
             0.4444444444444444,
             "#bd3786"
            ],
            [
             0.5555555555555556,
             "#d8576b"
            ],
            [
             0.6666666666666666,
             "#ed7953"
            ],
            [
             0.7777777777777778,
             "#fb9f3a"
            ],
            [
             0.8888888888888888,
             "#fdca26"
            ],
            [
             1,
             "#f0f921"
            ]
           ]
          },
          "colorway": [
           "#636efa",
           "#EF553B",
           "#00cc96",
           "#ab63fa",
           "#FFA15A",
           "#19d3f3",
           "#FF6692",
           "#B6E880",
           "#FF97FF",
           "#FECB52"
          ],
          "font": {
           "color": "#2a3f5f"
          },
          "geo": {
           "bgcolor": "white",
           "lakecolor": "white",
           "landcolor": "#E5ECF6",
           "showlakes": true,
           "showland": true,
           "subunitcolor": "white"
          },
          "hoverlabel": {
           "align": "left"
          },
          "hovermode": "closest",
          "mapbox": {
           "style": "light"
          },
          "paper_bgcolor": "white",
          "plot_bgcolor": "#E5ECF6",
          "polar": {
           "angularaxis": {
            "gridcolor": "white",
            "linecolor": "white",
            "ticks": ""
           },
           "bgcolor": "#E5ECF6",
           "radialaxis": {
            "gridcolor": "white",
            "linecolor": "white",
            "ticks": ""
           }
          },
          "scene": {
           "xaxis": {
            "backgroundcolor": "#E5ECF6",
            "gridcolor": "white",
            "gridwidth": 2,
            "linecolor": "white",
            "showbackground": true,
            "ticks": "",
            "zerolinecolor": "white"
           },
           "yaxis": {
            "backgroundcolor": "#E5ECF6",
            "gridcolor": "white",
            "gridwidth": 2,
            "linecolor": "white",
            "showbackground": true,
            "ticks": "",
            "zerolinecolor": "white"
           },
           "zaxis": {
            "backgroundcolor": "#E5ECF6",
            "gridcolor": "white",
            "gridwidth": 2,
            "linecolor": "white",
            "showbackground": true,
            "ticks": "",
            "zerolinecolor": "white"
           }
          },
          "shapedefaults": {
           "line": {
            "color": "#2a3f5f"
           }
          },
          "ternary": {
           "aaxis": {
            "gridcolor": "white",
            "linecolor": "white",
            "ticks": ""
           },
           "baxis": {
            "gridcolor": "white",
            "linecolor": "white",
            "ticks": ""
           },
           "bgcolor": "#E5ECF6",
           "caxis": {
            "gridcolor": "white",
            "linecolor": "white",
            "ticks": ""
           }
          },
          "title": {
           "x": 0.05
          },
          "xaxis": {
           "automargin": true,
           "gridcolor": "white",
           "linecolor": "white",
           "ticks": "",
           "title": {
            "standoff": 15
           },
           "zerolinecolor": "white",
           "zerolinewidth": 2
          },
          "yaxis": {
           "automargin": true,
           "gridcolor": "white",
           "linecolor": "white",
           "ticks": "",
           "title": {
            "standoff": 15
           },
           "zerolinecolor": "white",
           "zerolinewidth": 2
          }
         }
        },
        "title": {
         "text": "Mean WPM by Player and Round"
        },
        "xaxis": {
         "anchor": "y",
         "domain": [
          0,
          1
         ],
         "title": {
          "text": "Round"
         }
        },
        "yaxis": {
         "anchor": "x",
         "domain": [
          0,
          1
         ],
         "title": {
          "text": "WPM"
         }
        }
       }
      },
      "image/png": "[encoded data removed]"
     },
     "metadata": {},
     "output_type": "display_data"
    }
   ],
   "source": [
    "fig_mean_wpm_by_player_and_round = px.bar(\n",
    "    df_mean_wpm_by_player_and_round.sort_values(\n",
    "'Overall rank', ascending = True), x = 'Round', \n",
    "       y = 'WPM', color = 'Player', barmode = 'group',\n",
    "    color_discrete_sequence = px.colors.qualitative.Alphabet,\n",
    "    title = 'Mean WPM by Player and Round',\n",
    "      text_auto = '.0f', hover_data = 'Overall rank')\n",
    "fig_mean_wpm_by_player_and_round.write_html(\n",
    "    f'{mp_visualizations_folder}{test_results_name}_Mean_WPM_\\\n",
    "By_Player_And_Round.html',\n",
    "    include_plotlyjs = 'cdn')\n",
    "# fig_mean_wpm_by_player_and_round"
   ]
  },
  {
   "cell_type": "code",
   "execution_count": 12,
   "id": "2d38df23-c995-4225-8628-e92b7b16df93",
   "metadata": {
    "execution": {
     "iopub.execute_input": "2025-07-29T02:50:26.485905Z",
     "iopub.status.busy": "2025-07-29T02:50:26.485648Z",
     "iopub.status.idle": "2025-07-29T02:50:26.491788Z",
     "shell.execute_reply": "2025-07-29T02:50:26.491433Z",
     "shell.execute_reply.started": "2025-07-29T02:50:26.485893Z"
    }
   },
   "outputs": [
    {
     "data": {
      "text/html": [
       "<div>\n",
       "<style scoped>\n",
       "    .dataframe tbody tr th:only-of-type {\n",
       "        vertical-align: middle;\n",
       "    }\n",
       "\n",
       "    .dataframe tbody tr th {\n",
       "        vertical-align: top;\n",
       "    }\n",
       "\n",
       "    .dataframe thead th {\n",
       "        text-align: right;\n",
       "    }\n",
       "</style>\n",
       "<table border=\"1\" class=\"dataframe\">\n",
       "  <thead>\n",
       "    <tr style=\"text-align: right;\">\n",
       "      <th></th>\n",
       "      <th>Player</th>\n",
       "      <th>Player had best WPM for this test</th>\n",
       "    </tr>\n",
       "  </thead>\n",
       "  <tbody>\n",
       "    <tr>\n",
       "      <th>1</th>\n",
       "      <td>2_Ken4</td>\n",
       "      <td>4</td>\n",
       "    </tr>\n",
       "    <tr>\n",
       "      <th>2</th>\n",
       "      <td>3_Ken3</td>\n",
       "      <td>3</td>\n",
       "    </tr>\n",
       "    <tr>\n",
       "      <th>3</th>\n",
       "      <td>4_KJB3</td>\n",
       "      <td>2</td>\n",
       "    </tr>\n",
       "    <tr>\n",
       "      <th>0</th>\n",
       "      <td>1_KJB3</td>\n",
       "      <td>1</td>\n",
       "    </tr>\n",
       "    <tr>\n",
       "      <th>4</th>\n",
       "      <td>5_KJB3</td>\n",
       "      <td>0</td>\n",
       "    </tr>\n",
       "  </tbody>\n",
       "</table>\n",
       "</div>"
      ],
      "text/plain": [
       "   Player  Player had best WPM for this test\n",
       "1  2_Ken4                                  4\n",
       "2  3_Ken3                                  3\n",
       "3  4_KJB3                                  2\n",
       "0  1_KJB3                                  1\n",
       "4  5_KJB3                                  0"
      ]
     },
     "execution_count": 12,
     "metadata": {},
     "output_type": "execute_result"
    }
   ],
   "source": [
    "df_wins = df.pivot_table(index = 'Player', values = 'Player had best \\\n",
    "WPM for this test', aggfunc = 'sum').reset_index()\n",
    "df_wins.sort_values('Player had best WPM for this test', ascending = False,\n",
    "                   inplace = True)\n",
    "df_wins"
   ]
  },
  {
   "cell_type": "code",
   "execution_count": 13,
   "id": "61f3473a-33de-4e6b-b109-d7a06ce4536a",
   "metadata": {
    "execution": {
     "iopub.execute_input": "2025-07-29T02:50:26.492223Z",
     "iopub.status.busy": "2025-07-29T02:50:26.492110Z",
     "iopub.status.idle": "2025-07-29T02:50:26.537691Z",
     "shell.execute_reply": "2025-07-29T02:50:26.537255Z",
     "shell.execute_reply.started": "2025-07-29T02:50:26.492213Z"
    }
   },
   "outputs": [],
   "source": [
    "fig_wins = px.bar(df_wins, x = 'Player', \n",
    "       y = 'Player had best WPM for this test',\n",
    "      title = 'Number of Tests in Which Each Player \\\n",
    "Had the Highest WPM', text_auto = '.0f',\n",
    "                 color = 'Player', \n",
    "color_discrete_sequence=px.colors.qualitative.Alphabet).update_layout(\n",
    "yaxis_title = 'Wins')\n",
    "fig_wins.write_html(f'{mp_visualizations_folder}{test_results_name}_\\\n",
    "wins_by_player.html', include_plotlyjs = 'cdn')\n",
    "# fig_wins"
   ]
  },
  {
   "cell_type": "code",
   "execution_count": 14,
   "id": "048dcfbb-007d-4967-80a7-92f838d49c20",
   "metadata": {
    "execution": {
     "iopub.execute_input": "2025-07-29T02:50:26.538259Z",
     "iopub.status.busy": "2025-07-29T02:50:26.538103Z",
     "iopub.status.idle": "2025-07-29T02:50:26.544665Z",
     "shell.execute_reply": "2025-07-29T02:50:26.544329Z",
     "shell.execute_reply.started": "2025-07-29T02:50:26.538248Z"
    }
   },
   "outputs": [
    {
     "data": {
      "text/html": [
       "<div>\n",
       "<style scoped>\n",
       "    .dataframe tbody tr th:only-of-type {\n",
       "        vertical-align: middle;\n",
       "    }\n",
       "\n",
       "    .dataframe tbody tr th {\n",
       "        vertical-align: top;\n",
       "    }\n",
       "\n",
       "    .dataframe thead th {\n",
       "        text-align: right;\n",
       "    }\n",
       "</style>\n",
       "<table border=\"1\" class=\"dataframe\">\n",
       "  <thead>\n",
       "    <tr style=\"text-align: right;\">\n",
       "      <th></th>\n",
       "      <th>Player</th>\n",
       "      <th>WPM</th>\n",
       "    </tr>\n",
       "  </thead>\n",
       "  <tbody>\n",
       "    <tr>\n",
       "      <th>0</th>\n",
       "      <td>1_KJB3</td>\n",
       "      <td>179.484263</td>\n",
       "    </tr>\n",
       "    <tr>\n",
       "      <th>1</th>\n",
       "      <td>2_Ken4</td>\n",
       "      <td>174.967876</td>\n",
       "    </tr>\n",
       "    <tr>\n",
       "      <th>2</th>\n",
       "      <td>3_Ken3</td>\n",
       "      <td>173.174778</td>\n",
       "    </tr>\n",
       "    <tr>\n",
       "      <th>4</th>\n",
       "      <td>5_KJB3</td>\n",
       "      <td>168.399464</td>\n",
       "    </tr>\n",
       "    <tr>\n",
       "      <th>3</th>\n",
       "      <td>4_KJB3</td>\n",
       "      <td>166.496865</td>\n",
       "    </tr>\n",
       "  </tbody>\n",
       "</table>\n",
       "</div>"
      ],
      "text/plain": [
       "   Player         WPM\n",
       "0  1_KJB3  179.484263\n",
       "1  2_Ken4  174.967876\n",
       "2  3_Ken3  173.174778\n",
       "4  5_KJB3  168.399464\n",
       "3  4_KJB3  166.496865"
      ]
     },
     "execution_count": 14,
     "metadata": {},
     "output_type": "execute_result"
    }
   ],
   "source": [
    "df_highest_wpm = df.pivot_table(index = 'Player', values = 'WPM', \n",
    "                                aggfunc = 'max').reset_index()\n",
    "df_highest_wpm.sort_values('WPM', ascending = False, inplace = True)\n",
    "df_highest_wpm"
   ]
  },
  {
   "cell_type": "code",
   "execution_count": 15,
   "id": "88fb8363-da15-4be2-a799-38570ee04070",
   "metadata": {
    "execution": {
     "iopub.execute_input": "2025-07-29T02:50:26.545097Z",
     "iopub.status.busy": "2025-07-29T02:50:26.544992Z",
     "iopub.status.idle": "2025-07-29T02:50:26.581694Z",
     "shell.execute_reply": "2025-07-29T02:50:26.581378Z",
     "shell.execute_reply.started": "2025-07-29T02:50:26.545088Z"
    }
   },
   "outputs": [],
   "source": [
    "fig_highest_wpm = px.bar(df_highest_wpm, x = 'Player', \n",
    "       y = 'WPM',\n",
    "      title = 'Highest WPM by Player', text_auto = '.3f',\n",
    "                 color = 'Player', \n",
    "                 color_discrete_sequence = \n",
    "px.colors.qualitative.Alphabet)\n",
    "fig_highest_wpm.write_html(\n",
    "    f'{mp_visualizations_folder}{test_results_name}_\\\n",
    "highest_wpm_by_player.html', include_plotlyjs = 'cdn')\n",
    "# fig_highest_wpm"
   ]
  },
  {
   "cell_type": "code",
   "execution_count": 16,
   "id": "5171e062-8163-44f9-a6cf-9f27426e6436",
   "metadata": {
    "execution": {
     "iopub.execute_input": "2025-07-29T02:50:26.582213Z",
     "iopub.status.busy": "2025-07-29T02:50:26.582058Z",
     "iopub.status.idle": "2025-07-29T02:50:26.584541Z",
     "shell.execute_reply": "2025-07-29T02:50:26.584239Z",
     "shell.execute_reply.started": "2025-07-29T02:50:26.582202Z"
    }
   },
   "outputs": [
    {
     "name": "stdout",
     "output_type": "stream",
     "text": [
      "Finished calculating and visualizing multiplayer stats in 0.651 seconds.\n"
     ]
    }
   ],
   "source": [
    "end_time = time.time()\n",
    "run_time = end_time - start_time\n",
    "print(f\"Finished calculating and visualizing multiplayer stats in \\\n",
    "{round(run_time, 3)} seconds.\")"
   ]
  },
  {
   "cell_type": "code",
   "execution_count": null,
   "id": "f89f55c2-ac9e-4d93-a83a-fa1703523e74",
   "metadata": {},
   "outputs": [],
   "source": []
  }
 ],
 "metadata": {
  "kernelspec": {
   "display_name": "Python 3 (ipykernel)",
   "language": "python",
   "name": "python3"
  },
  "language_info": {
   "codemirror_mode": {
    "name": "ipython",
    "version": 3
   },
   "file_extension": ".py",
   "mimetype": "text/x-python",
   "name": "python",
   "nbconvert_exporter": "python",
   "pygments_lexer": "ipython3",
   "version": "3.13.5"
  }
 },
 "nbformat": 4,
 "nbformat_minor": 5
}
