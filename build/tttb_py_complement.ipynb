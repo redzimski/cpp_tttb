{
 "cells": [
  {
   "cell_type": "markdown",
   "id": "b5bf87c7-8a88-4906-b508-73f525537baa",
   "metadata": {
    "execution": {
     "iopub.execute_input": "2025-08-05T03:08:00.602540Z",
     "iopub.status.busy": "2025-08-05T03:08:00.602293Z",
     "iopub.status.idle": "2025-08-05T03:08:00.605166Z",
     "shell.execute_reply": "2025-08-05T03:08:00.604811Z",
     "shell.execute_reply.started": "2025-08-05T03:08:00.602524Z"
    }
   },
   "source": [
    "# Python Complement to Type Through the Bible\n",
    "\n",
    "By Ken Burchfiel\n",
    "\n",
    "Released under the MIT License\n",
    "\n",
    "This script is a compilation of three scripts that were originally separate:\n",
    "\n",
    "1. A single-player results visualization script\n",
    "2. A multiplayer results visualization script\n",
    "3. A script for combining multiple multiplayer files into a single file\n",
    "\n",
    "I chose to combine them so that they could all use the same Pyinstaller content directory, thus greatly reducing TTTB's file size.\n",
    "\n",
    "This script takes two arguments: (1) a 'category' argument that specifies which of the three sets of code to run, and a 'second_arg' argument that allows the user to customize how two of these scripts will run."
   ]
  },
  {
   "cell_type": "code",
   "execution_count": 76,
   "id": "5a1f3941-508a-422f-920f-cb1c958cf57b",
   "metadata": {
    "execution": {
     "iopub.execute_input": "2025-08-06T02:09:24.162881Z",
     "iopub.status.busy": "2025-08-06T02:09:24.162226Z",
     "iopub.status.idle": "2025-08-06T02:09:24.166122Z",
     "shell.execute_reply": "2025-08-06T02:09:24.165804Z",
     "shell.execute_reply.started": "2025-08-06T02:09:24.162849Z"
    }
   },
   "outputs": [],
   "source": [
    "import time\n",
    "start_time = time.time()\n",
    "import os\n",
    "import subprocess\n",
    "import pandas as pd\n",
    "import numpy as np\n",
    "import plotly.express as px\n",
    "pd.set_option('display.max_columns', 1000)\n",
    "\n",
    "# The following file paths are relative to the build folder.\n",
    "mp_results_folder = '../Files/Multiplayer/'\n",
    "mp_visualizations_folder = '../Visualizations/Multiplayer/'\n",
    "sp_visualizations_folder = '../Visualizations/Single_Player/'"
   ]
  },
  {
   "cell_type": "markdown",
   "id": "95722b94-d25b-41bf-9069-e17d067d8d09",
   "metadata": {},
   "source": [
    "Checking whether this script is running within a Jupyter notebook: \n",
    "\n",
    "(This will allow us to determine whether to specify our multiplayer filename via argparse (which will only work when the .py version of the file is being rurn) or via a notebook-specific argument).)\n",
    "\n",
    "This code is based on Gustavo Bezerra's answer at https://stackoverflow.com/a/39662359/13097194 ."
   ]
  },
  {
   "cell_type": "code",
   "execution_count": 77,
   "id": "84a8db58-aa60-4e20-a4af-e2b6f62ba7e0",
   "metadata": {
    "execution": {
     "iopub.execute_input": "2025-08-06T02:09:24.166999Z",
     "iopub.status.busy": "2025-08-06T02:09:24.166676Z",
     "iopub.status.idle": "2025-08-06T02:09:24.174821Z",
     "shell.execute_reply": "2025-08-06T02:09:24.174514Z",
     "shell.execute_reply.started": "2025-08-06T02:09:24.166983Z"
    }
   },
   "outputs": [
    {
     "data": {
      "text/plain": [
       "True"
      ]
     },
     "execution_count": 77,
     "metadata": {},
     "output_type": "execute_result"
    }
   ],
   "source": [
    "notebook_exec = False\n",
    "try:\n",
    "    get_ipython()\n",
    "    notebook_exec = True # Script is running within a notebook\n",
    "except:\n",
    "#     print(\"get_ipython() failed, so we'll assume that we're running \\\n",
    "# this script within a .py file.\")\n",
    "    pass\n",
    "\n",
    "notebook_exec\n",
    "    "
   ]
  },
  {
   "cell_type": "code",
   "execution_count": 78,
   "id": "228430f5-05e0-454b-bc63-beaf80c3703f",
   "metadata": {
    "execution": {
     "iopub.execute_input": "2025-08-06T02:09:24.175234Z",
     "iopub.status.busy": "2025-08-06T02:09:24.175129Z",
     "iopub.status.idle": "2025-08-06T02:09:24.178513Z",
     "shell.execute_reply": "2025-08-06T02:09:24.178279Z",
     "shell.execute_reply.started": "2025-08-06T02:09:24.175225Z"
    }
   },
   "outputs": [
    {
     "data": {
      "text/plain": [
       "('spv', 'y')"
      ]
     },
     "execution_count": 78,
     "metadata": {},
     "output_type": "execute_result"
    }
   ],
   "source": [
    "if notebook_exec == False:\n",
    "    # The following code was based on\n",
    "    # https://docs.python.org/3/howto/argparse.html#argparse-tutorial\n",
    "    # and # https://docs.python.org/3/library/argparse.html .\n",
    "    import argparse\n",
    "    parser = argparse.ArgumentParser()\n",
    "    parser.add_argument(\"category\")\n",
    "    # This argument can be 'spv' (for single-player visualizations);\n",
    "    # 'mpv' (for multiplayer visualizations); or 'mpfc' (for the\n",
    "    # multiplayer result file combiner script).\n",
    "    # The following argument name will be kept generic\n",
    "    # because it will have different meanings for\n",
    "    # different categories.\n",
    "    parser.add_argument(\"second_arg\")\n",
    "    args = parser.parse_args()\n",
    "    category = args.category\n",
    "    second_arg = args.second_arg\n",
    "else:\n",
    "    category = 'spv'\n",
    "    second_arg = 'y'\n",
    "\n",
    "category, second_arg"
   ]
  },
  {
   "cell_type": "code",
   "execution_count": 79,
   "id": "abe521b1-4268-41d1-aa39-4c8c11c38d90",
   "metadata": {
    "execution": {
     "iopub.execute_input": "2025-08-06T02:09:24.179210Z",
     "iopub.status.busy": "2025-08-06T02:09:24.179045Z",
     "iopub.status.idle": "2025-08-06T02:09:24.181167Z",
     "shell.execute_reply": "2025-08-06T02:09:24.180945Z",
     "shell.execute_reply.started": "2025-08-06T02:09:24.179200Z"
    }
   },
   "outputs": [],
   "source": [
    "## Assigning more intuitive names to this second argument for \n",
    "# the two categories that will make use of it:\n",
    "\n",
    "if category == 'mpv':\n",
    "    test_results_timestamp = second_arg\n",
    "elif category == 'mpfc':\n",
    "    verse_ids = second_arg"
   ]
  },
  {
   "cell_type": "markdown",
   "id": "f6c77b5e-2a2d-4d42-90cb-966581c49dd1",
   "metadata": {},
   "source": [
    "## Running one or two of these three scripts (depending on which category argument was passed)\n",
    "\n",
    "(Note: the purpose of adding multiple if statements for each category is to make each script easier to debug as a Jupyter Notebook.)\n",
    "\n",
    "(If the multiplayer file combiner script is requested, the multiplayer visualizations script will get run immediately after. In all other cases, only one of these three scripts will get run.)"
   ]
  },
  {
   "cell_type": "markdown",
   "id": "bc05eaa8-8788-4513-a2e8-e2c2cf4d7e69",
   "metadata": {},
   "source": [
    "## Multiplayer file combiner script\n",
    "\n",
    "(This script makes it easier to allow multiple players to compete in a multiplayer Type Through the Bible Game simultaneously on different computers. Here's how they can do so:\n",
    "\n",
    "1. After individual players finish their tests, either within a one-player multiplayer game or within the main single-player game, they should transfer their results to a central folder.\n",
    "2. Next, one player should copy or move all *test-result files* (e.g. not *word-result files*) into the MP_Test_Result_Files_To_Combine folder, located within the Files/ directory. That player should then run this script in order to combine those files into a single results file that can then be analyzed like any other multiplayer file.\n",
    "\n",
    "This file can handle the following input data:\n",
    "\n",
    "1. Multiplayer files with just one player\n",
    "3. Multiplayer files with multiple players (which will be handy if two or more players need to share a laptop)\n",
    "4. Single-player files. (I recommend making the number of tests divisible by 10, since that way, players can simply copy their autosave data into the central folder.)\n",
    "\n",
    "In addition, files *with* and *without* headers are compatible with this script.\n",
    "\n",
    "This script can also handle cases in which two or more players have the same name, provided that they are not in the same multiplayer file. It will do so by appending a distinct suffix to all but one of these files.\n",
    "\n",
    "**Important: if a player has not completed all of the tests specified by the first_verse_id and last_verse_id arguments, he/she will be excluded from the combined file!**"
   ]
  },
  {
   "cell_type": "code",
   "execution_count": 80,
   "id": "4a181956-8557-48a2-92ea-37cf4d5df69c",
   "metadata": {
    "execution": {
     "iopub.execute_input": "2025-08-06T02:09:24.181618Z",
     "iopub.status.busy": "2025-08-06T02:09:24.181457Z",
     "iopub.status.idle": "2025-08-06T02:09:24.184649Z",
     "shell.execute_reply": "2025-08-06T02:09:24.184397Z",
     "shell.execute_reply.started": "2025-08-06T02:09:24.181608Z"
    }
   },
   "outputs": [],
   "source": [
    "if category == 'mpfc':    \n",
    "    if verse_ids in ['y', 'Y']: # In this case, we'll examine a particular\n",
    "        # player's results to determine which verse IDs\n",
    "        # to use.\n",
    "        detect_verses_from_first_player = True\n",
    "    else:\n",
    "        detect_verses_from_first_player = False\n",
    "        first_verse_id = int(verse_ids.split('_')[0])\n",
    "        last_verse_id = int(verse_ids.split('_')[1])\n",
    "        unique_verse_count = last_verse_id - first_verse_id + 1\n",
    "\n",
    "    mp_test_result_folder_path = '../Files/MP_Test_Result_Files_To_Combine/'\n",
    "    mp_test_result_files = os.listdir(mp_test_result_folder_path)\n",
    "    mp_test_result_files.sort()"
   ]
  },
  {
   "cell_type": "code",
   "execution_count": 81,
   "id": "ad231975-94ae-49db-bb35-935bc47017d2",
   "metadata": {
    "execution": {
     "iopub.execute_input": "2025-08-06T02:09:24.184991Z",
     "iopub.status.busy": "2025-08-06T02:09:24.184901Z",
     "iopub.status.idle": "2025-08-06T02:09:24.189632Z",
     "shell.execute_reply": "2025-08-06T02:09:24.189380Z",
     "shell.execute_reply.started": "2025-08-06T02:09:24.184982Z"
    }
   },
   "outputs": [],
   "source": [
    "if category == 'mpfc':\n",
    "    mp_test_result_headers = ['Test_Number', 'Within_Session_Test_Number', \n",
    "'Unix_Test_Start_Time', 'Local_Test_Start_Time', 'Unix_Test_End_Time', \n",
    "'Local_Test_End_Time', 'Verse_ID', 'Verse_Code', 'Verse', 'Characters', \n",
    "'WPM', 'Test_Seconds', 'Error_Rate', 'Error_and_Backspace_Rate', \n",
    "'Marathon_Mode', 'Player', 'Mode', 'Tag_1', 'Tag_2', 'Tag_3', 'Notes']"
   ]
  },
  {
   "cell_type": "code",
   "execution_count": 82,
   "id": "1c642b0e-9a26-4b8c-9093-4902736a7afc",
   "metadata": {
    "execution": {
     "iopub.execute_input": "2025-08-06T02:09:24.190114Z",
     "iopub.status.busy": "2025-08-06T02:09:24.189986Z",
     "iopub.status.idle": "2025-08-06T02:09:24.195702Z",
     "shell.execute_reply": "2025-08-06T02:09:24.195310Z",
     "shell.execute_reply.started": "2025-08-06T02:09:24.190104Z"
    }
   },
   "outputs": [],
   "source": [
    "if category == 'mpfc':\n",
    "    player_count = 1 # This list will help us assign unique initial codes\n",
    "    # to each player's name, thus helping distinguish multiple players\n",
    "    # who happen to have the same name (as long as those duplicate names\n",
    "    # aren't contained in the same source file).\n",
    "    \n",
    "    df_result_list = [] # Creating a list of DataFrames, one for each\n",
    "    # file, that will ultimately get converted into a single DataFrame\n",
    "    \n",
    "    # Processing each file within mp_test_result_folder_path:\n",
    "    for filename in mp_test_result_files:\n",
    "        # Reading in the first row of the DataFrame in order to check whether\n",
    "        # this file contains headers or not:\n",
    "        df_first_row = pd.read_csv(\n",
    "            mp_test_result_folder_path + filename,\n",
    "            header = None, nrows = 1)\n",
    "    # Setting the header parameter to None ensures that the first row of the\n",
    "    # .csv file, whether it contains headers or data, will get treated as\n",
    "    # a row of data (thus making it easier to check what values it contains).\n",
    "        if df_first_row.iloc[0, 0] == 'Test_Number': # This indicates that \n",
    "    # the file does contain headers; thus, we should make the 'names' argument\n",
    "    # for our upcoming read_csv call None so that read_csv() will convert\n",
    "    # the first row of the .csv file into the DataFrame's header row.\n",
    "            names_arg = None\n",
    "        else: # This indicates that the file does not contain headers. \n",
    "            # Therefore, we'll need to pass the headers stored in \n",
    "            # mp_test_result_headers to the 'header' argument so that they can \n",
    "            # be used as header values.\n",
    "            names_arg = mp_test_result_headers\n",
    "        \n",
    "        \n",
    "        # Now that we know what headers to use within our read_csv call,\n",
    "        # we can import the entire dataset:\n",
    "        \n",
    "        df = pd.read_csv(mp_test_result_folder_path + filename,\n",
    "                        names = names_arg)\n",
    "    \n",
    "        # Seeing which players are present in the file:\n",
    "        player_list = df['Player'].unique()\n",
    "        player_list.sort()\n",
    "    \n",
    "        if detect_verses_from_first_player == True:\n",
    "            # In this case, the first and last verses typed by the\n",
    "            # first player within the first file will be used as \n",
    "            # the set of reference verses for all other players.\n",
    "            # (If this player's verses are incorrect, you can either\n",
    "            # specify the verses to use within the arguments to this\n",
    "            # script *or* make another file whose first player (in \n",
    "            # alphabetical terms) typed the correct set of verses.)\n",
    "            print(\"player_list:\",player_list)\n",
    "            player_verses = df.query(\n",
    "                f\"Player == '{player_list[0]}'\").copy()[\n",
    "            'Verse_ID'].unique()\n",
    "            player_verses.sort()\n",
    "            first_verse_id = player_verses[0]\n",
    "            last_verse_id = player_verses[-1]\n",
    "            unique_verse_count = last_verse_id - first_verse_id + 1\n",
    "            print(f\"{first_verse_id} and {last_verse_id} will be used as \\\n",
    "the starting and ending verse IDs, respectively. These IDs are based \\\n",
    "on the verses typed by {player_list[0]} within {filename}.\")\n",
    "            detect_verses_from_first_player = False # Now that we've \n",
    "            # retrieved the verse IDs we need, we can set this flag to False.\n",
    "            \n",
    "        \n",
    "        # Filtering the DataFrame to only include tests that fall within\n",
    "        # the first_verse_id and last_verse_id bounds defined earlier:\n",
    "    \n",
    "        df.query(\"Verse_ID >= @first_verse_id & Verse_ID <= @last_verse_id\",\n",
    "                inplace = True)\n",
    "    \n",
    "        # Checking whether each player completed the range of tests\n",
    "        # that starts at first_verse_id and ends at last_verse_id:\n",
    "        # (Any player that did not complete all of these tests will be \n",
    "        # removed from the combined file.)\n",
    "        for player in df['Player'].unique():\n",
    "            if len(df.query(\"Player == @player\")['Verse_ID'].unique()\n",
    "    ) != unique_verse_count:\n",
    "                print(f\"{player} within {filename} did not complete all of \\\n",
    "the tests between {first_verse_id} and {last_verse_id}; thus, this player \\\n",
    "will be excluded from the combined dataset.\")\n",
    "                df.query(\"Player != @player\", inplace = True)\n",
    "                   \n",
    "        \n",
    "        # Making sure the tests are sorted in chronological order:\n",
    "        # (We'll use Unix time here to prevent time zone differences from\n",
    "        # affecting this sort.)\n",
    "        df = df.sort_values(\n",
    "            'Unix_Test_Start_Time').reset_index(drop=True).copy()\n",
    "        \n",
    "    \n",
    "        # Adding numerical prefixes to each player's name in order to help \n",
    "        # differentiate between two players who happen to have the same name:\n",
    "        for player in player_list:\n",
    "            df['Player'] = df['Player'].replace(\n",
    "                {player:str(player_count)+'_'+str(player)}).copy()\n",
    "            player_count += 1\n",
    "        \n",
    "        # Replacing existing Tag_1 and Tag_2 values with \n",
    "        # a standardized set of values:\n",
    "        # (This step is necessary because single-player files will likely have \n",
    "        # different tag values than multiplayer ones.)\n",
    "        # As a reminder, tags 1, 2, and 3 normally refer to rounds,\n",
    "        # tests within rounds, and player-specific test numbers, respectively.\n",
    "        \n",
    "        df['Tag_1'] = 1 # We'll treat this multiplayer game as having just one\n",
    "        # round (which would be the case for any players who completed these\n",
    "        # tests on their own)\n",
    "        \n",
    "        df['Tag_3'] = df.groupby('Player')['WPM'].transform('cumcount') + 1\n",
    "        \n",
    "        # Because this game has only one round, tags 2 and 3 will have the \n",
    "        # same value.\n",
    "        \n",
    "        df['Tag_2'] = df['Tag_3'].copy()\n",
    "        # Storing the original filename within the 'Notes' field:\n",
    "        df['Notes'] = filename\n",
    "    \n",
    "        \n",
    "        df_result_list.append(df)\n",
    "    \n",
    "    # Combining all of these results into a single DataFrame:\n",
    "    df_combined = pd.concat([df for df in df_result_list])\n",
    "    # Sorting the tests by chronological order so that we can assign\n",
    "    # accurate Test_Number and Within_Session_Test_Number values:\n",
    "    \n",
    "    df_combined = df_combined.sort_values(\n",
    "        'Unix_Test_Start_Time').reset_index(drop=True).copy()\n",
    "    # We'll treat all of the races as occurring within the same session.\n",
    "    for column in ['Test_Number', 'Within_Session_Test_Number']:\n",
    "        df_combined[column] = df_combined.index + 1\n",
    "    df_combined\n"
   ]
  },
  {
   "cell_type": "markdown",
   "id": "302d4935-7127-4193-9f4c-aebf824e1fb6",
   "metadata": {},
   "source": [
    "### Saving this combined file to the Multiplayer test results folder:\n",
    "(This filename will consist of a condensed version of the earliest\n",
    "timestamp, followed by a 'CMR' string (which stands for 'combined\n",
    "multiplayer results), followed by tthe regular '_test_results.csv'\n",
    "suffix for test result files.)"
   ]
  },
  {
   "cell_type": "code",
   "execution_count": 83,
   "id": "d66a127c-4069-427f-9263-fbcc65ff9a8a",
   "metadata": {
    "execution": {
     "iopub.execute_input": "2025-08-06T02:09:24.196180Z",
     "iopub.status.busy": "2025-08-06T02:09:24.196071Z",
     "iopub.status.idle": "2025-08-06T02:09:24.198942Z",
     "shell.execute_reply": "2025-08-06T02:09:24.198689Z",
     "shell.execute_reply.started": "2025-08-06T02:09:24.196169Z"
    }
   },
   "outputs": [],
   "source": [
    "if category == 'mpfc':\n",
    "    df_combined_file_timestamp = df_combined.iloc[0]['Local_Test_Start_Time'][\n",
    "    0:19].replace('-', '').replace(':','') # This timestamp will also \n",
    "    # get used as the argument for an upcoming run of the multiplayer \n",
    "    # visualizations script.\n",
    "    df_combined_filename = df_combined_file_timestamp + '_CMR_test_results.csv'\n",
    "    df_combined_filename"
   ]
  },
  {
   "cell_type": "code",
   "execution_count": 84,
   "id": "7beb7e63-3491-45ff-8cec-44d53add7b9a",
   "metadata": {
    "execution": {
     "iopub.execute_input": "2025-08-06T02:09:24.199459Z",
     "iopub.status.busy": "2025-08-06T02:09:24.199271Z",
     "iopub.status.idle": "2025-08-06T02:09:24.202194Z",
     "shell.execute_reply": "2025-08-06T02:09:24.201939Z",
     "shell.execute_reply.started": "2025-08-06T02:09:24.199448Z"
    }
   },
   "outputs": [],
   "source": [
    "if category == 'mpfc':\n",
    "    df_combined.to_csv('../Files/Multiplayer/'+df_combined_filename,\n",
    "                  index = False)"
   ]
  },
  {
   "cell_type": "code",
   "execution_count": 85,
   "id": "2e9ee170-547c-4d89-96e1-e32552247acb",
   "metadata": {
    "execution": {
     "iopub.execute_input": "2025-08-06T02:09:24.203377Z",
     "iopub.status.busy": "2025-08-06T02:09:24.203136Z",
     "iopub.status.idle": "2025-08-06T02:09:24.205660Z",
     "shell.execute_reply": "2025-08-06T02:09:24.205399Z",
     "shell.execute_reply.started": "2025-08-06T02:09:24.203363Z"
    }
   },
   "outputs": [],
   "source": [
    "if category == 'mpfc':\n",
    "    print(f\"Finished combining multiplayer files into a single file.\\nThis \\\n",
    "file is available at ../Files/Multiplayer/{df_combined_filename}.\")\n",
    "    # Now that we've created this file, we'll also want to analyze it using\n",
    "    # the multiplayer visualizations script defined below. The following\n",
    "    # code changes our category and second argument strings to facilitate this.\n",
    "\n",
    "    category = 'mpv'\n",
    "    test_results_timestamp = 'y' # This argument, when applied to the multiplayer\n",
    "    # visualizations file, will analyze the most recently modified multiplayer\n",
    "    # data. Since this will almost certainly be the test results file we just created,\n",
    "    # this argument should work fine for our needs."
   ]
  },
  {
   "cell_type": "markdown",
   "id": "0198eed3-4f03-4b90-b99a-648470499036",
   "metadata": {},
   "source": [
    "## Multiplayer visualizations script"
   ]
  },
  {
   "cell_type": "code",
   "execution_count": 86,
   "id": "c7a34875-7f3c-4b7b-b33d-3610f24ff751",
   "metadata": {
    "execution": {
     "iopub.execute_input": "2025-08-06T02:09:24.206092Z",
     "iopub.status.busy": "2025-08-06T02:09:24.205991Z",
     "iopub.status.idle": "2025-08-06T02:09:24.209346Z",
     "shell.execute_reply": "2025-08-06T02:09:24.209092Z",
     "shell.execute_reply.started": "2025-08-06T02:09:24.206082Z"
    }
   },
   "outputs": [],
   "source": [
    "if category == 'mpv':\n",
    "    if (test_results_timestamp in ['y', 'Y']): # In this case, the \n",
    "        # most recently modified file (presumably one that was just created, \n",
    "        # in fact) will be analyzed.\n",
    "        mp_file_list = [(file, os.path.getmtime(\n",
    "        mp_results_folder+file)) for file in os.listdir(\n",
    "        mp_results_folder) if 'test_results' in file]\n",
    "        # The following code, which sorts files by their modification date \n",
    "        # (in ascending order), is based on an example found at\n",
    "        # https://docs.python.org/3/howto/sorting.html#key-functions\n",
    "        mp_file_list = sorted(\n",
    "            mp_file_list, key = lambda file_pair: file_pair[1]).copy()\n",
    "        test_results_file = mp_file_list[-1][0]\n",
    "    else: # In this case, the argument will be interpreted as a timestamp,\n",
    "        # and the first file in a list of all files that contain this timestamp\n",
    "        # will be analyzed.\n",
    "        # Determining the multiplayer test_results.csv file whose timestamp \n",
    "        # matches our test_results_timestamp string:\n",
    "        # (There *should* only be one such timestamp, but just in case two \n",
    "        # or more share this timestamp--which is extremely improbable--only \n",
    "        # one will be retained. If you do happen to have two or more files \n",
    "        # with the same timestamp, temporarily move all but the one you wish \n",
    "        # to analyze out of the Files/Multiplayer/ folder.)\n",
    "        test_results_file = [file for file in os.listdir(mp_results_folder) if \n",
    "        (test_results_timestamp in file) & ('test_results' in file)][0]\n",
    "        \n",
    "        # Creating a shortened version of this string that doesn't have\n",
    "        # the 'test_results.csv' component at the end: \n",
    "        # (This shortened version will serve as the initial component\n",
    "        # of our visualization filenames.)\n",
    "    test_results_name = test_results_file[:-17]\n",
    "    test_results_file, test_results_name\n",
    "    print(f\"Analyzing results within {test_results_file}.\")\n",
    "    df = pd.read_csv(mp_results_folder+test_results_file)"
   ]
  },
  {
   "cell_type": "code",
   "execution_count": 87,
   "id": "d8ac4b35-104d-4a2a-9f0c-7ab1ab5a4c44",
   "metadata": {
    "execution": {
     "iopub.execute_input": "2025-08-06T02:09:24.209831Z",
     "iopub.status.busy": "2025-08-06T02:09:24.209666Z",
     "iopub.status.idle": "2025-08-06T02:09:24.212723Z",
     "shell.execute_reply": "2025-08-06T02:09:24.212496Z",
     "shell.execute_reply.started": "2025-08-06T02:09:24.209820Z"
    }
   },
   "outputs": [],
   "source": [
    "if category == 'mpv':\n",
    "    # Replacing the tag column names with their actual multiplayer-mode\n",
    "    # meanings:\n",
    "    df.rename(columns = {'Tag_1':'Round','Tag_2':'Test within round',\n",
    "                        'Tag_3':'Player test number',\n",
    "                        'Within_Session_Test_Number':\n",
    "                        'Game test number'}, inplace = True)\n",
    "    # Making sure that the results are stored in the order that they were\n",
    "    # typed:\n",
    "    df.sort_values('Game test number', inplace = True)\n",
    "    \n",
    "    # Calculating cumulative WPM values:\n",
    "    df['Cumulative WPM'] = (df.groupby('Player')['WPM'].transform(\n",
    "    'cumsum')) / df['Player test number']\n",
    "    \n",
    "    df['Best_WPM_for_Test'] = df.groupby(\n",
    "        'Player test number')['WPM'].transform('max')\n",
    "    df['Player had best WPM for this test'] = np.where(\n",
    "        df['WPM'] == df['Best_WPM_for_Test'], 1, 0)"
   ]
  },
  {
   "cell_type": "markdown",
   "id": "185c6c8f-94e7-4fb8-8fdb-046de489cfe4",
   "metadata": {},
   "source": [
    "Creating a melted verison of this DataFrame that stores both cumulative and test-specific WPM values within the same column:\n",
    "\n",
    "(This will make it easier to produce a graph that uses different line dash types to differentiate between cumulative and test-specific WPM values.)"
   ]
  },
  {
   "cell_type": "code",
   "execution_count": 88,
   "id": "cfafa187-a5c6-4ffc-bcb5-ed6bc119bb03",
   "metadata": {
    "execution": {
     "iopub.execute_input": "2025-08-06T02:09:24.213118Z",
     "iopub.status.busy": "2025-08-06T02:09:24.213020Z",
     "iopub.status.idle": "2025-08-06T02:09:24.216307Z",
     "shell.execute_reply": "2025-08-06T02:09:24.216043Z",
     "shell.execute_reply.started": "2025-08-06T02:09:24.213108Z"
    }
   },
   "outputs": [],
   "source": [
    "if category == 'mpv':\n",
    "    df_wpm_type_melt = df.melt(id_vars = ['Player', 'Player test number'],\n",
    "    value_vars = ['WPM', 'Cumulative WPM'],\n",
    "    var_name = 'WPM Type',\n",
    "    value_name = 'Words per minute').rename(\n",
    "        columns = {'Words per minute':'WPM'}) # This column couldn't be \n",
    "    # initialized as WPM because a column with that name was already present \n",
    "    # within df.\n",
    "    df_wpm_type_melt['WPM Type'] = df_wpm_type_melt['WPM Type'].replace(\n",
    "    {'WPM':'Test WPM'})\n",
    "    \n",
    "    df_wpm_type_melt\n",
    "\n",
    "    fig_wpm_by_player = px.line(df_wpm_type_melt, \n",
    "x = 'Player test number', y = 'WPM',\n",
    "        color = 'Player', line_dash = 'WPM Type',\n",
    "       title = 'WPM By Player and Test',\n",
    "        color_discrete_sequence = px.colors.qualitative.Alphabet)\n",
    "    fig_wpm_by_player.write_html(\n",
    "    f'{mp_visualizations_folder}{test_results_name}_Mean_WPM_By_\\\n",
    "Player_And_Test.html',\n",
    "    include_plotlyjs = 'cdn')\n",
    "    # Note: 'Alphabet' is used here so that up to 26 distinct colors can be\n",
    "    # shown within the chart (which will prove useful for multiplayer rounds\n",
    "    # with larger player counts).\n",
    "    # fig_wpm_by_player"
   ]
  },
  {
   "cell_type": "markdown",
   "id": "1978906b-a82b-4a89-9767-1d09b8f635db",
   "metadata": {},
   "source": [
    "Calculating mean WPMs by player and round as well as overall WPMs:"
   ]
  },
  {
   "cell_type": "code",
   "execution_count": 89,
   "id": "6e925bcd-0c38-4f86-94ad-3d856e236b1c",
   "metadata": {
    "execution": {
     "iopub.execute_input": "2025-08-06T02:09:24.216816Z",
     "iopub.status.busy": "2025-08-06T02:09:24.216620Z",
     "iopub.status.idle": "2025-08-06T02:09:24.219982Z",
     "shell.execute_reply": "2025-08-06T02:09:24.219669Z",
     "shell.execute_reply.started": "2025-08-06T02:09:24.216805Z"
    }
   },
   "outputs": [],
   "source": [
    "if category == 'mpv':\n",
    "    df_mean_wpm_by_player_and_round = df.pivot_table(\n",
    "    index = ['Player', 'Round'], values = 'WPM', \n",
    "                   aggfunc = 'mean').reset_index()\n",
    "    \n",
    "    # Adding overall WPMs for each player to the bottom of this DataFrame:\n",
    "    \n",
    "    df_mean_wpm_by_player = df.pivot_table(\n",
    "    index = 'Player', values = 'WPM', \n",
    "                   aggfunc = 'mean').reset_index()\n",
    "    df_mean_wpm_by_player['Round'] = 'Overall'\n",
    "    \n",
    "    df_mean_wpm_by_player_and_round = pd.concat([\n",
    "        df_mean_wpm_by_player_and_round, \n",
    "        df_mean_wpm_by_player]).reset_index(\n",
    "        drop=True)\n",
    "    # Ensuring that all Round values are strings: (I found that, without\n",
    "    # this update, the Overall rows would not appear within the figure\n",
    "    # that we're about to create.)\n",
    "    df_mean_wpm_by_player_and_round['Round'] = (\n",
    "        df_mean_wpm_by_player_and_round['Round'].astype('str'))\n",
    "    df_mean_wpm_by_player_and_round\n",
    "\n",
    "    # Calculating players' overall ranks:\n",
    "    df_overall_ranks = df_mean_wpm_by_player_and_round.query(\n",
    "    \"Round == 'Overall'\").copy().sort_values(\n",
    "    'WPM', ascending = False).reset_index(drop=True)\n",
    "    df_overall_ranks['Overall rank'] = df_overall_ranks.index + 1\n",
    "    df_overall_ranks\n",
    "\n",
    "    df_mean_wpm_by_player_and_round = df_mean_wpm_by_player_and_round.merge(\n",
    "    df_overall_ranks[['Player', 'Overall rank']], \n",
    "    on = 'Player', how = 'left')\n",
    "    df_mean_wpm_by_player_and_round\n",
    "\n",
    "    fig_mean_wpm_by_player_and_round = px.bar(\n",
    "        df_mean_wpm_by_player_and_round.sort_values(\n",
    "    'Overall rank', ascending = True), x = 'Round', \n",
    "           y = 'WPM', color = 'Player', barmode = 'group',\n",
    "        color_discrete_sequence = px.colors.qualitative.Alphabet,\n",
    "        title = 'Mean WPM by Player and Round',\n",
    "          text_auto = '.0f', hover_data = 'Overall rank')\n",
    "    fig_mean_wpm_by_player_and_round.write_html(\n",
    "        f'{mp_visualizations_folder}{test_results_name}_Mean_WPM_\\\n",
    "By_Player_And_Round.html',\n",
    "        include_plotlyjs = 'cdn')\n",
    "    # fig_mean_wpm_by_player_and_round"
   ]
  },
  {
   "cell_type": "code",
   "execution_count": 90,
   "id": "4b957927-6241-488f-8b65-8bb77e2ff9f2",
   "metadata": {
    "execution": {
     "iopub.execute_input": "2025-08-06T02:09:24.220549Z",
     "iopub.status.busy": "2025-08-06T02:09:24.220323Z",
     "iopub.status.idle": "2025-08-06T02:09:24.223445Z",
     "shell.execute_reply": "2025-08-06T02:09:24.223189Z",
     "shell.execute_reply.started": "2025-08-06T02:09:24.220536Z"
    }
   },
   "outputs": [],
   "source": [
    "if category == 'mpv':\n",
    "    df_wins = df.pivot_table(index = 'Player', values = 'Player had best \\\n",
    "WPM for this test', aggfunc = 'sum').reset_index()\n",
    "    df_wins.sort_values('Player had best WPM for this test', ascending = False,\n",
    "                       inplace = True)\n",
    "    df_wins\n",
    "\n",
    "    fig_wins = px.bar(df_wins, x = 'Player', \n",
    "           y = 'Player had best WPM for this test',\n",
    "          title = 'Number of Tests in Which Each Player \\\n",
    "    Had the Highest WPM', text_auto = '.0f',\n",
    "                     color = 'Player', \n",
    "    color_discrete_sequence=px.colors.qualitative.Alphabet).update_layout(\n",
    "    yaxis_title = 'Wins')\n",
    "    fig_wins.write_html(f'{mp_visualizations_folder}{test_results_name}_\\\n",
    "wins_by_player.html', include_plotlyjs = 'cdn')\n",
    "    # fig_wins"
   ]
  },
  {
   "cell_type": "code",
   "execution_count": 91,
   "id": "be92f1d9-8770-46f1-b083-de875a56a48a",
   "metadata": {
    "execution": {
     "iopub.execute_input": "2025-08-06T02:09:24.223996Z",
     "iopub.status.busy": "2025-08-06T02:09:24.223739Z",
     "iopub.status.idle": "2025-08-06T02:09:24.226690Z",
     "shell.execute_reply": "2025-08-06T02:09:24.226425Z",
     "shell.execute_reply.started": "2025-08-06T02:09:24.223985Z"
    }
   },
   "outputs": [],
   "source": [
    "if category == 'mpv':\n",
    "    df_highest_wpm = df.pivot_table(index = 'Player', values = 'WPM', \n",
    "                                aggfunc = 'max').reset_index()\n",
    "    df_highest_wpm.sort_values('WPM', ascending = False, inplace = True)\n",
    "    df_highest_wpm\n",
    "\n",
    "    fig_highest_wpm = px.bar(df_highest_wpm, x = 'Player', \n",
    "       y = 'WPM',\n",
    "      title = 'Highest WPM by Player', text_auto = '.3f',\n",
    "                 color = 'Player', \n",
    "                 color_discrete_sequence = \n",
    "    px.colors.qualitative.Alphabet)\n",
    "    fig_highest_wpm.write_html(\n",
    "        f'{mp_visualizations_folder}{test_results_name}_\\\n",
    "highest_wpm_by_player.html', include_plotlyjs = 'cdn')\n",
    "    # fig_highest_wpm"
   ]
  },
  {
   "cell_type": "code",
   "execution_count": 92,
   "id": "69d43cb8-577a-4c6b-ac48-a7492c2e4620",
   "metadata": {
    "execution": {
     "iopub.execute_input": "2025-08-06T02:09:24.227152Z",
     "iopub.status.busy": "2025-08-06T02:09:24.227008Z",
     "iopub.status.idle": "2025-08-06T02:09:24.229800Z",
     "shell.execute_reply": "2025-08-06T02:09:24.229563Z",
     "shell.execute_reply.started": "2025-08-06T02:09:24.227142Z"
    }
   },
   "outputs": [],
   "source": [
    "if category == 'mpv':\n",
    "    end_time = time.time()\n",
    "    run_time = end_time - start_time\n",
    "    print(f\"Finished calculating and visualizing multiplayer stats in \\\n",
    "{round(run_time, 3)} seconds.\")"
   ]
  },
  {
   "cell_type": "markdown",
   "id": "922f542f-9a28-4e6a-bbc5-f75f3dba2b35",
   "metadata": {
    "execution": {
     "iopub.execute_input": "2025-07-16T01:29:37.894752Z",
     "iopub.status.busy": "2025-07-16T01:29:37.894150Z",
     "iopub.status.idle": "2025-07-16T01:29:37.901518Z",
     "shell.execute_reply": "2025-07-16T01:29:37.900838Z",
     "shell.execute_reply.started": "2025-07-16T01:29:37.894713Z"
    }
   },
   "source": [
    "## Single-player visualization script"
   ]
  },
  {
   "cell_type": "markdown",
   "id": "141509ae-a5da-4743-b31a-0909712d1232",
   "metadata": {},
   "source": [
    "### Analyzing test result data:"
   ]
  },
  {
   "cell_type": "code",
   "execution_count": 93,
   "id": "6a547a5a-e970-4de0-b08e-66ed1fff4aea",
   "metadata": {
    "execution": {
     "iopub.execute_input": "2025-08-06T02:09:24.230165Z",
     "iopub.status.busy": "2025-08-06T02:09:24.230059Z",
     "iopub.status.idle": "2025-08-06T02:09:24.248123Z",
     "shell.execute_reply": "2025-08-06T02:09:24.247847Z",
     "shell.execute_reply.started": "2025-08-06T02:09:24.230151Z"
    }
   },
   "outputs": [],
   "source": [
    "if category == 'spv': \n",
    "    df_tr = pd.read_csv('../Files/test_results.csv') # tr = 'test results'\n",
    "    \n",
    "    # Converting start/end timestamps to DateTime values:\n",
    "    \n",
    "    for col in ['Local_Test_Start_Time', 'Local_Test_End_Time']:\n",
    "        df_tr[col] = pd.to_datetime(df_tr[col])\n",
    "    # Ensuring the tests are being displayed in chronological order:\n",
    "    # (This may not always be the case, especially if the player imported\n",
    "    # multiplayer results into his/her single-player file.)\n",
    "    # (This will help ensure that the 'chronological test number' values \n",
    "    # that we're about to create are accurate.)\n",
    "    \n",
    "    df_tr = df_tr.sort_values(\n",
    "        'Local_Test_Start_Time').reset_index(drop=True).copy()\n",
    "    \n",
    "    df_tr['Chronological test number'] = df_tr.index+1\n",
    "    \n",
    "    df_tr"
   ]
  },
  {
   "cell_type": "markdown",
   "id": "1fb4f0cd-6af5-4ff4-8dbf-ac53f766499a",
   "metadata": {
    "execution": {
     "iopub.execute_input": "2025-07-29T00:41:01.027590Z",
     "iopub.status.busy": "2025-07-29T00:41:01.027075Z",
     "iopub.status.idle": "2025-07-29T00:41:01.033211Z",
     "shell.execute_reply": "2025-07-29T00:41:01.032232Z",
     "shell.execute_reply.started": "2025-07-29T00:41:01.027553Z"
    }
   },
   "source": [
    "Adding session numbers to DataFrame:\n",
    "\n",
    "(The following approach uses a combination of np.where() and cumsum() to create these numbers. I imagine that this approach is faster than is looping through the DataFrame to assign them, but I could be wrong.)"
   ]
  },
  {
   "cell_type": "code",
   "execution_count": 94,
   "id": "038acfb7-d2dc-401a-81c5-082786256be5",
   "metadata": {
    "execution": {
     "iopub.execute_input": "2025-08-06T02:09:24.248631Z",
     "iopub.status.busy": "2025-08-06T02:09:24.248498Z",
     "iopub.status.idle": "2025-08-06T02:09:24.251753Z",
     "shell.execute_reply": "2025-08-06T02:09:24.251508Z",
     "shell.execute_reply.started": "2025-08-06T02:09:24.248621Z"
    }
   },
   "outputs": [],
   "source": [
    "if category == 'spv': \n",
    "    # We can identify new sessions as those whose within-session test number\n",
    "    # is 1:\n",
    "    df_tr['new_session'] = np.where(\n",
    "        df_tr['Within_Session_Test_Number'] == 1, 1, 0)\n",
    "    # The following code increments the session number counter by 1 when\n",
    "    # a new session has begun and keeps it at its current number otherwise,\n",
    "    # thus allowing us to determine how many sessions the player has \n",
    "    # started thus far.)\n",
    "    df_tr['Session number'] = df_tr['new_session'].cumsum()\n",
    "    # We won't have any further need for the new_session column, so we can\n",
    "    # remove it:\n",
    "    df_tr.drop('new_session', axis = 1, inplace = True)\n",
    "    df_tr"
   ]
  },
  {
   "cell_type": "markdown",
   "id": "80bd3a28-3207-4627-a46e-470fe2376832",
   "metadata": {},
   "source": [
    "Calculating various timing statistics that will prove useful for endurance-related analyses:"
   ]
  },
  {
   "cell_type": "code",
   "execution_count": 95,
   "id": "0456f50e-fcb0-408e-af0d-696923e5b84f",
   "metadata": {
    "execution": {
     "iopub.execute_input": "2025-08-06T02:09:24.252316Z",
     "iopub.status.busy": "2025-08-06T02:09:24.252095Z",
     "iopub.status.idle": "2025-08-06T02:09:24.261291Z",
     "shell.execute_reply": "2025-08-06T02:09:24.261039Z",
     "shell.execute_reply.started": "2025-08-06T02:09:24.252306Z"
    }
   },
   "outputs": [],
   "source": [
    "if category == 'spv': \n",
    "    for time_type in ['Start', 'End']:\n",
    "        df_tr[f'{time_type} Date'] = df_tr[\n",
    "            f'Local_Test_{time_type}_Time'].dt.date\n",
    "        df_tr[f'{time_type} Hour'] = df_tr[\n",
    "            f'Local_Test_{time_type}_Time'].dt.hour\n",
    "        df_tr[f'{time_type} Minute'] = df_tr[\n",
    "            f'Local_Test_{time_type}_Time'].dt.minute\n",
    "        df_tr[f'{time_type} 30-Minute Block'] = np.where(\n",
    "            df_tr[f'{time_type} Minute'] >= 30, 2, 1)\n",
    "        # Using floor division to determine the 15- and 10-minute blocks\n",
    "        # into which each test falls:\n",
    "        df_tr[f'{time_type} 15-Minute Block'] = df_tr[\n",
    "            f'{time_type} Minute'] // 15 + 1\n",
    "        df_tr[f'{time_type} 10-Minute Block'] = df_tr[\n",
    "            f'{time_type} Minute'] // 10 + 1\n",
    "    \n",
    "    # Creating columns that will store unique starting hours and\n",
    "    # 30/15/10-minute blocks:\n",
    "    df_tr['Unique Hour'] = df_tr['Start Date'].astype(\n",
    "        'str') + '_' + df_tr['Start Hour'].astype('str')\n",
    "    for block in ['30', '15', '10']:\n",
    "        df_tr[f'Unique {block}-Minute Block'] = df_tr[\n",
    "            'Unique Hour'] + '_' + df_tr[\n",
    "            f'Start {block}-Minute Block'].astype('str')\n",
    "    \n",
    "    \n",
    "    df_tr.head(5)"
   ]
  },
  {
   "cell_type": "markdown",
   "id": "9d8e61f3-c815-45be-bc0d-e605c0db7601",
   "metadata": {},
   "source": [
    "### Determining how many characters the player typed after each *rolling* hour, 30-minute period, 15-minute period, and 10-minute period:\n",
    "\n",
    "(This information will be helpful for calculating endurance-based statistics.)"
   ]
  },
  {
   "cell_type": "code",
   "execution_count": 96,
   "id": "cf9ba4b1-b82d-46e1-b53c-5a7363cc4ff9",
   "metadata": {
    "execution": {
     "iopub.execute_input": "2025-08-06T02:09:24.261731Z",
     "iopub.status.busy": "2025-08-06T02:09:24.261595Z",
     "iopub.status.idle": "2025-08-06T02:09:24.263593Z",
     "shell.execute_reply": "2025-08-06T02:09:24.263347Z",
     "shell.execute_reply.started": "2025-08-06T02:09:24.261721Z"
    }
   },
   "outputs": [],
   "source": [
    "if category == 'spv': \n",
    "    col_seconds_pair_list = [['Characters Typed in Next Hour', 3600],\n",
    "                             ['Characters Typed in Next 30 Minutes', 1800],\n",
    "                             ['Characters Typed in Next 15 Minutes', 900],\n",
    "                             ['Characters Typed in Next 10 Minutes', 600]]"
   ]
  },
  {
   "cell_type": "markdown",
   "id": "4058f25b-7cba-4936-a5fd-414c699b8236",
   "metadata": {},
   "source": [
    "Note: the following code will likely take a considerable amount of time to run once users have completed a significant number of tests (e.g. 1000+). Therefore, it would be ideal to eventually replace it with C++-based code *or* a more sophisticated Python-based approach. (I tried out the 'numba' engine setting within the df.apply() function, but it failed to work correctly.)\n",
    "\n",
    "In the meantime, I've commented out this code so that it won't cause performance issues going forward."
   ]
  },
  {
   "cell_type": "code",
   "execution_count": 97,
   "id": "fb0af793-4cb7-4706-87eb-c2d0578da319",
   "metadata": {
    "execution": {
     "iopub.execute_input": "2025-08-06T02:09:24.264038Z",
     "iopub.status.busy": "2025-08-06T02:09:24.263894Z",
     "iopub.status.idle": "2025-08-06T02:09:24.267051Z",
     "shell.execute_reply": "2025-08-06T02:09:24.266808Z",
     "shell.execute_reply.started": "2025-08-06T02:09:24.264028Z"
    }
   },
   "outputs": [],
   "source": [
    "# df_tr_condensed = df_tr[['Unix_Test_Start_Time', \n",
    "# 'Unix_Test_End_Time', 'Characters', 'Test number']].copy()\n",
    "# I thought this DataFrame might be more compatible with certain\n",
    "# alternative engine options, but unfortunately, that wasn't the case."
   ]
  },
  {
   "cell_type": "code",
   "execution_count": 98,
   "id": "dcaa192c-1450-4ebb-92f2-fcfcaf630132",
   "metadata": {
    "execution": {
     "iopub.execute_input": "2025-08-06T02:09:24.267569Z",
     "iopub.status.busy": "2025-08-06T02:09:24.267350Z",
     "iopub.status.idle": "2025-08-06T02:09:24.270405Z",
     "shell.execute_reply": "2025-08-06T02:09:24.270169Z",
     "shell.execute_reply.started": "2025-08-06T02:09:24.267559Z"
    }
   },
   "outputs": [],
   "source": [
    "# for col_seconds_pair in col_seconds_pair_list:\n",
    "\n",
    "#     df_tr[col_seconds_pair[0]] = df_tr.apply(\n",
    "#         lambda x: df_tr[(df_tr[\n",
    "#             'Unix_Test_Start_Time'] >= x['Unix_Test_Start_Time']) & (\n",
    "#             df_tr['Unix_Test_End_Time'] \n",
    "#         < (x['Unix_Test_Start_Time'] + col_seconds_pair[1]))][\n",
    "#             'Characters'].sum(), axis = 1)\n",
    "# df_tr"
   ]
  },
  {
   "cell_type": "markdown",
   "id": "7513f57c-93eb-4561-b123-1f9ad2bba777",
   "metadata": {},
   "source": [
    "Note: I thought the following approach might actually be faster than the above option, as it only requires a single loop through the whole DataFrame. However, I found it to take a bit longer than the previous method."
   ]
  },
  {
   "cell_type": "code",
   "execution_count": 99,
   "id": "71609282-f740-4936-a76e-f0ba4c02fe29",
   "metadata": {
    "execution": {
     "iopub.execute_input": "2025-08-06T02:09:24.270895Z",
     "iopub.status.busy": "2025-08-06T02:09:24.270700Z",
     "iopub.status.idle": "2025-08-06T02:09:24.273672Z",
     "shell.execute_reply": "2025-08-06T02:09:24.273416Z",
     "shell.execute_reply.started": "2025-08-06T02:09:24.270885Z"
    }
   },
   "outputs": [],
   "source": [
    "# for col in ['characters_typed_in_next_hour',\n",
    "#             'characters_typed_in_next_30_minutes',\n",
    "#             'characters_typed_in_next_15_minutes',\n",
    "#             'characters_typed_in_next_10_minutes']:\n",
    "#     df_tr[col] = 0\n",
    "# for i in range(len(df_tr)):\n",
    "#     start_time = df_tr.iloc[i]['Unix_Test_Start_Time'].astype(\n",
    "#         'int64')\n",
    "    \n",
    "#     df_tr.iloc[i, df_tr.columns.get_loc(\n",
    "#         'characters_typed_in_next_hour')] = df_tr[(\n",
    "#         df_tr[\n",
    "#         'Unix_Test_Start_Time'] >= start_time) & (df_tr[\n",
    "#             'Unix_Test_End_Time'] \n",
    "#         < (start_time + 3600))]['Characters'].sum()\n",
    "    \n",
    "#     df_tr.iloc[i, df_tr.columns.get_loc(\n",
    "#         'characters_typed_in_next_30_minutes')] = df_tr[(\n",
    "#         df_tr[\n",
    "#         'Unix_Test_Start_Time'] >= start_time) & (df_tr[\n",
    "#             'Unix_Test_End_Time'] \n",
    "#         < (start_time + 1800))]['Characters'].sum()\n",
    "\n",
    "#     df_tr.iloc[i, df_tr.columns.get_loc(\n",
    "#             'characters_typed_in_next_15_minutes')] = df_tr[(\n",
    "#             df_tr[\n",
    "#             'Unix_Test_Start_Time'] >= start_time) & (df_tr[\n",
    "#                 'Unix_Test_End_Time'] \n",
    "#             < (start_time + 900))]['Characters'].sum()\n",
    "    \n",
    "#     df_tr.iloc[i, df_tr.columns.get_loc(\n",
    "#             'characters_typed_in_next_10_minutes')] = df_tr[(\n",
    "#             df_tr[\n",
    "#             'Unix_Test_Start_Time'] >= start_time) & (df_tr[\n",
    "#                 'Unix_Test_End_Time'] \n",
    "#             < (start_time + 600))]['Characters'].sum()\n",
    "            "
   ]
  },
  {
   "cell_type": "code",
   "execution_count": 100,
   "id": "66d0f950-f485-46c2-a574-e63ca1673a1a",
   "metadata": {
    "execution": {
     "iopub.execute_input": "2025-08-06T02:09:24.274198Z",
     "iopub.status.busy": "2025-08-06T02:09:24.273982Z",
     "iopub.status.idle": "2025-08-06T02:09:24.276749Z",
     "shell.execute_reply": "2025-08-06T02:09:24.276519Z",
     "shell.execute_reply.started": "2025-08-06T02:09:24.274184Z"
    }
   },
   "outputs": [],
   "source": [
    "# df_tr"
   ]
  },
  {
   "cell_type": "markdown",
   "id": "e7d29852-1846-45f5-a976-d29fb8ca7f2c",
   "metadata": {},
   "source": [
    "### WPM results by test:"
   ]
  },
  {
   "cell_type": "code",
   "execution_count": 101,
   "id": "2171e94c-a6a1-42f9-b86a-f65b549ddf41",
   "metadata": {
    "execution": {
     "iopub.execute_input": "2025-08-06T02:09:24.277109Z",
     "iopub.status.busy": "2025-08-06T02:09:24.277016Z",
     "iopub.status.idle": "2025-08-06T02:09:24.310604Z",
     "shell.execute_reply": "2025-08-06T02:09:24.310179Z",
     "shell.execute_reply.started": "2025-08-06T02:09:24.277099Z"
    }
   },
   "outputs": [],
   "source": [
    "if category == 'spv': \n",
    "    fig_wpm_by_test = px.line(\n",
    "        df_tr, x = 'Chronological test number', y = 'WPM',\n",
    "    title = 'WPM by Chronological Test Number',)\n",
    "    fig_wpm_by_test.write_html(f'{sp_visualizations_folder}WPM_by_race.html',\n",
    "                               include_plotlyjs = 'cdn')"
   ]
  },
  {
   "cell_type": "markdown",
   "id": "f14652c1-b868-4166-81ae-984b602295e9",
   "metadata": {},
   "source": [
    "### Average WPM by Tag 1, Tag 2, and Tag 3 values:"
   ]
  },
  {
   "cell_type": "code",
   "execution_count": 111,
   "id": "93b16d73-dab6-4103-a2f3-9b5433dc8d5d",
   "metadata": {
    "execution": {
     "iopub.execute_input": "2025-08-06T02:12:18.687903Z",
     "iopub.status.busy": "2025-08-06T02:12:18.687315Z",
     "iopub.status.idle": "2025-08-06T02:12:18.753852Z",
     "shell.execute_reply": "2025-08-06T02:12:18.753461Z",
     "shell.execute_reply.started": "2025-08-06T02:12:18.687844Z"
    }
   },
   "outputs": [],
   "source": [
    "if category == 'spv': \n",
    "    for tag in ['Tag_1', 'Tag_2', 'Tag_3']:\n",
    "        df_wpm_by_tag = df_tr.pivot_table(\n",
    "            index = tag, values = ['WPM', 'Chronological test number'],\n",
    "            aggfunc = {'WPM':'mean',\n",
    "            'Chronological test number':'count'}).reset_index().rename(\n",
    "            columns = {'Chronological test number':'Tests'})\n",
    "        if 'WPM' in df_wpm_by_tag: # If there are no Tag_1 values within\n",
    "            # the DataFrame, this will return False, thus preventing the\n",
    "            # following line from raising an error.\n",
    "            fig_wpm_by_tag = px.bar(df_wpm_by_tag, x = tag, y = 'WPM',\n",
    "                                 title = f'Mean WPM by {tag} value',\n",
    "                                   hover_data = 'Tests')\n",
    "            fig_wpm_by_tag.write_html(f'{sp_visualizations_folder}/Mean_\\\n",
    "WPM_by_{tag}.html', include_plotlyjs = 'cdn')"
   ]
  },
  {
   "cell_type": "markdown",
   "id": "85f66ce5-eaac-43ad-8b60-971547bfc621",
   "metadata": {},
   "source": [
    "### Creating endurance-related charts:"
   ]
  },
  {
   "cell_type": "markdown",
   "id": "9b0491d2-7bd1-4e64-a8ff-9c6c61ee9723",
   "metadata": {},
   "source": [
    "#### Visualizing *rolling* endurance statistics:\n",
    "\n",
    "(I commented out the following visualization code because it relies on a very inefficient set of code that I have also commented out.)"
   ]
  },
  {
   "cell_type": "code",
   "execution_count": 28,
   "id": "206574b8-26ca-4e6c-8a0b-a1d6bb64ffd8",
   "metadata": {
    "execution": {
     "iopub.execute_input": "2025-08-05T04:01:37.920004Z",
     "iopub.status.busy": "2025-08-05T04:01:37.919737Z",
     "iopub.status.idle": "2025-08-05T04:01:37.922038Z",
     "shell.execute_reply": "2025-08-05T04:01:37.921785Z",
     "shell.execute_reply.started": "2025-08-05T04:01:37.919987Z"
    }
   },
   "outputs": [],
   "source": [
    "# for col in [pair[0] for pair in col_seconds_pair_list]:\n",
    "\n",
    "#     df_endurance = df_tr.sort_values(col, ascending = False).copy(\n",
    "#     ).reset_index(drop=True).head(50)\n",
    "#     df_endurance['Rank'] = (df_endurance.index + 1)\n",
    "\n",
    "#     fig_endurance = px.bar(\n",
    "#     df_endurance, x = 'Rank', \n",
    "#     y = col,\n",
    "#     title = 'Most ' + col,\n",
    "#     hover_data = ['Chronological test number', 'Local_Test_Start_Time'])\n",
    "    \n",
    "#     fig_endurance.write_html('Single_Player/Endurance_Top_50_rolling_'+col.replace(\n",
    "#         ' ', '_')+'.html', \n",
    "#     include_plotlyjs = 'cdn')"
   ]
  },
  {
   "cell_type": "markdown",
   "id": "5686f91f-de8c-4dfd-96af-13ea9704f0a2",
   "metadata": {},
   "source": [
    "#### Visualizing clock-based endurance statistics:"
   ]
  },
  {
   "cell_type": "code",
   "execution_count": 29,
   "id": "b91b9dae-ba5d-44f5-bb43-ea3c9fddc59e",
   "metadata": {
    "execution": {
     "iopub.execute_input": "2025-08-05T04:01:37.922652Z",
     "iopub.status.busy": "2025-08-05T04:01:37.922397Z",
     "iopub.status.idle": "2025-08-05T04:01:37.925432Z",
     "shell.execute_reply": "2025-08-05T04:01:37.925183Z",
     "shell.execute_reply.started": "2025-08-05T04:01:37.922636Z"
    }
   },
   "outputs": [],
   "source": [
    "if category == 'spv':\n",
    "    for time_category in ['Hour', '30-Minute Block', '15-Minute Block',\n",
    "                          '10-Minute Block']:\n",
    "        # The following code helps confirm that the following query() statement\n",
    "        # is correctly filtering out tests whose starting and ending \n",
    "        # time categories don't match.\n",
    "        # print(len(df_tr.query(f\"`Start {time_category}` == `End {time_category}`\")))\n",
    "        df_endurance = df_tr.query(\n",
    "        f\"`Start {time_category}` == `End {time_category}`\").pivot_table(\n",
    "            index = f'Unique {time_category}', values = 'Characters', \n",
    "        aggfunc = 'sum').reset_index().sort_values(\n",
    "        'Characters', ascending = False).reset_index(drop=True).head(50)\n",
    "        df_endurance['Rank'] = (df_endurance.index + 1)\n",
    "        \n",
    "        fig_endurance = px.bar(\n",
    "        df_endurance, x = f'Unique {time_category}', \n",
    "        y = 'Characters',\n",
    "        title = 'Most Characters Typed By ' + time_category,\n",
    "        hover_data = 'Rank')\n",
    "        \n",
    "        fig_endurance.write_html(\n",
    "        f'{sp_visualizations_folder}Endurance_Top_50_\\\n",
    "Clock_'+time_category.replace(' ', '_')+'.html', \n",
    "        include_plotlyjs = 'cdn')"
   ]
  },
  {
   "cell_type": "markdown",
   "id": "a75c5290-b454-4109-9331-c9cd22764b8b",
   "metadata": {},
   "source": [
    "Graphing keypresses by date (in both chronological and ranked order):"
   ]
  },
  {
   "cell_type": "code",
   "execution_count": 30,
   "id": "345b2779-c777-4518-9bb3-2933d140987e",
   "metadata": {
    "execution": {
     "iopub.execute_input": "2025-08-05T04:01:37.925811Z",
     "iopub.status.busy": "2025-08-05T04:01:37.925715Z",
     "iopub.status.idle": "2025-08-05T04:01:37.928480Z",
     "shell.execute_reply": "2025-08-05T04:01:37.928225Z",
     "shell.execute_reply.started": "2025-08-05T04:01:37.925801Z"
    }
   },
   "outputs": [],
   "source": [
    "if category == 'spv':\n",
    "    df_top_dates_by_keypresses = df_tr.query(\n",
    "        \"`Start Date` == `End Date`\").pivot_table(\n",
    "        index = 'Start Date', values = 'Characters', \n",
    "        aggfunc = 'sum').reset_index().sort_values(\n",
    "        'Characters', ascending = False).reset_index(drop=True)\n",
    "    df_top_dates_by_keypresses['Rank'] = df_top_dates_by_keypresses.index + 1\n",
    "    # Plotly will automatically arrange these dates in chronological order \n",
    "    # despite our having sorted the source DataFrame by characters.\n",
    "    fig_keypresses_by_date = px.bar(df_top_dates_by_keypresses,\n",
    "                                         x = 'Start Date', y = 'Characters',\n",
    "                                  title = 'Characters typed by date',\n",
    "                                   hover_data = ['Rank'])\n",
    "    fig_keypresses_by_date.write_html(f'{sp_visualizations_folder}Keypresses\\\n",
    "_Typed_by_Date.html', include_plotlyjs='cdn')"
   ]
  },
  {
   "cell_type": "code",
   "execution_count": 31,
   "id": "6dd30e1b-bc2e-4b1a-a69b-9ac0e7377f00",
   "metadata": {
    "execution": {
     "iopub.execute_input": "2025-08-05T04:01:37.928873Z",
     "iopub.status.busy": "2025-08-05T04:01:37.928776Z",
     "iopub.status.idle": "2025-08-05T04:01:37.931490Z",
     "shell.execute_reply": "2025-08-05T04:01:37.931252Z",
     "shell.execute_reply.started": "2025-08-05T04:01:37.928864Z"
    }
   },
   "outputs": [],
   "source": [
    "if category == 'spv':\n",
    "    fig_top_dates_by_keypresses = px.bar(\n",
    "        df_top_dates_by_keypresses.head(50),\n",
    "           x = 'Start Date', y = 'Characters',\n",
    "           title = 'Dates with the most characters typed', \n",
    "           hover_data = ['Rank']).update_layout(\n",
    "        xaxis_type = 'category')\n",
    "    fig_top_dates_by_keypresses.write_html(\n",
    "        f'{sp_visualizations_folder}/Top_Dates_by_Keypresses.html', \n",
    "        include_plotlyjs='cdn')"
   ]
  },
  {
   "cell_type": "markdown",
   "id": "31d677a2-49f0-4289-893b-d74b06228a9f",
   "metadata": {},
   "source": [
    "### Calculating mean WPMs by test number:"
   ]
  },
  {
   "cell_type": "code",
   "execution_count": 32,
   "id": "c991afdc-9825-4d70-b5cc-7dd4f2f2ad53",
   "metadata": {
    "execution": {
     "iopub.execute_input": "2025-08-05T04:01:37.931889Z",
     "iopub.status.busy": "2025-08-05T04:01:37.931790Z",
     "iopub.status.idle": "2025-08-05T04:01:37.934147Z",
     "shell.execute_reply": "2025-08-05T04:01:37.933923Z",
     "shell.execute_reply.started": "2025-08-05T04:01:37.931879Z"
    }
   },
   "outputs": [],
   "source": [
    "if category == 'spv':\n",
    "    df_mean_wpm_by_within_session_test_number = df_tr.pivot_table(\n",
    "        index = 'Within_Session_Test_Number',\n",
    "                      values = ['WPM', 'Chronological test number'], \n",
    "                      aggfunc = {'WPM':'mean', \n",
    "                                 'Chronological test number':'count'}\n",
    "    ).reset_index().rename(\n",
    "        columns = {'Chronological test number':'Number of tests'})\n",
    "    df_mean_wpm_by_within_session_test_number"
   ]
  },
  {
   "cell_type": "code",
   "execution_count": 33,
   "id": "4112cf52-3f02-4f5c-8019-6ac792955bd9",
   "metadata": {
    "execution": {
     "iopub.execute_input": "2025-08-05T04:01:37.934616Z",
     "iopub.status.busy": "2025-08-05T04:01:37.934433Z",
     "iopub.status.idle": "2025-08-05T04:01:37.936904Z",
     "shell.execute_reply": "2025-08-05T04:01:37.936654Z",
     "shell.execute_reply.started": "2025-08-05T04:01:37.934607Z"
    }
   },
   "outputs": [],
   "source": [
    "if category == 'spv':\n",
    "    fig_mean_wpm_by_within_session_test_number = px.line(\n",
    "        df_mean_wpm_by_within_session_test_number,\n",
    "        x = 'Within_Session_Test_Number', y = 'WPM',\n",
    "        title = 'Mean WPM by Within-Session Test Number',\n",
    "        hover_data = 'Number of tests').update_layout(\n",
    "        xaxis_title = 'Within-session test number')\n",
    "    fig_mean_wpm_by_within_session_test_number.write_html(\n",
    "        f'{sp_visualizations_folder}/Mean_WPM_by_Within_\\\n",
    "Session_Test_Number.html', \n",
    "        include_plotlyjs='cdn')\n",
    "    #fig_mean_wpm_by_within_session_test_number"
   ]
  },
  {
   "cell_type": "code",
   "execution_count": 34,
   "id": "6b8b4a60-390d-4155-bdf0-86f2fbae0c45",
   "metadata": {
    "execution": {
     "iopub.execute_input": "2025-08-05T04:01:37.937314Z",
     "iopub.status.busy": "2025-08-05T04:01:37.937194Z",
     "iopub.status.idle": "2025-08-05T04:01:37.940008Z",
     "shell.execute_reply": "2025-08-05T04:01:37.939753Z",
     "shell.execute_reply.started": "2025-08-05T04:01:37.937304Z"
    }
   },
   "outputs": [],
   "source": [
    "if category == 'spv':\n",
    "    fig_wpm_by_session_num_comparison = px.line(df_tr.query(\n",
    "    \"Within_Session_Test_Number.notna()\"),\n",
    "            x = 'Within_Session_Test_Number', y = 'WPM',\n",
    "           color = 'Session number', title = \"WPM by Session Number and \\\n",
    "Within-Session Test Number\").update_traces(\n",
    "        mode = 'markers+lines').update_layout(showlegend = False,\n",
    "        xaxis_title = 'Within-session test number')\n",
    "    fig_wpm_by_session_num_comparison.write_html(\n",
    "        f'{sp_visualizations_folder}/WPM_by_Within_Session_\\\n",
    "Test_Number.html', \n",
    "        include_plotlyjs='cdn')\n",
    "    # fig_wpm_by_session_num_comparison"
   ]
  },
  {
   "cell_type": "markdown",
   "id": "ffdb7084-23f2-4e10-9f98-65a75ecd464e",
   "metadata": {},
   "source": [
    "### Accuracy analyses:"
   ]
  },
  {
   "cell_type": "code",
   "execution_count": 35,
   "id": "349cd44e-2401-4664-b76c-209e2ab3cc03",
   "metadata": {
    "execution": {
     "iopub.execute_input": "2025-08-05T04:01:37.940475Z",
     "iopub.status.busy": "2025-08-05T04:01:37.940314Z",
     "iopub.status.idle": "2025-08-05T04:01:37.942607Z",
     "shell.execute_reply": "2025-08-05T04:01:37.942350Z",
     "shell.execute_reply.started": "2025-08-05T04:01:37.940465Z"
    }
   },
   "outputs": [],
   "source": [
    "if category == 'spv':\n",
    "    df_wpm_by_error_rate = df_tr.pivot_table(\n",
    "        index = 'Error_and_Backspace_Rate', \n",
    "        values = 'WPM', aggfunc = 'mean').reset_index()"
   ]
  },
  {
   "cell_type": "markdown",
   "id": "57fe515d-6b14-425d-9f0b-206ee6219ad5",
   "metadata": {},
   "source": [
    "#### Assigning results to accuracy bins:\n",
    "\n",
    "(The `duplicates = drop` component prevents the code from raising an error if two or more bins have the same group (which can happen, for instance, if error-free races account for a large percentage of your overall races)."
   ]
  },
  {
   "cell_type": "code",
   "execution_count": 36,
   "id": "8f0c56db-d7d9-4ed1-8904-3391b5f588da",
   "metadata": {
    "execution": {
     "iopub.execute_input": "2025-08-05T04:01:37.943071Z",
     "iopub.status.busy": "2025-08-05T04:01:37.942883Z",
     "iopub.status.idle": "2025-08-05T04:01:37.945208Z",
     "shell.execute_reply": "2025-08-05T04:01:37.944974Z",
     "shell.execute_reply.started": "2025-08-05T04:01:37.943061Z"
    }
   },
   "outputs": [],
   "source": [
    "if category == 'spv':\n",
    "    df_tr['Error/backspace rate bin'] = pd.qcut(\n",
    "        df_tr['Error_and_Backspace_Rate'], 10, duplicates = 'drop').astype(\n",
    "    'str')\n",
    "    df_tr"
   ]
  },
  {
   "cell_type": "markdown",
   "id": "f8120ea0-101f-4629-8190-97440dcebda7",
   "metadata": {},
   "source": [
    "Calculating rolling WPM averages for each WPM category:\n",
    "\n",
    "(This code is based on yoav_aaa's StackOverflow response at https://stackoverflow.com/a/64150512/13097194 ).\n",
    "\n",
    "(Note that using DataFrameGroupBy (https://pandas.pydata.org/docs/dev/reference/api/pandas.core.groupby.DataFrameGroupBy.rolling.html) reorders the dataset and thus won't be an ideal method.)"
   ]
  },
  {
   "cell_type": "code",
   "execution_count": 37,
   "id": "40d3dc22-f7a2-4240-bef1-2962d1d2e12c",
   "metadata": {
    "execution": {
     "iopub.execute_input": "2025-08-05T04:01:37.945623Z",
     "iopub.status.busy": "2025-08-05T04:01:37.945478Z",
     "iopub.status.idle": "2025-08-05T04:01:37.947941Z",
     "shell.execute_reply": "2025-08-05T04:01:37.947675Z",
     "shell.execute_reply.started": "2025-08-05T04:01:37.945615Z"
    }
   },
   "outputs": [],
   "source": [
    "if category == 'spv':\n",
    "    df_tr['10-race rolling WPM for error/backspace \\\n",
    "rate bin'] = df_tr.groupby(\n",
    "    'Error/backspace rate bin')['WPM'].transform(\n",
    "    lambda wpm_within_error_bin: wpm_within_error_bin.rolling(10).mean())\n",
    "    df_tr\n",
    "\n",
    "    fig_rolling_wpm_by_error_rate = px.line(df_tr, x = 'Chronological test number',\n",
    "            y = '10-race rolling WPM for error/backspace rate bin', \n",
    "    color = 'Error/backspace rate bin',\n",
    "           title = 'Rolling 10-Race WPMs by Error + Backspace\\\n",
    "Rate Bin').update_layout(\n",
    "        yaxis_title = '10-race rolling WPM')\n",
    "    \n",
    "    fig_rolling_wpm_by_error_rate.write_html(\n",
    "    f'{sp_visualizations_folder}/Mean_Rolling_WPM_\\\n",
    "by_accuracy_bin.html', include_plotlyjs = 'cdn')"
   ]
  },
  {
   "cell_type": "code",
   "execution_count": 38,
   "id": "e1c3c2d5-fb35-4d46-a6a5-960f65c64ca4",
   "metadata": {
    "execution": {
     "iopub.execute_input": "2025-08-05T04:01:37.949776Z",
     "iopub.status.busy": "2025-08-05T04:01:37.949600Z",
     "iopub.status.idle": "2025-08-05T04:01:37.951953Z",
     "shell.execute_reply": "2025-08-05T04:01:37.951707Z",
     "shell.execute_reply.started": "2025-08-05T04:01:37.949766Z"
    }
   },
   "outputs": [],
   "source": [
    "if category == 'spv':\n",
    "    df_mean_wpm_by_accuracy_bin = df_tr.pivot_table(\n",
    "        index = 'Error/backspace rate bin',\n",
    "                      values = ['WPM', 'Chronological test number'], \n",
    "                      aggfunc = {'WPM':'mean', \n",
    "    'Chronological test number':'count'}).reset_index().rename(\n",
    "    columns = {'Chronological test number':'Number of races'})\n",
    "\n",
    "    fig_mean_wpm_by_error_rate = px.bar(\n",
    "    df_mean_wpm_by_accuracy_bin, x = 'Error/backspace rate bin',\n",
    "           y = 'WPM', hover_data = 'Number of races',\n",
    "           text_auto = '.2f',\n",
    "    title = 'Mean WPM by Accuracy Bin')\n",
    "    fig_mean_wpm_by_error_rate.write_html(\n",
    "    f'{sp_visualizations_folder}/Mean_WPM_by_accuracy_bin.html', \n",
    "    include_plotlyjs = 'cdn')"
   ]
  },
  {
   "cell_type": "markdown",
   "id": "27dc618f-5ce9-417d-b255-f973ba95d4c3",
   "metadata": {},
   "source": [
    "### Analyzing word-level results:"
   ]
  },
  {
   "cell_type": "code",
   "execution_count": 39,
   "id": "bbf6bfdf-f142-472d-9a17-1ec03bedd700",
   "metadata": {
    "execution": {
     "iopub.execute_input": "2025-08-05T04:01:37.952308Z",
     "iopub.status.busy": "2025-08-05T04:01:37.952217Z",
     "iopub.status.idle": "2025-08-05T04:01:37.956878Z",
     "shell.execute_reply": "2025-08-05T04:01:37.956630Z",
     "shell.execute_reply.started": "2025-08-05T04:01:37.952299Z"
    }
   },
   "outputs": [],
   "source": [
    "if category == 'spv':\n",
    "    df_wr = pd.read_csv('../Files/word_results.csv')\n",
    "    df_wr['Count'] = 1"
   ]
  },
  {
   "cell_type": "markdown",
   "id": "56742f2d-50b1-4eac-8519-3308f35306eb",
   "metadata": {
    "execution": {
     "iopub.execute_input": "2025-07-31T04:17:42.683484Z",
     "iopub.status.busy": "2025-07-31T04:17:42.683217Z",
     "iopub.status.idle": "2025-07-31T04:17:42.686638Z",
     "shell.execute_reply": "2025-07-31T04:17:42.686222Z",
     "shell.execute_reply.started": "2025-07-31T04:17:42.683470Z"
    }
   },
   "source": [
    "Creating a table of frequently-typed words by average WPM:"
   ]
  },
  {
   "cell_type": "code",
   "execution_count": 40,
   "id": "d86b118d-c8a6-4610-95cb-69962d1f8f70",
   "metadata": {
    "execution": {
     "iopub.execute_input": "2025-08-05T04:01:37.957350Z",
     "iopub.status.busy": "2025-08-05T04:01:37.957176Z",
     "iopub.status.idle": "2025-08-05T04:01:37.959241Z",
     "shell.execute_reply": "2025-08-05T04:01:37.959004Z",
     "shell.execute_reply.started": "2025-08-05T04:01:37.957341Z"
    }
   },
   "outputs": [],
   "source": [
    "if category == 'spv':\n",
    "    df_mean_wpm_by_word = df_wr.pivot_table(\n",
    "    index = 'Word', values = ['WPM', 'Count'],\n",
    "    aggfunc = {'WPM':'mean', 'Count':'count'}).reset_index()\n",
    "    words_to_remove = ['s']\n",
    "    df_mean_wpm_by_word.query(\"Count >= 10 & Word not in @words_to_remove\",\n",
    "                             inplace = True)\n",
    "    df_mean_wpm_by_word.sort_values('WPM', ascending = False, \n",
    "                                    inplace = True)\n",
    "    df_mean_wpm_by_word"
   ]
  },
  {
   "cell_type": "code",
   "execution_count": 41,
   "id": "8b87077b-95fd-4499-aaca-fe94a34d6ab8",
   "metadata": {
    "execution": {
     "iopub.execute_input": "2025-08-05T04:01:37.959751Z",
     "iopub.status.busy": "2025-08-05T04:01:37.959537Z",
     "iopub.status.idle": "2025-08-05T04:01:37.961633Z",
     "shell.execute_reply": "2025-08-05T04:01:37.961395Z",
     "shell.execute_reply.started": "2025-08-05T04:01:37.959742Z"
    }
   },
   "outputs": [],
   "source": [
    "if category == 'spv':\n",
    "    fig_highest_word_level_wpms = px.bar(df_mean_wpm_by_word.head(50), \n",
    "           x = 'Word', y = 'WPM', text_auto = '.2f',\n",
    "          hover_data = 'Count',\n",
    "          title = 'Highest word-level mean WPMs for words \\\n",
    "typed at least 10 times')\n",
    "    fig_highest_word_level_wpms.write_html(\n",
    "    f'{sp_visualizations_folder}/words_with_highest_wpms.html', \n",
    "    include_plotlyjs = 'cdn')"
   ]
  },
  {
   "cell_type": "code",
   "execution_count": 42,
   "id": "d3d71af4-4f79-49a7-961e-b0fd43505ff8",
   "metadata": {
    "execution": {
     "iopub.execute_input": "2025-08-05T04:01:37.962088Z",
     "iopub.status.busy": "2025-08-05T04:01:37.961980Z",
     "iopub.status.idle": "2025-08-05T04:01:37.964253Z",
     "shell.execute_reply": "2025-08-05T04:01:37.964024Z",
     "shell.execute_reply.started": "2025-08-05T04:01:37.962079Z"
    }
   },
   "outputs": [],
   "source": [
    "if category == 'spv':\n",
    "    fig_lowest_word_level_wpms = px.bar(df_mean_wpm_by_word.sort_values(\n",
    "    'WPM').head(50), x = 'Word', y = 'WPM', text_auto = '.2f',\n",
    "          hover_data = 'Count',\n",
    "          title = 'Lowest word-level mean WPMs for words typed at least 10 \\\n",
    "    times')\n",
    "    fig_lowest_word_level_wpms.write_html(\n",
    "    f'{sp_visualizations_folder}/words_with_lowest_wpms.html', \n",
    "    include_plotlyjs = 'cdn')"
   ]
  },
  {
   "cell_type": "code",
   "execution_count": 43,
   "id": "b8fefa7a-ab1d-43f6-b87b-39e7f58db24f",
   "metadata": {
    "execution": {
     "iopub.execute_input": "2025-08-05T04:01:37.964621Z",
     "iopub.status.busy": "2025-08-05T04:01:37.964531Z",
     "iopub.status.idle": "2025-08-05T04:01:37.966586Z",
     "shell.execute_reply": "2025-08-05T04:01:37.966369Z",
     "shell.execute_reply.started": "2025-08-05T04:01:37.964613Z"
    }
   },
   "outputs": [],
   "source": [
    "if category == 'spv':\n",
    "    end_time = time.time()\n",
    "    run_time = end_time - start_time\n",
    "    print(f\"Finished calculating and visualizing single-player stats in \\\n",
    "{round(run_time, 3)} seconds.\")"
   ]
  }
 ],
 "metadata": {
  "kernelspec": {
   "display_name": "Python 3 (ipykernel)",
   "language": "python",
   "name": "python3"
  },
  "language_info": {
   "codemirror_mode": {
    "name": "ipython",
    "version": 3
   },
   "file_extension": ".py",
   "mimetype": "text/x-python",
   "name": "python",
   "nbconvert_exporter": "python",
   "pygments_lexer": "ipython3",
   "version": "3.13.5"
  }
 },
 "nbformat": 4,
 "nbformat_minor": 5
}
