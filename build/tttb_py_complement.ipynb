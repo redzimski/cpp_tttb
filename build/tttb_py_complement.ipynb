{
 "cells": [
  {
   "cell_type": "markdown",
   "id": "b5bf87c7-8a88-4906-b508-73f525537baa",
   "metadata": {
    "execution": {
     "iopub.execute_input": "2025-08-05T03:08:00.602540Z",
     "iopub.status.busy": "2025-08-05T03:08:00.602293Z",
     "iopub.status.idle": "2025-08-05T03:08:00.605166Z",
     "shell.execute_reply": "2025-08-05T03:08:00.604811Z",
     "shell.execute_reply.started": "2025-08-05T03:08:00.602524Z"
    }
   },
   "source": [
    "# Python Complement to Type Through the Bible\n",
    "\n",
    "By Ken Burchfiel\n",
    "\n",
    "Released under the MIT License\n",
    "\n",
    "This script is a compilation of three scripts that were originally separate:\n",
    "\n",
    "1. A single-player results visualization script\n",
    "2. A multiplayer results visualization script\n",
    "3. A script for combining multiple multiplayer files into a single file\n",
    "\n",
    "I chose to combine them so that they could all use the same Pyinstaller content directory, thus greatly reducing TTTB's file size.\n",
    "\n",
    "This script takes two arguments: (1) a 'category' argument that specifies which of the three sets of code to run, and a 'second_arg' argument that allows the user to customize how two of these scripts will run."
   ]
  },
  {
   "cell_type": "code",
   "execution_count": 1,
   "id": "5a1f3941-508a-422f-920f-cb1c958cf57b",
   "metadata": {
    "execution": {
     "iopub.execute_input": "2025-08-23T04:14:47.224396Z",
     "iopub.status.busy": "2025-08-23T04:14:47.224268Z",
     "iopub.status.idle": "2025-08-23T04:14:47.593487Z",
     "shell.execute_reply": "2025-08-23T04:14:47.593084Z",
     "shell.execute_reply.started": "2025-08-23T04:14:47.224382Z"
    }
   },
   "outputs": [
    {
     "name": "stdout",
     "output_type": "stream",
     "text": [
      "Starting Python script. It may take a little while to run; please be patient.\n"
     ]
    }
   ],
   "source": [
    "import time\n",
    "start_time = time.time()\n",
    "print(\"Starting Python script. It may take a little while to run; please \\\n",
    "be patient.\")\n",
    "import os\n",
    "import subprocess\n",
    "import platform\n",
    "import pandas as pd\n",
    "import numpy as np\n",
    "import plotly.express as px\n",
    "pd.set_option('display.max_columns', 1000)\n",
    "\n",
    "# The following file paths are relative to the build folder.\n",
    "mp_results_folder = '../Files/Multiplayer/'\n",
    "mp_visualizations_folder = '../Visualizations/Multiplayer/'\n",
    "sp_visualizations_folder = '../Visualizations/Single_Player/'"
   ]
  },
  {
   "cell_type": "markdown",
   "id": "95722b94-d25b-41bf-9069-e17d067d8d09",
   "metadata": {},
   "source": [
    "Checking whether this script is running within a Jupyter notebook: \n",
    "\n",
    "(This will allow us to determine whether to specify our multiplayer filename via argparse (which will only work when the .py version of the file is being rurn) or via a notebook-specific argument).)\n",
    "\n",
    "This code is based on Gustavo Bezerra's answer at https://stackoverflow.com/a/39662359/13097194 ."
   ]
  },
  {
   "cell_type": "code",
   "execution_count": 2,
   "id": "84a8db58-aa60-4e20-a4af-e2b6f62ba7e0",
   "metadata": {
    "execution": {
     "iopub.execute_input": "2025-08-23T04:14:47.594220Z",
     "iopub.status.busy": "2025-08-23T04:14:47.593996Z",
     "iopub.status.idle": "2025-08-23T04:14:47.598845Z",
     "shell.execute_reply": "2025-08-23T04:14:47.598395Z",
     "shell.execute_reply.started": "2025-08-23T04:14:47.594207Z"
    }
   },
   "outputs": [
    {
     "data": {
      "text/plain": [
       "True"
      ]
     },
     "execution_count": 2,
     "metadata": {},
     "output_type": "execute_result"
    }
   ],
   "source": [
    "notebook_exec = False\n",
    "try:\n",
    "    get_ipython()\n",
    "    notebook_exec = True # Script is running within a notebook\n",
    "except:\n",
    "#     print(\"get_ipython() failed, so we'll assume that we're running \\\n",
    "# this script within a .py file.\")\n",
    "    pass\n",
    "\n",
    "notebook_exec\n",
    "    "
   ]
  },
  {
   "cell_type": "code",
   "execution_count": 3,
   "id": "228430f5-05e0-454b-bc63-beaf80c3703f",
   "metadata": {
    "execution": {
     "iopub.execute_input": "2025-08-23T04:14:47.600124Z",
     "iopub.status.busy": "2025-08-23T04:14:47.599951Z",
     "iopub.status.idle": "2025-08-23T04:14:47.606766Z",
     "shell.execute_reply": "2025-08-23T04:14:47.606406Z",
     "shell.execute_reply.started": "2025-08-23T04:14:47.600110Z"
    }
   },
   "outputs": [
    {
     "data": {
      "text/plain": [
       "('mpv', 'y')"
      ]
     },
     "execution_count": 3,
     "metadata": {},
     "output_type": "execute_result"
    }
   ],
   "source": [
    "if notebook_exec == False:\n",
    "    # The following code was based on\n",
    "    # https://docs.python.org/3/howto/argparse.html#argparse-tutorial\n",
    "    # and # https://docs.python.org/3/library/argparse.html .\n",
    "    import argparse\n",
    "    parser = argparse.ArgumentParser()\n",
    "    parser.add_argument(\"category\")\n",
    "    # This argument can be 'spv' (for single-player visualizations);\n",
    "    # 'mpv' (for multiplayer visualizations); or 'mpfc' (for the\n",
    "    # multiplayer result file combiner script).\n",
    "    # The following argument name will be kept generic\n",
    "    # because it will have different meanings for\n",
    "    # different categories.\n",
    "    parser.add_argument(\"second_arg\")\n",
    "    args = parser.parse_args()\n",
    "    category = args.category\n",
    "    second_arg = args.second_arg\n",
    "else:\n",
    "    category = 'spv'\n",
    "    second_arg = 'y'\n",
    "\n",
    "category, second_arg"
   ]
  },
  {
   "cell_type": "code",
   "execution_count": 4,
   "id": "abe521b1-4268-41d1-aa39-4c8c11c38d90",
   "metadata": {
    "execution": {
     "iopub.execute_input": "2025-08-23T04:14:47.607706Z",
     "iopub.status.busy": "2025-08-23T04:14:47.607303Z",
     "iopub.status.idle": "2025-08-23T04:14:47.609548Z",
     "shell.execute_reply": "2025-08-23T04:14:47.609236Z",
     "shell.execute_reply.started": "2025-08-23T04:14:47.607690Z"
    }
   },
   "outputs": [],
   "source": [
    "## Assigning more intuitive names to this second argument for \n",
    "# the two categories that will make use of it:\n",
    "\n",
    "if category == 'mpv':\n",
    "    test_results_timestamp = second_arg\n",
    "elif category == 'mpfc':\n",
    "    verse_ids = second_arg"
   ]
  },
  {
   "cell_type": "markdown",
   "id": "f6c77b5e-2a2d-4d42-90cb-966581c49dd1",
   "metadata": {},
   "source": [
    "## Running one or two of these three scripts (depending on which category argument was passed)\n",
    "\n",
    "(Note: the purpose of adding multiple if statements for each category is to make each script easier to debug as a Jupyter Notebook.)\n",
    "\n",
    "(If the multiplayer file combiner script is requested, the multiplayer visualizations script will get run immediately after. In all other cases, only one of these three scripts will get run.)"
   ]
  },
  {
   "cell_type": "markdown",
   "id": "bc05eaa8-8788-4513-a2e8-e2c2cf4d7e69",
   "metadata": {},
   "source": [
    "## Multiplayer file combiner script\n",
    "\n",
    "(This script makes it easier to allow multiple players to compete in a multiplayer Type Through the Bible Game simultaneously on different computers. Here's how they can do so:\n",
    "\n",
    "1. After individual players finish their tests, either within a one-player multiplayer game or within the main single-player game, they should transfer their results to a central folder.\n",
    "2. Next, one player should copy or move all *test-result files* (e.g. not *word-result files*) into the MP_Test_Result_Files_To_Combine folder, located within the Files/ directory. That player should then run this script in order to combine those files into a single results file that can then be analyzed like any other multiplayer file.\n",
    "\n",
    "This file can handle the following input data:\n",
    "\n",
    "1. Multiplayer files with just one player\n",
    "3. Multiplayer files with multiple players (which will be handy if two or more players need to share a laptop)\n",
    "4. Single-player files. (I recommend making the number of tests divisible by 10, since that way, players can simply copy their autosave data into the central folder.)\n",
    "\n",
    "In addition, files *with* and *without* headers are compatible with this script.\n",
    "\n",
    "This script can also handle cases in which two or more players have the same name, provided that they are not in the same multiplayer file. It will do so by appending a distinct suffix to all but one of these files.\n",
    "\n",
    "**Important: if a player has not completed all of the tests specified by the first_verse_id and last_verse_id arguments, he/she will be excluded from the combined file!**"
   ]
  },
  {
   "cell_type": "code",
   "execution_count": 5,
   "id": "4a181956-8557-48a2-92ea-37cf4d5df69c",
   "metadata": {
    "execution": {
     "iopub.execute_input": "2025-08-23T04:14:47.610280Z",
     "iopub.status.busy": "2025-08-23T04:14:47.610029Z",
     "iopub.status.idle": "2025-08-23T04:14:47.612871Z",
     "shell.execute_reply": "2025-08-23T04:14:47.612598Z",
     "shell.execute_reply.started": "2025-08-23T04:14:47.610262Z"
    }
   },
   "outputs": [],
   "source": [
    "if category == 'mpfc':    \n",
    "    print(\"Combining multiplayer files together.\")\n",
    "    if verse_ids in ['y', 'Y']: # In this case, we'll examine a particular\n",
    "        # player's results to determine which verse IDs\n",
    "        # to use.\n",
    "        detect_verses_from_first_player = True\n",
    "    else:\n",
    "        detect_verses_from_first_player = False\n",
    "        first_verse_id = int(verse_ids.split('_')[0])\n",
    "        last_verse_id = int(verse_ids.split('_')[1])\n",
    "        unique_verse_count = last_verse_id - first_verse_id + 1\n",
    "\n",
    "    mp_test_result_folder_path = '../Files/MP_Test_Result_Files_To_Combine/'\n",
    "    mp_test_result_files = os.listdir(mp_test_result_folder_path)\n",
    "    mp_test_result_files.sort()"
   ]
  },
  {
   "cell_type": "code",
   "execution_count": 6,
   "id": "ad231975-94ae-49db-bb35-935bc47017d2",
   "metadata": {
    "execution": {
     "iopub.execute_input": "2025-08-23T04:14:47.613403Z",
     "iopub.status.busy": "2025-08-23T04:14:47.613206Z",
     "iopub.status.idle": "2025-08-23T04:14:47.615489Z",
     "shell.execute_reply": "2025-08-23T04:14:47.615215Z",
     "shell.execute_reply.started": "2025-08-23T04:14:47.613393Z"
    }
   },
   "outputs": [],
   "source": [
    "if category == 'mpfc':\n",
    "    mp_test_result_headers = ['Test_Number', 'Session_Number', \n",
    "'Within_Session_Test_Number', \n",
    "'Unix_Test_Start_Time', 'Local_Test_Start_Time', 'Unix_Test_End_Time', \n",
    "'Local_Test_End_Time', 'Verse_ID', 'Verse_Code', 'Verse', 'Characters', \n",
    "'WPM', 'Test_Seconds', 'Error_Rate', 'Error_and_Backspace_Rate', \n",
    "'Marathon_Mode', 'Player', 'Mode', 'Tag_1', 'Tag_2', 'Tag_3', 'Notes']"
   ]
  },
  {
   "cell_type": "code",
   "execution_count": 7,
   "id": "1c642b0e-9a26-4b8c-9093-4902736a7afc",
   "metadata": {
    "execution": {
     "iopub.execute_input": "2025-08-23T04:14:47.616031Z",
     "iopub.status.busy": "2025-08-23T04:14:47.615911Z",
     "iopub.status.idle": "2025-08-23T04:14:47.622287Z",
     "shell.execute_reply": "2025-08-23T04:14:47.621917Z",
     "shell.execute_reply.started": "2025-08-23T04:14:47.616020Z"
    }
   },
   "outputs": [],
   "source": [
    "if category == 'mpfc':\n",
    "    player_count = 1 # This list will help us assign unique initial codes\n",
    "    # to each player's name, thus helping distinguish multiple players\n",
    "    # who happen to have the same name (as long as those duplicate names\n",
    "    # aren't contained in the same source file).\n",
    "    \n",
    "    df_result_list = [] # Creating a list of DataFrames, one for each\n",
    "    # file, that will ultimately get converted into a single DataFrame\n",
    "    \n",
    "    # Processing each file within mp_test_result_folder_path:\n",
    "    for filename in mp_test_result_files:\n",
    "        # Reading in the first row of the DataFrame in order to check whether\n",
    "        # this file contains headers or not:\n",
    "        df_first_row = pd.read_csv(\n",
    "            mp_test_result_folder_path + filename,\n",
    "            header = None, nrows = 1)\n",
    "    # Setting the header parameter to None ensures that the first row of the\n",
    "    # .csv file, whether it contains headers or data, will get treated as\n",
    "    # a row of data (thus making it easier to check what values it contains).\n",
    "        if df_first_row.iloc[0, 0] == 'Test_Number': # This indicates that \n",
    "    # the file does contain headers; thus, we should make the 'names' argument\n",
    "    # for our upcoming read_csv call None so that read_csv() will convert\n",
    "    # the first row of the .csv file into the DataFrame's header row.\n",
    "            names_arg = None\n",
    "        else: # This indicates that the file does not contain headers. \n",
    "            # Therefore, we'll need to pass the headers stored in \n",
    "            # mp_test_result_headers to the 'header' argument so that they can \n",
    "            # be used as header values.\n",
    "            names_arg = mp_test_result_headers\n",
    "        \n",
    "        \n",
    "        # Now that we know what headers to use within our read_csv call,\n",
    "        # we can import the entire dataset:\n",
    "        \n",
    "        df = pd.read_csv(mp_test_result_folder_path + filename,\n",
    "                        names = names_arg)\n",
    "    \n",
    "        # Seeing which players are present in the file:\n",
    "        player_list = df['Player'].unique()\n",
    "        player_list.sort()\n",
    "    \n",
    "        if detect_verses_from_first_player == True:\n",
    "            # In this case, the first and last verses typed by the\n",
    "            # first player within the first file will be used as \n",
    "            # the set of reference verses for all other players.\n",
    "            # (If this player's verses are incorrect, you can either\n",
    "            # specify the verses to use within the arguments to this\n",
    "            # script *or* make another file whose first player (in \n",
    "            # alphabetical terms) typed the correct set of verses.)\n",
    "            print(\"player_list:\",player_list)\n",
    "            player_verses = df.query(\n",
    "                f\"Player == '{player_list[0]}'\").copy()[\n",
    "            'Verse_ID'].unique()\n",
    "            player_verses.sort()\n",
    "            first_verse_id = player_verses[0]\n",
    "            last_verse_id = player_verses[-1]\n",
    "            unique_verse_count = last_verse_id - first_verse_id + 1\n",
    "            print(f\"{first_verse_id} and {last_verse_id} will be used as \\\n",
    "the starting and ending verse IDs, respectively. These IDs are based \\\n",
    "on the verses typed by {player_list[0]} within {filename}.\")\n",
    "            detect_verses_from_first_player = False # Now that we've \n",
    "            # retrieved the verse IDs we need, we can set this flag to False.\n",
    "            \n",
    "        \n",
    "        # Filtering the DataFrame to only include tests that fall within\n",
    "        # the first_verse_id and last_verse_id bounds defined earlier:\n",
    "    \n",
    "        df.query(\"Verse_ID >= @first_verse_id & Verse_ID <= @last_verse_id\",\n",
    "                inplace = True)\n",
    "    \n",
    "        # Checking whether each player completed the range of tests\n",
    "        # that starts at first_verse_id and ends at last_verse_id:\n",
    "        # (Any player that did not complete all of these tests will be \n",
    "        # removed from the combined file.)\n",
    "        for player in df['Player'].unique():\n",
    "            if len(df.query(\"Player == @player\")['Verse_ID'].unique()\n",
    "    ) != unique_verse_count:\n",
    "                print(f\"{player} within {filename} did not complete all of \\\n",
    "the tests between {first_verse_id} and {last_verse_id}; thus, this player \\\n",
    "will be excluded from the combined dataset.\")\n",
    "                df.query(\"Player != @player\", inplace = True)\n",
    "                   \n",
    "        \n",
    "        # Making sure the tests are sorted in chronological order:\n",
    "        # (We'll use Unix time here to prevent time zone differences from\n",
    "        # affecting this sort.)\n",
    "        df = df.sort_values(\n",
    "            'Unix_Test_Start_Time').reset_index(drop=True).copy()\n",
    "        \n",
    "    \n",
    "        # Adding numerical prefixes to each player's name in order to help \n",
    "        # differentiate between two players who happen to have the same name:\n",
    "        for player in player_list:\n",
    "            df['Player'] = df['Player'].replace(\n",
    "                {player:str(player_count)+'_'+str(player)}).copy()\n",
    "            player_count += 1\n",
    "        \n",
    "        # Replacing existing Tag_1 and Tag_2 values with \n",
    "        # a standardized set of values:\n",
    "        # (This step is necessary because single-player files will likely have \n",
    "        # different tag values than multiplayer ones.)\n",
    "        # As a reminder, tags 1, 2, and 3 normally refer to rounds,\n",
    "        # tests within rounds, and player-specific test numbers, respectively.\n",
    "        \n",
    "        df['Tag_1'] = 1 # We'll treat this multiplayer game as having just one\n",
    "        # round (which would be the case for any players who completed these\n",
    "        # tests on their own)\n",
    "        \n",
    "        df['Tag_3'] = df.groupby('Player')['WPM'].transform('cumcount') + 1\n",
    "        \n",
    "        # Because this game has only one round, tags 2 and 3 will have the \n",
    "        # same value.\n",
    "        \n",
    "        df['Tag_2'] = df['Tag_3'].copy()\n",
    "        # Storing the original filename within the 'Notes' field:\n",
    "        df['Notes'] = filename\n",
    "    \n",
    "        \n",
    "        df_result_list.append(df)\n",
    "    \n",
    "    # Combining all of these results into a single DataFrame:\n",
    "    df_combined = pd.concat([df for df in df_result_list])\n",
    "    # Sorting the tests by chronological order so that we can assign\n",
    "    # accurate Test_Number and Within_Session_Test_Number values:\n",
    "    \n",
    "    df_combined = df_combined.sort_values(\n",
    "        'Unix_Test_Start_Time').reset_index(drop=True).copy()\n",
    "    # We'll treat all of the races as occurring within the same session.\n",
    "    for column in ['Test_Number', 'Within_Session_Test_Number']:\n",
    "        df_combined[column] = df_combined.index + 1\n",
    "    df_combined['Session_Number'] = 1 # This too will be made uniform \n",
    "    # across all races.\n",
    "    df_combined\n"
   ]
  },
  {
   "cell_type": "markdown",
   "id": "302d4935-7127-4193-9f4c-aebf824e1fb6",
   "metadata": {},
   "source": [
    "### Saving this combined file to the Multiplayer test results folder:\n",
    "(This filename will consist of a condensed version of the earliest\n",
    "timestamp, followed by a 'CMR' string (which stands for 'combined\n",
    "multiplayer results), followed by tthe regular '_test_results.csv'\n",
    "suffix for test result files.)"
   ]
  },
  {
   "cell_type": "code",
   "execution_count": 8,
   "id": "d66a127c-4069-427f-9263-fbcc65ff9a8a",
   "metadata": {
    "execution": {
     "iopub.execute_input": "2025-08-23T04:14:47.622935Z",
     "iopub.status.busy": "2025-08-23T04:14:47.622802Z",
     "iopub.status.idle": "2025-08-23T04:14:47.625580Z",
     "shell.execute_reply": "2025-08-23T04:14:47.625283Z",
     "shell.execute_reply.started": "2025-08-23T04:14:47.622923Z"
    }
   },
   "outputs": [],
   "source": [
    "if category == 'mpfc':\n",
    "    df_combined_file_timestamp = df_combined.iloc[0]['Local_Test_Start_Time'][\n",
    "    0:19].replace('-', '').replace(':','') # This timestamp will also \n",
    "    # get used as the argument for an upcoming run of the multiplayer \n",
    "    # visualizations script.\n",
    "    df_combined_filename = df_combined_file_timestamp + '_CMR_test_results.csv'\n",
    "    df_combined_filename"
   ]
  },
  {
   "cell_type": "code",
   "execution_count": 9,
   "id": "7beb7e63-3491-45ff-8cec-44d53add7b9a",
   "metadata": {
    "execution": {
     "iopub.execute_input": "2025-08-23T04:14:47.626133Z",
     "iopub.status.busy": "2025-08-23T04:14:47.626023Z",
     "iopub.status.idle": "2025-08-23T04:14:47.628762Z",
     "shell.execute_reply": "2025-08-23T04:14:47.628395Z",
     "shell.execute_reply.started": "2025-08-23T04:14:47.626123Z"
    }
   },
   "outputs": [],
   "source": [
    "if category == 'mpfc':\n",
    "    df_combined.to_csv('../Files/Multiplayer/'+df_combined_filename,\n",
    "                  index = False)"
   ]
  },
  {
   "cell_type": "code",
   "execution_count": 10,
   "id": "2e9ee170-547c-4d89-96e1-e32552247acb",
   "metadata": {
    "execution": {
     "iopub.execute_input": "2025-08-23T04:14:47.629416Z",
     "iopub.status.busy": "2025-08-23T04:14:47.629171Z",
     "iopub.status.idle": "2025-08-23T04:14:47.631709Z",
     "shell.execute_reply": "2025-08-23T04:14:47.631309Z",
     "shell.execute_reply.started": "2025-08-23T04:14:47.629405Z"
    }
   },
   "outputs": [],
   "source": [
    "if category == 'mpfc':\n",
    "    print(f\"Finished combining multiplayer files into a single file.\\nThis \\\n",
    "file is available at ../Files/Multiplayer/{df_combined_filename}.\")\n",
    "    # Now that we've created this file, we'll also want to analyze it using\n",
    "    # the multiplayer visualizations script defined below. The following\n",
    "    # code changes our category and second argument strings to facilitate this.\n",
    "\n",
    "    category = 'mpv'\n",
    "    test_results_timestamp = 'y' # This argument, when applied to the multiplayer\n",
    "    # visualizations file, will analyze the most recently modified multiplayer\n",
    "    # data. Since this will almost certainly be the test results file we just created,\n",
    "    # this argument should work fine for our needs."
   ]
  },
  {
   "cell_type": "markdown",
   "id": "0198eed3-4f03-4b90-b99a-648470499036",
   "metadata": {},
   "source": [
    "## Multiplayer visualizations script"
   ]
  },
  {
   "cell_type": "code",
   "execution_count": 11,
   "id": "c7a34875-7f3c-4b7b-b33d-3610f24ff751",
   "metadata": {
    "execution": {
     "iopub.execute_input": "2025-08-23T04:14:47.632694Z",
     "iopub.status.busy": "2025-08-23T04:14:47.632318Z",
     "iopub.status.idle": "2025-08-23T04:14:47.641104Z",
     "shell.execute_reply": "2025-08-23T04:14:47.640723Z",
     "shell.execute_reply.started": "2025-08-23T04:14:47.632675Z"
    }
   },
   "outputs": [
    {
     "name": "stdout",
     "output_type": "stream",
     "text": [
      "Analyzing multiplayer data.\n",
      "Analyzing results within 20250725T130325_CMR_test_results.csv.\n"
     ]
    }
   ],
   "source": [
    "if category == 'mpv':\n",
    "    print(\"Analyzing multiplayer data.\")\n",
    "    if (test_results_timestamp in ['y', 'Y']): # In this case, the \n",
    "        # most recently modified file (presumably one that was just created, \n",
    "        # in fact) will be analyzed.\n",
    "        mp_file_list = [(file, os.path.getmtime(\n",
    "        mp_results_folder+file)) for file in os.listdir(\n",
    "        mp_results_folder) if 'test_results' in file]\n",
    "        # The following code, which sorts files by their modification date \n",
    "        # (in ascending order), is based on an example found at\n",
    "        # https://docs.python.org/3/howto/sorting.html#key-functions\n",
    "        mp_file_list = sorted(\n",
    "            mp_file_list, key = lambda file_pair: file_pair[1]).copy()\n",
    "        test_results_file = mp_file_list[-1][0]\n",
    "    else: # In this case, the argument will be interpreted as a timestamp,\n",
    "        # and the first file in a list of all files that contain this timestamp\n",
    "        # will be analyzed.\n",
    "        # Determining the multiplayer test_results.csv file whose timestamp \n",
    "        # matches our test_results_timestamp string:\n",
    "        # (There *should* only be one such timestamp, but just in case two \n",
    "        # or more share this timestamp--which is extremely improbable--only \n",
    "        # one will be retained. If you do happen to have two or more files \n",
    "        # with the same timestamp, temporarily move all but the one you wish \n",
    "        # to analyze out of the Files/Multiplayer/ folder.)\n",
    "        test_results_file = [file for file in os.listdir(mp_results_folder) if \n",
    "        (test_results_timestamp in file) & ('test_results' in file)][0]\n",
    "        \n",
    "        # Creating a shortened version of this string that doesn't have\n",
    "        # the 'test_results.csv' component at the end: \n",
    "        # (This shortened version will serve as the initial component\n",
    "        # of our visualization filenames.)\n",
    "    test_results_name = test_results_file[:-17]\n",
    "    test_results_file, test_results_name\n",
    "    print(f\"Analyzing results within {test_results_file}.\")\n",
    "    df = pd.read_csv(mp_results_folder+test_results_file)"
   ]
  },
  {
   "cell_type": "code",
   "execution_count": 12,
   "id": "d8ac4b35-104d-4a2a-9f0c-7ab1ab5a4c44",
   "metadata": {
    "execution": {
     "iopub.execute_input": "2025-08-23T04:14:47.643071Z",
     "iopub.status.busy": "2025-08-23T04:14:47.642759Z",
     "iopub.status.idle": "2025-08-23T04:14:47.650931Z",
     "shell.execute_reply": "2025-08-23T04:14:47.650550Z",
     "shell.execute_reply.started": "2025-08-23T04:14:47.643056Z"
    }
   },
   "outputs": [],
   "source": [
    "if category == 'mpv':\n",
    "    # Replacing the tag column names with their actual multiplayer-mode\n",
    "    # meanings:\n",
    "    df.rename(columns = {'Tag_1':'Round','Tag_2':'Test within round',\n",
    "                        'Tag_3':'Player test number',\n",
    "                        'Within_Session_Test_Number':\n",
    "                        'Game test number'}, inplace = True)\n",
    "    # Making sure that the results are stored in the order that they were\n",
    "    # typed:\n",
    "    df.sort_values('Game test number', inplace = True)\n",
    "    \n",
    "    # Calculating cumulative WPM values:\n",
    "    df['Cumulative WPM'] = (df.groupby('Player')['WPM'].transform(\n",
    "    'cumsum')) / df['Player test number']\n",
    "    \n",
    "    df['Best_WPM_for_Test'] = df.groupby(\n",
    "        'Player test number')['WPM'].transform('max')\n",
    "    df['Player had best WPM for this test'] = np.where(\n",
    "        df['WPM'] == df['Best_WPM_for_Test'], 1, 0)"
   ]
  },
  {
   "cell_type": "markdown",
   "id": "185c6c8f-94e7-4fb8-8fdb-046de489cfe4",
   "metadata": {},
   "source": [
    "Creating a melted verison of this DataFrame that stores both cumulative and test-specific WPM values within the same column:\n",
    "\n",
    "(This will make it easier to produce a graph that uses different line dash types to differentiate between cumulative and test-specific WPM values.)"
   ]
  },
  {
   "cell_type": "code",
   "execution_count": 13,
   "id": "cfafa187-a5c6-4ffc-bcb5-ed6bc119bb03",
   "metadata": {
    "execution": {
     "iopub.execute_input": "2025-08-23T04:14:47.651422Z",
     "iopub.status.busy": "2025-08-23T04:14:47.651294Z",
     "iopub.status.idle": "2025-08-23T04:14:47.838301Z",
     "shell.execute_reply": "2025-08-23T04:14:47.837946Z",
     "shell.execute_reply.started": "2025-08-23T04:14:47.651410Z"
    }
   },
   "outputs": [
    {
     "name": "stdout",
     "output_type": "stream",
     "text": [
      "Creating visualizations.\n"
     ]
    }
   ],
   "source": [
    "if category == 'mpv':\n",
    "    df_wpm_type_melt = df.melt(id_vars = ['Player', 'Player test number'],\n",
    "    value_vars = ['WPM', 'Cumulative WPM'],\n",
    "    var_name = 'WPM Type',\n",
    "    value_name = 'Words per minute').rename(\n",
    "        columns = {'Words per minute':'WPM'}) # This column couldn't be \n",
    "    # initialized as WPM because a column with that name was already present \n",
    "    # within df.\n",
    "    df_wpm_type_melt['WPM Type'] = df_wpm_type_melt['WPM Type'].replace(\n",
    "    {'WPM':'Test WPM'})\n",
    "    \n",
    "    print(\"Creating visualizations.\")\n",
    "    fig_wpm_by_player = px.line(df_wpm_type_melt, \n",
    "x = 'Player test number', y = 'WPM',\n",
    "        color = 'Player', line_dash = 'WPM Type',\n",
    "       title = 'WPM By Player and Test',\n",
    "        color_discrete_sequence = px.colors.qualitative.Alphabet)\n",
    "    fig_wpm_by_player.write_html(\n",
    "    f'{mp_visualizations_folder}{test_results_name}_mean_WPM_by_\\\n",
    "player_and_test.html',\n",
    "    include_plotlyjs = 'cdn')\n",
    "    # Note: 'Alphabet' is used here so that up to 26 distinct colors can be\n",
    "    # shown within the chart (which will prove useful for multiplayer rounds\n",
    "    # with larger player counts).\n",
    "    # fig_wpm_by_player"
   ]
  },
  {
   "cell_type": "markdown",
   "id": "1978906b-a82b-4a89-9767-1d09b8f635db",
   "metadata": {},
   "source": [
    "Calculating mean WPM by player and round as well as overall WPM:"
   ]
  },
  {
   "cell_type": "code",
   "execution_count": 14,
   "id": "6e925bcd-0c38-4f86-94ad-3d856e236b1c",
   "metadata": {
    "execution": {
     "iopub.execute_input": "2025-08-23T04:14:47.839102Z",
     "iopub.status.busy": "2025-08-23T04:14:47.838760Z",
     "iopub.status.idle": "2025-08-23T04:14:47.905876Z",
     "shell.execute_reply": "2025-08-23T04:14:47.905437Z",
     "shell.execute_reply.started": "2025-08-23T04:14:47.839088Z"
    }
   },
   "outputs": [],
   "source": [
    "if category == 'mpv':\n",
    "    df_mean_wpm_by_player_and_round = df.pivot_table(\n",
    "    index = ['Player', 'Round'], values = 'WPM', \n",
    "                   aggfunc = 'mean').reset_index()\n",
    "    \n",
    "    # Adding overall WPM for each player to the bottom of this DataFrame:\n",
    "    \n",
    "    df_mean_wpm_by_player = df.pivot_table(\n",
    "    index = 'Player', values = 'WPM', \n",
    "                   aggfunc = 'mean').reset_index()\n",
    "    df_mean_wpm_by_player['Round'] = 'Overall'\n",
    "    \n",
    "    df_mean_wpm_by_player_and_round = pd.concat([\n",
    "        df_mean_wpm_by_player_and_round, \n",
    "        df_mean_wpm_by_player]).reset_index(\n",
    "        drop=True)\n",
    "    # Ensuring that all Round values are strings: (I found that, without\n",
    "    # this update, the Overall rows would not appear within the figure\n",
    "    # that we're about to create.)\n",
    "    df_mean_wpm_by_player_and_round['Round'] = (\n",
    "        df_mean_wpm_by_player_and_round['Round'].astype('str'))\n",
    "    df_mean_wpm_by_player_and_round\n",
    "\n",
    "    # Calculating players' overall ranks:\n",
    "    df_overall_ranks = df_mean_wpm_by_player_and_round.query(\n",
    "    \"Round == 'Overall'\").copy().sort_values(\n",
    "    'WPM', ascending = False).reset_index(drop=True)\n",
    "    df_overall_ranks['Overall rank'] = df_overall_ranks.index + 1\n",
    "    df_overall_ranks\n",
    "\n",
    "    df_mean_wpm_by_player_and_round = df_mean_wpm_by_player_and_round.merge(\n",
    "    df_overall_ranks[['Player', 'Overall rank']], \n",
    "    on = 'Player', how = 'left')\n",
    "    df_mean_wpm_by_player_and_round\n",
    "\n",
    "    fig_mean_wpm_by_player_and_round = px.bar(\n",
    "        df_mean_wpm_by_player_and_round.sort_values(\n",
    "    'Overall rank', ascending = True), x = 'Round', \n",
    "           y = 'WPM', color = 'Player', barmode = 'group',\n",
    "        color_discrete_sequence = px.colors.qualitative.Alphabet,\n",
    "        title = 'Mean WPM by Player and Round',\n",
    "          text_auto = '.0f', hover_data = 'Overall rank')\n",
    "    fig_mean_wpm_by_player_and_round.write_html(\n",
    "        f'{mp_visualizations_folder}{test_results_name}_mean_WPM_\\\n",
    "by_player_and_round.html',\n",
    "        include_plotlyjs = 'cdn')\n",
    "    # fig_mean_wpm_by_player_and_round"
   ]
  },
  {
   "cell_type": "code",
   "execution_count": 15,
   "id": "4b957927-6241-488f-8b65-8bb77e2ff9f2",
   "metadata": {
    "execution": {
     "iopub.execute_input": "2025-08-23T04:14:47.906595Z",
     "iopub.status.busy": "2025-08-23T04:14:47.906389Z",
     "iopub.status.idle": "2025-08-23T04:14:47.964790Z",
     "shell.execute_reply": "2025-08-23T04:14:47.964377Z",
     "shell.execute_reply.started": "2025-08-23T04:14:47.906580Z"
    }
   },
   "outputs": [],
   "source": [
    "if category == 'mpv':\n",
    "    df_wins = df.pivot_table(index = 'Player', values = 'Player had best \\\n",
    "WPM for this test', aggfunc = 'sum').reset_index()\n",
    "    df_wins.sort_values('Player had best WPM for this test', ascending = False,\n",
    "                       inplace = True)\n",
    "    df_wins\n",
    "\n",
    "    fig_wins = px.bar(df_wins, x = 'Player', \n",
    "           y = 'Player had best WPM for this test',\n",
    "          title = 'Number of Tests in Which Each Player \\\n",
    "Had the Highest WPM', text_auto = '.0f',\n",
    "                     color = 'Player', \n",
    "    color_discrete_sequence=px.colors.qualitative.Alphabet).update_layout(\n",
    "    yaxis_title = 'Wins')\n",
    "    fig_wins.write_html(f'{mp_visualizations_folder}{test_results_name}_\\\n",
    "wins_by_player.html', include_plotlyjs = 'cdn')\n",
    "    # fig_wins"
   ]
  },
  {
   "cell_type": "code",
   "execution_count": 16,
   "id": "be92f1d9-8770-46f1-b083-de875a56a48a",
   "metadata": {
    "execution": {
     "iopub.execute_input": "2025-08-23T04:14:47.965529Z",
     "iopub.status.busy": "2025-08-23T04:14:47.965306Z",
     "iopub.status.idle": "2025-08-23T04:14:48.023465Z",
     "shell.execute_reply": "2025-08-23T04:14:48.022737Z",
     "shell.execute_reply.started": "2025-08-23T04:14:47.965514Z"
    }
   },
   "outputs": [],
   "source": [
    "if category == 'mpv':\n",
    "    df_highest_wpm = df.pivot_table(index = 'Player', values = 'WPM', \n",
    "                                aggfunc = 'max').reset_index()\n",
    "    df_highest_wpm.sort_values('WPM', ascending = False, inplace = True)\n",
    "    df_highest_wpm\n",
    "\n",
    "    fig_highest_wpm = px.bar(df_highest_wpm, x = 'Player', \n",
    "       y = 'WPM',\n",
    "      title = 'Highest WPM by Player', text_auto = '.3f',\n",
    "                 color = 'Player', \n",
    "                 color_discrete_sequence = \n",
    "    px.colors.qualitative.Alphabet)\n",
    "    fig_highest_wpm.write_html(\n",
    "        f'{mp_visualizations_folder}{test_results_name}_\\\n",
    "highest_WPM_by_player.html', include_plotlyjs = 'cdn')\n",
    "    # fig_highest_wpm"
   ]
  },
  {
   "cell_type": "code",
   "execution_count": 17,
   "id": "69d43cb8-577a-4c6b-ac48-a7492c2e4620",
   "metadata": {
    "execution": {
     "iopub.execute_input": "2025-08-23T04:14:48.024309Z",
     "iopub.status.busy": "2025-08-23T04:14:48.024105Z",
     "iopub.status.idle": "2025-08-23T04:14:48.027368Z",
     "shell.execute_reply": "2025-08-23T04:14:48.026919Z",
     "shell.execute_reply.started": "2025-08-23T04:14:48.024287Z"
    }
   },
   "outputs": [
    {
     "name": "stdout",
     "output_type": "stream",
     "text": [
      "Finished calculating and visualizing multiplayer stats in 0.8 seconds.\n"
     ]
    }
   ],
   "source": [
    "if category == 'mpv':\n",
    "    end_time = time.time()\n",
    "    run_time = end_time - start_time\n",
    "    print(f\"Finished calculating and visualizing multiplayer stats in \\\n",
    "{round(run_time, 3)} seconds.\")"
   ]
  },
  {
   "cell_type": "markdown",
   "id": "922f542f-9a28-4e6a-bbc5-f75f3dba2b35",
   "metadata": {
    "execution": {
     "iopub.execute_input": "2025-07-16T01:29:37.894752Z",
     "iopub.status.busy": "2025-07-16T01:29:37.894150Z",
     "iopub.status.idle": "2025-07-16T01:29:37.901518Z",
     "shell.execute_reply": "2025-07-16T01:29:37.900838Z",
     "shell.execute_reply.started": "2025-07-16T01:29:37.894713Z"
    }
   },
   "source": [
    "## Single-player visualization script"
   ]
  },
  {
   "cell_type": "markdown",
   "id": "141509ae-a5da-4743-b31a-0909712d1232",
   "metadata": {},
   "source": [
    "### Analyzing test result data:"
   ]
  },
  {
   "cell_type": "code",
   "execution_count": 18,
   "id": "6a547a5a-e970-4de0-b08e-66ed1fff4aea",
   "metadata": {
    "execution": {
     "iopub.execute_input": "2025-08-23T04:14:48.028260Z",
     "iopub.status.busy": "2025-08-23T04:14:48.027946Z",
     "iopub.status.idle": "2025-08-23T04:14:48.031836Z",
     "shell.execute_reply": "2025-08-23T04:14:48.031427Z",
     "shell.execute_reply.started": "2025-08-23T04:14:48.028239Z"
    }
   },
   "outputs": [],
   "source": [
    "if category == 'spv': \n",
    "    print(\"Analyzing single-player results.\")\n",
    "    df_tr = pd.read_csv('../Files/test_results.csv') # tr = 'test results'\n",
    "    \n",
    "    # Converting start/end timestamps to DateTime values:\n",
    "    \n",
    "    for col in ['Local_Test_Start_Time', 'Local_Test_End_Time']:\n",
    "        df_tr[col] = pd.to_datetime(df_tr[col])\n",
    "    # Ensuring the tests are being displayed in chronological order:\n",
    "    # (This may not always be the case, especially if the player imported\n",
    "    # multiplayer results into his/her single-player file.)\n",
    "    # (This will help ensure that the 'chronological test number' values \n",
    "    # that we're about to create are accurate.)\n",
    "    \n",
    "    df_tr = df_tr.sort_values(\n",
    "        'Local_Test_Start_Time').reset_index(drop=True).copy()\n",
    "    df_tr['Chronological test number'] = df_tr.index+1\n",
    "    df_tr['Count'] = 1\n"
   ]
  },
  {
   "cell_type": "markdown",
   "id": "1fb4f0cd-6af5-4ff4-8dbf-ac53f766499a",
   "metadata": {
    "execution": {
     "iopub.execute_input": "2025-07-29T00:41:01.027590Z",
     "iopub.status.busy": "2025-07-29T00:41:01.027075Z",
     "iopub.status.idle": "2025-07-29T00:41:01.033211Z",
     "shell.execute_reply": "2025-07-29T00:41:01.032232Z",
     "shell.execute_reply.started": "2025-07-29T00:41:01.027553Z"
    }
   },
   "source": [
    "Adding chronological session numbers to DataFrame:\n",
    "\n",
    "(The following approach uses a combination of np.where() and cumsum() to create these numbers. I imagine that this approach is faster than is looping through the DataFrame to assign them, but I could be wrong.)\n",
    "\n",
    "Note: if any sessions with a test number of 1 have been deleted, this code's classification of session numbers will be incorrect. However, these chronological values should still be 'good enough' for our needs.\n",
    "\n",
    "(Note: I commented out this code following an update to the C++ code that allows session numbers to get calculated and stored within the original test_results.csv file. This code could become useful in the future if there's a need to display session numbers in chronological order, but for now, I'll comment it out.)"
   ]
  },
  {
   "cell_type": "code",
   "execution_count": 19,
   "id": "038acfb7-d2dc-401a-81c5-082786256be5",
   "metadata": {
    "execution": {
     "iopub.execute_input": "2025-08-23T04:14:48.032614Z",
     "iopub.status.busy": "2025-08-23T04:14:48.032273Z",
     "iopub.status.idle": "2025-08-23T04:14:48.035140Z",
     "shell.execute_reply": "2025-08-23T04:14:48.034722Z",
     "shell.execute_reply.started": "2025-08-23T04:14:48.032599Z"
    }
   },
   "outputs": [],
   "source": [
    "# if category == 'spv': \n",
    "#     # We can identify new sessions as those whose within-session test \n",
    "# number\n",
    "#     # is 1:\n",
    "#     df_tr['new_session'] = np.where(\n",
    "#         df_tr['Within_Session_Test_Number'] == 1, 1, 0)\n",
    "#     # The following code increments the session number counter by 1 when\n",
    "#     # a new session has begun and keeps it at its current number \n",
    "# otherwise,\n",
    "#     # thus allowing us to determine how many sessions the player has \n",
    "#     # started thus far.)\n",
    "#     df_tr['Chronological session number'] = df_tr[\n",
    "# 'new_session'].cumsum()\n",
    "#     # We won't have any further need for the new_session column, so we can\n",
    "#     # remove it:\n",
    "#     df_tr.drop('new_session', axis = 1, inplace = True)\n",
    "#     df_tr"
   ]
  },
  {
   "cell_type": "markdown",
   "id": "80bd3a28-3207-4627-a46e-470fe2376832",
   "metadata": {},
   "source": [
    "Calculating various timing statistics that will prove useful for endurance-related analyses:"
   ]
  },
  {
   "cell_type": "code",
   "execution_count": 20,
   "id": "0456f50e-fcb0-408e-af0d-696923e5b84f",
   "metadata": {
    "execution": {
     "iopub.execute_input": "2025-08-23T04:14:48.035733Z",
     "iopub.status.busy": "2025-08-23T04:14:48.035603Z",
     "iopub.status.idle": "2025-08-23T04:14:48.039822Z",
     "shell.execute_reply": "2025-08-23T04:14:48.039489Z",
     "shell.execute_reply.started": "2025-08-23T04:14:48.035721Z"
    }
   },
   "outputs": [],
   "source": [
    "if category == 'spv': \n",
    "    for time_type in ['Start', 'End']:\n",
    "        df_tr[f'{time_type} Year and Month'] = df_tr[\n",
    "        f'Local_Test_{time_type}_Time'].dt.year.astype('str') + '-' + df_tr[\n",
    "        f'Local_Test_{time_type}_Time'].dt.month.astype('str').str.zfill(2)\n",
    "        df_tr[f'{time_type} Date'] = df_tr[\n",
    "            f'Local_Test_{time_type}_Time'].dt.date\n",
    "        df_tr[f'{time_type} Hour'] = df_tr[\n",
    "            f'Local_Test_{time_type}_Time'].dt.hour\n",
    "        df_tr[f'{time_type} Minute'] = df_tr[\n",
    "            f'Local_Test_{time_type}_Time'].dt.minute\n",
    "        df_tr[f'{time_type} 30-Minute Block'] = np.where(\n",
    "            df_tr[f'{time_type} Minute'] >= 30, 2, 1)\n",
    "        # Using floor division to determine the 15- and 10-minute blocks\n",
    "        # into which each test falls:\n",
    "        df_tr[f'{time_type} 15-Minute Block'] = df_tr[\n",
    "            f'{time_type} Minute'] // 15 + 1\n",
    "        df_tr[f'{time_type} 10-Minute Block'] = df_tr[\n",
    "            f'{time_type} Minute'] // 10 + 1\n",
    "        \n",
    "    \n",
    "    # Creating columns that will store unique starting hours and\n",
    "    # 30/15/10-minute blocks:\n",
    "    df_tr['Unique Hour'] = df_tr['Start Date'].astype(\n",
    "        'str') + '_' + df_tr['Start Hour'].astype('str')\n",
    "    for block in ['30', '15', '10']:\n",
    "        df_tr[f'Unique {block}-Minute Block'] = df_tr[\n",
    "            'Unique Hour'] + '_' + df_tr[\n",
    "            f'Start {block}-Minute Block'].astype('str')\n",
    "    \n",
    "    \n",
    "    df_tr.head(5)"
   ]
  },
  {
   "cell_type": "markdown",
   "id": "9d8e61f3-c815-45be-bc0d-e605c0db7601",
   "metadata": {},
   "source": [
    "### Determining how many characters the player typed after each *rolling* hour, 30-minute period, 15-minute period, and 10-minute period:\n",
    "\n",
    "(This information will be helpful for calculating endurance-based statistics.)"
   ]
  },
  {
   "cell_type": "code",
   "execution_count": 21,
   "id": "cf9ba4b1-b82d-46e1-b53c-5a7363cc4ff9",
   "metadata": {
    "execution": {
     "iopub.execute_input": "2025-08-23T04:14:48.040509Z",
     "iopub.status.busy": "2025-08-23T04:14:48.040287Z",
     "iopub.status.idle": "2025-08-23T04:14:48.043048Z",
     "shell.execute_reply": "2025-08-23T04:14:48.042715Z",
     "shell.execute_reply.started": "2025-08-23T04:14:48.040492Z"
    }
   },
   "outputs": [],
   "source": [
    "if category == 'spv': \n",
    "    col_seconds_pair_list = [['Characters Typed in Next Hour', 3600],\n",
    "                             ['Characters Typed in Next 30 Minutes', 1800],\n",
    "                             ['Characters Typed in Next 15 Minutes', 900],\n",
    "                             ['Characters Typed in Next 10 Minutes', 600]]"
   ]
  },
  {
   "cell_type": "markdown",
   "id": "4058f25b-7cba-4936-a5fd-414c699b8236",
   "metadata": {},
   "source": [
    "Note: the following code will likely take a considerable amount of time to run once users have completed a significant number of tests (e.g. 1000+). Therefore, it would be ideal to eventually replace it with C++-based code *or* a more sophisticated Python-based approach. (I tried out the 'numba' engine setting within the df.apply() function, but it failed to work correctly.)\n",
    "\n",
    "In the meantime, I've commented out this code so that it won't cause performance issues going forward."
   ]
  },
  {
   "cell_type": "code",
   "execution_count": 22,
   "id": "fb0af793-4cb7-4706-87eb-c2d0578da319",
   "metadata": {
    "execution": {
     "iopub.execute_input": "2025-08-23T04:14:48.043608Z",
     "iopub.status.busy": "2025-08-23T04:14:48.043401Z",
     "iopub.status.idle": "2025-08-23T04:14:48.045820Z",
     "shell.execute_reply": "2025-08-23T04:14:48.045446Z",
     "shell.execute_reply.started": "2025-08-23T04:14:48.043596Z"
    }
   },
   "outputs": [],
   "source": [
    "# df_tr_condensed = df_tr[['Unix_Test_Start_Time', \n",
    "# 'Unix_Test_End_Time', 'Characters', 'Test number']].copy()\n",
    "# I thought this DataFrame might be more compatible with certain\n",
    "# alternative engine options, but unfortunately, that wasn't the case."
   ]
  },
  {
   "cell_type": "code",
   "execution_count": 23,
   "id": "dcaa192c-1450-4ebb-92f2-fcfcaf630132",
   "metadata": {
    "execution": {
     "iopub.execute_input": "2025-08-23T04:14:48.046362Z",
     "iopub.status.busy": "2025-08-23T04:14:48.046223Z",
     "iopub.status.idle": "2025-08-23T04:14:48.048353Z",
     "shell.execute_reply": "2025-08-23T04:14:48.048067Z",
     "shell.execute_reply.started": "2025-08-23T04:14:48.046350Z"
    }
   },
   "outputs": [],
   "source": [
    "# for col_seconds_pair in col_seconds_pair_list:\n",
    "\n",
    "#     df_tr[col_seconds_pair[0]] = df_tr.apply(\n",
    "#         lambda x: df_tr[(df_tr[\n",
    "#             'Unix_Test_Start_Time'] >= x['Unix_Test_Start_Time']) & (\n",
    "#             df_tr['Unix_Test_End_Time'] \n",
    "#         < (x['Unix_Test_Start_Time'] + col_seconds_pair[1]))][\n",
    "#             'Characters'].sum(), axis = 1)\n",
    "# df_tr"
   ]
  },
  {
   "cell_type": "markdown",
   "id": "7513f57c-93eb-4561-b123-1f9ad2bba777",
   "metadata": {},
   "source": [
    "Note: I thought the following approach might actually be faster than the above option, as it only requires a single loop through the whole DataFrame. However, I found it to take a bit longer than the previous method."
   ]
  },
  {
   "cell_type": "code",
   "execution_count": 24,
   "id": "71609282-f740-4936-a76e-f0ba4c02fe29",
   "metadata": {
    "execution": {
     "iopub.execute_input": "2025-08-23T04:14:48.049084Z",
     "iopub.status.busy": "2025-08-23T04:14:48.048786Z",
     "iopub.status.idle": "2025-08-23T04:14:48.051786Z",
     "shell.execute_reply": "2025-08-23T04:14:48.051387Z",
     "shell.execute_reply.started": "2025-08-23T04:14:48.049063Z"
    }
   },
   "outputs": [],
   "source": [
    "# for col in ['characters_typed_in_next_hour',\n",
    "#             'characters_typed_in_next_30_minutes',\n",
    "#             'characters_typed_in_next_15_minutes',\n",
    "#             'characters_typed_in_next_10_minutes']:\n",
    "#     df_tr[col] = 0\n",
    "# for i in range(len(df_tr)):\n",
    "#     start_time = df_tr.iloc[i]['Unix_Test_Start_Time'].astype(\n",
    "#         'int64')\n",
    "    \n",
    "#     df_tr.iloc[i, df_tr.columns.get_loc(\n",
    "#         'characters_typed_in_next_hour')] = df_tr[(\n",
    "#         df_tr[\n",
    "#         'Unix_Test_Start_Time'] >= start_time) & (df_tr[\n",
    "#             'Unix_Test_End_Time'] \n",
    "#         < (start_time + 3600))]['Characters'].sum()\n",
    "    \n",
    "#     df_tr.iloc[i, df_tr.columns.get_loc(\n",
    "#         'characters_typed_in_next_30_minutes')] = df_tr[(\n",
    "#         df_tr[\n",
    "#         'Unix_Test_Start_Time'] >= start_time) & (df_tr[\n",
    "#             'Unix_Test_End_Time'] \n",
    "#         < (start_time + 1800))]['Characters'].sum()\n",
    "\n",
    "#     df_tr.iloc[i, df_tr.columns.get_loc(\n",
    "#             'characters_typed_in_next_15_minutes')] = df_tr[(\n",
    "#             df_tr[\n",
    "#             'Unix_Test_Start_Time'] >= start_time) & (df_tr[\n",
    "#                 'Unix_Test_End_Time'] \n",
    "#             < (start_time + 900))]['Characters'].sum()\n",
    "    \n",
    "#     df_tr.iloc[i, df_tr.columns.get_loc(\n",
    "#             'characters_typed_in_next_10_minutes')] = df_tr[(\n",
    "#             df_tr[\n",
    "#             'Unix_Test_Start_Time'] >= start_time) & (df_tr[\n",
    "#                 'Unix_Test_End_Time'] \n",
    "#             < (start_time + 600))]['Characters'].sum()\n",
    "            "
   ]
  },
  {
   "cell_type": "markdown",
   "id": "e7d29852-1846-45f5-a976-d29fb8ca7f2c",
   "metadata": {},
   "source": [
    "### WPM results by test:\n",
    "\n",
    "Calculating rolling and cumulative means:"
   ]
  },
  {
   "cell_type": "code",
   "execution_count": 25,
   "id": "e8b15942-a93e-47b7-9b4c-8d275076907c",
   "metadata": {
    "execution": {
     "iopub.execute_input": "2025-08-23T04:14:48.052369Z",
     "iopub.status.busy": "2025-08-23T04:14:48.052231Z",
     "iopub.status.idle": "2025-08-23T04:14:48.055386Z",
     "shell.execute_reply": "2025-08-23T04:14:48.054999Z",
     "shell.execute_reply.started": "2025-08-23T04:14:48.052357Z"
    }
   },
   "outputs": [],
   "source": [
    "if category == 'spv': \n",
    "    print(\"Analyzing WPM data.\")\n",
    "    for period in [10, 50, 100, 1000]:\n",
    "        #print(period)\n",
    "        df_tr[f'Rolling {period}-test mean WPM'] = df_tr[\n",
    "    'WPM'].rolling(window=period).mean()\n",
    "    df_tr['Cumulative mean WPM'] = df_tr['WPM'].cumsum(\n",
    "    ) / df_tr['Count'].cumsum()"
   ]
  },
  {
   "cell_type": "code",
   "execution_count": 26,
   "id": "2171e94c-a6a1-42f9-b86a-f65b549ddf41",
   "metadata": {
    "execution": {
     "iopub.execute_input": "2025-08-23T04:14:48.056216Z",
     "iopub.status.busy": "2025-08-23T04:14:48.056022Z",
     "iopub.status.idle": "2025-08-23T04:14:48.059002Z",
     "shell.execute_reply": "2025-08-23T04:14:48.058658Z",
     "shell.execute_reply.started": "2025-08-23T04:14:48.056198Z"
    }
   },
   "outputs": [],
   "source": [
    "if category == 'spv': \n",
    "    fig_wpm_by_test = px.line(\n",
    "        df_tr, x = 'Chronological test number', y = ['WPM', \n",
    "'Rolling 10-test mean WPM', 'Rolling 50-test mean WPM', \n",
    "'Rolling 100-test mean WPM', 'Rolling 1000-test mean WPM', \n",
    "'Cumulative mean WPM'],\n",
    "    title = 'WPM by Chronological Test Number').update_layout(\n",
    "legend_title = 'Metric')\n",
    "    fig_wpm_by_test.write_html(\n",
    "        f'{sp_visualizations_folder}WPM_by_race.html',\n",
    "        include_plotlyjs = 'cdn')"
   ]
  },
  {
   "cell_type": "code",
   "execution_count": 27,
   "id": "acf723cf-34be-45fa-8d2f-86584758efb0",
   "metadata": {
    "execution": {
     "iopub.execute_input": "2025-08-23T04:14:48.059627Z",
     "iopub.status.busy": "2025-08-23T04:14:48.059369Z",
     "iopub.status.idle": "2025-08-23T04:14:48.062305Z",
     "shell.execute_reply": "2025-08-23T04:14:48.061895Z",
     "shell.execute_reply.started": "2025-08-23T04:14:48.059614Z"
    }
   },
   "outputs": [],
   "source": [
    "if category == 'spv': \n",
    "    df_fastest_tests = df_tr.sort_values(\n",
    "        'WPM', ascending = False).iloc[0:100].copy().reset_index(drop=True)\n",
    "    df_fastest_tests['Rank'] = df_fastest_tests.index + 1\n",
    "    df_fastest_tests.head()"
   ]
  },
  {
   "cell_type": "code",
   "execution_count": 28,
   "id": "d1c97a40-8a5d-4b03-a5d9-90f649e44966",
   "metadata": {
    "execution": {
     "iopub.execute_input": "2025-08-23T04:14:48.063110Z",
     "iopub.status.busy": "2025-08-23T04:14:48.062800Z",
     "iopub.status.idle": "2025-08-23T04:14:48.066171Z",
     "shell.execute_reply": "2025-08-23T04:14:48.065734Z",
     "shell.execute_reply.started": "2025-08-23T04:14:48.063090Z"
    }
   },
   "outputs": [],
   "source": [
    "if category == 'spv': \n",
    "    fig_fastest_tests = px.bar(df_fastest_tests, x = 'Rank', y = 'WPM',\n",
    "       color = 'Error_and_Backspace_Rate',\n",
    "       hover_data = ['Test_Number', 'Local_Test_Start_Time',\n",
    "                     'Verse_ID', 'Verse_Code'],\n",
    "       text_auto = '.3f', title = '100 Fastest Tests')\n",
    "    fig_fastest_tests.write_html(\n",
    "        f'{sp_visualizations_folder}fastest_tests.html',\n",
    "        include_plotlyjs = 'cdn')"
   ]
  },
  {
   "cell_type": "code",
   "execution_count": 29,
   "id": "dc866ab4-1eae-474f-b8b6-ab47dafdb3ec",
   "metadata": {
    "execution": {
     "iopub.execute_input": "2025-08-23T04:14:48.066757Z",
     "iopub.status.busy": "2025-08-23T04:14:48.066634Z",
     "iopub.status.idle": "2025-08-23T04:14:48.069822Z",
     "shell.execute_reply": "2025-08-23T04:14:48.069398Z",
     "shell.execute_reply.started": "2025-08-23T04:14:48.066745Z"
    }
   },
   "outputs": [],
   "source": [
    "if category == 'spv': \n",
    "    df_characters_and_avg_wpm_by_hour = df_tr.pivot_table(\n",
    "    index = 'Start Hour', values = ['Characters', 'WPM'], \n",
    "    aggfunc = {'Characters':'sum',\n",
    "    'WPM':'mean'}).reset_index().rename(\n",
    "    columns = {'Start Hour':'Starting Hour'})\n",
    "    df_characters_and_avg_wpm_by_hour['Starting Hour'] = (\n",
    "    df_characters_and_avg_wpm_by_hour['Starting Hour'].astype('str'))\n",
    "    df_characters_and_avg_wpm_by_hour"
   ]
  },
  {
   "cell_type": "code",
   "execution_count": 30,
   "id": "0cc01987-df94-42ca-bb1a-e6e2441d3404",
   "metadata": {
    "execution": {
     "iopub.execute_input": "2025-08-23T04:14:48.070387Z",
     "iopub.status.busy": "2025-08-23T04:14:48.070249Z",
     "iopub.status.idle": "2025-08-23T04:14:48.073042Z",
     "shell.execute_reply": "2025-08-23T04:14:48.072694Z",
     "shell.execute_reply.started": "2025-08-23T04:14:48.070375Z"
    }
   },
   "outputs": [],
   "source": [
    "if category == 'spv': \n",
    "    fig_chars_by_hour = px.bar(df_characters_and_avg_wpm_by_hour, \n",
    "    x = 'Starting Hour', y = 'Characters', text_auto = ',.0f',\n",
    "    title = 'Characters Typed by Starting Hour')\n",
    "    fig_chars_by_hour.write_html(\n",
    "    f'{sp_visualizations_folder}chars_by_hour.html',\n",
    "    include_plotlyjs = 'cdn')\n",
    "    fig_chars_by_hour"
   ]
  },
  {
   "cell_type": "code",
   "execution_count": 31,
   "id": "48c75eba-0d5d-4778-8a90-4bf85743e99d",
   "metadata": {
    "execution": {
     "iopub.execute_input": "2025-08-23T04:14:48.073675Z",
     "iopub.status.busy": "2025-08-23T04:14:48.073545Z",
     "iopub.status.idle": "2025-08-23T04:14:48.076749Z",
     "shell.execute_reply": "2025-08-23T04:14:48.076376Z",
     "shell.execute_reply.started": "2025-08-23T04:14:48.073663Z"
    }
   },
   "outputs": [],
   "source": [
    "if category == 'spv': \n",
    "    fig_wpm_by_hour = px.bar(df_characters_and_avg_wpm_by_hour, \n",
    "    x = 'Starting Hour', y = 'WPM', text_auto = '.3f',\n",
    "    title = 'Average WPM by Starting Hour', subtitle = '(Colors reflect the \\\n",
    "total number of characters typed that hour)',\n",
    "    color = 'Characters')\n",
    "    fig_wpm_by_hour.write_html(\n",
    "    f'{sp_visualizations_folder}WPM_by_hour.html',\n",
    "    include_plotlyjs = 'cdn')\n",
    "    fig_wpm_by_hour"
   ]
  },
  {
   "cell_type": "markdown",
   "id": "f14652c1-b868-4166-81ae-984b602295e9",
   "metadata": {},
   "source": [
    "### Average WPM by Tag 1, Tag 2, and Tag 3 values:"
   ]
  },
  {
   "cell_type": "code",
   "execution_count": 32,
   "id": "93b16d73-dab6-4103-a2f3-9b5433dc8d5d",
   "metadata": {
    "execution": {
     "iopub.execute_input": "2025-08-23T04:14:48.077549Z",
     "iopub.status.busy": "2025-08-23T04:14:48.077232Z",
     "iopub.status.idle": "2025-08-23T04:14:48.080714Z",
     "shell.execute_reply": "2025-08-23T04:14:48.080337Z",
     "shell.execute_reply.started": "2025-08-23T04:14:48.077530Z"
    }
   },
   "outputs": [],
   "source": [
    "if category == 'spv': \n",
    "    for tag in ['Tag_1', 'Tag_2', 'Tag_3']:\n",
    "        df_wpm_by_tag = df_tr.pivot_table(\n",
    "            index = tag, values = ['WPM', 'Chronological test number'],\n",
    "            aggfunc = {'WPM':'mean',\n",
    "            'Chronological test number':'count'}).reset_index().rename(\n",
    "            columns = {'Chronological test number':'Tests'})\n",
    "        if 'WPM' in df_wpm_by_tag: # If there are no Tag_1 values within\n",
    "            # the DataFrame, this will return False, thus preventing the\n",
    "            # following line from raising an error.\n",
    "            fig_wpm_by_tag = px.bar(df_wpm_by_tag, x = tag, y = 'WPM',\n",
    "                                 title = f'Mean WPM by {tag} value',\n",
    "                                text_auto = '.3f',\n",
    "                                   hover_data = 'Tests')\n",
    "            fig_wpm_by_tag.write_html(f'{sp_visualizations_folder}mean_\\\n",
    "WPM_by_{tag.lower()}.html', include_plotlyjs = 'cdn')"
   ]
  },
  {
   "cell_type": "markdown",
   "id": "85f66ce5-eaac-43ad-8b60-971547bfc621",
   "metadata": {},
   "source": [
    "### Creating endurance-related charts:"
   ]
  },
  {
   "cell_type": "markdown",
   "id": "9b0491d2-7bd1-4e64-a8ff-9c6c61ee9723",
   "metadata": {},
   "source": [
    "#### Visualizing *rolling* endurance statistics:\n",
    "\n",
    "(I commented out the following visualization code because it relies on a very inefficient set of code that I have also commented out.)"
   ]
  },
  {
   "cell_type": "code",
   "execution_count": 33,
   "id": "206574b8-26ca-4e6c-8a0b-a1d6bb64ffd8",
   "metadata": {
    "execution": {
     "iopub.execute_input": "2025-08-23T04:14:48.081377Z",
     "iopub.status.busy": "2025-08-23T04:14:48.081182Z",
     "iopub.status.idle": "2025-08-23T04:14:48.083483Z",
     "shell.execute_reply": "2025-08-23T04:14:48.083192Z",
     "shell.execute_reply.started": "2025-08-23T04:14:48.081359Z"
    }
   },
   "outputs": [],
   "source": [
    "# for col in [pair[0] for pair in col_seconds_pair_list]:\n",
    "\n",
    "#     df_endurance = df_tr.sort_values(col, ascending = False).copy(\n",
    "#     ).reset_index(drop=True).head(50)\n",
    "#     df_endurance['Rank'] = (df_endurance.index + 1)\n",
    "\n",
    "#     fig_endurance = px.bar(\n",
    "#     df_endurance, x = 'Rank', \n",
    "#     y = col,\n",
    "#     title = 'Most ' + col,\n",
    "#     hover_data = ['Chronological test number', 'Local_Test_Start_Time'])\n",
    "    \n",
    "#     fig_endurance.write_html('Single_Player/Endurance_Top_50_rolling_'+col.replace(\n",
    "#         ' ', '_')+'.html', \n",
    "#     include_plotlyjs = 'cdn')"
   ]
  },
  {
   "cell_type": "markdown",
   "id": "5686f91f-de8c-4dfd-96af-13ea9704f0a2",
   "metadata": {},
   "source": [
    "#### Visualizing clock-based endurance statistics:"
   ]
  },
  {
   "cell_type": "code",
   "execution_count": 34,
   "id": "b91b9dae-ba5d-44f5-bb43-ea3c9fddc59e",
   "metadata": {
    "execution": {
     "iopub.execute_input": "2025-08-23T04:14:48.083981Z",
     "iopub.status.busy": "2025-08-23T04:14:48.083851Z",
     "iopub.status.idle": "2025-08-23T04:14:48.087137Z",
     "shell.execute_reply": "2025-08-23T04:14:48.086803Z",
     "shell.execute_reply.started": "2025-08-23T04:14:48.083970Z"
    }
   },
   "outputs": [],
   "source": [
    "if category == 'spv':\n",
    "    print(\"Analyzing endurance data.\")\n",
    "    for time_category in ['Hour', '30-Minute Block', '15-Minute Block',\n",
    "                          '10-Minute Block']:\n",
    "        # The following code helps confirm that the following query() statement\n",
    "        # is correctly filtering out tests whose starting and ending \n",
    "        # time categories don't match.\n",
    "        # print(len(df_tr.query(f\"`Start {time_category}` == `End {time_category}`\")))\n",
    "        df_endurance = df_tr.query(\n",
    "        f\"`Start {time_category}` == `End {time_category}`\").pivot_table(\n",
    "            index = f'Unique {time_category}', values = 'Characters', \n",
    "        aggfunc = 'sum').reset_index().sort_values(\n",
    "        'Characters', ascending = False).reset_index(drop=True).head(50)\n",
    "        df_endurance['Rank'] = (df_endurance.index + 1)\n",
    "        \n",
    "        fig_endurance = px.bar(\n",
    "        df_endurance, x = f'Unique {time_category}', \n",
    "        y = 'Characters', text_auto = ',.0f',\n",
    "        title = 'Most Characters Typed By ' + time_category,\n",
    "        hover_data = 'Rank')\n",
    "        \n",
    "        fig_endurance.write_html(\n",
    "        f'{sp_visualizations_folder}endurance_top_50_\\\n",
    "clock_'+time_category.replace(' ', '_').lower()+'.html', \n",
    "        include_plotlyjs = 'cdn')"
   ]
  },
  {
   "cell_type": "code",
   "execution_count": 35,
   "id": "0e956ca1-2ec5-4332-a1ec-e51f4da41ab2",
   "metadata": {
    "execution": {
     "iopub.execute_input": "2025-08-23T04:14:48.087649Z",
     "iopub.status.busy": "2025-08-23T04:14:48.087527Z",
     "iopub.status.idle": "2025-08-23T04:14:48.089818Z",
     "shell.execute_reply": "2025-08-23T04:14:48.089530Z",
     "shell.execute_reply.started": "2025-08-23T04:14:48.087639Z"
    }
   },
   "outputs": [],
   "source": [
    "if category == 'spv':\n",
    "    df_yyyy_mm_stats = df_tr.query(\n",
    "        \"`Start Year and Month` == `End Year and Month`\").pivot_table(\n",
    "        index = 'Start Year and Month', values = ['Characters', 'WPM'], \n",
    "        aggfunc = {'Characters':'sum', 'WPM':'mean'}).reset_index()\n",
    "    df_yyyy_mm_stats"
   ]
  },
  {
   "cell_type": "code",
   "execution_count": 36,
   "id": "4619ac90-a1ac-4594-9af6-6c73efe0c7ba",
   "metadata": {
    "execution": {
     "iopub.execute_input": "2025-08-23T04:14:48.090388Z",
     "iopub.status.busy": "2025-08-23T04:14:48.090163Z",
     "iopub.status.idle": "2025-08-23T04:14:48.093236Z",
     "shell.execute_reply": "2025-08-23T04:14:48.092925Z",
     "shell.execute_reply.started": "2025-08-23T04:14:48.090373Z"
    }
   },
   "outputs": [],
   "source": [
    "if category == 'spv':\n",
    "    fig_yyyy_mm_characters = px.line(\n",
    "        df_yyyy_mm_stats, x = 'Start Year and Month',\n",
    "                                    y = 'Characters')\n",
    "    fig_yyyy_mm_characters.update_layout(xaxis_type = 'category',\n",
    "    xaxis_title = None,\n",
    "    title = 'Characters Typed by Starting Year and Month')\n",
    "    fig_yyyy_mm_characters.write_html(\n",
    "    f'{sp_visualizations_folder}characters_\\\n",
    "typed_by_year_and_month.html', include_plotlyjs = 'cdn')"
   ]
  },
  {
   "cell_type": "code",
   "execution_count": 37,
   "id": "6a912023-9e26-465f-95db-c68ef9e47397",
   "metadata": {
    "execution": {
     "iopub.execute_input": "2025-08-23T04:14:48.093885Z",
     "iopub.status.busy": "2025-08-23T04:14:48.093601Z",
     "iopub.status.idle": "2025-08-23T04:14:48.096086Z",
     "shell.execute_reply": "2025-08-23T04:14:48.095726Z",
     "shell.execute_reply.started": "2025-08-23T04:14:48.093873Z"
    }
   },
   "outputs": [],
   "source": [
    "if category == 'spv':\n",
    "    fig_yyyy_mm_most_characters = px.bar(\n",
    "    df_yyyy_mm_stats.sort_values('Characters', ascending = False), \n",
    "    x = 'Start Year and Month',\n",
    "    y = 'Characters', text_auto = ',.0f')\n",
    "    fig_yyyy_mm_most_characters.update_layout(xaxis_type = 'category',\n",
    "    xaxis_title = None,\n",
    "    title = 'Months by characters typed')\n",
    "    fig_yyyy_mm_most_characters.write_html(\n",
    "    f'{sp_visualizations_folder}most_characters_\\\n",
    "typed_by_year_and_month.html', include_plotlyjs = 'cdn')"
   ]
  },
  {
   "cell_type": "code",
   "execution_count": 38,
   "id": "5a39f352-ddb4-4808-aaa6-0e922f0ff82e",
   "metadata": {
    "execution": {
     "iopub.execute_input": "2025-08-23T04:14:48.096846Z",
     "iopub.status.busy": "2025-08-23T04:14:48.096520Z",
     "iopub.status.idle": "2025-08-23T04:14:48.099865Z",
     "shell.execute_reply": "2025-08-23T04:14:48.099437Z",
     "shell.execute_reply.started": "2025-08-23T04:14:48.096829Z"
    }
   },
   "outputs": [],
   "source": [
    "if category == 'spv':\n",
    "    fig_yyyy_mm_wpm = px.line(\n",
    "        df_yyyy_mm_stats, x = 'Start Year and Month',\n",
    "                                    y = 'WPM')\n",
    "    fig_yyyy_mm_wpm.update_layout(xaxis_type = 'category',\n",
    "    xaxis_title = None,\n",
    "    title = 'Mean WPM by Starting Year and Month')\n",
    "    fig_yyyy_mm_wpm.write_html(f'{sp_visualizations_folder}avg_WPM_by_\\\n",
    "year_and_month.html', include_plotlyjs = 'cdn')"
   ]
  },
  {
   "cell_type": "markdown",
   "id": "a75c5290-b454-4109-9331-c9cd22764b8b",
   "metadata": {},
   "source": [
    "Graphing keypresses by date (in both chronological and ranked order):"
   ]
  },
  {
   "cell_type": "code",
   "execution_count": 39,
   "id": "345b2779-c777-4518-9bb3-2933d140987e",
   "metadata": {
    "execution": {
     "iopub.execute_input": "2025-08-23T04:14:48.104702Z",
     "iopub.status.busy": "2025-08-23T04:14:48.104520Z",
     "iopub.status.idle": "2025-08-23T04:14:48.107530Z",
     "shell.execute_reply": "2025-08-23T04:14:48.107191Z",
     "shell.execute_reply.started": "2025-08-23T04:14:48.104689Z"
    }
   },
   "outputs": [],
   "source": [
    "if category == 'spv':\n",
    "    df_top_dates_by_keypresses = df_tr.query(\n",
    "        \"`Start Date` == `End Date`\").pivot_table(\n",
    "        index = 'Start Date', values = 'Characters', \n",
    "        aggfunc = 'sum').reset_index().sort_values(\n",
    "        'Characters', ascending = False).reset_index(drop=True)\n",
    "    df_top_dates_by_keypresses['Rank'] = df_top_dates_by_keypresses.index + 1\n",
    "    # Plotly will automatically arrange these dates in chronological order \n",
    "    # despite our having sorted the source DataFrame by characters.\n",
    "    fig_keypresses_by_date = px.bar(df_top_dates_by_keypresses,\n",
    "                                         x = 'Start Date', y = 'Characters',\n",
    "                                    text_auto = ',.0f',\n",
    "                                  title = 'Characters typed by date',\n",
    "                                   hover_data = ['Rank'])\n",
    "    fig_keypresses_by_date.write_html(f'{sp_visualizations_folder}keypresses\\\n",
    "_typed_by_date.html', include_plotlyjs='cdn')"
   ]
  },
  {
   "cell_type": "code",
   "execution_count": 40,
   "id": "6dd30e1b-bc2e-4b1a-a69b-9ac0e7377f00",
   "metadata": {
    "execution": {
     "iopub.execute_input": "2025-08-23T04:14:48.108021Z",
     "iopub.status.busy": "2025-08-23T04:14:48.107887Z",
     "iopub.status.idle": "2025-08-23T04:14:48.110577Z",
     "shell.execute_reply": "2025-08-23T04:14:48.110181Z",
     "shell.execute_reply.started": "2025-08-23T04:14:48.108010Z"
    }
   },
   "outputs": [],
   "source": [
    "if category == 'spv':\n",
    "    fig_top_dates_by_keypresses = px.bar(\n",
    "        df_top_dates_by_keypresses.head(50),\n",
    "           x = 'Start Date', y = 'Characters',\n",
    "        text_auto = ',.0f',\n",
    "           title = 'Dates with the most characters typed', \n",
    "           hover_data = ['Rank']).update_layout(\n",
    "        xaxis_type = 'category')\n",
    "    fig_top_dates_by_keypresses.write_html(\n",
    "        f'{sp_visualizations_folder}top_dates_by_keypresses.html', \n",
    "        include_plotlyjs='cdn')"
   ]
  },
  {
   "cell_type": "markdown",
   "id": "31d677a2-49f0-4289-893b-d74b06228a9f",
   "metadata": {},
   "source": [
    "### Calculating mean WPM by within-session test numbers:"
   ]
  },
  {
   "cell_type": "code",
   "execution_count": 41,
   "id": "c991afdc-9825-4d70-b5cc-7dd4f2f2ad53",
   "metadata": {
    "execution": {
     "iopub.execute_input": "2025-08-23T04:14:48.111134Z",
     "iopub.status.busy": "2025-08-23T04:14:48.110999Z",
     "iopub.status.idle": "2025-08-23T04:14:48.113373Z",
     "shell.execute_reply": "2025-08-23T04:14:48.112985Z",
     "shell.execute_reply.started": "2025-08-23T04:14:48.111123Z"
    }
   },
   "outputs": [],
   "source": [
    "if category == 'spv':\n",
    "    df_mean_wpm_by_within_session_test_number = df_tr.pivot_table(\n",
    "        index = 'Within_Session_Test_Number',\n",
    "                      values = ['WPM', 'Chronological test number'], \n",
    "                      aggfunc = {'WPM':'mean', \n",
    "                                 'Chronological test number':'count'}\n",
    "    ).reset_index().rename(\n",
    "        columns = {'Chronological test number':'Number of tests'})\n",
    "    df_mean_wpm_by_within_session_test_number"
   ]
  },
  {
   "cell_type": "code",
   "execution_count": 42,
   "id": "4112cf52-3f02-4f5c-8019-6ac792955bd9",
   "metadata": {
    "execution": {
     "iopub.execute_input": "2025-08-23T04:14:48.113880Z",
     "iopub.status.busy": "2025-08-23T04:14:48.113759Z",
     "iopub.status.idle": "2025-08-23T04:14:48.116379Z",
     "shell.execute_reply": "2025-08-23T04:14:48.116044Z",
     "shell.execute_reply.started": "2025-08-23T04:14:48.113869Z"
    }
   },
   "outputs": [],
   "source": [
    "if category == 'spv':\n",
    "    fig_mean_wpm_by_within_session_test_number = px.line(\n",
    "        df_mean_wpm_by_within_session_test_number,\n",
    "        x = 'Within_Session_Test_Number', y = 'WPM',\n",
    "        title = 'Mean WPM by Within-Session Test Number',\n",
    "        hover_data = 'Number of tests').update_layout(\n",
    "        xaxis_title = 'Within-session test number')\n",
    "    fig_mean_wpm_by_within_session_test_number.write_html(\n",
    "        f'{sp_visualizations_folder}mean_WPM_by_within_\\\n",
    "session_test_number.html', \n",
    "        include_plotlyjs='cdn')\n",
    "    #fig_mean_wpm_by_within_session_test_number"
   ]
  },
  {
   "cell_type": "code",
   "execution_count": 43,
   "id": "6b8b4a60-390d-4155-bdf0-86f2fbae0c45",
   "metadata": {
    "execution": {
     "iopub.execute_input": "2025-08-23T04:14:48.116886Z",
     "iopub.status.busy": "2025-08-23T04:14:48.116775Z",
     "iopub.status.idle": "2025-08-23T04:14:48.119921Z",
     "shell.execute_reply": "2025-08-23T04:14:48.119574Z",
     "shell.execute_reply.started": "2025-08-23T04:14:48.116875Z"
    }
   },
   "outputs": [],
   "source": [
    "if category == 'spv':\n",
    "    fig_wpm_by_session_num_comparison = px.line(df_tr.query(\n",
    "    \"Within_Session_Test_Number.notna()\"),\n",
    "            x = 'Within_Session_Test_Number', y = 'WPM',\n",
    "           color = 'Session_Number', \n",
    "            title = \"WPM by Session Number and \\\n",
    "Within-Session Test Number\").update_traces(\n",
    "        mode = 'markers+lines').update_layout(showlegend = True,\n",
    "        xaxis_title = 'Within-session test number')\n",
    "    fig_wpm_by_session_num_comparison.write_html(\n",
    "        f'{sp_visualizations_folder}WPM_by_within_session_\\\n",
    "test_number.html', \n",
    "        include_plotlyjs='cdn')\n",
    "    # fig_wpm_by_session_num_comparison"
   ]
  },
  {
   "cell_type": "markdown",
   "id": "ffdb7084-23f2-4e10-9f98-65a75ecd464e",
   "metadata": {},
   "source": [
    "### Accuracy analyses:"
   ]
  },
  {
   "cell_type": "code",
   "execution_count": 44,
   "id": "349cd44e-2401-4664-b76c-209e2ab3cc03",
   "metadata": {
    "execution": {
     "iopub.execute_input": "2025-08-23T04:14:48.120378Z",
     "iopub.status.busy": "2025-08-23T04:14:48.120251Z",
     "iopub.status.idle": "2025-08-23T04:14:48.122430Z",
     "shell.execute_reply": "2025-08-23T04:14:48.122134Z",
     "shell.execute_reply.started": "2025-08-23T04:14:48.120368Z"
    }
   },
   "outputs": [],
   "source": [
    "if category == 'spv':\n",
    "    print(\"Analyzing accuracy data.\")\n",
    "    df_wpm_by_error_rate = df_tr.pivot_table(\n",
    "        index = 'Error_and_Backspace_Rate', \n",
    "        values = 'WPM', aggfunc = 'mean').reset_index()"
   ]
  },
  {
   "cell_type": "markdown",
   "id": "57fe515d-6b14-425d-9f0b-206ee6219ad5",
   "metadata": {},
   "source": [
    "#### Assigning results to accuracy bins:\n",
    "\n",
    "(The `duplicates = drop` component prevents the code from raising an error if two or more bins have the same group (which can happen, for instance, if error-free races account for a large percentage of your overall races)."
   ]
  },
  {
   "cell_type": "code",
   "execution_count": 45,
   "id": "8f0c56db-d7d9-4ed1-8904-3391b5f588da",
   "metadata": {
    "execution": {
     "iopub.execute_input": "2025-08-23T04:14:48.123175Z",
     "iopub.status.busy": "2025-08-23T04:14:48.122887Z",
     "iopub.status.idle": "2025-08-23T04:14:48.125473Z",
     "shell.execute_reply": "2025-08-23T04:14:48.125170Z",
     "shell.execute_reply.started": "2025-08-23T04:14:48.123157Z"
    }
   },
   "outputs": [],
   "source": [
    "if category == 'spv':\n",
    "    df_tr['Error/backspace rate bin'] = pd.qcut(\n",
    "        df_tr['Error_and_Backspace_Rate'], 10, duplicates = 'drop').astype(\n",
    "    'str')\n",
    "    df_tr"
   ]
  },
  {
   "cell_type": "markdown",
   "id": "f8120ea0-101f-4629-8190-97440dcebda7",
   "metadata": {},
   "source": [
    "Calculating rolling WPM averages for each WPM category:\n",
    "\n",
    "(This code is based on yoav_aaa's StackOverflow response at https://stackoverflow.com/a/64150512/13097194 ).\n",
    "\n",
    "(Note that using DataFrameGroupBy (https://pandas.pydata.org/docs/dev/reference/api/pandas.core.groupby.DataFrameGroupBy.rolling.html) reorders the dataset and thus won't be an ideal method.)"
   ]
  },
  {
   "cell_type": "code",
   "execution_count": 46,
   "id": "40d3dc22-f7a2-4240-bef1-2962d1d2e12c",
   "metadata": {
    "execution": {
     "iopub.execute_input": "2025-08-23T04:14:48.125988Z",
     "iopub.status.busy": "2025-08-23T04:14:48.125853Z",
     "iopub.status.idle": "2025-08-23T04:14:48.128605Z",
     "shell.execute_reply": "2025-08-23T04:14:48.128285Z",
     "shell.execute_reply.started": "2025-08-23T04:14:48.125975Z"
    }
   },
   "outputs": [],
   "source": [
    "if category == 'spv':\n",
    "    df_tr['10-test rolling WPM for error/backspace \\\n",
    "rate bin'] = df_tr.groupby(\n",
    "    'Error/backspace rate bin')['WPM'].transform(\n",
    "    lambda wpm_within_error_bin: wpm_within_error_bin.rolling(10).mean())\n",
    "    df_tr\n",
    "\n",
    "    fig_rolling_wpm_by_error_rate = px.line(df_tr, x = 'Chronological test number',\n",
    "            y = '10-test rolling WPM for error/backspace rate bin', \n",
    "    color = 'Error/backspace rate bin',\n",
    "           title = 'Rolling 10-test WPM by Error + Backspace \\\n",
    "Rate Bin').update_layout(\n",
    "        yaxis_title = '10-test rolling WPM')\n",
    "    \n",
    "    fig_rolling_wpm_by_error_rate.write_html(\n",
    "    f'{sp_visualizations_folder}mean_rolling_WPM_\\\n",
    "by_accuracy_bin.html', include_plotlyjs = 'cdn')"
   ]
  },
  {
   "cell_type": "code",
   "execution_count": 47,
   "id": "e1c3c2d5-fb35-4d46-a6a5-960f65c64ca4",
   "metadata": {
    "execution": {
     "iopub.execute_input": "2025-08-23T04:14:48.129422Z",
     "iopub.status.busy": "2025-08-23T04:14:48.129037Z",
     "iopub.status.idle": "2025-08-23T04:14:48.132642Z",
     "shell.execute_reply": "2025-08-23T04:14:48.132170Z",
     "shell.execute_reply.started": "2025-08-23T04:14:48.129406Z"
    }
   },
   "outputs": [],
   "source": [
    "if category == 'spv':\n",
    "    df_mean_wpm_by_accuracy_bin = df_tr.pivot_table(\n",
    "        index = 'Error/backspace rate bin',\n",
    "                      values = ['WPM', 'Chronological test number'], \n",
    "                      aggfunc = {'WPM':'mean', \n",
    "    'Chronological test number':'count'}).reset_index().rename(\n",
    "    columns = {'Chronological test number':'Number of races'})\n",
    "\n",
    "    fig_mean_wpm_by_error_rate = px.bar(\n",
    "    df_mean_wpm_by_accuracy_bin, x = 'Error/backspace rate bin',\n",
    "           y = 'WPM', hover_data = 'Number of races',\n",
    "           text_auto = '.2f',\n",
    "    title = 'Mean WPM by Accuracy Bin')\n",
    "    fig_mean_wpm_by_error_rate.write_html(\n",
    "    f'{sp_visualizations_folder}mean_WPM_by_accuracy_bin.html', \n",
    "    include_plotlyjs = 'cdn')"
   ]
  },
  {
   "cell_type": "markdown",
   "id": "27dc618f-5ce9-417d-b255-f973ba95d4c3",
   "metadata": {},
   "source": [
    "### Analyzing word-level results:"
   ]
  },
  {
   "cell_type": "code",
   "execution_count": 48,
   "id": "bbf6bfdf-f142-472d-9a17-1ec03bedd700",
   "metadata": {
    "execution": {
     "iopub.execute_input": "2025-08-23T04:14:48.133612Z",
     "iopub.status.busy": "2025-08-23T04:14:48.133247Z",
     "iopub.status.idle": "2025-08-23T04:14:48.136110Z",
     "shell.execute_reply": "2025-08-23T04:14:48.135732Z",
     "shell.execute_reply.started": "2025-08-23T04:14:48.133588Z"
    }
   },
   "outputs": [],
   "source": [
    "if category == 'spv':\n",
    "    print(\"Analyzing word-level data.\")\n",
    "    df_wr = pd.read_csv('../Files/word_results.csv')\n",
    "    df_wr['Count'] = 1"
   ]
  },
  {
   "cell_type": "markdown",
   "id": "56742f2d-50b1-4eac-8519-3308f35306eb",
   "metadata": {
    "execution": {
     "iopub.execute_input": "2025-07-31T04:17:42.683484Z",
     "iopub.status.busy": "2025-07-31T04:17:42.683217Z",
     "iopub.status.idle": "2025-07-31T04:17:42.686638Z",
     "shell.execute_reply": "2025-07-31T04:17:42.686222Z",
     "shell.execute_reply.started": "2025-07-31T04:17:42.683470Z"
    }
   },
   "source": [
    "Creating a table of words typed at least 10 times by average WPM:"
   ]
  },
  {
   "cell_type": "code",
   "execution_count": 49,
   "id": "d86b118d-c8a6-4610-95cb-69962d1f8f70",
   "metadata": {
    "execution": {
     "iopub.execute_input": "2025-08-23T04:14:48.136786Z",
     "iopub.status.busy": "2025-08-23T04:14:48.136602Z",
     "iopub.status.idle": "2025-08-23T04:14:48.139959Z",
     "shell.execute_reply": "2025-08-23T04:14:48.139575Z",
     "shell.execute_reply.started": "2025-08-23T04:14:48.136769Z"
    }
   },
   "outputs": [],
   "source": [
    "if category == 'spv':\n",
    "    words_to_remove = ['s'] # This list will contain any 'words', such \n",
    "    # as 's', that shouldn't be counted as actual words.\n",
    "    df_mean_wpm_by_word = df_wr.pivot_table(\n",
    "    index = 'Word', values = ['WPM', 'Count'],\n",
    "    aggfunc = {'WPM':'mean', 'Count':'count'}).reset_index()\n",
    "    \n",
    "    df_mean_wpm_by_word.query(\"Count >= 10 & Word not in @words_to_remove\",\n",
    "                             inplace = True)\n",
    "    df_mean_wpm_by_word.sort_values('WPM', ascending = False, \n",
    "                                    inplace = True)\n",
    "    df_mean_wpm_by_word"
   ]
  },
  {
   "cell_type": "code",
   "execution_count": 50,
   "id": "8b87077b-95fd-4499-aaca-fe94a34d6ab8",
   "metadata": {
    "execution": {
     "iopub.execute_input": "2025-08-23T04:14:48.140542Z",
     "iopub.status.busy": "2025-08-23T04:14:48.140415Z",
     "iopub.status.idle": "2025-08-23T04:14:48.143586Z",
     "shell.execute_reply": "2025-08-23T04:14:48.143245Z",
     "shell.execute_reply.started": "2025-08-23T04:14:48.140531Z"
    }
   },
   "outputs": [],
   "source": [
    "if category == 'spv':\n",
    "    fig_highest_word_level_wpm = px.bar(df_mean_wpm_by_word.head(50), \n",
    "           x = 'Word', y = 'WPM', text_auto = '.2f',\n",
    "          hover_data = 'Count',\n",
    "          title = 'Highest word-level mean WPM for words \\\n",
    "typed at least 10 times')\n",
    "    fig_highest_word_level_wpm.write_html(\n",
    "    f'{sp_visualizations_folder}words_with_highest_WPM.html', \n",
    "    include_plotlyjs = 'cdn')"
   ]
  },
  {
   "cell_type": "code",
   "execution_count": 51,
   "id": "d3d71af4-4f79-49a7-961e-b0fd43505ff8",
   "metadata": {
    "execution": {
     "iopub.execute_input": "2025-08-23T04:14:48.144127Z",
     "iopub.status.busy": "2025-08-23T04:14:48.143994Z",
     "iopub.status.idle": "2025-08-23T04:14:48.146606Z",
     "shell.execute_reply": "2025-08-23T04:14:48.146176Z",
     "shell.execute_reply.started": "2025-08-23T04:14:48.144114Z"
    }
   },
   "outputs": [],
   "source": [
    "if category == 'spv':\n",
    "    fig_lowest_word_level_wpm = px.bar(df_mean_wpm_by_word.sort_values(\n",
    "    'WPM').head(50), x = 'Word', y = 'WPM', text_auto = '.2f',\n",
    "          hover_data = 'Count',\n",
    "          title = 'Lowest word-level mean WPM for words typed at least 10 \\\n",
    "times')\n",
    "    fig_lowest_word_level_wpm.write_html(\n",
    "    f'{sp_visualizations_folder}words_with_lowest_WPM.html', \n",
    "    include_plotlyjs = 'cdn')"
   ]
  },
  {
   "cell_type": "markdown",
   "id": "336726d4-751c-4371-9fdb-07c896a96a9b",
   "metadata": {},
   "source": [
    "Analyzing word-level accuracy data:"
   ]
  },
  {
   "cell_type": "code",
   "execution_count": 52,
   "id": "882d8aa6-8178-4098-b2da-125de29d032e",
   "metadata": {
    "execution": {
     "iopub.execute_input": "2025-08-23T04:14:48.147324Z",
     "iopub.status.busy": "2025-08-23T04:14:48.147079Z",
     "iopub.status.idle": "2025-08-23T04:14:48.150208Z",
     "shell.execute_reply": "2025-08-23T04:14:48.149877Z",
     "shell.execute_reply.started": "2025-08-23T04:14:48.147308Z"
    }
   },
   "outputs": [],
   "source": [
    "if category == 'spv': \n",
    "    df_wr['Typed Correctly'] = np.where(df_wr['Error_and_Backspace_Rate'] == 0, 1, 0)\n",
    "\n",
    "    df_wr_acc_wpm = df_wr.pivot_table(\n",
    "    index = 'Word', values = ['Count', 'Typed Correctly', 'WPM'], \n",
    "    aggfunc = {'Count':'sum', 'Typed Correctly':'mean',\n",
    "'WPM':'mean'}).query(\n",
    "    \"Word not in @words_to_remove\").reset_index()\n",
    "    df_wr_acc_wpm['Error-free %'] = df_wr_acc_wpm['Typed Correctly'] * 100"
   ]
  },
  {
   "cell_type": "markdown",
   "id": "743cce6a-acb4-4f55-afbf-4c7812d6667b",
   "metadata": {},
   "source": [
    "Sorting words typed at least 10 times by error-free rate and count, then creating a graph of the top 100 words in this list:"
   ]
  },
  {
   "cell_type": "code",
   "execution_count": 53,
   "id": "4736bcdb-11a1-4c8c-82c4-223d131a0f9b",
   "metadata": {
    "execution": {
     "iopub.execute_input": "2025-08-23T04:14:48.150820Z",
     "iopub.status.busy": "2025-08-23T04:14:48.150656Z",
     "iopub.status.idle": "2025-08-23T04:14:48.154228Z",
     "shell.execute_reply": "2025-08-23T04:14:48.153908Z",
     "shell.execute_reply.started": "2025-08-23T04:14:48.150809Z"
    }
   },
   "outputs": [],
   "source": [
    "if category == 'spv':\n",
    "    fig_wr_high_acc = px.bar(df_wr_acc_wpm.query(\"Count >= 10\").sort_values(\n",
    "    ['Error-free %', 'Count'], ascending = False).iloc[0:100],\n",
    "    x = 'Word', y = 'Error-free %', color = 'Count',\n",
    "    title = \"Words typed at least 10 times by error-free % (in descending order) and count\")\n",
    "    fig_wr_high_acc.write_html(\n",
    "    f'{sp_visualizations_folder}high_accuracy_words.html', \n",
    "    include_plotlyjs = 'cdn')"
   ]
  },
  {
   "cell_type": "markdown",
   "id": "872e4fa3-c487-4ac8-aa55-32d597ad1e4b",
   "metadata": {},
   "source": [
    "Using a similar process to create a list of frequently-typed words with the *lowest* accuracy ratings:"
   ]
  },
  {
   "cell_type": "code",
   "execution_count": 54,
   "id": "53ae5483-4a87-47aa-af09-134152a71ee0",
   "metadata": {
    "execution": {
     "iopub.execute_input": "2025-08-23T04:14:48.154859Z",
     "iopub.status.busy": "2025-08-23T04:14:48.154584Z",
     "iopub.status.idle": "2025-08-23T04:14:48.158056Z",
     "shell.execute_reply": "2025-08-23T04:14:48.157591Z",
     "shell.execute_reply.started": "2025-08-23T04:14:48.154847Z"
    }
   },
   "outputs": [],
   "source": [
    "if category == 'spv':\n",
    "    fig_wr_low_acc = px.bar(df_wr_acc_wpm.query(\"Count >= 10\").sort_values(\n",
    "    ['Error-free %', 'Count'], ascending = [True, False]).iloc[0:100],\n",
    "    x = 'Word', y = 'Error-free %', color = 'Count',\n",
    "    title = \"Words typed at least 10 times by error-free % (in ascending order) and count\")\n",
    "    fig_wr_low_acc.write_html(\n",
    "    f'{sp_visualizations_folder}low_accuracy_words.html', \n",
    "    include_plotlyjs = 'cdn')"
   ]
  },
  {
   "cell_type": "code",
   "execution_count": 55,
   "id": "79a5890b-0d43-470b-afc9-7195166a54ba",
   "metadata": {
    "execution": {
     "iopub.execute_input": "2025-08-23T04:14:48.158743Z",
     "iopub.status.busy": "2025-08-23T04:14:48.158550Z",
     "iopub.status.idle": "2025-08-23T04:14:48.161355Z",
     "shell.execute_reply": "2025-08-23T04:14:48.161049Z",
     "shell.execute_reply.started": "2025-08-23T04:14:48.158726Z"
    }
   },
   "outputs": [],
   "source": [
    "if category == 'spv':\n",
    "    fig_wr_acc_wpm = px.scatter(df_wr_acc_wpm.query(\n",
    "    \"Count >= 10\"), x = 'Error-free %', y = 'WPM',\n",
    "              hover_data = ['Word', 'Count'], color = 'Count',\n",
    "              title = 'WPM by Error-free % for Words Typed at Least 10 Times')\n",
    "    fig_wr_acc_wpm.write_html(\n",
    "    f'{sp_visualizations_folder}word_accuracy_WPM_scatter.html', \n",
    "    include_plotlyjs = 'cdn')"
   ]
  },
  {
   "cell_type": "code",
   "execution_count": 56,
   "id": "a461ec9c-9168-45e5-a708-36eb545f3668",
   "metadata": {
    "execution": {
     "iopub.execute_input": "2025-08-23T04:14:48.161882Z",
     "iopub.status.busy": "2025-08-23T04:14:48.161763Z",
     "iopub.status.idle": "2025-08-23T04:14:48.164617Z",
     "shell.execute_reply": "2025-08-23T04:14:48.164309Z",
     "shell.execute_reply.started": "2025-08-23T04:14:48.161871Z"
    }
   },
   "outputs": [],
   "source": [
    "if category == 'spv':\n",
    "    fig_most_frequent_words = px.bar(\n",
    "    df_wr_acc_wpm.sort_values('Count', ascending = False).iloc[0:200],\n",
    "    x = 'Word', y = 'Count', color = 'WPM', text_auto = 'Count',\n",
    "    title = '200 Most Frequently-typed Words')\n",
    "    fig_most_frequent_words.write_html(\n",
    "    f'{sp_visualizations_folder}words_typed_most_frequently.html', \n",
    "    include_plotlyjs = 'cdn')"
   ]
  },
  {
   "cell_type": "markdown",
   "id": "7581aa9c-2853-46a0-8875-78768c97515b",
   "metadata": {},
   "source": [
    "## Overall progress analyses:"
   ]
  },
  {
   "cell_type": "code",
   "execution_count": 57,
   "id": "be47db28-9bd1-432b-8b73-cd465097b17c",
   "metadata": {
    "execution": {
     "iopub.execute_input": "2025-08-23T04:14:48.165066Z",
     "iopub.status.busy": "2025-08-23T04:14:48.164956Z",
     "iopub.status.idle": "2025-08-23T04:14:48.167926Z",
     "shell.execute_reply": "2025-08-23T04:14:48.167534Z",
     "shell.execute_reply.started": "2025-08-23T04:14:48.165056Z"
    }
   },
   "outputs": [],
   "source": [
    "if category == 'spv':\n",
    "    print(\"Analyzing overall progress data.\")\n",
    "    df_Bible = pd.read_csv('../Files/CPDB_for_TTTB.csv')\n",
    "    df_Bible['Typed'] = np.where(df_Bible['Tests'] >= 1, 1, 0)\n",
    "    df_Bible.rename(columns = {'Characters':'Total Characters'}, inplace = True)\n",
    "    df_Bible['Typed Characters'] = df_Bible['Typed'] * df_Bible['Total Characters']\n",
    "    df_Bible"
   ]
  },
  {
   "cell_type": "code",
   "execution_count": 58,
   "id": "6a2b2ca7-6d5d-491f-a317-8bcc49722bb4",
   "metadata": {
    "execution": {
     "iopub.execute_input": "2025-08-23T04:14:48.168761Z",
     "iopub.status.busy": "2025-08-23T04:14:48.168422Z",
     "iopub.status.idle": "2025-08-23T04:14:48.171790Z",
     "shell.execute_reply": "2025-08-23T04:14:48.171460Z",
     "shell.execute_reply.started": "2025-08-23T04:14:48.168737Z"
    }
   },
   "outputs": [],
   "source": [
    "if category == 'spv':\n",
    "    df_progress = df_Bible.pivot_table(\n",
    "    index = ['Book_Num', 'Book'], values = [\n",
    "    'Typed Characters', 'Total Characters'], aggfunc = 'sum',\n",
    "    margins=True, margins_name='Overall').reset_index()\n",
    "    df_progress['% Typed'] = 100*(df_progress['Typed Characters'] \n",
    "                                  / df_progress['Total Characters'])\n",
    "    # Updating the Book_Num and Book values for the 'Overall' row:\n",
    "    df_progress.at[len(df_progress)-1, 'Book_Num'] = len(df_progress)\n",
    "    df_progress.at[len(df_progress)-1, 'Book'] = 'Overall'"
   ]
  },
  {
   "cell_type": "markdown",
   "id": "03446246-a255-4d87-861d-8e19c92e54ca",
   "metadata": {},
   "source": [
    "Graphing progress in percentage terms:"
   ]
  },
  {
   "cell_type": "code",
   "execution_count": 59,
   "id": "3716070e-74f9-471f-aaf2-4ed1e44665de",
   "metadata": {
    "execution": {
     "iopub.execute_input": "2025-08-23T04:14:48.172614Z",
     "iopub.status.busy": "2025-08-23T04:14:48.172256Z",
     "iopub.status.idle": "2025-08-23T04:14:48.175939Z",
     "shell.execute_reply": "2025-08-23T04:14:48.175525Z",
     "shell.execute_reply.started": "2025-08-23T04:14:48.172593Z"
    }
   },
   "outputs": [],
   "source": [
    "if category == 'spv':\n",
    "    fig_pct_progress = px.bar(df_progress, x = 'Book', y = '% Typed',\n",
    "    title = 'Books of the Bible by % of Characters Typed', text_auto = '.1f',\n",
    "    color = '% Typed', hover_data = [\n",
    "    'Total Characters', 'Typed Characters'])\n",
    "    fig_pct_progress.write_html(\n",
    "    f'{sp_visualizations_folder}progress_percentage.html', \n",
    "    include_plotlyjs = 'cdn')"
   ]
  },
  {
   "cell_type": "markdown",
   "id": "090f037c-64b4-40f3-9eb7-ce878a8b9625",
   "metadata": {},
   "source": [
    "Graphing progress in nominal (character-based) terms:\n",
    "\n",
    "(This chart, unlike the previous one, doesn't include the 'Overall' row, as its presence would make all of the other bars appear very small in comparison.)"
   ]
  },
  {
   "cell_type": "code",
   "execution_count": 60,
   "id": "f5b89061-f68d-4a54-95cb-a314c9644c9e",
   "metadata": {
    "execution": {
     "iopub.execute_input": "2025-08-23T04:14:48.176543Z",
     "iopub.status.busy": "2025-08-23T04:14:48.176407Z",
     "iopub.status.idle": "2025-08-23T04:14:48.179999Z",
     "shell.execute_reply": "2025-08-23T04:14:48.179660Z",
     "shell.execute_reply.started": "2025-08-23T04:14:48.176527Z"
    }
   },
   "outputs": [],
   "source": [
    "if category == 'spv':\n",
    "    fig_progress = px.bar(df_progress.query(\"Book != 'Overall'\"), \n",
    "    x = 'Book', y = [\n",
    "        'Total Characters', 'Typed Characters'],\n",
    "    title = 'Books of the Bible by Total Characters and \\\n",
    "Characters Typed', text_auto = '.0f', barmode = 'overlay',\n",
    "    hover_data = '% Typed',\n",
    "    opacity = 1).update_layout(legend_title = 'Metric')\n",
    "    fig_progress.write_html(\n",
    "    f'{sp_visualizations_folder}progress_nominal.html', \n",
    "    include_plotlyjs = 'cdn')"
   ]
  },
  {
   "cell_type": "code",
   "execution_count": 61,
   "id": "14dd4629-6cc0-460a-9c75-42a637149d63",
   "metadata": {
    "execution": {
     "iopub.execute_input": "2025-08-23T04:14:48.180615Z",
     "iopub.status.busy": "2025-08-23T04:14:48.180427Z",
     "iopub.status.idle": "2025-08-23T04:14:48.183074Z",
     "shell.execute_reply": "2025-08-23T04:14:48.182757Z",
     "shell.execute_reply.started": "2025-08-23T04:14:48.180597Z"
    }
   },
   "outputs": [],
   "source": [
    "if category == 'spv':\n",
    "    # Creating a 'Column' argument that can be used as the x-axis value\n",
    "    # for an upcoming chart:\n",
    "    df_Bible['Column'] = df_Bible['Verse_ID'] % round(\n",
    "        np.sqrt(len(df_Bible)), 0)\n",
    "    df_Bible['Count'] = 1 # This will serve as our upcoming chart's\n",
    "    # Y-axis value."
   ]
  },
  {
   "cell_type": "markdown",
   "id": "4093cc31-bfca-4488-b0c9-b78206e07a1b",
   "metadata": {},
   "source": [
    "Creating a bar chart that shows whether or not each verse has been typed: (Verses can be identified by hovering over them. This chart isn't as practical as the others, but it's still fun to look at. :)"
   ]
  },
  {
   "cell_type": "code",
   "execution_count": 62,
   "id": "13b95e21-941a-47cc-b95b-039cd4e48b9a",
   "metadata": {
    "execution": {
     "iopub.execute_input": "2025-08-23T04:14:48.183681Z",
     "iopub.status.busy": "2025-08-23T04:14:48.183511Z",
     "iopub.status.idle": "2025-08-23T04:14:48.186254Z",
     "shell.execute_reply": "2025-08-23T04:14:48.185895Z",
     "shell.execute_reply.started": "2025-08-23T04:14:48.183665Z"
    }
   },
   "outputs": [],
   "source": [
    "if category == 'spv':\n",
    "    fig_typed_verses = px.bar(df_Bible, x = 'Column', y = 'Count', \n",
    "    color = 'Typed',\n",
    "    hover_data = ['Verse_ID', 'Verse_Code'], title = 'Typed verses').update_layout(coloraxis_showscale = False,\n",
    "    paper_bgcolor = 'black',\n",
    "    plot_bgcolor = 'black',\n",
    "    xaxis_visible = False,\n",
    "    yaxis_visible=False,\n",
    "    )\n",
    "    fig_typed_verses.write_html(\n",
    "    f'{sp_visualizations_folder}Typed_verses.html', \n",
    "    include_plotlyjs = 'cdn')"
   ]
  },
  {
   "cell_type": "code",
   "execution_count": 63,
   "id": "b8fefa7a-ab1d-43f6-b87b-39e7f58db24f",
   "metadata": {
    "execution": {
     "iopub.execute_input": "2025-08-23T04:14:48.186924Z",
     "iopub.status.busy": "2025-08-23T04:14:48.186650Z",
     "iopub.status.idle": "2025-08-23T04:14:48.189293Z",
     "shell.execute_reply": "2025-08-23T04:14:48.188932Z",
     "shell.execute_reply.started": "2025-08-23T04:14:48.186910Z"
    }
   },
   "outputs": [],
   "source": [
    "if category == 'spv':\n",
    "    end_time = time.time()\n",
    "    run_time = end_time - start_time\n",
    "    print(f\"Finished calculating and visualizing single-player stats in \\\n",
    "{round(run_time, 3)} seconds.\")"
   ]
  }
 ],
 "metadata": {
  "kernelspec": {
   "display_name": "Python 3 (ipykernel)",
   "language": "python",
   "name": "python3"
  },
  "language_info": {
   "codemirror_mode": {
    "name": "ipython",
    "version": 3
   },
   "file_extension": ".py",
   "mimetype": "text/x-python",
   "name": "python",
   "nbconvert_exporter": "python",
   "pygments_lexer": "ipython3",
   "version": "3.12.6"
  }
 },
 "nbformat": 4,
 "nbformat_minor": 5
}
